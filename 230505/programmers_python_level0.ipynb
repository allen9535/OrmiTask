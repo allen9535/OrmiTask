{
  "nbformat": 4,
  "nbformat_minor": 0,
  "metadata": {
    "colab": {
      "provenance": [],
      "toc_visible": true
    },
    "kernelspec": {
      "name": "python3",
      "display_name": "Python 3"
    },
    "language_info": {
      "name": "python"
    }
  },
  "cells": [
    {
      "cell_type": "markdown",
      "source": [
        "# level0"
      ],
      "metadata": {
        "id": "74QAcv4a65Mb"
      }
    },
    {
      "cell_type": "markdown",
      "source": [
        "## 나머지 구하기"
      ],
      "metadata": {
        "id": "qDFKyRA86z24"
      }
    },
    {
      "cell_type": "markdown",
      "source": [
        "### 문제 설명\n",
        "- 정수 num1, num2가 매개변수로 주어질 때, num1를 num2로 나눈 나머지를 return 하도록 solution 함수를 완성해주세요.\n",
        "\n",
        "### 제한사항\n",
        "- 0 < num1 ≤ 100\n",
        "- 0 < num2 ≤ 100\n",
        "\n",
        "### 입출력 예\n",
        "| num1 | num2 | num3 |\n",
        "|------|------|------|\n",
        "| 3    | 2    | 1    |\n",
        "| 10   | 5    | 0    |\n",
        "\n",
        "### 입출력 예 설명\n",
        "- 입출력 예 #1\n",
        "    - num1이 3, num2가 2이므로 3을 2로 나눈 나머지 1을 return 합니다.\n",
        "- 입출력 예 #2\n",
        "    - num1이 10, num2가 5이므로 10을 5로 나눈 나머지 0을 return 합니다."
      ],
      "metadata": {
        "id": "ul4ONb1G7Adw"
      }
    },
    {
      "cell_type": "code",
      "execution_count": null,
      "metadata": {
        "id": "ZF94Swvl6gvG"
      },
      "outputs": [],
      "source": [
        "def solution(num1, num2):\n",
        "    answer = 0\n",
        "    \n",
        "    answer = num1 % num2\n",
        "\n",
        "    return answer"
      ]
    },
    {
      "cell_type": "markdown",
      "source": [
        "## 숫자 비교하기"
      ],
      "metadata": {
        "id": "wFL6gbIt74nD"
      }
    },
    {
      "cell_type": "markdown",
      "source": [
        "### 문제 설명\n",
        "- 정수 num1과 num2가 매개변수로 주어집니다. 두 수가 같으면 1 다르면 -1을 retrun하도록 solution 함수를 완성해주세요.\n",
        "\n",
        "### 제한사항\n",
        "- 0 ≤ num1 ≤ 10,000\n",
        "- 0 ≤ num2 ≤ 10,000\n",
        "\n",
        "### 입출력 예\n",
        "| num1 | num2 | result |\n",
        "|------|------|--------|\n",
        "| 2    | 3    | -1     |\n",
        "| 11   | 11   | 1      |\n",
        "| 7    | 99   | -1     |\n",
        "\n",
        "### 입출력 예 설명\n",
        "- 입출력 예 설명 #1\n",
        "    - num1이 2이고 num2가 3이므로 다릅니다. 따라서 -1을 return합니다.\n",
        "- 입출력 예 설명 #2\n",
        "    - num1이 11이고 num2가 11이므로 같습니다. 따라서 1을 return합니다.\n",
        "- 입출력 예 설명 #3\n",
        "    - num1이 7이고 num2가 99이므로 다릅니다. 따라서 -1을 return합니다.\n"
      ],
      "metadata": {
        "id": "ykOoUtXj7698"
      }
    },
    {
      "cell_type": "code",
      "source": [
        "def solution(num1, num2):\n",
        "    answer = 0\n",
        "\n",
        "    if num1 == num2:\n",
        "        answer = 1\n",
        "    else:\n",
        "        answer = -1\n",
        "\n",
        "    return answer"
      ],
      "metadata": {
        "id": "oI_A5qyM8b4d"
      },
      "execution_count": null,
      "outputs": []
    },
    {
      "cell_type": "markdown",
      "source": [
        "## 두 수의 곱"
      ],
      "metadata": {
        "id": "YfBs_MHc8tjt"
      }
    },
    {
      "cell_type": "markdown",
      "source": [
        "### 문제 설명\n",
        "- 정수 num1, num2가 매개변수 주어집니다. num1과 num2를 곱한 값을 return 하도록 solution 함수를 완성해주세요.\n",
        "\n",
        "### 제한사항\n",
        "- 0 ≤ num1 ≤ 100\n",
        "- 0 ≤ num2 ≤ 100\n",
        "\n",
        "### 입출력 예\n",
        "| num1 | num2 | result |\n",
        "|------|------|--------|\n",
        "| 3    | 4    | 12     |\n",
        "| 27   | 19   | 513    |\n",
        "\n",
        "### 입출력 예 설명\n",
        "- 입출력 예 #1\n",
        "    - num1이 3, num2가 4이므로 3 * 4 = 12를 return합니다.\n",
        "- 입출력 예 #2\n",
        "    - num1이 27, num2가 19이므로 27 * 19 = 513을 return합니다."
      ],
      "metadata": {
        "id": "rlnkhAuE8wWi"
      }
    },
    {
      "cell_type": "code",
      "source": [
        "def solution(num1, num2):\n",
        "    answer = 0\n",
        "    \n",
        "    answer = num1 * num2\n",
        "    \n",
        "    return answer"
      ],
      "metadata": {
        "id": "HvYeKbQX9I6c"
      },
      "execution_count": null,
      "outputs": []
    },
    {
      "cell_type": "markdown",
      "source": [
        "## 두 수의 차"
      ],
      "metadata": {
        "id": "JTcEJ9Ed9W-k"
      }
    },
    {
      "cell_type": "markdown",
      "source": [
        "### 문제 설명\n",
        "- 정수 num1과 num2가 주어질 때, num1에서 num2를 뺀 값을 return하도록 soltuion 함수를 완성해주세요.\n",
        "\n",
        "### 제한사항\n",
        "- -50000 ≤ num1 ≤ 50000\n",
        "- -50000 ≤ num2 ≤ 50000\n",
        "\n",
        "### 입출력 예\n",
        "| num1 | num2 | result |\n",
        "|------|------|--------|\n",
        "| 2    | 3    | -1     |\n",
        "| 100  | 2    | 98     |\n",
        "\n",
        "### 입출력 예 설명\n",
        "- 입출력 예 #1\n",
        "    - num1이 2이고 num2가 3이므로 2 - 3 = -1을 return합니다.\n",
        "- 입출력 예 #2\n",
        "    - num1이 100이고 num2가 2이므로 100 - 2 = 98을 return합니다."
      ],
      "metadata": {
        "id": "JLPF2UYQ9bnR"
      }
    },
    {
      "cell_type": "code",
      "source": [
        "def solution(num1, num2):\n",
        "    answer = 0\n",
        "    \n",
        "    answer = num1 - num2\n",
        "    \n",
        "    return answer"
      ],
      "metadata": {
        "id": "dught32J9rhK"
      },
      "execution_count": null,
      "outputs": []
    },
    {
      "cell_type": "markdown",
      "source": [
        "## 몫 구하기"
      ],
      "metadata": {
        "id": "dIlKgOhg90Jp"
      }
    },
    {
      "cell_type": "markdown",
      "source": [
        "### 문제 설명\n",
        "- 정수 num1, num2가 매개변수로 주어질 때, num1을 num2로 나눈 몫을 return 하도록 solution 함수를 완성해주세요.\n",
        "\n",
        "### 제한사항\n",
        "- 0 < num1 ≤ 100\n",
        "- 0 < num2 ≤ 100\n",
        "\n",
        "### 입출력 예\n",
        "| num1 | num2 | result |\n",
        "|------|------|--------|\n",
        "| 10   | 5    | 2      |\n",
        "| 7    | 2    | 3      |\n",
        "\n",
        "### 입출력 예 설명\n",
        "- 입출력 예 #1\n",
        "    - num1이 10, num2가 5이므로 10을 5로 나눈 몫 2를 return 합니다.\n",
        "- 입출력 예 #2\n",
        "    - num1이 7, num2가 2이므로 7을 2로 나눈 몫 3을 return 합니다."
      ],
      "metadata": {
        "id": "B9y1YkAW93mj"
      }
    },
    {
      "cell_type": "code",
      "source": [
        "def solution(num1, num2):\n",
        "    answer = 0\n",
        "    \n",
        "    answer = num1 // num2\n",
        "    \n",
        "    return answer"
      ],
      "metadata": {
        "id": "vx18Dj6n92tf"
      },
      "execution_count": null,
      "outputs": []
    }
  ]
}