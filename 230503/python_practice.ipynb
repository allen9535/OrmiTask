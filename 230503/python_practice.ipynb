{
  "nbformat": 4,
  "nbformat_minor": 0,
  "metadata": {
    "colab": {
      "provenance": []
    },
    "kernelspec": {
      "name": "python3",
      "display_name": "Python 3"
    },
    "language_info": {
      "name": "python"
    }
  },
  "cells": [
    {
      "cell_type": "markdown",
      "source": [
        "# 파이썬 연습문제"
      ],
      "metadata": {
        "id": "KEqEjQO5d7Vl"
      }
    },
    {
      "cell_type": "markdown",
      "source": [
        "## 파이썬 기초"
      ],
      "metadata": {
        "id": "LN4dhr3qeYTF"
      }
    },
    {
      "cell_type": "code",
      "execution_count": null,
      "metadata": {
        "id": "hjHcIe98d6j2"
      },
      "outputs": [],
      "source": [
        "# 다음 파이썬 문법 중 맞은 것을 골라주세요.(3개)\n",
        "# 1. print = 100\n",
        "# 2. 10 = a\n",
        "# 3. k = 100\n",
        "# 4. 100k = 10000\n",
        "# 5. a123 = 'abc'\n",
        "# 6. _cola_ = 'drink'\n",
        "\n",
        "# 답\n",
        "# 3, 5, 6"
      ]
    },
    {
      "cell_type": "code",
      "source": [
        "# 문자를 사용자에게 입력받고, 그 문자를 2번 출력하는 프로그램을 만들어주세요.\n",
        "# abc를 입력받았을 때,\n",
        "# 'abcabc'가 출력되어야 합니다.\n",
        "\n",
        "# 답\n",
        "print(input() * 2)"
      ],
      "metadata": {
        "colab": {
          "base_uri": "https://localhost:8080/"
        },
        "id": "MSZDycjXe_9r",
        "outputId": "9b462fdb-2911-48f7-c55a-b718923e534a"
      },
      "execution_count": null,
      "outputs": [
        {
          "output_type": "stream",
          "name": "stdout",
          "text": [
            "abc\n",
            "abcabc\n"
          ]
        }
      ]
    },
    {
      "cell_type": "code",
      "source": [
        "# 아래 변수를 문자열로 변환 후 리스트형으로 변환하고, 4번째 값을 출력해주세요\n",
        "# 실행결과는 '4'가 나와야 합니다.\n",
        "num = 1234567890\n",
        "\n",
        "# 답\n",
        "list(str(num))[3]"
      ],
      "metadata": {
        "colab": {
          "base_uri": "https://localhost:8080/",
          "height": 35
        },
        "id": "59TgIkWjfL7O",
        "outputId": "b9545845-00ce-4c30-9650-b2af473de7be"
      },
      "execution_count": 5,
      "outputs": [
        {
          "output_type": "execute_result",
          "data": {
            "text/plain": [
              "'4'"
            ],
            "application/vnd.google.colaboratory.intrinsic+json": {
              "type": "string"
            }
          },
          "metadata": {},
          "execution_count": 5
        }
      ]
    },
    {
      "cell_type": "markdown",
      "source": [
        "## 연산"
      ],
      "metadata": {
        "id": "7xpSKp-HfplO"
      }
    },
    {
      "cell_type": "code",
      "source": [
        "# 다음 코드의 실행 결괏값을 예상해보세요\n",
        "a = 100\n",
        "(a > 100) and (a < 200)\n",
        "(a > 100) or (a < 200)\n",
        "(a >= 100) and (a <= 200)\n",
        "(a >= 100) or (a <= 200)\n",
        "\n",
        "# 답\n",
        "# False\n",
        "# True\n",
        "# True\n",
        "# True"
      ],
      "metadata": {
        "id": "3iGCWzjzfsv3",
        "colab": {
          "base_uri": "https://localhost:8080/"
        },
        "outputId": "dffcee4e-1631-4237-b771-8caae0b09ec7"
      },
      "execution_count": 4,
      "outputs": [
        {
          "output_type": "execute_result",
          "data": {
            "text/plain": [
              "True"
            ]
          },
          "metadata": {},
          "execution_count": 4
        }
      ]
    },
    {
      "cell_type": "code",
      "source": [
        "# 다음 코드의 실행 결괏값을 예상해보세요\n",
        "b = 25\n",
        "(b % 2 == 0) and (b % 5 == 0)\n",
        "\n",
        "# 답\n",
        "# False"
      ],
      "metadata": {
        "id": "wawATVqYgB0X",
        "colab": {
          "base_uri": "https://localhost:8080/"
        },
        "outputId": "378f9cc6-8666-450c-b28d-d4acb48e38ba"
      },
      "execution_count": 3,
      "outputs": [
        {
          "output_type": "execute_result",
          "data": {
            "text/plain": [
              "False"
            ]
          },
          "metadata": {},
          "execution_count": 3
        }
      ]
    },
    {
      "cell_type": "code",
      "source": [
        "# 변수 c 안에 들어있는 가격을 100원짜리 몇개로 거슬러 줄 수 있는지 출력해주세요\n",
        "# 결과값은 10입니다.\n",
        "c = 1000\n",
        "\n",
        "# 답\n",
        "print(c // 100)"
      ],
      "metadata": {
        "colab": {
          "base_uri": "https://localhost:8080/"
        },
        "id": "1TorW7S6gRuR",
        "outputId": "23007c82-6e90-49ff-c88e-b987ab1101d9"
      },
      "execution_count": 2,
      "outputs": [
        {
          "output_type": "stream",
          "name": "stdout",
          "text": [
            "10\n"
          ]
        }
      ]
    },
    {
      "cell_type": "code",
      "source": [
        "# (심화문제) 입력한 금액을 5000원, 1000원, 500원, 100원으로 교환하는 프로그램을 만들어주세요.\n",
        "\n",
        "# 답\n",
        "change = int(input())\n",
        "\n",
        "if change // 5000 > 0:\n",
        "    print(f\"5,000원 {change // 5000}장\")\n",
        "    change %= 5000\n",
        "if change // 1000 > 0:\n",
        "    print(f\"1,000원 {change // 1000}장\")\n",
        "    change %= 1000\n",
        "if change // 500 > 0:\n",
        "    print(f\"500원 {change // 500}개\")\n",
        "    change %= 500\n",
        "if change // 100 > 0:\n",
        "    print(f\"100원 {change // 100}개\")"
      ],
      "metadata": {
        "colab": {
          "base_uri": "https://localhost:8080/"
        },
        "id": "r1iR27WsgdPL",
        "outputId": "fd6e098e-0953-4c1f-bf32-0cb11da98d6d"
      },
      "execution_count": null,
      "outputs": [
        {
          "output_type": "stream",
          "name": "stdout",
          "text": [
            "6900\n",
            "5,000원 1장\n",
            "1,000원 1장\n",
            "500원 1개\n",
            "100원 4개\n"
          ]
        }
      ]
    },
    {
      "cell_type": "markdown",
      "source": [
        "## 함수"
      ],
      "metadata": {
        "id": "2_ByZ7RNoBj0"
      }
    },
    {
      "cell_type": "code",
      "source": [
        "# 다음 코드를 실행하면 출력되는 값을 순서대로 작성해보세요.\n",
        "a = 'pithon'\n",
        "\n",
        "def 함수1():\n",
        "    def 함수2():\n",
        "        print('love')\n",
        "        \n",
        "    print('I')\n",
        "    함수2()\n",
        "    return \"python\"\n",
        "\n",
        "a = 함수1()\n",
        "print(a)\n",
        "\n",
        "# 답\n",
        "# I\n",
        "# love\n",
        "# python"
      ],
      "metadata": {
        "colab": {
          "base_uri": "https://localhost:8080/"
        },
        "id": "lQhyuG6voMR0",
        "outputId": "6451d238-6e34-4d94-9822-3a5b56e0be0a"
      },
      "execution_count": 1,
      "outputs": [
        {
          "output_type": "stream",
          "name": "stdout",
          "text": [
            "I\n",
            "love\n",
            "python\n"
          ]
        }
      ]
    },
    {
      "cell_type": "code",
      "source": [
        "# 함수를 이용하여 계산기 프로그램을 만들어주세요.\n",
        "def plus(num1, num2):\n",
        "\t#이곳을 채워주세요\n",
        "    return num1 + num2\n",
        "\n",
        "def minus(num1, num2):\n",
        "\t#이곳을 채워주세요\n",
        "    return num1 - num2\n",
        "\n",
        "def multiply(num1, num2):\n",
        "\t#이곳을 채워주세요\n",
        "    return num1 * num2\n",
        "\n",
        "def divide(num1, num2):\n",
        "\t#이곳을 채워주세요\n",
        "    return num1 / num2\n",
        "\n",
        "print(f'plus : {plus(10, 5)}')\n",
        "print(f'minus : {minus(10, 5)}')\n",
        "print(f'multiply : {multiply(10, 5)}')\n",
        "print(f'divide : {divide(10, 5)}')"
      ],
      "metadata": {
        "colab": {
          "base_uri": "https://localhost:8080/"
        },
        "id": "WLDpB1W4owP_",
        "outputId": "9ca60b54-229f-4d69-942a-b3386e9bd49b"
      },
      "execution_count": 6,
      "outputs": [
        {
          "output_type": "stream",
          "name": "stdout",
          "text": [
            "plus : 15\n",
            "minus : 5\n",
            "multiply : 50\n",
            "divide : 2.0\n"
          ]
        }
      ]
    },
    {
      "cell_type": "code",
      "source": [
        "# x의 n제곱을 구하는 함수를 만들어주세요.\n",
        "# 재귀함수를 이용하여 만들어야하며, x은 0이 아닙니다. (x, n > 1)\n",
        "def square(x, n):\n",
        "    result = x\n",
        "\n",
        "    if n > 1:\n",
        "        result *= square(x, n - 1)\n",
        "\n",
        "    return result\n",
        "\n",
        "print(square(2, 3))"
      ],
      "metadata": {
        "colab": {
          "base_uri": "https://localhost:8080/"
        },
        "id": "Gk4aaaPlo-_t",
        "outputId": "48de6a77-f1df-454e-d63d-1e5072117b94"
      },
      "execution_count": 31,
      "outputs": [
        {
          "output_type": "stream",
          "name": "stdout",
          "text": [
            "27\n"
          ]
        }
      ]
    }
  ]
}