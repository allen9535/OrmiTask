{
  "nbformat": 4,
  "nbformat_minor": 0,
  "metadata": {
    "colab": {
      "provenance": [],
      "toc_visible": true
    },
    "kernelspec": {
      "name": "python3",
      "display_name": "Python 3"
    },
    "language_info": {
      "name": "python"
    }
  },
  "cells": [
    {
      "cell_type": "markdown",
      "source": [
        "# level0"
      ],
      "metadata": {
        "id": "74QAcv4a65Mb"
      }
    },
    {
      "cell_type": "markdown",
      "source": [
        "## 나머지 구하기\n",
        "\n",
        "### 문제 설명\n",
        "- 정수 num1, num2가 매개변수로 주어질 때, num1를 num2로 나눈 나머지를 return 하도록 solution 함수를 완성해주세요.\n",
        "\n",
        "### 제한사항\n",
        "- 0 < num1 ≤ 100\n",
        "- 0 < num2 ≤ 100\n",
        "\n",
        "### 입출력 예\n",
        "| num1 | num2 | num3 |\n",
        "|------|------|------|\n",
        "| 3    | 2    | 1    |\n",
        "| 10   | 5    | 0    |\n",
        "\n",
        "### 입출력 예 설명\n",
        "- 입출력 예 #1\n",
        "    - num1이 3, num2가 2이므로 3을 2로 나눈 나머지 1을 return 합니다.\n",
        "- 입출력 예 #2\n",
        "    - num1이 10, num2가 5이므로 10을 5로 나눈 나머지 0을 return 합니다."
      ],
      "metadata": {
        "id": "qDFKyRA86z24"
      }
    },
    {
      "cell_type": "code",
      "execution_count": 1,
      "metadata": {
        "id": "ZF94Swvl6gvG"
      },
      "outputs": [],
      "source": [
        "def solution(num1, num2):\n",
        "    answer = 0\n",
        "    \n",
        "    answer = num1 % num2\n",
        "\n",
        "    return answer"
      ]
    },
    {
      "cell_type": "markdown",
      "source": [
        "## 숫자 비교하기\n",
        "\n",
        "### 문제 설명\n",
        "- 정수 num1과 num2가 매개변수로 주어집니다. 두 수가 같으면 1 다르면 -1을 retrun하도록 solution 함수를 완성해주세요.\n",
        "\n",
        "### 제한사항\n",
        "- 0 ≤ num1 ≤ 10,000\n",
        "- 0 ≤ num2 ≤ 10,000\n",
        "\n",
        "### 입출력 예\n",
        "| num1 | num2 | result |\n",
        "|------|------|--------|\n",
        "| 2    | 3    | -1     |\n",
        "| 11   | 11   | 1      |\n",
        "| 7    | 99   | -1     |\n",
        "\n",
        "### 입출력 예 설명\n",
        "- 입출력 예 설명 #1\n",
        "    - num1이 2이고 num2가 3이므로 다릅니다. 따라서 -1을 return합니다.\n",
        "- 입출력 예 설명 #2\n",
        "    - num1이 11이고 num2가 11이므로 같습니다. 따라서 1을 return합니다.\n",
        "- 입출력 예 설명 #3\n",
        "    - num1이 7이고 num2가 99이므로 다릅니다. 따라서 -1을 return합니다.\n"
      ],
      "metadata": {
        "id": "wFL6gbIt74nD"
      }
    },
    {
      "cell_type": "code",
      "source": [
        "def solution(num1, num2):\n",
        "    answer = 0\n",
        "\n",
        "    if num1 == num2:\n",
        "        answer = 1\n",
        "    else:\n",
        "        answer = -1\n",
        "\n",
        "    return answer"
      ],
      "metadata": {
        "id": "oI_A5qyM8b4d"
      },
      "execution_count": 2,
      "outputs": []
    },
    {
      "cell_type": "markdown",
      "source": [
        "## 두 수의 곱\n",
        "\n",
        "### 문제 설명\n",
        "- 정수 num1, num2가 매개변수 주어집니다. num1과 num2를 곱한 값을 return 하도록 solution 함수를 완성해주세요.\n",
        "\n",
        "### 제한사항\n",
        "- 0 ≤ num1 ≤ 100\n",
        "- 0 ≤ num2 ≤ 100\n",
        "\n",
        "### 입출력 예\n",
        "| num1 | num2 | result |\n",
        "|------|------|--------|\n",
        "| 3    | 4    | 12     |\n",
        "| 27   | 19   | 513    |\n",
        "\n",
        "### 입출력 예 설명\n",
        "- 입출력 예 #1\n",
        "    - num1이 3, num2가 4이므로 3 * 4 = 12를 return합니다.\n",
        "- 입출력 예 #2\n",
        "    - num1이 27, num2가 19이므로 27 * 19 = 513을 return합니다."
      ],
      "metadata": {
        "id": "YfBs_MHc8tjt"
      }
    },
    {
      "cell_type": "code",
      "source": [
        "def solution(num1, num2):\n",
        "    answer = 0\n",
        "    \n",
        "    answer = num1 * num2\n",
        "    \n",
        "    return answer"
      ],
      "metadata": {
        "id": "HvYeKbQX9I6c"
      },
      "execution_count": 3,
      "outputs": []
    },
    {
      "cell_type": "markdown",
      "source": [
        "## 두 수의 차\n",
        "\n",
        "### 문제 설명\n",
        "- 정수 num1과 num2가 주어질 때, num1에서 num2를 뺀 값을 return하도록 soltuion 함수를 완성해주세요.\n",
        "\n",
        "### 제한사항\n",
        "- -50000 ≤ num1 ≤ 50000\n",
        "- -50000 ≤ num2 ≤ 50000\n",
        "\n",
        "### 입출력 예\n",
        "| num1 | num2 | result |\n",
        "|------|------|--------|\n",
        "| 2    | 3    | -1     |\n",
        "| 100  | 2    | 98     |\n",
        "\n",
        "### 입출력 예 설명\n",
        "- 입출력 예 #1\n",
        "    - num1이 2이고 num2가 3이므로 2 - 3 = -1을 return합니다.\n",
        "- 입출력 예 #2\n",
        "    - num1이 100이고 num2가 2이므로 100 - 2 = 98을 return합니다."
      ],
      "metadata": {
        "id": "JTcEJ9Ed9W-k"
      }
    },
    {
      "cell_type": "code",
      "source": [
        "def solution(num1, num2):\n",
        "    answer = 0\n",
        "    \n",
        "    answer = num1 - num2\n",
        "    \n",
        "    return answer"
      ],
      "metadata": {
        "id": "dught32J9rhK"
      },
      "execution_count": 4,
      "outputs": []
    },
    {
      "cell_type": "markdown",
      "source": [
        "## 몫 구하기\n",
        "\n",
        "### 문제 설명\n",
        "- 정수 num1, num2가 매개변수로 주어질 때, num1을 num2로 나눈 몫을 return 하도록 solution 함수를 완성해주세요.\n",
        "\n",
        "### 제한사항\n",
        "- 0 < num1 ≤ 100\n",
        "- 0 < num2 ≤ 100\n",
        "\n",
        "### 입출력 예\n",
        "| num1 | num2 | result |\n",
        "|------|------|--------|\n",
        "| 10   | 5    | 2      |\n",
        "| 7    | 2    | 3      |\n",
        "\n",
        "### 입출력 예 설명\n",
        "- 입출력 예 #1\n",
        "    - num1이 10, num2가 5이므로 10을 5로 나눈 몫 2를 return 합니다.\n",
        "- 입출력 예 #2\n",
        "    - num1이 7, num2가 2이므로 7을 2로 나눈 몫 3을 return 합니다."
      ],
      "metadata": {
        "id": "dIlKgOhg90Jp"
      }
    },
    {
      "cell_type": "code",
      "source": [
        "def solution(num1, num2):\n",
        "    answer = 0\n",
        "    \n",
        "    answer = num1 // num2\n",
        "    \n",
        "    return answer"
      ],
      "metadata": {
        "id": "vx18Dj6n92tf"
      },
      "execution_count": 5,
      "outputs": []
    },
    {
      "cell_type": "markdown",
      "source": [
        "## 두 수의 합\n",
        "\n",
        "### 문제 설명\n",
        "- 정수 num1과 num2가 주어질 때, num1과 num2의 합을 return하도록 soltuion 함수를 완성해주세요.\n",
        "\n",
        "### 제한사항\n",
        "- -50,000 ≤ num1 ≤ 50,000\n",
        "- -50,000 ≤ num2 ≤ 50,000\n",
        "\n",
        "### 입출력 예\n",
        "| num1 | num2 | result |\n",
        "|------|------|--------|\n",
        "| 2    | 3    | 5      |\n",
        "| 100  | 2    | 102    |\n",
        "\n",
        "### 입출력 예 설명\n",
        "- 입출력 예 #1\n",
        "    - num1이 2이고 num2가 3이므로 2 + 3 = 5를 return합니다.\n",
        "- 입출력 예 #2\n",
        "    - num1이 100이고 num2가 2이므로 100 + 2 = 102를 return합니다."
      ],
      "metadata": {
        "id": "1XuHBKiHAPeM"
      }
    },
    {
      "cell_type": "code",
      "source": [
        "def solution(num1, num2):\n",
        "    answer = -1\n",
        "    \n",
        "    answer = num1 + num2\n",
        "    \n",
        "    return answer"
      ],
      "metadata": {
        "id": "yysu5m_0ApOK"
      },
      "execution_count": 6,
      "outputs": []
    },
    {
      "cell_type": "markdown",
      "source": [
        "## 두 수의 나눗셈\n",
        "\n",
        "### 문제 설명\n",
        "정수 num1과 num2가 매개변수로 주어질 때, num1을 num2로 나눈 값에 1,000을 곱한 후 정수 부분을 return 하도록 soltuion 함수를 완성해주세요.\n",
        "\n",
        "### 제한사항\n",
        "- 0 < num1 ≤ 100\n",
        "- 0 < num2 ≤ 100\n",
        "\n",
        "### 입출력 예\n",
        "| num1 | num2 | result |\n",
        "|------|------|--------|\n",
        "| 3    | 2    | 1500   |\n",
        "| 7    | 3    | 2333   |\n",
        "| 1    | 16   | 62     |\n",
        "\n",
        "### 입출력 예 설명\n",
        "- 입출력 예 #1\n",
        "    - num1이 3, num2가 2이므로 3 / 2 = 1.5에 1,000을 곱하면 1500이 됩니다.\n",
        "- 입출력 예 #2\n",
        "    - num1이 7, num2가 3이므로 7 / 3 = 2.33333...에 1,000을 곱하면 2333.3333.... 이 되며, 정수 부분은 2333입니다.\n",
        "- 입출력 예 #3\n",
        "    - num1이 1, num2가 16이므로 1 / 16 = 0.0625에 1,000을 곱하면 62.5가 되며, 정수 부분은 62입니다."
      ],
      "metadata": {
        "id": "wO0VqKj7A8Na"
      }
    },
    {
      "cell_type": "code",
      "source": [
        "def solution(num1, num2):\n",
        "    answer = 0\n",
        "    \n",
        "    answer = int(num1 / num2 * 1000)\n",
        "    \n",
        "    return answer"
      ],
      "metadata": {
        "id": "2dGQpUSIBl4Q"
      },
      "execution_count": 7,
      "outputs": []
    },
    {
      "cell_type": "markdown",
      "source": [
        "## 나이 출력\n",
        "\n",
        "### 문제 설명\n",
        "머쓱이는 40살인 선생님이 몇 년도에 태어났는지 궁금해졌습니다. 나이 age가 주어질 때, 2022년을 기준 출생 연도를 return 하는 solution 함수를 완성해주세요.\n",
        "\n",
        "### 제한사항\n",
        "- 0 < age ≤ 120\n",
        "- 나이는 태어난 연도에 1살이며 1년마다 1씩 증가합니다.\n",
        "\n",
        "### 입출력 예\n",
        "| age | result |\n",
        "|-----|--------|\n",
        "| 40  | 1983   |\n",
        "| 23  | 2000   |\n",
        "\n",
        "### 입출력 예 설명\n",
        "- 입출력 예 #1\n",
        "    - 2022년 기준 40살이므로 1983년생입니다.\n",
        "- 입출력 예 #2\n",
        "    - 2022년 기준 23살이므로 2000년생입니다."
      ],
      "metadata": {
        "id": "-m6gwQ-VByBq"
      }
    },
    {
      "cell_type": "code",
      "source": [
        "def solution(age):\n",
        "    answer = 0\n",
        "    \n",
        "    answer = 2022 - age + 1\n",
        "    \n",
        "    return answer"
      ],
      "metadata": {
        "id": "LRA4AdswCPlA"
      },
      "execution_count": 8,
      "outputs": []
    },
    {
      "cell_type": "markdown",
      "source": [
        "## 각도기\n",
        "\n",
        "### 문제 설명\n",
        "- 각에서 0도 초과 90도 미만은 예각, 90도는 직각, 90도 초과 180도 미만은 둔각 180도는 평각으로 분류합니다. 각 angle이 매개변수로 주어질 때 예각일 때 1, 직각일 때 2, 둔각일 때 3, 평각일 때 4를 return하도록 solution 함수를 완성해주세요.\n",
        "\n",
        "    - 예각 : 0 < angle < 90\n",
        "    - 직각 : angle = 90\n",
        "    - 둔각 : 90 < angle < 180\n",
        "    - 평각 : angle = 180\n",
        "\n",
        "### 제한사항\n",
        "- 0 < angle ≤ 180\n",
        "- angle은 정수입니다.\n",
        "\n",
        "### 입출력 예\n",
        "| angle | result |\n",
        "|-------|--------|\n",
        "| 70    | 1      |\n",
        "| 91    | 3      |\n",
        "| 180   | 4      |\n",
        "\n",
        "### 입출력 예 설명\n",
        "- 입출력 예 #1\n",
        "    - angle이 70이므로 예각입니다. 따라서 1을 return합니다.\n",
        "\n",
        "- 입출력 예 #2\n",
        "    - angle이 91이므로 둔각입니다. 따라서 3을 return합니다.\n",
        "- 입출력 예 #3\n",
        "    - angle이 180이므로 평각입니다. 따라서 4를 return합니다."
      ],
      "metadata": {
        "id": "nYbcVrecJOH5"
      }
    },
    {
      "cell_type": "code",
      "source": [
        "def solution(angle):\n",
        "    answer = 0\n",
        "    \n",
        "    if angle > 0 and angle < 90:\n",
        "        answer = 1\n",
        "    elif angle == 90:\n",
        "        answer = 2\n",
        "    elif angle > 90 and angle < 180:\n",
        "        answer = 3\n",
        "    elif angle == 180:\n",
        "        answer = 4\n",
        "    \n",
        "    return answer"
      ],
      "metadata": {
        "id": "jnjnV3noJocX"
      },
      "execution_count": 9,
      "outputs": []
    },
    {
      "cell_type": "markdown",
      "source": [
        "## 짝수의 합\n",
        "\n",
        "### 문제 설명\n",
        "- 정수 n이 주어질 때, n이하의 짝수를 모두 더한 값을 return 하도록 solution 함수를 작성해주세요.\n",
        "\n",
        "### 제한사항\n",
        "- 0 < n ≤ 1000\n",
        "\n",
        "### 입출력 예\n",
        "| n  | result |\n",
        "|----|--------|\n",
        "| 10 | 30     |\n",
        "| 4  | 6      |\n",
        "\n",
        "### 입출력 예 설명\n",
        "- 입출력 예 #1\n",
        "    - n이 10이므로 2 + 4 + 6 + 8 + 10 = 30을 return 합니다.\n",
        "- 입출력 예 #2\n",
        "    - n이 4이므로 2 + 4 = 6을 return 합니다."
      ],
      "metadata": {
        "id": "VyD81MSzJ9nI"
      }
    },
    {
      "cell_type": "code",
      "source": [
        "def solution(n):\n",
        "    answer = 0\n",
        "    \n",
        "    for i in range(0, n + 1, 2):\n",
        "        answer += i\n",
        "    \n",
        "    return answer"
      ],
      "metadata": {
        "id": "ZerZ6HbiKPyk"
      },
      "execution_count": 10,
      "outputs": []
    },
    {
      "cell_type": "markdown",
      "source": [
        "## 배열의 평균값\n",
        "\n",
        "### 문제 설명\n",
        "- 정수 배열 numbers가 매개변수로 주어집니다. numbers의 원소의 평균값을 return하도록 solution 함수를 완성해주세요.\n",
        "\n",
        "### 제한사항\n",
        "- 0 ≤ numbers의 원소 ≤ 1,000\n",
        "- 1 ≤ numbers의 길이 ≤ 100\n",
        "- 정답의 소수 부분이 .0 또는 .5인 경우만 입력으로 주어집니다.\n",
        "\n",
        "### 입출력 예\n",
        "| numbers                                      | result |\n",
        "|----------------------------------------------|--------|\n",
        "| [1, 2, 3, 4, 5, 6, 7, 8, 9, 10]              | 5.5    |\n",
        "| [89, 90, 91, 92, 93, 94, 95, 96, 97, 98, 99] | 94.0   |\n",
        "\n",
        "### 입출력 예 설명\n",
        "- 입출력 예 #1\n",
        "    - numbers의 원소들의 평균 값은 5.5입니다.\n",
        "- 입출력 예 #2\n",
        "    - numbers의 원소들의 평균 값은 94.0입니다."
      ],
      "metadata": {
        "id": "W-VsXtwvLAMW"
      }
    },
    {
      "cell_type": "code",
      "source": [
        "def solution(numbers):\n",
        "    answer = 0\n",
        "    \n",
        "    answer = sum(numbers) / len(numbers)\n",
        "    \n",
        "    return answer"
      ],
      "metadata": {
        "id": "4Z832TWSLRIF"
      },
      "execution_count": 11,
      "outputs": []
    },
    {
      "cell_type": "markdown",
      "source": [
        "## 양꼬치\n",
        "\n",
        "### 문제 설명\n",
        "- 머쓱이네 양꼬치 가게는 10인분을 먹으면 음료수 하나를 서비스로 줍니다. 양꼬치는 1인분에 12,000원, 음료수는 2,000원입니다. 정수 n과 k가 매개변수로 주어졌을 때, 양꼬치 n인분과 음료수 k개를 먹었다면 총얼마를 지불해야 하는지 return 하도록 solution 함수를 완성해보세요.\n",
        "\n",
        "### 제한사항\n",
        "- 0 < n < 1,000\n",
        "- n / 10 ≤ k < 1,000\n",
        "- 서비스로 받은 음료수는 모두 마십니다.\n",
        "\n",
        "### 입출력 예\n",
        "| n  | k | result  |\n",
        "|----|---|---------|\n",
        "| 10 | 3 | 124,000 |\n",
        "| 64 | 6 | 768,000 |\n",
        "\n",
        "### 입출력 예 설명\n",
        "- 입출력 예 #1\n",
        "    - 10인분을 시켜 서비스로 음료수를 하나 받아 총 10 * 12000 + 3 * 2000 - 1 * 2000 = 124,000원입니다.\n",
        "- 입출력 예 #2\n",
        "    - 64인분을 시켜 서비스로 음료수를 6개 받아 총 64 * 12000 + 6 * 2000 - 6 * 2000 =768,000원입니다."
      ],
      "metadata": {
        "id": "KQZLO94DLdhn"
      }
    },
    {
      "cell_type": "code",
      "source": [
        "def solution(n, k):\n",
        "    answer = 0\n",
        "    \n",
        "    if n >= 10:\n",
        "        answer = (n * 12000) + (k * 2000) - ((n // 10) * 2000)\n",
        "    else:\n",
        "        answer = (n * 12000) + (k * 2000)\n",
        "    \n",
        "    return answer"
      ],
      "metadata": {
        "id": "hrf0eLGALsU3"
      },
      "execution_count": 12,
      "outputs": []
    },
    {
      "cell_type": "markdown",
      "source": [
        "## 배열 두배 만들기\n",
        "\n",
        "### 문제 설명\n",
        "- 정수 배열 numbers가 매개변수로 주어집니다. numbers의 각 원소에 두배한 원소를 가진 배열을 return하도록 solution 함수를 완성해주세요.\n",
        "\n",
        "### 제한사항\n",
        "- -10,000 ≤ numbers의 원소 ≤ 10,000\n",
        "- 1 ≤ numbers의 길이 ≤ 1,000\n",
        "\n",
        "### 입출력 예\n",
        "| numbers                   | result                     |\n",
        "|---------------------------|----------------------------|\n",
        "| [1, 2, 3, 4, 5]           | [2, 4, 6, 8, 10]           |\n",
        "| [1, 2, 100, -99, 1, 2, 3] | [2, 4, 200, -198, 2, 4, 6] |\n",
        "\n",
        "### 입출력 예 설명\n",
        "- 입출력 예 #1\n",
        "    - [1, 2, 3, 4, 5]의 각 원소에 두배를 한 배열 [2, 4, 6, 8, 10]을 return합니다.\n",
        "- 입출력 예 #2\n",
        "    - [1, 2, 100, -99, 1, 2, 3]의 각 원소에 두배를 한 배열 [2, 4, 200, -198, 2, 4, 6]을 return합니다."
      ],
      "metadata": {
        "id": "0likwtJsMfKA"
      }
    },
    {
      "cell_type": "code",
      "source": [
        "def solution(numbers):\n",
        "    answer = []\n",
        "    \n",
        "    for i in range(0, len(numbers)):\n",
        "        numbers[i] *= 2\n",
        "        \n",
        "    answer = numbers\n",
        "    \n",
        "    return answer"
      ],
      "metadata": {
        "id": "CIWngZDeMyrl"
      },
      "execution_count": 13,
      "outputs": []
    },
    {
      "cell_type": "markdown",
      "source": [
        "## 배열 자르기\n",
        "\n",
        "### 문제 설명\n",
        "- 정수 배열 numbers와 정수 num1, num2가 매개변수로 주어질 때, numbers의 num1번 째 인덱스부터 num2번째 인덱스까지 자른 정수 배열을 return 하도록 solution 함수를 완성해보세요.\n",
        "\n",
        "### 제한사항\n",
        "- 2 ≤ numbers의 길이 ≤ 30\n",
        "- 0 ≤ numbers의 원소 ≤ 1,000\n",
        "- 0 ≤num1 < num2 < numbers의 길이\n",
        "\n",
        "### 입출력 예\n",
        "| numbers         | num1 | num2 | result    |\n",
        "|-----------------|------|------|-----------|\n",
        "| [1, 2, 3, 4, 5] | 1    | 3    | [2, 3, 4] |\n",
        "| [1, 3, 5]       | 1    | 2    | [3, 5]    |\n",
        "\n",
        "### 입출력 예 설명\n",
        "- 입출력 예 #1\n",
        "    - [1, 2, 3, 4, 5]의 1번째 인덱스 2부터 3번째 인덱스 4 까지 자른 [2, 3, 4]를 return 합니다.\n",
        "- 입출력 예 #2\n",
        "    - [1, 3, 5]의 1번째 인덱스 3부터 2번째 인덱스 5까지 자른 [3, 5]를 return 합니다."
      ],
      "metadata": {
        "id": "6PqEZVPENRd1"
      }
    },
    {
      "cell_type": "code",
      "source": [
        "def solution(numbers, num1, num2):\n",
        "    answer = []\n",
        "    \n",
        "    answer = numbers[num1:num2 + 1]\n",
        "    \n",
        "    return answer"
      ],
      "metadata": {
        "id": "E1ZY2kT9NhHl"
      },
      "execution_count": 14,
      "outputs": []
    },
    {
      "cell_type": "markdown",
      "source": [
        "## 배열 뒤집기\n",
        "\n",
        "### 문제 설명\n",
        "- 정수가 들어 있는 배열 num_list가 매개변수로 주어집니다. num_list의 원소의 순서를 거꾸로 뒤집은 배열을 return하도록 solution 함수를 완성해주세요.\n",
        "\n",
        "### 제한사항\n",
        "- 1 ≤ num_list의 길이 ≤ 1,000\n",
        "- 0 ≤ num_list의 원소 ≤ 1,000\n",
        "\n",
        "### 입출력 예\n",
        "| num_list              | result                |\n",
        "|-----------------------|-----------------------|\n",
        "| [1, 2, 3, 4, 5]       | [5, 4, 3, 2, 1]       |\n",
        "| [1, 1, 1, 1, 1, 2]    | [2, 1, 1, 1, 1, 1]    |\n",
        "| [1, 0, 1, 1, 1, 3, 5] | [5, 3, 1, 1, 1, 0, 1] |\n",
        "\n",
        "### 입출력 예 설명\n",
        "- 입출력 예 #1\n",
        "    - num_list가 [1, 2, 3, 4, 5]이므로 순서를 거꾸로 뒤집은 배열 [5, 4, 3, 2, 1]을 return합니다.\n",
        "- 입출력 예 #2\n",
        "    - num_list가 [1, 1, 1, 1, 1, 2]이므로 순서를 거꾸로 뒤집은 배열 [2, 1, 1, 1, 1, 1]을 return합니다.\n",
        "- 입출력 예 #3\n",
        "    - num_list가 [1, 0, 1, 1, 1, 3, 5]이므로 순서를 거꾸로 뒤집은 배열 [5, 3, 1, 1, 1, 0, 1]을 return합니다."
      ],
      "metadata": {
        "id": "A6SYoE-FN9B0"
      }
    },
    {
      "cell_type": "code",
      "source": [
        "def solution(num_list):\n",
        "    answer = []\n",
        "    \n",
        "    num_list.reverse()\n",
        "    answer = num_list\n",
        "    \n",
        "    return answer"
      ],
      "metadata": {
        "id": "8EdK48cnOOS-"
      },
      "execution_count": 15,
      "outputs": []
    }
  ]
}