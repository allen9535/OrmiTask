{
  "nbformat": 4,
  "nbformat_minor": 0,
  "metadata": {
    "colab": {
      "provenance": [],
      "toc_visible": true
    },
    "kernelspec": {
      "name": "python3",
      "display_name": "Python 3"
    },
    "language_info": {
      "name": "python"
    }
  },
  "cells": [
    {
      "cell_type": "markdown",
      "source": [
        "# level0"
      ],
      "metadata": {
        "id": "74QAcv4a65Mb"
      }
    },
    {
      "cell_type": "markdown",
      "source": [
        "## 23년 05월 05일"
      ],
      "metadata": {
        "id": "eIJiZ4cGuOkZ"
      }
    },
    {
      "cell_type": "markdown",
      "source": [
        "### `1.` 나머지 구하기\n",
        "\n",
        "### 문제 설명\n",
        "- 정수 num1, num2가 매개변수로 주어질 때, num1를 num2로 나눈 나머지를 return 하도록 solution 함수를 완성해주세요.\n",
        "\n",
        "### 제한사항\n",
        "- 0 < num1 ≤ 100\n",
        "- 0 < num2 ≤ 100\n",
        "\n",
        "### 입출력 예\n",
        "| num1 | num2 | num3 |\n",
        "|------|------|------|\n",
        "| 3    | 2    | 1    |\n",
        "| 10   | 5    | 0    |\n",
        "\n",
        "### 입출력 예 설명\n",
        "- 입출력 예 #1\n",
        "    - num1이 3, num2가 2이므로 3을 2로 나눈 나머지 1을 return 합니다.\n",
        "- 입출력 예 #2\n",
        "    - num1이 10, num2가 5이므로 10을 5로 나눈 나머지 0을 return 합니다."
      ],
      "metadata": {
        "id": "qDFKyRA86z24"
      }
    },
    {
      "cell_type": "code",
      "execution_count": null,
      "metadata": {
        "id": "ZF94Swvl6gvG"
      },
      "outputs": [],
      "source": [
        "def solution(num1, num2):\n",
        "    answer = 0\n",
        "    \n",
        "    answer = num1 % num2\n",
        "\n",
        "    return answer"
      ]
    },
    {
      "cell_type": "markdown",
      "source": [
        "### `2.` 숫자 비교하기\n",
        "\n",
        "### 문제 설명\n",
        "- 정수 num1과 num2가 매개변수로 주어집니다. 두 수가 같으면 1 다르면 -1을 retrun하도록 solution 함수를 완성해주세요.\n",
        "\n",
        "### 제한사항\n",
        "- 0 ≤ num1 ≤ 10,000\n",
        "- 0 ≤ num2 ≤ 10,000\n",
        "\n",
        "### 입출력 예\n",
        "| num1 | num2 | result |\n",
        "|------|------|--------|\n",
        "| 2    | 3    | -1     |\n",
        "| 11   | 11   | 1      |\n",
        "| 7    | 99   | -1     |\n",
        "\n",
        "### 입출력 예 설명\n",
        "- 입출력 예 설명 #1\n",
        "    - num1이 2이고 num2가 3이므로 다릅니다. 따라서 -1을 return합니다.\n",
        "- 입출력 예 설명 #2\n",
        "    - num1이 11이고 num2가 11이므로 같습니다. 따라서 1을 return합니다.\n",
        "- 입출력 예 설명 #3\n",
        "    - num1이 7이고 num2가 99이므로 다릅니다. 따라서 -1을 return합니다.\n"
      ],
      "metadata": {
        "id": "wFL6gbIt74nD"
      }
    },
    {
      "cell_type": "code",
      "source": [
        "def solution(num1, num2):\n",
        "    answer = 0\n",
        "\n",
        "    if num1 == num2:\n",
        "        answer = 1\n",
        "    else:\n",
        "        answer = -1\n",
        "\n",
        "    return answer"
      ],
      "metadata": {
        "id": "oI_A5qyM8b4d"
      },
      "execution_count": null,
      "outputs": []
    },
    {
      "cell_type": "markdown",
      "source": [
        "### `3.` 두 수의 곱\n",
        "\n",
        "### 문제 설명\n",
        "- 정수 num1, num2가 매개변수 주어집니다. num1과 num2를 곱한 값을 return 하도록 solution 함수를 완성해주세요.\n",
        "\n",
        "### 제한사항\n",
        "- 0 ≤ num1 ≤ 100\n",
        "- 0 ≤ num2 ≤ 100\n",
        "\n",
        "### 입출력 예\n",
        "| num1 | num2 | result |\n",
        "|------|------|--------|\n",
        "| 3    | 4    | 12     |\n",
        "| 27   | 19   | 513    |\n",
        "\n",
        "### 입출력 예 설명\n",
        "- 입출력 예 #1\n",
        "    - num1이 3, num2가 4이므로 3 * 4 = 12를 return합니다.\n",
        "- 입출력 예 #2\n",
        "    - num1이 27, num2가 19이므로 27 * 19 = 513을 return합니다."
      ],
      "metadata": {
        "id": "YfBs_MHc8tjt"
      }
    },
    {
      "cell_type": "code",
      "source": [
        "def solution(num1, num2):\n",
        "    answer = 0\n",
        "    \n",
        "    answer = num1 * num2\n",
        "    \n",
        "    return answer"
      ],
      "metadata": {
        "id": "HvYeKbQX9I6c"
      },
      "execution_count": null,
      "outputs": []
    },
    {
      "cell_type": "markdown",
      "source": [
        "### `4.` 두 수의 차\n",
        "\n",
        "### 문제 설명\n",
        "- 정수 num1과 num2가 주어질 때, num1에서 num2를 뺀 값을 return하도록 soltuion 함수를 완성해주세요.\n",
        "\n",
        "### 제한사항\n",
        "- -50000 ≤ num1 ≤ 50000\n",
        "- -50000 ≤ num2 ≤ 50000\n",
        "\n",
        "### 입출력 예\n",
        "| num1 | num2 | result |\n",
        "|------|------|--------|\n",
        "| 2    | 3    | -1     |\n",
        "| 100  | 2    | 98     |\n",
        "\n",
        "### 입출력 예 설명\n",
        "- 입출력 예 #1\n",
        "    - num1이 2이고 num2가 3이므로 2 - 3 = -1을 return합니다.\n",
        "- 입출력 예 #2\n",
        "    - num1이 100이고 num2가 2이므로 100 - 2 = 98을 return합니다."
      ],
      "metadata": {
        "id": "JTcEJ9Ed9W-k"
      }
    },
    {
      "cell_type": "code",
      "source": [
        "def solution(num1, num2):\n",
        "    answer = 0\n",
        "    \n",
        "    answer = num1 - num2\n",
        "    \n",
        "    return answer"
      ],
      "metadata": {
        "id": "dught32J9rhK"
      },
      "execution_count": null,
      "outputs": []
    },
    {
      "cell_type": "markdown",
      "source": [
        "### `5.` 몫 구하기\n",
        "\n",
        "### 문제 설명\n",
        "- 정수 num1, num2가 매개변수로 주어질 때, num1을 num2로 나눈 몫을 return 하도록 solution 함수를 완성해주세요.\n",
        "\n",
        "### 제한사항\n",
        "- 0 < num1 ≤ 100\n",
        "- 0 < num2 ≤ 100\n",
        "\n",
        "### 입출력 예\n",
        "| num1 | num2 | result |\n",
        "|------|------|--------|\n",
        "| 10   | 5    | 2      |\n",
        "| 7    | 2    | 3      |\n",
        "\n",
        "### 입출력 예 설명\n",
        "- 입출력 예 #1\n",
        "    - num1이 10, num2가 5이므로 10을 5로 나눈 몫 2를 return 합니다.\n",
        "- 입출력 예 #2\n",
        "    - num1이 7, num2가 2이므로 7을 2로 나눈 몫 3을 return 합니다."
      ],
      "metadata": {
        "id": "dIlKgOhg90Jp"
      }
    },
    {
      "cell_type": "code",
      "source": [
        "def solution(num1, num2):\n",
        "    answer = 0\n",
        "    \n",
        "    answer = num1 // num2\n",
        "    \n",
        "    return answer"
      ],
      "metadata": {
        "id": "vx18Dj6n92tf"
      },
      "execution_count": null,
      "outputs": []
    },
    {
      "cell_type": "markdown",
      "source": [
        "## 23년 05월 06일"
      ],
      "metadata": {
        "id": "sg1qZwn5_V3D"
      }
    },
    {
      "cell_type": "markdown",
      "source": [
        "### `6.` 두 수의 합\n",
        "\n",
        "### 문제 설명\n",
        "- 정수 num1과 num2가 주어질 때, num1과 num2의 합을 return하도록 soltuion 함수를 완성해주세요.\n",
        "\n",
        "### 제한사항\n",
        "- -50,000 ≤ num1 ≤ 50,000\n",
        "- -50,000 ≤ num2 ≤ 50,000\n",
        "\n",
        "### 입출력 예\n",
        "| num1 | num2 | result |\n",
        "|------|------|--------|\n",
        "| 2    | 3    | 5      |\n",
        "| 100  | 2    | 102    |\n",
        "\n",
        "### 입출력 예 설명\n",
        "- 입출력 예 #1\n",
        "    - num1이 2이고 num2가 3이므로 2 + 3 = 5를 return합니다.\n",
        "- 입출력 예 #2\n",
        "    - num1이 100이고 num2가 2이므로 100 + 2 = 102를 return합니다."
      ],
      "metadata": {
        "id": "1XuHBKiHAPeM"
      }
    },
    {
      "cell_type": "code",
      "source": [
        "def solution(num1, num2):\n",
        "    answer = -1\n",
        "    \n",
        "    answer = num1 + num2\n",
        "    \n",
        "    return answer"
      ],
      "metadata": {
        "id": "yysu5m_0ApOK"
      },
      "execution_count": null,
      "outputs": []
    },
    {
      "cell_type": "markdown",
      "source": [
        "### `7.` 두 수의 나눗셈\n",
        "\n",
        "### 문제 설명\n",
        "정수 num1과 num2가 매개변수로 주어질 때, num1을 num2로 나눈 값에 1,000을 곱한 후 정수 부분을 return 하도록 soltuion 함수를 완성해주세요.\n",
        "\n",
        "### 제한사항\n",
        "- 0 < num1 ≤ 100\n",
        "- 0 < num2 ≤ 100\n",
        "\n",
        "### 입출력 예\n",
        "| num1 | num2 | result |\n",
        "|------|------|--------|\n",
        "| 3    | 2    | 1500   |\n",
        "| 7    | 3    | 2333   |\n",
        "| 1    | 16   | 62     |\n",
        "\n",
        "### 입출력 예 설명\n",
        "- 입출력 예 #1\n",
        "    - num1이 3, num2가 2이므로 3 / 2 = 1.5에 1,000을 곱하면 1500이 됩니다.\n",
        "- 입출력 예 #2\n",
        "    - num1이 7, num2가 3이므로 7 / 3 = 2.33333...에 1,000을 곱하면 2333.3333.... 이 되며, 정수 부분은 2333입니다.\n",
        "- 입출력 예 #3\n",
        "    - num1이 1, num2가 16이므로 1 / 16 = 0.0625에 1,000을 곱하면 62.5가 되며, 정수 부분은 62입니다."
      ],
      "metadata": {
        "id": "wO0VqKj7A8Na"
      }
    },
    {
      "cell_type": "code",
      "source": [
        "def solution(num1, num2):\n",
        "    answer = 0\n",
        "    \n",
        "    answer = int(num1 / num2 * 1000)\n",
        "    \n",
        "    return answer"
      ],
      "metadata": {
        "id": "2dGQpUSIBl4Q"
      },
      "execution_count": null,
      "outputs": []
    },
    {
      "cell_type": "markdown",
      "source": [
        "### `8.` 나이 출력\n",
        "\n",
        "### 문제 설명\n",
        "머쓱이는 40살인 선생님이 몇 년도에 태어났는지 궁금해졌습니다. 나이 age가 주어질 때, 2022년을 기준 출생 연도를 return 하는 solution 함수를 완성해주세요.\n",
        "\n",
        "### 제한사항\n",
        "- 0 < age ≤ 120\n",
        "- 나이는 태어난 연도에 1살이며 1년마다 1씩 증가합니다.\n",
        "\n",
        "### 입출력 예\n",
        "| age | result |\n",
        "|-----|--------|\n",
        "| 40  | 1983   |\n",
        "| 23  | 2000   |\n",
        "\n",
        "### 입출력 예 설명\n",
        "- 입출력 예 #1\n",
        "    - 2022년 기준 40살이므로 1983년생입니다.\n",
        "- 입출력 예 #2\n",
        "    - 2022년 기준 23살이므로 2000년생입니다."
      ],
      "metadata": {
        "id": "-m6gwQ-VByBq"
      }
    },
    {
      "cell_type": "code",
      "source": [
        "def solution(age):\n",
        "    answer = 0\n",
        "    \n",
        "    answer = 2022 - age + 1\n",
        "    \n",
        "    return answer"
      ],
      "metadata": {
        "id": "LRA4AdswCPlA"
      },
      "execution_count": null,
      "outputs": []
    },
    {
      "cell_type": "markdown",
      "source": [
        "### `9.` 각도기\n",
        "\n",
        "### 문제 설명\n",
        "- 각에서 0도 초과 90도 미만은 예각, 90도는 직각, 90도 초과 180도 미만은 둔각 180도는 평각으로 분류합니다. 각 angle이 매개변수로 주어질 때 예각일 때 1, 직각일 때 2, 둔각일 때 3, 평각일 때 4를 return하도록 solution 함수를 완성해주세요.\n",
        "\n",
        "    - 예각 : 0 < angle < 90\n",
        "    - 직각 : angle = 90\n",
        "    - 둔각 : 90 < angle < 180\n",
        "    - 평각 : angle = 180\n",
        "\n",
        "### 제한사항\n",
        "- 0 < angle ≤ 180\n",
        "- angle은 정수입니다.\n",
        "\n",
        "### 입출력 예\n",
        "| angle | result |\n",
        "|-------|--------|\n",
        "| 70    | 1      |\n",
        "| 91    | 3      |\n",
        "| 180   | 4      |\n",
        "\n",
        "### 입출력 예 설명\n",
        "- 입출력 예 #1\n",
        "    - angle이 70이므로 예각입니다. 따라서 1을 return합니다.\n",
        "\n",
        "- 입출력 예 #2\n",
        "    - angle이 91이므로 둔각입니다. 따라서 3을 return합니다.\n",
        "- 입출력 예 #3\n",
        "    - angle이 180이므로 평각입니다. 따라서 4를 return합니다."
      ],
      "metadata": {
        "id": "nYbcVrecJOH5"
      }
    },
    {
      "cell_type": "code",
      "source": [
        "def solution(angle):\n",
        "    answer = 0\n",
        "    \n",
        "    if angle > 0 and angle < 90:\n",
        "        answer = 1\n",
        "    elif angle == 90:\n",
        "        answer = 2\n",
        "    elif angle > 90 and angle < 180:\n",
        "        answer = 3\n",
        "    elif angle == 180:\n",
        "        answer = 4\n",
        "    \n",
        "    return answer"
      ],
      "metadata": {
        "id": "jnjnV3noJocX"
      },
      "execution_count": null,
      "outputs": []
    },
    {
      "cell_type": "markdown",
      "source": [
        "### `10.` 짝수의 합\n",
        "\n",
        "### 문제 설명\n",
        "- 정수 n이 주어질 때, n이하의 짝수를 모두 더한 값을 return 하도록 solution 함수를 작성해주세요.\n",
        "\n",
        "### 제한사항\n",
        "- 0 < n ≤ 1000\n",
        "\n",
        "### 입출력 예\n",
        "| n  | result |\n",
        "|----|--------|\n",
        "| 10 | 30     |\n",
        "| 4  | 6      |\n",
        "\n",
        "### 입출력 예 설명\n",
        "- 입출력 예 #1\n",
        "    - n이 10이므로 2 + 4 + 6 + 8 + 10 = 30을 return 합니다.\n",
        "- 입출력 예 #2\n",
        "    - n이 4이므로 2 + 4 = 6을 return 합니다."
      ],
      "metadata": {
        "id": "VyD81MSzJ9nI"
      }
    },
    {
      "cell_type": "code",
      "source": [
        "def solution(n):\n",
        "    answer = 0\n",
        "    \n",
        "    for i in range(0, n + 1, 2):\n",
        "        answer += i\n",
        "    \n",
        "    return answer"
      ],
      "metadata": {
        "id": "ZerZ6HbiKPyk"
      },
      "execution_count": null,
      "outputs": []
    },
    {
      "cell_type": "markdown",
      "source": [
        "## 23년 05월 07일"
      ],
      "metadata": {
        "id": "yH3npq0d_htA"
      }
    },
    {
      "cell_type": "markdown",
      "source": [
        "### `11.` 배열의 평균값\n",
        "\n",
        "### 문제 설명\n",
        "- 정수 배열 numbers가 매개변수로 주어집니다. numbers의 원소의 평균값을 return하도록 solution 함수를 완성해주세요.\n",
        "\n",
        "### 제한사항\n",
        "- 0 ≤ numbers의 원소 ≤ 1,000\n",
        "- 1 ≤ numbers의 길이 ≤ 100\n",
        "- 정답의 소수 부분이 .0 또는 .5인 경우만 입력으로 주어집니다.\n",
        "\n",
        "### 입출력 예\n",
        "| numbers                                      | result |\n",
        "|----------------------------------------------|--------|\n",
        "| [1, 2, 3, 4, 5, 6, 7, 8, 9, 10]              | 5.5    |\n",
        "| [89, 90, 91, 92, 93, 94, 95, 96, 97, 98, 99] | 94.0   |\n",
        "\n",
        "### 입출력 예 설명\n",
        "- 입출력 예 #1\n",
        "    - numbers의 원소들의 평균 값은 5.5입니다.\n",
        "- 입출력 예 #2\n",
        "    - numbers의 원소들의 평균 값은 94.0입니다."
      ],
      "metadata": {
        "id": "W-VsXtwvLAMW"
      }
    },
    {
      "cell_type": "code",
      "source": [
        "def solution(numbers):\n",
        "    answer = 0\n",
        "    \n",
        "    answer = sum(numbers) / len(numbers)\n",
        "    \n",
        "    return answer"
      ],
      "metadata": {
        "id": "4Z832TWSLRIF"
      },
      "execution_count": null,
      "outputs": []
    },
    {
      "cell_type": "markdown",
      "source": [
        "### `12.` 양꼬치\n",
        "\n",
        "### 문제 설명\n",
        "- 머쓱이네 양꼬치 가게는 10인분을 먹으면 음료수 하나를 서비스로 줍니다. 양꼬치는 1인분에 12,000원, 음료수는 2,000원입니다. 정수 n과 k가 매개변수로 주어졌을 때, 양꼬치 n인분과 음료수 k개를 먹었다면 총얼마를 지불해야 하는지 return 하도록 solution 함수를 완성해보세요.\n",
        "\n",
        "### 제한사항\n",
        "- 0 < n < 1,000\n",
        "- n / 10 ≤ k < 1,000\n",
        "- 서비스로 받은 음료수는 모두 마십니다.\n",
        "\n",
        "### 입출력 예\n",
        "| n  | k | result  |\n",
        "|----|---|---------|\n",
        "| 10 | 3 | 124,000 |\n",
        "| 64 | 6 | 768,000 |\n",
        "\n",
        "### 입출력 예 설명\n",
        "- 입출력 예 #1\n",
        "    - 10인분을 시켜 서비스로 음료수를 하나 받아 총 10 * 12000 + 3 * 2000 - 1 * 2000 = 124,000원입니다.\n",
        "- 입출력 예 #2\n",
        "    - 64인분을 시켜 서비스로 음료수를 6개 받아 총 64 * 12000 + 6 * 2000 - 6 * 2000 =768,000원입니다."
      ],
      "metadata": {
        "id": "KQZLO94DLdhn"
      }
    },
    {
      "cell_type": "code",
      "source": [
        "def solution(n, k):\n",
        "    answer = 0\n",
        "    \n",
        "    if n >= 10:\n",
        "        answer = (n * 12000) + (k * 2000) - ((n // 10) * 2000)\n",
        "    else:\n",
        "        answer = (n * 12000) + (k * 2000)\n",
        "    \n",
        "    return answer"
      ],
      "metadata": {
        "id": "hrf0eLGALsU3"
      },
      "execution_count": null,
      "outputs": []
    },
    {
      "cell_type": "markdown",
      "source": [
        "### `13.` 배열 두배 만들기\n",
        "\n",
        "### 문제 설명\n",
        "- 정수 배열 numbers가 매개변수로 주어집니다. numbers의 각 원소에 두배한 원소를 가진 배열을 return하도록 solution 함수를 완성해주세요.\n",
        "\n",
        "### 제한사항\n",
        "- -10,000 ≤ numbers의 원소 ≤ 10,000\n",
        "- 1 ≤ numbers의 길이 ≤ 1,000\n",
        "\n",
        "### 입출력 예\n",
        "| numbers                   | result                     |\n",
        "|---------------------------|----------------------------|\n",
        "| [1, 2, 3, 4, 5]           | [2, 4, 6, 8, 10]           |\n",
        "| [1, 2, 100, -99, 1, 2, 3] | [2, 4, 200, -198, 2, 4, 6] |\n",
        "\n",
        "### 입출력 예 설명\n",
        "- 입출력 예 #1\n",
        "    - [1, 2, 3, 4, 5]의 각 원소에 두배를 한 배열 [2, 4, 6, 8, 10]을 return합니다.\n",
        "- 입출력 예 #2\n",
        "    - [1, 2, 100, -99, 1, 2, 3]의 각 원소에 두배를 한 배열 [2, 4, 200, -198, 2, 4, 6]을 return합니다."
      ],
      "metadata": {
        "id": "0likwtJsMfKA"
      }
    },
    {
      "cell_type": "code",
      "source": [
        "def solution(numbers):\n",
        "    answer = []\n",
        "    \n",
        "    for i in range(0, len(numbers)):\n",
        "        numbers[i] *= 2\n",
        "        \n",
        "    answer = numbers\n",
        "    \n",
        "    return answer"
      ],
      "metadata": {
        "id": "CIWngZDeMyrl"
      },
      "execution_count": null,
      "outputs": []
    },
    {
      "cell_type": "markdown",
      "source": [
        "### `14.` 배열 자르기\n",
        "\n",
        "### 문제 설명\n",
        "- 정수 배열 numbers와 정수 num1, num2가 매개변수로 주어질 때, numbers의 num1번 째 인덱스부터 num2번째 인덱스까지 자른 정수 배열을 return 하도록 solution 함수를 완성해보세요.\n",
        "\n",
        "### 제한사항\n",
        "- 2 ≤ numbers의 길이 ≤ 30\n",
        "- 0 ≤ numbers의 원소 ≤ 1,000\n",
        "- 0 ≤num1 < num2 < numbers의 길이\n",
        "\n",
        "### 입출력 예\n",
        "| numbers         | num1 | num2 | result    |\n",
        "|-----------------|------|------|-----------|\n",
        "| [1, 2, 3, 4, 5] | 1    | 3    | [2, 3, 4] |\n",
        "| [1, 3, 5]       | 1    | 2    | [3, 5]    |\n",
        "\n",
        "### 입출력 예 설명\n",
        "- 입출력 예 #1\n",
        "    - [1, 2, 3, 4, 5]의 1번째 인덱스 2부터 3번째 인덱스 4 까지 자른 [2, 3, 4]를 return 합니다.\n",
        "- 입출력 예 #2\n",
        "    - [1, 3, 5]의 1번째 인덱스 3부터 2번째 인덱스 5까지 자른 [3, 5]를 return 합니다."
      ],
      "metadata": {
        "id": "6PqEZVPENRd1"
      }
    },
    {
      "cell_type": "code",
      "source": [
        "def solution(numbers, num1, num2):\n",
        "    answer = []\n",
        "    \n",
        "    answer = numbers[num1:num2 + 1]\n",
        "    \n",
        "    return answer"
      ],
      "metadata": {
        "id": "E1ZY2kT9NhHl"
      },
      "execution_count": null,
      "outputs": []
    },
    {
      "cell_type": "markdown",
      "source": [
        "### `15.` 배열 뒤집기\n",
        "\n",
        "### 문제 설명\n",
        "- 정수가 들어 있는 배열 num_list가 매개변수로 주어집니다. num_list의 원소의 순서를 거꾸로 뒤집은 배열을 return하도록 solution 함수를 완성해주세요.\n",
        "\n",
        "### 제한사항\n",
        "- 1 ≤ num_list의 길이 ≤ 1,000\n",
        "- 0 ≤ num_list의 원소 ≤ 1,000\n",
        "\n",
        "### 입출력 예\n",
        "| num_list              | result                |\n",
        "|-----------------------|-----------------------|\n",
        "| [1, 2, 3, 4, 5]       | [5, 4, 3, 2, 1]       |\n",
        "| [1, 1, 1, 1, 1, 2]    | [2, 1, 1, 1, 1, 1]    |\n",
        "| [1, 0, 1, 1, 1, 3, 5] | [5, 3, 1, 1, 1, 0, 1] |\n",
        "\n",
        "### 입출력 예 설명\n",
        "- 입출력 예 #1\n",
        "    - num_list가 [1, 2, 3, 4, 5]이므로 순서를 거꾸로 뒤집은 배열 [5, 4, 3, 2, 1]을 return합니다.\n",
        "- 입출력 예 #2\n",
        "    - num_list가 [1, 1, 1, 1, 1, 2]이므로 순서를 거꾸로 뒤집은 배열 [2, 1, 1, 1, 1, 1]을 return합니다.\n",
        "- 입출력 예 #3\n",
        "    - num_list가 [1, 0, 1, 1, 1, 3, 5]이므로 순서를 거꾸로 뒤집은 배열 [5, 3, 1, 1, 1, 0, 1]을 return합니다."
      ],
      "metadata": {
        "id": "A6SYoE-FN9B0"
      }
    },
    {
      "cell_type": "code",
      "source": [
        "def solution(num_list):\n",
        "    answer = []\n",
        "    \n",
        "    num_list.reverse()\n",
        "    answer = num_list\n",
        "    \n",
        "    return answer"
      ],
      "metadata": {
        "id": "8EdK48cnOOS-"
      },
      "execution_count": null,
      "outputs": []
    },
    {
      "cell_type": "markdown",
      "source": [
        "## 23년 05월 08일"
      ],
      "metadata": {
        "id": "R1PluDDRAVN3"
      }
    },
    {
      "cell_type": "markdown",
      "source": [
        "### `16.` 정수 부분\n",
        "\n",
        "### 문제 설명\n",
        "- 실수 flo가 매개 변수로 주어질 때, flo의 정수 부분을 return하도록 solution 함수를 완성해주세요.\n",
        "\n",
        "### 제한사항\n",
        "- 0 ≤ flo ≤ 100\n",
        "\n",
        "### 입출력 예\n",
        "| flo   | result |\n",
        "|-------|--------|\n",
        "| 1.42  | 1      |\n",
        "| 69.32 | 69     |\n",
        "\n",
        "### 입출력 예 설명\n",
        "- 입출력 예 #1\n",
        "    - 1.42의 정수 부분은 1입니다.\n",
        "- 입출력 예 #2\n",
        "    - 69.32의 정수 부분은 69입니다.\n"
      ],
      "metadata": {
        "id": "Uhp5UoVCmTy6"
      }
    },
    {
      "cell_type": "code",
      "source": [
        "def solution(flo):\n",
        "    answer = 0\n",
        "    \n",
        "    answer = int(flo)\n",
        "    \n",
        "    return answer"
      ],
      "metadata": {
        "id": "dk_V2DZ1mnaN"
      },
      "execution_count": null,
      "outputs": []
    },
    {
      "cell_type": "markdown",
      "source": [
        "### `17.` 문자열로 변환\n",
        "\n",
        "### 문제 설명\n",
        "- 정수 n이 주어질 때, n을 문자열로 변환하여 return하도록 solution 함수를 완성해주세요.\n",
        "\n",
        "### 제한사항\n",
        "- 1 ≤ n ≤ 10000\n",
        "\n",
        "### 입출력 예\n",
        "| n    | result |\n",
        "|------|--------|\n",
        "| 123  | \"123\"  |\n",
        "| 2573 | \"2573\" |\n",
        "\n",
        "### 입출력 예 설명\n",
        "- 입출력 예 #1\n",
        "    - 123을 문자열로 변환한 \"123\"을 return합니다.\n",
        "- 입출력 예 #2\n",
        "    - 2573을 문자열로 변환한 \"2573\"을 return합니다."
      ],
      "metadata": {
        "id": "nu4Vg_PCm1-g"
      }
    },
    {
      "cell_type": "code",
      "source": [
        "def solution(n):\n",
        "    answer = ''\n",
        "    \n",
        "    answer = str(n)\n",
        "    \n",
        "    return answer"
      ],
      "metadata": {
        "id": "laj8gU7tnJbO"
      },
      "execution_count": null,
      "outputs": []
    },
    {
      "cell_type": "markdown",
      "source": [
        "### `18.` 문자열의 앞의 n글자\n",
        "\n",
        "### 문제 설명\n",
        "- 문자열 my_string과 정수 n이 매개변수로 주어질 때, my_string의 앞의 n글자로 이루어진 문자열을 return 하는 solution 함수를 작성해 주세요.\n",
        "\n",
        "### 제한사항\n",
        "- my_string은 숫자와 알파벳으로 이루어져 있습니다.\n",
        "- 1 ≤ my_string의 길이 ≤ 1,000\n",
        "- 1 ≤ n ≤ my_string의 길이\n",
        "\n",
        "### 입출력 예\n",
        "| my_string        | n  | result        |\n",
        "|------------------|----|---------------|\n",
        "| \"ProgrammerS123\" | 11 | \"ProgrammerS\" |\n",
        "| \"He110W0r1d\"     | 5  | \"He110\"       |\n",
        "\n",
        "### 입출력 예\n",
        "- 입출력 예 #1\n",
        "    - 예제 1번의 my_string에서 앞의 11글자는 \"ProgrammerS\"이므로 이 문자열을 return 합니다.\n",
        "- 입출력 예 #2\n",
        "    - 예제 2번의 my_string에서 앞의 5글자는 \"He110\"이므로 이 문자열을 return 합니다."
      ],
      "metadata": {
        "id": "oKsTj056nOyL"
      }
    },
    {
      "cell_type": "code",
      "source": [
        "def solution(my_string, n):\n",
        "    answer = ''\n",
        "    \n",
        "    answer = my_string[:n]\n",
        "    \n",
        "    return answer"
      ],
      "metadata": {
        "id": "9I_tzmaenomT"
      },
      "execution_count": null,
      "outputs": []
    },
    {
      "cell_type": "markdown",
      "source": [
        "### `19.` 소문자로 바꾸기\n",
        "\n",
        "### 문제 설명\n",
        "- 알파벳으로 이루어진 문자열 myString이 주어집니다. 모든 알파벳을 소문자로 변환하여 return 하는 solution 함수를 완성해 주세요.\n",
        "\n",
        "### 제한사항\n",
        "- 1 ≤ myString의 길이 ≤ 100,000\n",
        "    - myString은 알파벳으로 이루어진 문자열입니다.\n",
        "\n",
        "### 입출력 예\n",
        "| myString  | result    |\n",
        "|-----------|-----------|\n",
        "| \"aBcDeFg\" | \"abcdefg\" |\n",
        "| \"aaa\"     | \"aaa\"     |"
      ],
      "metadata": {
        "id": "ipr-I5TSn0_u"
      }
    },
    {
      "cell_type": "code",
      "source": [
        "def solution(myString):\n",
        "    answer = ''\n",
        "    \n",
        "    answer = myString.lower()\n",
        "    \n",
        "    return answer"
      ],
      "metadata": {
        "id": "jju5fPz0oiOO"
      },
      "execution_count": null,
      "outputs": []
    },
    {
      "cell_type": "markdown",
      "source": [
        "### `20.` 문자열을 정수로 변환하기\n",
        "\n",
        "### 문제 설명\n",
        "- 숫자로만 이루어진 문자열 n_str이 주어질 때, n_str을 정수로 변환하여 return하도록 solution 함수를 완성해주세요.\n",
        "\n",
        "### 제한사항\n",
        "- 1 ≤ n_str ≤ 5\n",
        "- n_str은 0부터 9까지의 정수 문자로만 이루어져 있습니다.\n",
        "\n",
        "### 입출력 예\n",
        "| n_str  | result |\n",
        "|--------|--------|\n",
        "| \"10\"   | 10     |\n",
        "| \"8542\" | 8542   |\n",
        "\n",
        "### 입출력 예 설명\n",
        "- 입출력 예 #1\n",
        "    - \"10\"을 정수로 바꾸면 10입니다.\n",
        "- 입출력 예 #2\n",
        "    - \"8542\"를 정수로 바꾸면 8542입니다."
      ],
      "metadata": {
        "id": "hGiCWNdpo0lb"
      }
    },
    {
      "cell_type": "code",
      "source": [
        "def solution(n_str):\n",
        "    answer = 0\n",
        "    \n",
        "    answer = int(n_str)\n",
        "    \n",
        "    return answer "
      ],
      "metadata": {
        "id": "x-tlhn_JpCLh"
      },
      "execution_count": null,
      "outputs": []
    },
    {
      "cell_type": "markdown",
      "source": [
        "## 23년 05월 09일"
      ],
      "metadata": {
        "id": "fhFP_0AI_-zN"
      }
    },
    {
      "cell_type": "markdown",
      "source": [
        "### `21.` n의 배수\n",
        "\n",
        "### 문제 설명\n",
        "- 정수 num과 n이 매개 변수로 주어질 때, num이 n의 배수이면 1을 return n의 배수가 아니라면 0을 return하도록 solution 함수를 완성해주세요.\n",
        "\n",
        "### 제한사항\n",
        "- 2 ≤ num ≤ 100\n",
        "- 2 ≤ n ≤ 9\n",
        "\n",
        "### 입출력 예\n",
        "| num | n | result |\n",
        "|-----|---|--------|\n",
        "| 98  | 2 | 1      |\n",
        "| 34  | 3 | 0      |\n",
        "\n",
        "### 입출력 예 설명\n",
        "- 입출력 예 #1\n",
        "    - 98은 2의 배수이므로 1을 return합니다.\n",
        "- 입출력 예 #2\n",
        "    - 32는 3의 배수가 아니므로 0을 return합니다.\n"
      ],
      "metadata": {
        "id": "uNyE5uObpTP3"
      }
    },
    {
      "cell_type": "code",
      "source": [
        "def solution(num, n):\n",
        "    answer = 0\n",
        "    \n",
        "    if num % n == 0:\n",
        "        answer = 1\n",
        "    else:\n",
        "        answer = 0\n",
        "    \n",
        "    return answer"
      ],
      "metadata": {
        "id": "Ggg9zd2ypjmk"
      },
      "execution_count": null,
      "outputs": []
    },
    {
      "cell_type": "markdown",
      "source": [
        "### `22.` flag에 따라 다른 값 반환하기\n",
        "\n",
        "### 문제 설명\n",
        "- 두 정수 a, b와 boolean 변수 flag가 매개변수로 주어질 때, flag가 true면 a + b를 false면 a - b를 return 하는 solution 함수를 작성해 주세요.\n",
        "\n",
        "### 제한사항\n",
        "- -1000 ≤ a, b ≤ 1,000\n",
        "\n",
        "### 입출력 예\n",
        "| a  | b | flag  | result |\n",
        "|----|---|-------|--------|\n",
        "| -4 | 7 | true  | 3      |\n",
        "| -4 | 7 | false | -11    |\n",
        "\n",
        "### 입출력 예\n",
        "- 입출력 예 #1\n",
        "    - 예제 1번에서 flag가 true이므로 a + b = (-4) + 7 = 3을 return 합니다.\n",
        "- 입출력 예 #2\n",
        "    - 예제 2번에서 flag가 false이므로 a - b = (-4) - 7 = -11을 return 합니다."
      ],
      "metadata": {
        "id": "Lw0nS_NXptIW"
      }
    },
    {
      "cell_type": "code",
      "source": [
        "def solution(a, b, flag):\n",
        "    answer = 0\n",
        "    \n",
        "    if flag == True:\n",
        "        answer = a + b\n",
        "    else:\n",
        "        answer = a - b\n",
        "    \n",
        "    return answer"
      ],
      "metadata": {
        "id": "p_wvFQhJp-rP"
      },
      "execution_count": null,
      "outputs": []
    },
    {
      "cell_type": "markdown",
      "source": [
        "### `23.` 문자열 곱하기\n",
        "\n",
        "### 문제 설명\n",
        "- 문자열 my_string과 정수 k가 주어질 때, my_string을 k번 반복한 문자열을 return 하는 solution 함수를 작성해 주세요.\n",
        "\n",
        "### 제한사항\n",
        "- 1 ≤ my_string의 길이 ≤ 100\n",
        "- my_string은 영소문자로만 이루어져 있습니다.\n",
        "- 1 ≤ k ≤ 100\n",
        "\n",
        "### 입출력 예\n",
        "| my_string | k  | result                                     |\n",
        "|-----------|----|--------------------------------------------|\n",
        "| \"string\"  | 3  | \"stringstringstring\"                       |\n",
        "| \"love\"    | 10 | \"lovelovelovelovelovelovelovelovelovelove\" |\n",
        "\n",
        "### 입출력 예 설명\n",
        "- 입출력 예 #1\n",
        "    - 예제 1번의 my_string은 \"string\"이고 이를 3번 반복한 문자열은 \"stringstringstring\"이므로 이를 return 합니다.\n",
        "- 입출력 예 #2\n",
        "    - 예제 2번의 my_string은 \"love\"이고 이를 10번 반복한 문자열은 \"lovelovelovelovelovelovelovelovelovelove\"이므로 이를 return 합니다."
      ],
      "metadata": {
        "id": "d7gnwtJWqKRp"
      }
    },
    {
      "cell_type": "code",
      "source": [
        "def solution(my_string, k):\n",
        "    answer = ''\n",
        "    \n",
        "    answer = my_string * k\n",
        "    \n",
        "    return answer"
      ],
      "metadata": {
        "id": "PrrxUAkLqaan"
      },
      "execution_count": null,
      "outputs": []
    },
    {
      "cell_type": "markdown",
      "source": [
        "### `24.` 대문자로 바꾸기\n",
        "\n",
        "### 문제 설명\n",
        "- 알파벳으로 이루어진 문자열 myString이 주어집니다. 모든 알파벳을 대문자로 변환하여 return 하는 solution 함수를 완성해 주세요.\n",
        "\n",
        "### 제한사항\n",
        "- 1 ≤ myString의 길이 ≤ 100,000\n",
        "    - myString은 알파벳으로 이루어진 문자열입니다.\n",
        "\n",
        "### 입출력 예\n",
        "| myString  | result    |\n",
        "|-----------|-----------|\n",
        "| \"aBcDeFg\" | \"ABCDEFG\" |\n",
        "| \"AAA\"     | \"AAA\"     |"
      ],
      "metadata": {
        "id": "LkM6XZN9qhSP"
      }
    },
    {
      "cell_type": "code",
      "source": [
        "def solution(myString):\n",
        "    answer = ''\n",
        "    \n",
        "    answer = myString.upper()\n",
        "    \n",
        "    return answer"
      ],
      "metadata": {
        "id": "V5bRwAfYqwxW"
      },
      "execution_count": null,
      "outputs": []
    },
    {
      "cell_type": "markdown",
      "source": [
        "### `25.` 공배수\n",
        "\n",
        "### 문제 설명\n",
        "- 정수 number와 n, m이 주어집니다. number가 n의 배수이면서 m의 배수이면 1을 아니라면 0을 return하도록 solution 함수를 완성해주세요.\n",
        "\n",
        "### 제한사항\n",
        "- 10 ≤ number ≤ 100\n",
        "- 2 ≤ n, m < 10\n",
        "\n",
        "### 입출력 예\n",
        "| number | n  | m | result |\n",
        "|--------|----|---|--------|\n",
        "| 60     | 2  | 3 | 1      |\n",
        "| 55     | 10 | 5 | 0      |\n",
        "\n",
        "### 입출력 예 설명\n",
        "- 입출력 예 #1\n",
        "    - 60은 2의 배수이면서 3의 배수이기 때문에 1을 return합니다.\n",
        "- 입출력 예 #2\n",
        "    - 55는 5의 배수이지만 10의 배수가 아니기 때문에 0을 return합니다."
      ],
      "metadata": {
        "id": "C2zguGAjqigo"
      }
    },
    {
      "cell_type": "code",
      "source": [
        "def solution(number, n, m):\n",
        "    answer = 0\n",
        "    \n",
        "    if number % n == 0 and number % m == 0:\n",
        "        answer = 1\n",
        "    else:\n",
        "        answer = 0\n",
        "    \n",
        "    return answer"
      ],
      "metadata": {
        "id": "Hv7YiLKcrD6i"
      },
      "execution_count": null,
      "outputs": []
    },
    {
      "cell_type": "markdown",
      "source": [
        "## 23년 05월 10일"
      ],
      "metadata": {
        "id": "uoK5FzuJAbig"
      }
    },
    {
      "cell_type": "markdown",
      "source": [
        "### `26.` 부분 문자열인지 확인하기\n",
        "\n",
        "### 문제 설명\n",
        "- 부분 문자열이란 문자열에서 연속된 일부분에 해당하는 문자열을 의미합니다. 예를 들어, 문자열 \"ana\", \"ban\", \"anana\", \"banana\", \"n\"는 모두 문자열 \"banana\"의 부분 문자열이지만, \"aaa\", \"bnana\", \"wxyz\"는 모두 \"banana\"의 부분 문자열이 아닙니다.\n",
        "- 문자열 my_string과 target이 매개변수로 주어질 때, target이 문자열 my_string의 부분 문자열이라면 1을, 아니라면 0을 return 하는 solution 함수를 작성해 주세요.\n",
        "\n",
        "### 제한사항\n",
        "- 1 ≤ my_string의 길이 ≤ 100\n",
        "- my_string은 영소문자로만 이루어져 있습니다.\n",
        "- 1 ≤ target의 길이 ≤ 100\n",
        "- target은 영소문자로만 이루어져 있습니다.\n",
        "\n",
        "### 입출력 예\n",
        "| my_string | target | result |\n",
        "|-----------|--------|--------|\n",
        "| \"banana\"  | \"ana\"  | 1      |\n",
        "| \"banana\"  | \"wxyz\" | 0      |\n",
        "\n",
        "### 입출력 예 설명\n",
        "- 입출력 예 #1\n",
        "    - 문제 설명과 같습니다.\n",
        "- 입출력 예 #2\n",
        "    - 문제 설명과 같습니다."
      ],
      "metadata": {
        "id": "aIjYEA8Rye2V"
      }
    },
    {
      "cell_type": "code",
      "source": [
        "def solution(my_string, target):\n",
        "    answer = 0\n",
        "    \n",
        "    if target in my_string:\n",
        "        answer = 1\n",
        "    else:\n",
        "        answer = 0\n",
        "    \n",
        "    return answer"
      ],
      "metadata": {
        "id": "bZOal0tEyvdT"
      },
      "execution_count": null,
      "outputs": []
    },
    {
      "cell_type": "markdown",
      "source": [
        "### `27.` 공백으로 구분하기 1\n",
        "\n",
        "### 문제 설명\n",
        "- 단어가 공백 한 개로 구분되어 있는 문자열 my_string이 매개변수로 주어질 때, my_string에 나온 단어를 앞에서부터 순서대로 담은 문자열 배열을 return 하는 solution 함수를 작성해 주세요.\n",
        "\n",
        "### 제한사항\n",
        "- my_string은 영소문자와 공백으로만 이루어져 있습니다.\n",
        "- 1 ≤ my_string의 길이 ≤ 1,000\n",
        "- my_string의 맨 앞과 맨 뒤에 글자는 공백이 아닙니다.\n",
        "\n",
        "### 입출력 예\n",
        "| my_string     | result               |\n",
        "|---------------|----------------------|\n",
        "| \"i love you\"  | [\"i\", \"love\", \"you\"] |\n",
        "| \"programmers\" | [\"programmers\"]      |\n",
        "\n",
        "### 입출력 예 설명\n",
        "- 입출력 예 #1\n",
        "    - 예제 1번의 my_string은 \"i love you\"로 공백 한 칸으로 나누어진 단어들은 앞에서부터 순서대로 \"i\", \"love\", \"you\" 이므로 [\"i\", \"love\", \"you\"]를 return 합니다.\n",
        "- 입출력 예 #2\n",
        "    - 예제 2번의 my_string은 \"programmers\"로 단어가 하나만 있습니다. 따라서 [\"programmers\"]를 return 합니다."
      ],
      "metadata": {
        "id": "8Xh3cr7Hy_D5"
      }
    },
    {
      "cell_type": "code",
      "source": [
        "def solution(my_string):\n",
        "    answer = []\n",
        "\n",
        "    answer = my_string.split()\n",
        "\n",
        "    return answer"
      ],
      "metadata": {
        "id": "Y3n0hWDZzQyW"
      },
      "execution_count": null,
      "outputs": []
    },
    {
      "cell_type": "markdown",
      "source": [
        "### `28.` 길이에 따른 연산\n",
        "\n",
        "### 문제 설명\n",
        "- 정수가 담긴 리스트 num_list가 주어질 때, 리스트의 길이가 11 이상이면 리스트에 있는 모든 원소의 합을 10 이하이면 모든 원소의 곱을 return하도록 solution 함수를 완성해주세요.\n",
        "\n",
        "### 제한사항\n",
        "- 2 ≤ num_list의 길이 ≤ 20\n",
        "- 1 ≤ num_list의 원소 ≤ 9\n",
        "\n",
        "### 입출력 예\n",
        "| num_list                                | result |\n",
        "|-----------------------------------------|--------|\n",
        "| [3, 4, 5, 2, 5, 4, 6, 7, 3, 7, 2, 2, 1] | 51     |\n",
        "| [2, 3, 4, 5]                            | 120    |\n",
        "\n",
        "### 입출력 예 설명\n",
        "- 입출력 예 #1\n",
        "    - 리스트의 길이가 13이므로 모든 원소의 합인 51을 return합니다.\n",
        "- 입출력 예 #2\n",
        "    - 리스트의 길이가 4이므로 모든 원소의 곱인 120을 return합니다."
      ],
      "metadata": {
        "id": "D9VVLhM614Iu"
      }
    },
    {
      "cell_type": "code",
      "source": [
        "def solution(num_list):\n",
        "    answer = 0\n",
        "    num_mul = 1\n",
        "    \n",
        "    if len(num_list) >= 11:\n",
        "        answer = sum(num_list)\n",
        "    else:\n",
        "        for i in range(0, len(num_list)):\n",
        "            num_mul *= num_list[i]\n",
        "\n",
        "        answer = num_mul\n",
        "        \n",
        "    return answer"
      ],
      "metadata": {
        "id": "suW8d0-H2I3F"
      },
      "execution_count": null,
      "outputs": []
    },
    {
      "cell_type": "markdown",
      "source": [
        "### `29.` 배열 원소의 길이\n",
        "\n",
        "### 문제 설명\n",
        "- 문자열 배열 strlist가 매개변수로 주어집니다. strlist 각 원소의 길이를 담은 배열을 retrun하도록 solution 함수를 완성해주세요.\n",
        "\n",
        "### 제한사항\n",
        "- 1 ≤ strlist 원소의 길이 ≤ 100\n",
        "- strlist는 알파벳 소문자, 대문자, 특수문자로 구성되어 있습니다.\n",
        "\n",
        "### 입출력 예\n",
        "| strlist                        | result       |\n",
        "|--------------------------------|--------------|\n",
        "| [\"We\", \"are\", \"the\", \"world!\"] | [2, 3, 3, 6] |\n",
        "| [\"I\", \"Love\", \"Programmers.\"]  | [1, 4, 12]   |\n",
        "\n",
        "### 입출력 예 설명\n",
        "- 입출력 예 #1\n",
        "    - [\"We\", \"are\", \"the\", \"world!\"]의 각 원소의 길이인 [2, 3, 3, 6]을 return합니다.\n",
        "- 입출력 예 #2\n",
        "    - [\"I\", \"Love\", \"Programmers.\"]의 각 원소의 길이인 [1, 4, 12]을 return합니다.\n"
      ],
      "metadata": {
        "id": "KenFqEcm5Ame"
      }
    },
    {
      "cell_type": "code",
      "source": [
        "def solution(strlist):\n",
        "    answer = []\n",
        "\n",
        "    for i in range(0, len(strlist)):\n",
        "        answer.append(len(strlist[i]))\n",
        "    \n",
        "    return answer"
      ],
      "metadata": {
        "id": "P1dT1sUQ5Q_w"
      },
      "execution_count": null,
      "outputs": []
    },
    {
      "cell_type": "markdown",
      "source": [
        "### `30.` 문자열의 뒤의 n글자\n",
        "\n",
        "### 문제 설명\n",
        "- 문자열 my_string과 정수 n이 매개변수로 주어질 때, my_string의 뒤의 n글자로 이루어진 문자열을 return 하는 solution 함수를 작성해 주세요.\n",
        "\n",
        "### 제한사항\n",
        "- my_string은 숫자와 알파벳으로 이루어져 있습니다.\n",
        "- 1 ≤ my_string의 길이 ≤ 1,000\n",
        "- 1 ≤ n ≤ my_string의 길이\n",
        "\n",
        "### 입출력 예\n",
        "| my_string        | n  | result        |\n",
        "|------------------|----|---------------|\n",
        "| \"ProgrammerS123\" | 11 | \"grammerS123\" |\n",
        "| \"He110W0r1d\"     | 5  | \"W0r1d\"       |\n",
        "\n",
        "### 입출력 예\n",
        "- 입출력 예 #1\n",
        "    - 예제 1번의 my_string에서 뒤의 11글자는 \"grammerS123\"이므로 이 문자열을 return 합니다.\n",
        "- 입출력 예 #2\n",
        "    - 예제 2번의 my_string에서 뒤의 5글자는 \"W0r1d\"이므로 이 문자열을 return 합니다.\n"
      ],
      "metadata": {
        "id": "2u0Nx0R75Btn"
      }
    },
    {
      "cell_type": "code",
      "source": [
        "def solution(my_string, n):\n",
        "    answer = ''\n",
        "    \n",
        "    answer = my_string[len(my_string) - n:]\n",
        "    \n",
        "    return answer"
      ],
      "metadata": {
        "id": "EhtAHixMFs6s"
      },
      "execution_count": null,
      "outputs": []
    },
    {
      "cell_type": "markdown",
      "source": [
        "## 23년 05월 11일"
      ],
      "metadata": {
        "id": "WPpB1EWqAO5t"
      }
    },
    {
      "cell_type": "markdown",
      "source": [
        "### `31.` 문자열 정수의 합\n",
        "\n",
        "### 문제 설명\n",
        "- 한 자리 정수로 이루어진 문자열 num_str이 주어질 때, 각 자리수의 합을 return하도록 solution 함수를 완성해주세요.\n",
        "\n",
        "### 제한사항\n",
        "- 3 ≤ num_str ≤ 100\n",
        "\n",
        "### 입출력 예\n",
        "| num_str     | result |\n",
        "|-------------|--------|\n",
        "| \"123456789\" | 45     |\n",
        "| \"1000000\"   | 1      |\n",
        "\n",
        "###입출력 예 설명\n",
        "- 입출력 예 #1\n",
        "    - 문자열 안의 모든 숫자를 더하면 45가 됩니다.\n",
        "- 입출력 예 #2\n",
        "    - 문자열 안의 모든 숫자를 더하면 1이 됩니다."
      ],
      "metadata": {
        "id": "If4DS0lLBDJm"
      }
    },
    {
      "cell_type": "code",
      "source": [
        "def solution(num_str):\n",
        "    answer = 0\n",
        "    \n",
        "    for i in range(0, len(list(num_str))):\n",
        "        answer += int(list(num_str)[i])\n",
        "    \n",
        "    return answer"
      ],
      "metadata": {
        "id": "JHxIsPh2Lki-"
      },
      "execution_count": null,
      "outputs": []
    },
    {
      "cell_type": "markdown",
      "source": [
        "### `32.` 카운트 업\n",
        "\n",
        "### 문제 설명\n",
        "- 정수 start와 end가 주어질 때, start부터 end까지의 숫자를 차례로 담은 리스트를 return하도록 solution 함수를 완성해주세요.\n",
        "\n",
        "### 제한사항\n",
        "- 0 ≤ start ≤ end ≤ 50\n",
        "\n",
        "### 입출력 예\n",
        "| start | end | result                    |\n",
        "|-------|-----|---------------------------|\n",
        "| 3     | 10  | [3, 4, 5, 6, 7, 8, 9, 10] |\n",
        "\n",
        "### 입출력 예 설명\n",
        "- 입출력 예 #1\n",
        "    - 3부터 10까지의 숫자들을 담은 리스트 [3, 4, 5, 6, 7, 8, 9, 10]를 return합니다.\n"
      ],
      "metadata": {
        "id": "6wWvarSlBITP"
      }
    },
    {
      "cell_type": "code",
      "source": [
        "def solution(start, end):\n",
        "    answer = []\n",
        "    \n",
        "    answer = list(range(start, end + 1))\n",
        "    \n",
        "    return answer"
      ],
      "metadata": {
        "id": "QAcqrJvhSHvG"
      },
      "execution_count": null,
      "outputs": []
    },
    {
      "cell_type": "markdown",
      "source": [
        "### `33.` n보다 커질 때까지 더하기\n",
        "\n",
        "###문제 설명\n",
        "- 정수 배열 numbers와 정수 n이 매개변수로 주어집니다. numbers의 원소를 앞에서부터 하나씩 더하다가 그 합이 n보다 커지는 순간 이때까지 더했던 원소들의 합을 return 하는 solution 함수를 작성해 주세요.\n",
        "\n",
        "### 제한사항\n",
        "- 1 ≤ numbers의 길이 ≤ 100\n",
        "- 1 ≤ numbers의 원소 ≤ 100\n",
        "- 0 ≤ n < numbers의 모든 원소의 합\n",
        "\n",
        "### 입출력 예\n",
        "| numbers                  | n   | result |\n",
        "|--------------------------|-----|--------|\n",
        "| [34, 5, 71, 29, 100, 34] | 123 | 139    |\n",
        "| [58, 44, 27, 10, 100]    | 139 | 239    |\n",
        "\n",
        "### 입출력 예 설명\n",
        "| i | numbers[i] | sum |\n",
        "|---|------------|-----|\n",
        "|   |            | 0   |\n",
        "| 0 | 34         | 34  |\n",
        "| 1 | 5          | 39  |\n",
        "| 2 | 71         | 110 |\n",
        "| 3 | 29         | 139 |\n",
        "\n",
        "- 입출력 예 #1\n",
        "    - 예제 1번의 numbers를 문제 설명대로 더해가는 과정을 나타내면 위의 표와 같습니다.\n",
        "    - 29를 더한 뒤에 sum 값은 139이고 n 값인 123보다 크므로 139를 return 합니다.\n",
        "    - 예제 2번의 numbers의 마지막 원소 전까지의 원소를 sum에 더하면 139입니다. 139는 n 값인 139보다 크지 않고 마지막 원소인 100을 더하면 139보다 커지므로 239를 return 합니다.\n",
        "\n"
      ],
      "metadata": {
        "id": "ctmpeXUPBMYG"
      }
    },
    {
      "cell_type": "code",
      "source": [
        "def solution(numbers, n):\n",
        "    answer = 0\n",
        "    \n",
        "    for i in range(0, len(numbers)):\n",
        "        answer += numbers[i]\n",
        "        if answer > n:\n",
        "            return answer\n",
        "    \n",
        "    return answer"
      ],
      "metadata": {
        "id": "uXZhykRBT8or"
      },
      "execution_count": null,
      "outputs": []
    },
    {
      "cell_type": "markdown",
      "source": [
        "### `34.` 정수 찾기\n",
        "\n",
        "### 문제 설명\n",
        "- 정수 리스트 num_list와 찾으려는 정수 n이 주어질 때, num_list안에 n이 있으면 1을 없으면 0을 return하도록 solution 함수를 완성해주세요.\n",
        "\n",
        "### 제한사항\n",
        "- 3 ≤ num_list의 길이 ≤ 100\n",
        "- 1 ≤ num_list의 원소 ≤ 100\n",
        "- 1 ≤ n ≤ 100\n",
        "\n",
        "### 입출력 예\n",
        "| num_list            | n  | result |\n",
        "|---------------------|----|--------|\n",
        "| [1, 2, 3, 4, 5]     | 3  | 1      |\n",
        "| [15, 98, 23, 2, 15] | 20 | 0      |\n",
        "\n",
        "### 입출력 예 설명\n",
        "- 입출력 예 #1\n",
        "    - [1, 2, 3, 4, 5] 안에 3이 있으므로 1을 return합니다.\n",
        "- 입출력 예 #2\n",
        "    - [15, 98, 23, 2, 15] 안에 20이 없으므로 0을 return합니다.\n"
      ],
      "metadata": {
        "id": "gM-Hrj-xBOSP"
      }
    },
    {
      "cell_type": "code",
      "source": [
        "def solution(num_list, n):\n",
        "    answer = 0\n",
        "    \n",
        "    for i in range(0, len(num_list)):\n",
        "        if num_list[i] == n:\n",
        "            answer = 1\n",
        "            return answer\n",
        "    \n",
        "    return answer"
      ],
      "metadata": {
        "id": "ekwsFG6xUyeO"
      },
      "execution_count": null,
      "outputs": []
    },
    {
      "cell_type": "markdown",
      "source": [
        "### `35.` 글자 이어 붙여 문자열 만들기\n",
        "\n",
        "### 문제 설명\n",
        "- 문자열 my_string과 정수 배열 index_list가 매개변수로 주어집니다. my_string의 index_list의 원소들에 해당하는 인덱스의 글자들을 순서대로 이어 붙인 문자열을 return 하는 solution 함수를 작성해 주세요.\n",
        "\n",
        "### 제한사항\n",
        "- 1 ≤ my_string의 길이 ≤ 1,000\n",
        "- my_string의 원소는 영소문자로 이루어져 있습니다.\n",
        "- 1 ≤ index_list의 길이 ≤ 1,000\n",
        "- 0 ≤ index_list의 원소 < my_string의 길이\n",
        "\n",
        "### 입출력 예\n",
        "| my_string            | index_list                               | result        |\n",
        "|----------------------|------------------------------------------|---------------|\n",
        "| \"cvsgiorszzzmrpaqpe\" | [16, 6, 5, 3, 12, 14, 11, 11, 17, 12, 7] | \"programmers\" |\n",
        "| \"zpiaz\"              | [1, 2, 0, 0, 3]                          | \"pizza\"       |\n",
        "\n",
        "### 입출력 예 설명\n",
        "- 입출력 예 #1\n",
        "    - 예제 1번의 my_string에서 인덱스 3, 5, 6, 11, 12, 14, 16, 17에 해당하는 글자는 각각 g, o, r, m, r, a, p, e이므로 my_string에서 index_list에 들어있는 원소에 해당하는 인덱스의 글자들은 각각 순서대로 p, r, o, g, r, a, m, m, e, r, s입니다. 따라서 \"programmers\"를 return 합니다.\n",
        "- 입출력 예 #2\n",
        "    - 예제 2번의 my_string에서 인덱스 0, 1, 2, 3에 해당하는 글자는 각각 z, p, i, a이므로 my_string에서 index_list에 들어있는 원소에 해당하는 인덱스의 글자들은 각각 순서대로 p, i, z, z, a입니다. 따라서 \"pizza\"를 return 합니다."
      ],
      "metadata": {
        "id": "gAaxLfWFBP6r"
      }
    },
    {
      "cell_type": "code",
      "source": [
        "def solution(my_string, index_list):\n",
        "    answer = ''\n",
        "    \n",
        "    for i in index_list:\n",
        "        answer += my_string[i]\n",
        "    \n",
        "    return answer"
      ],
      "metadata": {
        "id": "GgeVx5LeWHjs"
      },
      "execution_count": null,
      "outputs": []
    },
    {
      "cell_type": "markdown",
      "source": [
        "## 23년 05월 12일"
      ],
      "metadata": {
        "id": "_T7EQWNIEHfj"
      }
    },
    {
      "cell_type": "markdown",
      "source": [
        "### ```36.``` 조건에 맞게 수열 변환하기 3\n",
        "\n",
        "### 문제 설명\n",
        "- 정수 배열 arr와 자연수 k가 주어집니다.\n",
        "- 만약 k가 홀수라면 arr의 모든 원소에 k를 곱하고, k가 짝수라면 arr의 모든 원소에 k를 더합니다.\n",
        "- 이러한 변환을 마친 후의 arr를 return 하는 solution 함수를 완성해 주세요.\n",
        "\n",
        "### 제한사항\n",
        "- 1 ≤ arr의 길이 ≤ 1,000,000\n",
        "- 1 ≤ arr의 원소의 값 ≤ 100\n",
        "- 1 ≤ k ≤ 100\n",
        "\n",
        "### 입출력 예\n",
        "| arr                    | k | result                   |\n",
        "|------------------------|---|--------------------------|\n",
        "| [1, 2, 3, 100, 99, 98] | 3 | [3, 6, 9, 300, 297, 294] |\n",
        "| [1, 2, 3, 100, 99, 98] | 2 | [3, 4, 5, 102, 101, 100] |\n",
        "\n",
        "### 입출력 예 설명\n",
        "- 입출력 예 #1\n",
        "    - 주어진 k인 3은 홀수이므로, 전체 배열에 3을 곱합니다. 따라서 [3, 6, 9, 300, 297, 294]을 return 합니다.\n",
        "- 입출력 예 #2\n",
        "    - 주어진 k인 2는 짝수이므로, 전체 배열에 2를 더합니다. 따라서 [3, 4, 5, 102, 101, 100]을 return 합니다.\n"
      ],
      "metadata": {
        "id": "m3KiEjfbEKzA"
      }
    },
    {
      "cell_type": "code",
      "source": [
        "def solution(arr, k):\n",
        "    answer = []\n",
        "    \n",
        "    if k % 2 == 0:\n",
        "        [answer.append(i + k) for i in arr]\n",
        "    else:\n",
        "        [answer.append(i * k) for i in arr]\n",
        "    \n",
        "    return answer"
      ],
      "metadata": {
        "id": "LEAiesUUEJ23"
      },
      "execution_count": null,
      "outputs": []
    },
    {
      "cell_type": "markdown",
      "source": [
        "### ```37.``` n 번째 원소까지\n",
        "\n",
        "### 문제 설명\n",
        "- 정수 리스트 num_list와 정수 n이 주어질 때, num_list의 첫 번째 원소부터 n 번째 원소까지의 모든 원소를 담은 리스트를 return하도록 solution 함수를 완성해주세요.\n",
        "\n",
        "### 제한사항\n",
        "- 2 ≤ num_list의 길이 ≤ 30\n",
        "- 1 ≤ num_list의 원소 ≤ 9\n",
        "- 1 ≤ n ≤ num_list의 길이 ___\n",
        "\n",
        "### 입출력 예\n",
        "| num_list        | n | result    |\n",
        "|-----------------|---|-----------|\n",
        "| [2, 1, 6]       | 1 | [2]       |\n",
        "| [5, 2, 1, 7, 5] | 3 | [5, 2, 1] |\n",
        "\n",
        "### 입출력 예 설명\n",
        "- 입출력 예 #1\n",
        "    - [2, 1, 6]의 첫 번째 원소부터 첫 번째 원소까지의 모든 원소는 [2]입니다.\n",
        "- 입출력 예 #2\n",
        "    - [5, 2, 1, 7, 5]의 첫 번째 원소부터 세 번째 원소까지의 모든 원소는 [5, 2, 1]입니다.\n"
      ],
      "metadata": {
        "id": "I6bCLkK2F6DH"
      }
    },
    {
      "cell_type": "code",
      "source": [
        "def solution(num_list, n):\n",
        "    answer = []\n",
        "    \n",
        "    [answer.append(num_list[i]) for i in range(0, n)]\n",
        "    \n",
        "    return answer"
      ],
      "metadata": {
        "id": "mHAYqX_MGMgC"
      },
      "execution_count": null,
      "outputs": []
    },
    {
      "cell_type": "markdown",
      "source": [
        "### ```38.``` 카운트 다운\n",
        "\n",
        "### 문제 설명\n",
        "- 정수 start와 end가 주어질 때, start에서 end까지 1씩 감소하는 수들을 차례로 담은 리스트를 return하도록 solution 함수를 완성해주세요.\n",
        "\n",
        "### 제한사항\n",
        "- 0 ≤ end ≤ start ≤ 50\n",
        "\n",
        "### 입출력 예\n",
        "| start | end | result                    |\n",
        "|-------|-----|---------------------------|\n",
        "| 10    | 3   | [10, 9, 8, 7, 6, 5, 4, 3] |\n",
        "\n",
        "### 입출력 예 설명\n",
        "- 입출력 예 #1\n",
        "    - 10부터 3까지 1씩 감소하는 수를 담은 리스트는 [10, 9, 8, 7, 6, 5, 4, 3]입니다."
      ],
      "metadata": {
        "id": "-D1te8wNGtG6"
      }
    },
    {
      "cell_type": "code",
      "source": [
        "def solution(start, end):\n",
        "    answer = []\n",
        "    \n",
        "    [answer.append(i) for i in range(start, end - 1, -1)]\n",
        "    \n",
        "    return answer"
      ],
      "metadata": {
        "id": "vU9XIkQIG8g0"
      },
      "execution_count": null,
      "outputs": []
    },
    {
      "cell_type": "markdown",
      "source": [
        "### ```39.``` 문자 리스트를 문자열로 변환하기\n",
        "\n",
        "### 문제 설명\n",
        "- 문자들이 담겨있는 배열 arr가 주어집니다. arr의 원소들을 순서대로 이어 붙인 문자열을 return 하는 solution함수를 작성해 주세요.\n",
        "\n",
        "### 제한사항\n",
        "- 1 ≤ arr의 길이 ≤ 200\n",
        "    - arr의 원소는 전부 알파벳 소문자로 이루어진 길이가 1인 문자열입니다.\n",
        "\n",
        "### 입출력 예\n",
        "| arr           | result |\n",
        "|---------------|--------|\n",
        "| [\"a\",\"b\",\"c\"] | \"abc\"  |"
      ],
      "metadata": {
        "id": "_5jWS7F_HTEC"
      }
    },
    {
      "cell_type": "code",
      "source": [
        "def solution(arr):\n",
        "    answer = ''\n",
        "    \n",
        "    for i in arr:\n",
        "        answer += i\n",
        "    \n",
        "    return answer"
      ],
      "metadata": {
        "id": "UogSeePcHfbL"
      },
      "execution_count": null,
      "outputs": []
    },
    {
      "cell_type": "markdown",
      "source": [
        "### ```40.``` 첫 번째로 나오는 음수\n",
        "\n",
        "### 문제 설명\n",
        "- 정수 리스트 num_list가 주어질 때, 첫 번째로 나오는 음수의 인덱스를 return하도록 solution 함수를 완성해주세요. 음수가 없다면 -1을 return합니다.\n",
        "\n",
        "### 제한사항\n",
        "- 5 ≤ num_list의 길이 ≤ 100\n",
        "- -10 ≤ num_list의 원소 ≤ 100\n",
        "\n",
        "### 입출력 예\n",
        "| num_list                    | result |\n",
        "|-----------------------------|--------|\n",
        "| [12, 4, 15, 46, 38, -2, 15] | 5      |\n",
        "| [13, 22, 53, 24, 15, 6]     | -1     |\n",
        "\n",
        "### 입출력 예 설명\n",
        "- 입출력 예 #1\n",
        "    - 5번 인덱스에서 음수가 처음 등장하므로 5를 return합니다.\n",
        "- 입출력 예 #2\n",
        "    - 음수가 없으므로 -1을 return합니다.\n"
      ],
      "metadata": {
        "id": "EtD_gAK-Ifqw"
      }
    },
    {
      "cell_type": "code",
      "source": [
        "def solution(num_list):\n",
        "    answer = 0\n",
        "    \n",
        "    for i in range(0, len(num_list)):\n",
        "        if num_list[i] < 0:\n",
        "            answer = i\n",
        "            return answer\n",
        "    answer = -1\n",
        "    \n",
        "    return answer"
      ],
      "metadata": {
        "id": "GFZSx38-IuJ6"
      },
      "execution_count": null,
      "outputs": []
    },
    {
      "cell_type": "markdown",
      "source": [
        "## 23년 05월 13일"
      ],
      "metadata": {
        "id": "LSuOMggAJiMN"
      }
    },
    {
      "cell_type": "markdown",
      "source": [
        "### ```41.``` 원소들의 곱과 합\n",
        "\n",
        "### 문제 설명\n",
        "- 정수가 담긴 리스트 num_list가 주어질 때, 모든 원소들의 곱이 모든 원소들의 합의 제곱보다 작으면 1을 크면 0을 return하도록 solution 함수를 완성해주세요.\n",
        "\n",
        "### 제한사항\n",
        "- 2 ≤ num_list의 길이 ≤ 10\n",
        "- 1 ≤ num_list의 원소 ≤ 9\n",
        "\n",
        "### 입출력 예\n",
        "| num_list        | result |\n",
        "|-----------------|--------|\n",
        "| [3, 4, 5, 2, 1] | 1      |\n",
        "| [5, 7, 8, 3]    | 0      |\n",
        "\n",
        "### 입출력 예 설명\n",
        "- 입출력 예 #1\n",
        "    - 모든 원소의 곱은 120, 합의 제곱은 225이므로 1을 return합니다.\n",
        "- 입출력 예 #2\n",
        "    - 모든 원소의 곱은 840, 합의 제곱은 529이므로 0을 return합니다.\n"
      ],
      "metadata": {
        "id": "osNDPQXYJkIS"
      }
    },
    {
      "cell_type": "code",
      "source": [
        "def solution(num_list):\n",
        "    answer = 0\n",
        "    \n",
        "    num_mul = 1\n",
        "    for i in num_list:\n",
        "        num_mul *= i\n",
        "    if num_mul < sum(num_list) ** 2:\n",
        "        answer = 1\n",
        "    else:\n",
        "        answer = 0\n",
        "    \n",
        "    return answer"
      ],
      "metadata": {
        "id": "TCJ2VFKtJv-l"
      },
      "execution_count": null,
      "outputs": []
    },
    {
      "cell_type": "markdown",
      "source": [
        "### ```42.``` 부분 문자열\n",
        "\n",
        "### 문제 설명\n",
        "- 어떤 문자열 A가 다른 문자열 B안에 속하면 A를 B의 부분 문자열이라고 합니다. 예를 들어 문자열 \"abc\"는 문자열 \"aabcc\"의 부분 문자열입니다.\n",
        "- 문자열 str1과 str2가 주어질 때, str1이 str2의 부분 문자열이라면 1을 부분 문자열이 아니라면 0을 return하도록 solution 함수를 완성해주세요.\n",
        "\n",
        "### 제한 사항\n",
        "- 1 ≤ str1 ≤ str2 ≤ 20\n",
        "- str1과 str2는 영어 소문자로만 이루어져 있습니다.\n",
        "\n",
        "### 입출력 예\n",
        "| str1  | str2     | result |\n",
        "|-------|----------|--------|\n",
        "| \"abc\" | \"aabcc\"  | 1      |\n",
        "| \"tbt\" | \"tbbttb\" | 0      |\n",
        "\n",
        "### 입출력 예 설명\n",
        "- 입출력 예 #1\n",
        "    - 본문과 동일합니다.\n",
        "- 입출력 예 #2\n",
        "    - \"tbbttb\"에는 \"tbt\"가 없으므로 0을 return합니다."
      ],
      "metadata": {
        "id": "QndQB9MPKjJK"
      }
    },
    {
      "cell_type": "code",
      "source": [
        "def solution(str1, str2):\n",
        "    answer = 0\n",
        "    \n",
        "    if str1 in str2:\n",
        "        answer = 1\n",
        "    else:\n",
        "        answer = 0\n",
        "    \n",
        "    return answer"
      ],
      "metadata": {
        "id": "MspEHxIFKzLO"
      },
      "execution_count": null,
      "outputs": []
    },
    {
      "cell_type": "markdown",
      "source": [
        "### ```43.``` 수 조작하기 1\n",
        "\n",
        "### 문제 설명\n",
        "- 정수 n과 문자열 control이 주어집니다. control은 \"w\", \"a\", \"s\", \"d\"의 4개의 문자로 이루어져 있으며, control의 앞에서부터 순서대로 문자에 따라 n의 값을 바꿉니다.\n",
        "    - \"w\" : n이 1 커집니다.\n",
        "    - \"s\" : n이 1 작아집니다.\n",
        "    - \"d\" : n이 10 커집니다.\n",
        "    - \"a\" : n이 10 작아집니다.\n",
        "- 위 규칙에 따라 n을 바꿨을 때 가장 마지막에 나오는 n의 값을 return 하는 solution 함수를 완성해 주세요.\n",
        "\n",
        "### 제한사항\n",
        "- -100,000 ≤ n ≤ 100,000\n",
        "- 1 ≤ control의 길이 ≤ 100,000\n",
        "    - control은 알파벳 소문자 \"w\", \"a\", \"s\", \"d\"로 이루어진 문자열입니다.\n",
        "\n",
        "### 입출력 예\n",
        "| n | control       | result |\n",
        "|---|---------------|--------|\n",
        "| 0 | \"wsdawsdassw\" | -1     |\n",
        "\n",
        "### 입출력 예 설명\n",
        "- 입출력 예 #1\n",
        "    - 수 n은 control에 따라 다음과 같은 순서로 변하게 됩니다.\n",
        "    - 0 → 1 → 0 → 10 → 0 → 1 → 0 → 10 → 0 → -1 → -2 → -1\n",
        "    - 따라서 -1을 return 합니다."
      ],
      "metadata": {
        "id": "9xsDCxbwLAIH"
      }
    },
    {
      "cell_type": "code",
      "source": [
        "def solution(n, control):\n",
        "    answer = 0\n",
        "    \n",
        "    for i in list(control):\n",
        "        if i == 'w':\n",
        "            n += 1\n",
        "        elif i == 's':\n",
        "            n -= 1\n",
        "        elif i == 'd':\n",
        "            n += 10\n",
        "        else:\n",
        "            n -= 10\n",
        "    answer = n\n",
        "    \n",
        "    return answer"
      ],
      "metadata": {
        "id": "gNkyfEToLVv0"
      },
      "execution_count": null,
      "outputs": []
    },
    {
      "cell_type": "markdown",
      "source": [
        "### ```44.``` 주사위 게임 1\n",
        "\n",
        "### 문제 설명\n",
        "- 1부터 6까지 숫자가 적힌 주사위가 두 개 있습니다. 두 주사위를 굴렸을 때 나온 눈 숫자를 각각 a, b라고 했을 때 얻는 점수는 다음과 같습니다.\n",
        "    - a와 b가 모두 홀수라면 a2 + b2 점을 얻습니다.\n",
        "    - a와 b 중 하나만 홀수라면 2 × (a + b) 점을 얻습니다.\n",
        "    - a와 b 모두 홀수가 아니라면 |a - b| 점을 얻습니다.\n",
        "- 두 정수 a와 b가 매개변수로 주어질 때, 얻는 점수를 return 하는 solution 함수를 작성해 주세요.\n",
        "\n",
        "### 제한사항\n",
        "- a와 b는 1 이상 6 이하의 정수입니다.\n",
        "\n",
        "### 입출력 예\n",
        "| a | b | result |\n",
        "|---|---|--------|\n",
        "| 3 | 5 | 34     |\n",
        "| 6 | 1 | 14     |\n",
        "| 2 | 4 | 2      |\n",
        "\n",
        "### 입출력 예 설명\n",
        "- 입출력 예 #1\n",
        "    - 예제 1번에서 두 주사위 숫자가 모두 홀수이므로 32 + 52 = 9 + 25 = 34점을 얻습니다. 따라서 34를 return 합니다.\n",
        "- 입출력 예 #2\n",
        "    - 예제 2번에서 두 주사위 숫자 중 하나만 홀수이므로 2 × (6 + 1) = 2 × 7 = 14점을 얻습니다. 따라서 14를 return 합니다.\n",
        "- 입출력 예 #3\n",
        "    - 예제 3번에서 두 주사위 숫자가 모두 홀수가 아니므로 |2 - 4| = |-2| = 2점을 얻습니다. 따라서 2를 return 합니다."
      ],
      "metadata": {
        "id": "o7z9P7kIMje_"
      }
    },
    {
      "cell_type": "code",
      "source": [
        "def solution(a, b):\n",
        "    answer = 0\n",
        "    \n",
        "    if a % 2 != 0 and b % 2 != 0:\n",
        "        answer = (a ** 2) + (b ** 2)\n",
        "    elif a % 2 != 0 or b % 2 != 0:\n",
        "        answer = 2 * (a + b)\n",
        "    else:\n",
        "        answer = abs(a - b)\n",
        "    \n",
        "    return answer"
      ],
      "metadata": {
        "id": "OsIxXsccM4R4"
      },
      "execution_count": null,
      "outputs": []
    },
    {
      "cell_type": "markdown",
      "source": [
        "### ```45.``` n 번째 원소부터\n",
        "\n",
        "### 문제 설명\n",
        "- 정수 리스트 num_list와 정수 n이 주어질 때, n 번째 원소부터 마지막 원소까지의 모든 원소를 담은 리스트를 return하도록 solution 함수를 완성해주세요.\n",
        "\n",
        "### 제한사항\n",
        "- 2 ≤ num_list의 길이 ≤ 30\n",
        "- 1 ≤ num_list의 원소 ≤ 9\n",
        "- 1 ≤ n ≤ num_list의 길이\n",
        "\n",
        "### 입출력 예\n",
        "| num_list        | n | result       |\n",
        "|-----------------|---|--------------|\n",
        "| [2, 1, 6]       | 3 | [6]          |\n",
        "| [5, 2, 1, 7, 5] | 2 | [2, 1, 7, 5] |\n",
        "\n",
        "### 입출력 예 설명\n",
        "- 입출력 예 #1\n",
        "    - [2, 1, 6]의 세 번째 원소부터 마지막 원소까지의 모든 원소는 [6]입니다.\n",
        "- 입출력 예 #2\n",
        "    - [5, 2, 1, 7, 5]의 두 번째 원소부터 마지막 원소까지의 모든 원소는 [2, 1, 7, 5]입니다.\n"
      ],
      "metadata": {
        "id": "IdzmkQ3eN8Hm"
      }
    },
    {
      "cell_type": "code",
      "source": [
        "def solution(num_list, n):\n",
        "    answer = []\n",
        "    \n",
        "    answer = [num_list[i] for i in range(n - 1, len(num_list))]\n",
        "    \n",
        "    return answer"
      ],
      "metadata": {
        "id": "yO-lbWENOPlf"
      },
      "execution_count": null,
      "outputs": []
    },
    {
      "cell_type": "markdown",
      "source": [
        "### ```46.``` rny_string\n",
        "\n",
        "### 문제 설명\n",
        "- 'm'과 \"rn\"이 모양이 비슷하게 생긴 점을 활용해 문자열에 장난을 하려고 합니다. 문자열 rny_string이 주어질 때, rny_string의 모든 'm'을 \"rn\"으로 바꾼 문자열을 return 하는 solution 함수를 작성해 주세요.\n",
        "\n",
        "### 제한사항\n",
        "- 1 ≤ rny_string의 길이 ≤ 100\n",
        "- rny_string은 영소문자로만 이루어져 있습니다.\n",
        "\n",
        "### 입출력 예\n",
        "| rny_string    | result          |\n",
        "|---------------|-----------------|\n",
        "| \"masterpiece\" | \"rnasterpiece\"  |\n",
        "| \"programmers\" | \"prograrnrners\" |\n",
        "| \"jerry\"       | \"jerry\"         |\n",
        "| \"burn\"        | \"burn\"          |\n",
        "\n",
        "### 입출력 예 설명\n",
        "- 입출력 예 #1\n",
        "    - 예제 1번의 rny_string의 'm'을 \"rn\"으로 바꾸는 과정을 표로 나타내면 다음과 같습니다.\n",
        "    \n",
        "| rny_string | m  | a | s | t | e | r | p | i | e | c | e |\n",
        "|------------|----|---|---|---|---|---|---|---|---|---|---|\n",
        "| result     | rn | a | s | t | e | r | p | i | e | c | e |\n",
        "\n",
        "    - 따라서 \"rnasterpiece\"를 return 합니다.\n",
        "- 입출력 예 #2\n",
        "    - 예제 2번의 rny_string의 'm'을 \"rn\"으로 바꾸는 과정을 표로 나타내면 다음과 같습니다.\n",
        "\n",
        "| rny_string | p | r | o | g | r | a | m  | m  | e | r | s |\n",
        "|------------|---|---|---|---|---|---|----|----|---|---|---|\n",
        "| result     | p | r | o | g | r | a | rn | rn | e | r | s |\n",
        "\n",
        "    - 따라서 \"prograrnrners\"를 return 합니다.\n",
        "- 입출력 예 #3\n",
        "    - 예제 3번의 rny_string에는 'm'이 없습니다. 따라서 rny_string 그대로인 \"jerry\"를 return 합니다.\n",
        "- 입출력 예 #4\n",
        "    - 예제 4번의 rny_string에는 'm'이 없습니다. 따라서 rny_string 그대로인 \"burn\"를 return 합니다.\n"
      ],
      "metadata": {
        "id": "66-RBKoVOxbl"
      }
    },
    {
      "cell_type": "code",
      "source": [
        "def solution(rny_string):\n",
        "    answer = ''\n",
        "\n",
        "    for i in list(rny_string):\n",
        "        if i == 'm':\n",
        "            answer += 'rn'\n",
        "        else:\n",
        "            answer += i\n",
        "    \n",
        "    return answer"
      ],
      "metadata": {
        "id": "cflWfV2JP6Hc"
      },
      "execution_count": null,
      "outputs": []
    },
    {
      "cell_type": "markdown",
      "source": [
        "### ```47.``` 뒤에서 5등 위로\n",
        "\n",
        "### 문제 설명\n",
        "- 정수로 이루어진 리스트 num_list가 주어집니다. num_list에서 가장 작은 5개의 수를 제외한 수들을 오름차순으로 담은 리스트를 return하도록 solution 함수를 완성해주세요.\n",
        "\n",
        "### 제한사항\n",
        "- 6 ≤ num_list의 길이 ≤ 30\n",
        "- 1 ≤ num_list의 원소 ≤ 100\n",
        "\n",
        "### 입출력 예\n",
        "| num_list                               | result               |\n",
        "|----------------------------------------|----------------------|\n",
        "| [12, 4, 15, 46, 38, 1, 14, 56, 32, 10] | [15, 32, 38, 46, 56] |\n",
        "\n",
        "### 입출력 예 설명\n",
        "- 입출력 예 #1\n",
        "    - [12, 4, 15, 46, 38, 1, 14, 56, 32, 10]를 정렬하면 [1, 4, 10, 12, 14, 15, 32, 38, 46, 56]이 되고, 앞에서 부터 6번째 이후의 수들을 고르면 [15, 32, 38, 46, 56]가 됩니다."
      ],
      "metadata": {
        "id": "ir9rSRtIQbFW"
      }
    },
    {
      "cell_type": "code",
      "source": [
        "def solution(num_list):\n",
        "    answer = []\n",
        "    \n",
        "    num_list.sort()\n",
        "    answer = num_list[5:]\n",
        "    \n",
        "    return answer"
      ],
      "metadata": {
        "id": "9Dbprbm6QopO"
      },
      "execution_count": null,
      "outputs": []
    },
    {
      "cell_type": "markdown",
      "source": [
        "### ```48.``` 이어 붙인 수\n",
        "\n",
        "### 문제 설명\n",
        "- 정수가 담긴 리스트 num_list가 주어집니다. num_list의 홀수만 순서대로 이어 붙인 수와 짝수만 순서대로 이어 붙인 수의 합을 return하도록 solution 함수를 완성해주세요.\n",
        "\n",
        "### 제한사항\n",
        "- 2 ≤ num_list의 길이 ≤ 10\n",
        "- 1 ≤ num_list의 원소 ≤ 9\n",
        "- num_list에는 적어도 한 개씩의 짝수와 홀수가 있습니다.\n",
        "\n",
        "### 입출력 예\n",
        "| num_list        | result |\n",
        "|-----------------|--------|\n",
        "| [3, 4, 5, 2, 1] | 393    |\n",
        "| [5, 7, 8, 3]    | 581    |\n",
        "\n",
        "### 입출력 예 설명\n",
        "- 입출력 예 #1\n",
        "    - 홀수만 이어 붙인 수는 351이고 짝수만 이어 붙인 수는 42입니다. 두 수의 합은 393입니다.\n",
        "- 입출력 예 #2\n",
        "    - 홀수만 이어 붙인 수는 573이고 짝수만 이어 붙인 수는 8입니다. 두 수의 합은 581입니다.\n"
      ],
      "metadata": {
        "id": "zsiVKBgHRjch"
      }
    },
    {
      "cell_type": "code",
      "source": [
        "def solution(num_list):\n",
        "    answer = 0\n",
        "    \n",
        "    even = ''\n",
        "    odd = ''\n",
        "    for i in num_list:\n",
        "        if i % 2 == 0:\n",
        "            even += str(i)\n",
        "        else:\n",
        "            odd += str(i)\n",
        "    answer = int(even) + int(odd)\n",
        "    \n",
        "    return answer"
      ],
      "metadata": {
        "id": "ESJn66y2Rw2Y"
      },
      "execution_count": null,
      "outputs": []
    },
    {
      "cell_type": "markdown",
      "source": [
        "### ```49.``` 원하는 문자열 찾기\n",
        "\n",
        "### 문제 설명\n",
        "- 알파벳으로 이루어진 문자열 myString과 pat이 주어집니다. myString의 연속된 부분 문자열 중 pat이 존재하면 1을 그렇지 않으면 0을 return 하는 solution 함수를 완성해 주세요.\n",
        "- 단, 알파벳 대문자와 소문자는 구분하지 않습니다.\n",
        "\n",
        "### 제한사항\n",
        "- 1 ≤ myString의 길이 ≤ 100,000\n",
        "- 1 ≤ pat의 길이 ≤ 30\n",
        "- myString과 pat은 모두 알파벳으로 이루어진 문자열입니다.\n",
        "\n",
        "### 입출력 예\n",
        "| myString  | pat     | return |\n",
        "|-----------|---------|--------|\n",
        "| \"AbCdEfG\" | \"aBc\"   | 1      |\n",
        "| \"aaAA\"    | \"aaaaa\" | 0      |\n",
        "\n",
        "### 입출력 예 설명\n",
        "- 입출력 예 #1\n",
        "    - \"AbCdEfG\"의 0~2번 인덱스의 문자열은 \"AbC\"이며, 이는 pat인 \"aBc\"와 같습니다. 따라서 1을 return 합니다.\n",
        "- 입출력 예 #2\n",
        "    - myString의 길이가 pat보다 더 짧기 때문에 myString의 부분 문자열 중 pat와 같은 문자열이 있을 수 없습니다. 따라서 0을 return 합니다."
      ],
      "metadata": {
        "id": "MClN_MqCSins"
      }
    },
    {
      "cell_type": "code",
      "source": [
        "def solution(myString, pat):\n",
        "    answer = 0\n",
        "    \n",
        "    if pat.lower() in myString.lower():\n",
        "        answer = 1\n",
        "    \n",
        "    return answer"
      ],
      "metadata": {
        "id": "UdlqGFAqTExu"
      },
      "execution_count": null,
      "outputs": []
    },
    {
      "cell_type": "markdown",
      "source": [
        "### ```50.``` 문자열 붙여서 출력하기\n",
        "\n",
        "### 문제 설명\n",
        "- 두 개의 문자열 str1, str2가 공백으로 구분되어 입력으로 주어집니다.\n",
        "- 입출력 예와 같이 str1과 str2을 이어서 출력하는 코드를 작성해 보세요.\n",
        "\n",
        "### 제한사항\n",
        "- 1 ≤ str1, str2의 길이 ≤ 10\n",
        "\n",
        "### 입출력 예\n",
        "- 입력 #1\n",
        "    - ```apple pen```\n",
        "- 출력 #1\n",
        "    - ```applepen```\n",
        "- 입력 #2\n",
        "    - ```Hello World!```\n",
        "- 출력 #2\n",
        "    - ```HelloWorld!```\n"
      ],
      "metadata": {
        "id": "9sO-dfPMTfvj"
      }
    },
    {
      "cell_type": "code",
      "source": [
        "str1, str2 = input().strip().split(' ')\n",
        "print(str1 + str2)"
      ],
      "metadata": {
        "id": "M7S0Zdd0Tz9X"
      },
      "execution_count": null,
      "outputs": []
    },
    {
      "cell_type": "markdown",
      "source": [
        "## 23년 05월 14일"
      ],
      "metadata": {
        "id": "VpUlCm53CFdD"
      }
    },
    {
      "cell_type": "markdown",
      "source": [
        "### ```51.``` 배열 만들기 1\n",
        "\n",
        "### 문제 설명\n",
        "- 정수 n과 k가 주어졌을 때, 1 이상 n이하의 정수 중에서 k의 배수를 오름차순으로 저장한 배열을 return 하는 solution 함수를 완성해 주세요.\n",
        "\n",
        "### 제한사항\n",
        "- 1 ≤ n ≤ 1,000,000\n",
        "- 1 ≤ k ≤ min(1,000, n)\n",
        "\n",
        "### 입출력 예\n",
        "| n  | k | result      |\n",
        "|----|---|-------------|\n",
        "| 10 | 3 | [3, 6, 9]   |\n",
        "| 15 | 5 | [5, 10, 15] |\n",
        "\n",
        "### 입출력 예 설명\n",
        "- 입출력 예 #1\n",
        "    - 1 이상 10 이하의 3의 배수는 3, 6, 9 이므로 [3, 6, 9]를 return 합니다.\n",
        "- 입출력 예 #2\n",
        "    - 1 이상 15 이하의 5의 배수는 5, 10, 15 이므로 [5, 10, 15]를 return 합니다."
      ],
      "metadata": {
        "id": "BYa3hMeHCHFP"
      }
    },
    {
      "cell_type": "code",
      "source": [
        "def solution(n, k):\n",
        "    answer = []\n",
        "    \n",
        "    answer = [i for i in range(1, n + 1) if i % k == 0]\n",
        "    \n",
        "    return answer"
      ],
      "metadata": {
        "id": "rvZKXuSJCYIw"
      },
      "execution_count": null,
      "outputs": []
    },
    {
      "cell_type": "markdown",
      "source": [
        "### ```52.``` 홀짝 구분하기\n",
        "\n",
        "### 문제 설명\n",
        "- 자연수 n이 입력으로 주어졌을 때 만약 n이 짝수이면 \"n is even\"을, 홀수이면 \"n is odd.\"를 출력하는 코드를 작성해 보세요.\n",
        "\n",
        "### 제한사항\n",
        "- 1 ≤ n ≤ 1,000\n",
        "\n",
        "### 입출력 예\n",
        "- 입력 #1\n",
        "    - 100\n",
        "- 출력 #1\n",
        "    - 100 is even\n",
        "- 입력 #2\n",
        "    - 1\n",
        "- 출력 #2\n",
        "    - 1 is odd\n"
      ],
      "metadata": {
        "id": "ujBuAP0BCzkI"
      }
    },
    {
      "cell_type": "code",
      "source": [
        "a = int(input())\n",
        "if a % 2 == 0:\n",
        "    print(f'{a} is even')\n",
        "else:\n",
        "    print(f'{a} is odd')"
      ],
      "metadata": {
        "id": "9I507FB0DMml"
      },
      "execution_count": null,
      "outputs": []
    },
    {
      "cell_type": "markdown",
      "source": [
        "### ```53.``` n개 간격의 원소들\n",
        "\n",
        "### 문제 설명\n",
        "- 정수 리스트 num_list와 정수 n이 주어질 때, num_list의 첫 번째 원소부터 마지막 원소까지 n개 간격으로 저장되어있는 원소들을 차례로 담은 리스트를 return하도록 solution 함수를 완성해주세요.\n",
        "\n",
        "### 제한사항\n",
        "- 5 ≤ num_list의 길이 ≤ 20\n",
        "- 1 ≤ num_list의 원소 ≤ 9\n",
        "- 1 ≤ n ≤ 4\n",
        "\n",
        "### 입출력 예\n",
        "| num_list           | n | result    |\n",
        "|--------------------|---|-----------|\n",
        "| [4, 2, 6, 1, 7, 6] | 2 | [4, 6, 7] |\n",
        "| [4, 2, 6, 1, 7, 6] | 4 | [4, 7]    |\n",
        "\n",
        "### 입출력 예 설명\n",
        "- 입출력 예 #1\n",
        "    - [4, 2, 6, 1, 7, 6]에서 2개 간격으로 저장되어 있는 원소들은 [4, 6, 7]입니다.\n",
        "- 입출력 예 #2\n",
        "    - [4, 2, 6, 1, 7, 6]에서 4개 간격으로 저장되어 있는 원소들은 [4, 7]입니다."
      ],
      "metadata": {
        "id": "7e7ytP9QDcOK"
      }
    },
    {
      "cell_type": "code",
      "source": [
        "def solution(num_list, n):\n",
        "    answer = []\n",
        "    \n",
        "    answer = num_list[::n]\n",
        "    \n",
        "    return answer"
      ],
      "metadata": {
        "id": "X5CZsNqNDq8q"
      },
      "execution_count": null,
      "outputs": []
    },
    {
      "cell_type": "markdown",
      "source": [
        "### ```54.``` 특정한 문자를 대문자로 바꾸기\n",
        "\n",
        "### 문제 설명\n",
        "- 영소문자로 이루어진 문자열 my_string과 영소문자 1글자로 이루어진 문자열 alp가 매개변수로 주어질 때, my_string에서 alp에 해당하는 모든 글자를 대문자로 바꾼 문자열을 return 하는 solution 함수를 작성해 주세요.\n",
        "\n",
        "### 제한사항\n",
        "- 1 ≤ my_string의 길이 ≤ 1,000\n",
        "\n",
        "### 입출력 예\n",
        "| my_string     | alp | result        |\n",
        "|---------------|-----|---------------|\n",
        "| \"programmers\" | \"p\" | \"Programmers\" |\n",
        "| \"lowercase\"   | \"x\" | \"lowercase\"   |\n",
        "\n",
        "### 입출력 예 설명\n",
        "- 입출력 예 #1\n",
        "    - 예제 1번의 my_string은 \"programmers\"이고 alp가 \"p\"이므로 my_string에 모든 p를 대문자인 P로 바꾼 문자열 \"Programmers\"를 return 합니다.\n",
        "- 입출력 예 #2\n",
        "    - 예제 2번의 alp는 \"x\"이고 my_string에 x는 없습니다. 따라서 \"lowercase\"를 return 합니다."
      ],
      "metadata": {
        "id": "ZC4zHf_mD3-r"
      }
    },
    {
      "cell_type": "code",
      "source": [
        "def solution(my_string, alp):\n",
        "    answer = ''\n",
        "    \n",
        "    for i in list(my_string):\n",
        "        if i == alp:\n",
        "            answer += i.upper()\n",
        "        else:\n",
        "            answer += i\n",
        "    \n",
        "    return answer"
      ],
      "metadata": {
        "id": "4TQjeBJxEEJJ"
      },
      "execution_count": null,
      "outputs": []
    },
    {
      "cell_type": "markdown",
      "source": [
        "### ```55.``` 배열에서 문자열 대소문자 변환하기\n",
        "\n",
        "### 문제 설명\n",
        "- 문자열 배열 strArr가 주어집니다. 모든 원소가 알파벳으로만 이루어져 있을 때, 배열에서 홀수번째 인덱스의 문자열은 모든 문자를 대문자로, 짝수번째 인덱스의 문자열은 모든 문자를 소문자로 바꿔서 반환하는 solution 함수를 완성해 주세요.\n",
        "\n",
        "### 제한사항\n",
        "- 1 ≤ strArr ≤ 20\n",
        "    - 1 ≤ strArr의 원소의 길이 ≤ 20\n",
        "    - strArr의 모든 원소는 알파벳 소문자로 이루어져 있습니다.\n",
        "\n",
        "### 입출력 예\n",
        "| strArr                    | result                    |\n",
        "|---------------------------|---------------------------|\n",
        "| [\"AAA\",\"BBB\",\"CCC\",\"DDD\"] | [\"aaa\",\"BBB\",\"ccc\",\"DDD\"] |\n",
        "| [\"aBc\",\"AbC\"]             | [\"abc\",\"ABC\"]             |\n",
        "\n",
        "### 입출력 예 설명\n",
        "- 입출력 예 #1\n",
        "    - strArr[0]과 strArr[2]는 짝수번째 인덱스의 문자열이므로 모두 소문자로 바꿔서 \"aaa\"와 \"ccc\"가 됩니다.\n",
        "    - strArr[1]과 strArr[3]는 홀수번째 인덱스의 문자열인데 원래 대문자이므로 그대로 둡니다.\n",
        "    - 따라서 [\"aaa\",\"BBB\",\"ccc\",\"DDD\"]를 return 합니다.\n",
        "- 입출력 예 #2\n",
        "    - strArr[0]은 짝수번째 인덱스의 문자열이므로 소문자로 바꿔서 \"abc\"가 됩니다.\n",
        "    - strArr[1]은 홀수번째 인덱스의 문자열이므로 대문자로 바꿔서 \"ABC\"가 됩니다.\n",
        "    - 따라서 [\"abc\",\"ABC\"]를 return 합니다."
      ],
      "metadata": {
        "id": "_UkizaCDFqYf"
      }
    },
    {
      "cell_type": "code",
      "source": [
        "def solution(strArr):\n",
        "    answer = []\n",
        "    \n",
        "    for i in range(0, len(strArr)):\n",
        "        if i % 2 == 0:\n",
        "            answer.append(strArr[i].lower())\n",
        "        else:\n",
        "            answer.append(strArr[i].upper())\n",
        "    \n",
        "    return answer"
      ],
      "metadata": {
        "id": "9JFb6zE5GILL"
      },
      "execution_count": null,
      "outputs": []
    },
    {
      "cell_type": "markdown",
      "source": [
        "### ```56.``` 문자열 바꿔서 찾기\n",
        "\n",
        "### 문제 설명\n",
        "- 문자 \"A\"와 \"B\"로 이루어진 문자열 myString과 pat가 주어집니다. myString의 \"A\"를 \"B\"로, \"B\"를 \"A\"로 바꾼 문자열의 연속하는 부분 문자열 중 pat이 있으면 1을 아니면 0을 return 하는 solution 함수를 완성하세요.\n",
        "\n",
        "### 제한사항\n",
        "- 1 ≤ myString ≤ 100\n",
        "- 1 ≤ pat ≤ 10\n",
        "    - myString과 pat는 문자 \"A\"와 \"B\"로만 이루어진 문자열입니다.\n",
        "\n",
        "### 입출력 예\n",
        "| myString | pat    | result |\n",
        "|----------|--------|--------|\n",
        "| \"ABBAA\"  | \"AABB\" | 1      |\n",
        "| \"ABAB\"   | \"ABAB\" | 0      |\n",
        "\n",
        "### 입출력 예 설명\n",
        "- 입출력 예 #1\n",
        "    - \"ABBAA\"에서 \"A\"와 \"B\"를 서로 바꾸면 \"BAABB\"입니다. 여기에는 부분문자열 \"AABB\"가 있기 때문에 1을 return 합니다.\n",
        "- 입출력 예 #2\n",
        "    - \"ABAB\"에서 \"A\"와 \"B\"를 서로 바꾸면 \"BABA\"입니다. 여기에는 부분문자열 \"BABA\"가 없기 때문에 0을 return 합니다.\n"
      ],
      "metadata": {
        "id": "BrP3fPl7JC3-"
      }
    },
    {
      "cell_type": "code",
      "source": [
        "def solution(myString, pat):\n",
        "    answer = 0\n",
        "    \n",
        "    myStringList = list(myString)\n",
        "    myString = ''\n",
        "    for i in range(0, len(myStringList)):\n",
        "        if myStringList[i] == 'A':\n",
        "            myString += 'B'\n",
        "        else:\n",
        "            myString += 'A'\n",
        "    if pat in myString:\n",
        "        answer = 1\n",
        "    else:\n",
        "        answer = 0\n",
        "    \n",
        "    return answer"
      ],
      "metadata": {
        "id": "xy6mMLeFJUGD"
      },
      "execution_count": null,
      "outputs": []
    },
    {
      "cell_type": "markdown",
      "source": [
        "### ```57.``` 뒤에서 5등까지\n",
        "\n",
        "### 문제 설명\n",
        "- 정수로 이루어진 리스트 num_list가 주어집니다. num_list에서 가장 작은 5개의 수를 오름차순으로 담은 리스트를 return하도록 solution 함수를 완성해주세요.\n",
        "\n",
        "### 제한사항\n",
        "- 6 ≤ num_list의 길이 ≤ 30\n",
        "- 1 ≤ num_list의 원소 ≤ 100\n",
        "\n",
        "### 입출력 예\n",
        "| num_list                   | result             |\n",
        "|----------------------------|--------------------|\n",
        "| [12, 4, 15, 46, 38, 1, 14] | [1, 4, 12, 14, 15] |\n",
        "\n",
        "### 입출력 예 설명\n",
        "- 입출력 예 #1\n",
        "    - [12, 4, 15, 46, 38, 1, 14]를 정렬하면 [1, 4, 12, 14, 15, 38, 46]이 되고, 앞에서 부터 5개를 고르면 [1, 4, 12, 14, 15]가 됩니다.\n"
      ],
      "metadata": {
        "id": "zt8R7Bu5Kg6g"
      }
    },
    {
      "cell_type": "code",
      "source": [
        "def solution(num_list):\n",
        "    answer = []\n",
        "    \n",
        "    answer = sorted(num_list)[:5]\n",
        "    \n",
        "    return answer"
      ],
      "metadata": {
        "id": "cftASI1mKscX"
      },
      "execution_count": null,
      "outputs": []
    },
    {
      "cell_type": "markdown",
      "source": [
        "### ```58.``` 더 크게 합치기\n",
        "\n",
        "### 문제 설명\n",
        "- 연산 ⊕는 두 정수에 대한 연산으로 두 정수를 붙여서 쓴 값을 반환합니다. 예를 들면 다음과 같습니다.\n",
        "    - 12 ⊕ 3 = 123\n",
        "    - 3 ⊕ 12 = 312\n",
        "- 양의 정수 a와 b가 주어졌을 때, a ⊕ b와 b ⊕ a 중 더 큰 값을 return 하는 solution 함수를 완성해 주세요.\n",
        "- 단, a ⊕ b와 b ⊕ a가 같다면 a ⊕ b를 return 합니다.\n",
        "\n",
        "### 제한사항\n",
        "- 1 ≤ a, b < 10,000\n",
        "\n",
        "### 입출력 예\n",
        "| a  | b  | result |\n",
        "|----|----|--------|\n",
        "| 9  | 91 | 991    |\n",
        "| 89 | 8  | 898    |\n",
        "\n",
        "### 입출력 예 설명\n",
        "- 입출력 예 #1\n",
        "    - a ⊕ b = 991 이고, b ⊕ a = 919 입니다. 둘 중 더 큰 값은 991 이므로 991을 return 합니다.\n",
        "- 입출력 예 #2\n",
        "    - a ⊕ b = 898 이고, b ⊕ a = 889 입니다. 둘 중 더 큰 값은 898 이므로 898을 return 합니다."
      ],
      "metadata": {
        "id": "E2k5z-BzK8CL"
      }
    },
    {
      "cell_type": "code",
      "source": [
        "def solution(a, b):\n",
        "    answer = 0\n",
        "    \n",
        "    if int(str(a) + str(b)) > int(str(b) + str(a)):\n",
        "        answer = int(str(a) + str(b))\n",
        "    else:\n",
        "        answer = int(str(b) + str(a))\n",
        "    \n",
        "    return answer"
      ],
      "metadata": {
        "id": "xDBoI1D2LM2-"
      },
      "execution_count": null,
      "outputs": []
    },
    {
      "cell_type": "markdown",
      "source": [
        "### ```59.``` 조건에 맞게 수열 변환하기 1\n",
        "\n",
        "### 문제 설명\n",
        "- 정수 배열 arr가 주어집니다. arr의 각 원소에 대해 값이 50보다 크거나 같은 짝수라면 2로 나누고, 50보다 작은 홀수라면 2를 곱합니다. 그 결과인 정수 배열을 return 하는 solution 함수를 완성해 주세요.\n",
        "\n",
        "### 제한사항\n",
        "- 1 ≤ arr의 길이 ≤ 1,000,000\n",
        "- 1 ≤ arr의 원소의 값 ≤ 100\n",
        "\n",
        "### 입출력 예\n",
        "| arr                    | result                |\n",
        "|------------------------|-----------------------|\n",
        "| [1, 2, 3, 100, 99, 98] | [2, 2, 6, 50, 99, 49] |\n",
        "\n",
        "### 입출력 예 설명\n",
        "- 입출력 예 #1\n",
        "    - 1, 3은 50 미만의 홀수 이므로 2를 곱하고, 100, 98은 50 이상의 짝수이므로 2로 나눕니다.\n",
        "    - 나머지 값들은 변경 조건에 해당하지 않으므로 바꾸지 않습니다.\n",
        "    - 따라서 [2, 2, 6, 50, 99, 49]를 return 합니다."
      ],
      "metadata": {
        "id": "HMr4kaNULnqx"
      }
    },
    {
      "cell_type": "code",
      "source": [
        "def solution(arr):\n",
        "    answer = []\n",
        "    \n",
        "    for i in arr:\n",
        "        if i >= 50 and i % 2 == 0:\n",
        "            answer.append(i / 2)\n",
        "        elif i < 50 and i % 2 != 0:\n",
        "            answer.append(i * 2)\n",
        "        else:\n",
        "            answer.append(i)\n",
        "    \n",
        "    return answer"
      ],
      "metadata": {
        "id": "2fbDl5hWL4Ge"
      },
      "execution_count": null,
      "outputs": []
    },
    {
      "cell_type": "markdown",
      "source": [
        "### ```60.``` 접두사인지 확인하기\n",
        "\n",
        "### 문제 설명\n",
        "- 어떤 문자열에 대해서 접두사는 특정 인덱스까지의 문자열을 의미합니다. 예를 들어, \"banana\"의 모든 접두사는 \"b\", \"ba\", \"ban\", \"bana\", \"banan\", \"banana\"입니다.\n",
        "- 문자열 my_string과 is_prefix가 주어질 때, is_prefix가 my_string의 접두사라면 1을, 아니면 0을 return 하는 solution 함수를 작성해 주세요.\n",
        "\n",
        "### 제한사항\n",
        "- 1 ≤ my_string의 길이 ≤ 100\n",
        "- 1 ≤ is_prefix의 길이 ≤ 100\n",
        "- my_string과 is_prefix는 영소문자로만 이루어져 있습니다.\n",
        "\n",
        "### 입출력 예\n",
        "| my_string | is_prefix | result |\n",
        "|-----------|-----------|--------|\n",
        "| \"banana\"  | \"ban\"     | 1      |\n",
        "| \"banana\"  | \"nan\"     | 0      |\n",
        "| \"banana\"  | \"abcd\"    | 0      |\n",
        "| \"banana\"  | \"bananan\" | 0      |\n",
        "\n",
        "### 입출력 예 설명\n",
        "- 입출력 예 #1\n",
        "    - 예제 1번에서 is_prefix가 my_string의 접두사이기 때문에 1을 return 합니다.\n",
        "- 입출력 예 #2\n",
        "    - 예제 2번에서 is_prefix가 my_string의 접두사가 아니기 때문에 0을 return 합니다.\n",
        "- 입출력 예 #3\n",
        "    - 예제 3번에서 is_prefix가 my_string의 접두사가 아니기 때문에 0을 return 합니다.\n",
        "- 입출력 예 #4\n",
        "    - 예제 4번에서 is_prefix가 my_string의 접두사가 아니기 때문에 0을 return 합니다."
      ],
      "metadata": {
        "id": "O5sA392fNQAR"
      }
    },
    {
      "cell_type": "code",
      "source": [
        "def solution(my_string, is_prefix):\n",
        "    answer = 0\n",
        "    \n",
        "    for i in range(0, len(my_string)):\n",
        "        if is_prefix == my_string[0:i]:\n",
        "            answer = 1\n",
        "            return answer\n",
        "    \n",
        "    return answer"
      ],
      "metadata": {
        "id": "G5ELVnDUNh6C"
      },
      "execution_count": null,
      "outputs": []
    },
    {
      "cell_type": "markdown",
      "source": [
        "## 23년 05월 15일"
      ],
      "metadata": {
        "id": "wHyhwk9lVpMF"
      }
    },
    {
      "cell_type": "markdown",
      "source": [
        "### ```61.``` 점의 위치 구하기\n",
        "\n",
        "### 문제 설명\n",
        "- 사분면은 한 평면을 x축과 y축을 기준으로 나눈 네 부분입니다. 사분면은 아래와 같이 1부터 4까지 번호를매깁니다.\n",
        "![사진](https://grepp-programmers.s3.ap-northeast-2.amazonaws.com/files/production/b58d4788-42fa-44fa-af50-481907e65473/%E1%84%89%E1%85%B3%E1%84%8F%E1%85%B3%E1%84%85%E1%85%B5%E1%86%AB%E1%84%89%E1%85%A3%E1%86%BA%202022-07-07%20%E1%84%8B%E1%85%A9%E1%84%92%E1%85%AE%203.27.04%20%E1%84%87%E1%85%A9%E1%86%A8%E1%84%89%E1%85%A1%E1%84%87%E1%85%A9%E1%86%AB.png)\n",
        "    - x 좌표와 y 좌표가 모두 양수이면 제1사분면에 속합니다.\n",
        "    - x 좌표가 음수, y 좌표가 양수이면 제2사분면에 속합니다.\n",
        "    - x 좌표와 y 좌표가 모두 음수이면 제3사분면에 속합니다.\n",
        "    - x 좌표가 양수, y 좌표가 음수이면 제4사분면에 속합니다.\n",
        "- x 좌표 (x, y)를 차례대로 담은 정수 배열 dot이 매개변수로 주어집니다. 좌표 dot이 사분면 중 어디에 속하는지 1, 2, 3, 4 중 하나를 return 하도록 solution 함수를 완성해주세요.\n",
        "\n",
        "### 제한사항\n",
        "- dot의 길이 = 2\n",
        "- dot[0]은 x좌표를, dot[1]은 y좌표를 나타냅니다\n",
        "- -500 ≤ dot의 원소 ≤ 500\n",
        "- dot의 원소는 0이 아닙니다.\n",
        "\n",
        "### 입출력 예\n",
        "| dot     | result |\n",
        "|---------|--------|\n",
        "| [2, 4]  | 1      |\n",
        "| [-7, 9] | 2      |\n",
        "\n",
        "### 입출력 예 설명\n",
        "- 입출력 예 #1\n",
        "    - dot이 [2, 4]로 x 좌표와 y 좌표 모두 양수이므로 제 1 사분면에 속합니다. 따라서 1을 return 합니다.\n",
        "- 입출력 예 #2\n",
        "    - dot이 [-7, 9]로 x 좌표가 음수, y 좌표가 양수이므로 제 2 사분면에 속합니다. 따라서 2를 return 합니다.\n"
      ],
      "metadata": {
        "id": "Q2raqnnpVs2p"
      }
    },
    {
      "cell_type": "code",
      "source": [
        "def solution(dot):\n",
        "    answer = 0\n",
        "    \n",
        "    if dot[0] > 0 and dot[1] > 0:\n",
        "        answer = 1\n",
        "    elif dot[0] < 0 and dot[1] > 0:\n",
        "        answer = 2\n",
        "    elif dot[0] < 0 and dot[1] < 0:\n",
        "        answer = 3\n",
        "    elif dot[0] > 0 and dot[1] < 0:\n",
        "        answer = 4\n",
        "    \n",
        "    return answer"
      ],
      "metadata": {
        "id": "SGgKwpoEVq0m"
      },
      "execution_count": null,
      "outputs": []
    },
    {
      "cell_type": "markdown",
      "source": [
        "### ```62.``` 편지\n",
        "\n",
        "### 문제 설명\n",
        "- 머쓱이는 할머니께 생신 축하 편지를 쓰려고 합니다. 할머니가 보시기 편하도록 글자 한 자 한 자를 가로 2cm 크기로 적으려고 하며, 편지를 가로로만 적을 때, 축하 문구 message를 적기 위해 필요한 편지지의 최소 가로길이를 return 하도록 solution 함수를 완성해주세요.\n",
        "\n",
        "### 제한사항\n",
        "- 공백도 하나의 문자로 취급합니다.\n",
        "- 1 ≤ message의 길이 ≤ 50\n",
        "- 편지지의 여백은 생각하지 않습니다.\n",
        "- message는 영문 알파벳 대소문자, ‘!’, ‘~’ 또는 공백으로만 이루어져 있습니다.\n",
        "\n",
        "### 입출력 예\n",
        "| message           | result |\n",
        "|-------------------|--------|\n",
        "| \"happy birthday!\" | 30     |\n",
        "| \"I love you~\"     | 22     |\n",
        "\n",
        "### 입출력 예 설명\n",
        "- 입출력 예 #1\n",
        "    - message의 글자 수가 15개로 최소 가로 30cm의 편지지가 필요합니다.\n",
        "- 입출력 예 #2\n",
        "    - message의 글자 수가 11개로 최소 가로 22cm의 편지지가 필요합니다."
      ],
      "metadata": {
        "id": "bmVXiDM2Wu4e"
      }
    },
    {
      "cell_type": "code",
      "source": [
        "def solution(message):\n",
        "    answer = 0\n",
        "    \n",
        "    answer = 2 * len(message)\n",
        "    \n",
        "    return answer"
      ],
      "metadata": {
        "id": "JTMPQ3UpXCzh"
      },
      "execution_count": null,
      "outputs": []
    },
    {
      "cell_type": "markdown",
      "source": [
        "### ```63.``` 특정 문자 제거하기\n",
        "\n",
        "### 문제 설명\n",
        "- 문자열 my_string과 문자 letter이 매개변수로 주어집니다. my_string에서 letter를 제거한 문자열을 return하도록 solution 함수를 완성해주세요.\n",
        "\n",
        "### 제한사항\n",
        "- 1 ≤ my_string의 길이 ≤ 100\n",
        "- letter은 길이가 1인 영문자입니다.\n",
        "- my_string과 letter은 알파벳 대소문자로 이루어져 있습니다.\n",
        "- 대문자와 소문자를 구분합니다.\n",
        "\n",
        "### 입출력 예\n",
        "| my_string | letter | result  |\n",
        "|-----------|--------|---------|\n",
        "| \"abcdef\"  | \"f\"    | \"abcde\" |\n",
        "| \"BCBdbe\"  | \"B\"    | \"Cdbe\"  |\n",
        "\n",
        "### 입출력 예 설명\n",
        "- 입출력 예 #1\n",
        "    - \"abcdef\" 에서 \"f\"를 제거한 \"abcde\"를 return합니다.\n",
        "- 입출력 예 #2\n",
        "    - \"BCBdbe\" 에서 \"B\"를 모두 제거한 \"Cdbe\"를 return합니다."
      ],
      "metadata": {
        "id": "vNP2ONL5XQmO"
      }
    },
    {
      "cell_type": "code",
      "source": [
        "def solution(my_string, letter):\n",
        "    answer = ''\n",
        "    \n",
        "    answer = my_string.replace(letter, '')\n",
        "    \n",
        "    return answer"
      ],
      "metadata": {
        "id": "dVJu6fzKXecR"
      },
      "execution_count": null,
      "outputs": []
    },
    {
      "cell_type": "markdown",
      "source": [
        "### ```64.``` 중앙값 구하기\n",
        "\n",
        "### 문제 설명\n",
        "- 중앙값은 어떤 주어진 값들을 크기의 순서대로 정렬했을 때 가장 중앙에 위치하는 값을 의미합니다. 예를 들어 1, 2, 7, 10, 11의 중앙값은 7입니다. 정수 배열 array가 매개변수로 주어질 때, 중앙값을 return 하도록 solution 함수를 완성해보세요.\n",
        "\n",
        "### 제한사항\n",
        "- array의 길이는 홀수입니다.\n",
        "- 0 < array의 길이 < 100\n",
        "- -1,000 < array의 원소 < 1,000\n",
        "\n",
        "### 입출력 예\n",
        "| array             | result |\n",
        "|-------------------|--------|\n",
        "| [1, 2, 7, 10, 11] | 7      |\n",
        "| [9, -1, 0]        | 0      |\n",
        "\n",
        "### 입출력 예 설명\n",
        "- 입출력 예 #1\n",
        "    - 본문과 동일합니다.\n",
        "- 입출력 예 #2\n",
        "    - 9, -1, 0을 오름차순 정렬하면 -1, 0, 9이고 가장 중앙에 위치하는 값은 0입니다.\n"
      ],
      "metadata": {
        "id": "YuEUx7g9X9qc"
      }
    },
    {
      "cell_type": "code",
      "source": [
        "def solution(array):\n",
        "    answer = 0\n",
        "    \n",
        "    answer = sorted(array)[len(array) // 2]\n",
        "    \n",
        "    return answer"
      ],
      "metadata": {
        "id": "uPMgKuBIX9iM"
      },
      "execution_count": null,
      "outputs": []
    },
    {
      "cell_type": "markdown",
      "source": [
        "### ```65.``` 중복된 숫자 개수\n",
        "\n",
        "### 문제 설명\n",
        "- 정수가 담긴 배열 array와 정수 n이 매개변수로 주어질 때, array에 n이 몇 개 있는 지를 return 하도록 solution 함수를 완성해보세요.\n",
        "\n",
        "### 제한사항\n",
        "- 1 ≤ array의 길이 ≤ 100\n",
        "- 0 ≤ array의 원소 ≤ 1,000\n",
        "- 0 ≤ n ≤ 1,000\n",
        "\n",
        "### 입출력 예\n",
        "| array              | n | result |\n",
        "|--------------------|---|--------|\n",
        "| [1, 1, 2, 3, 4, 5] | 1 | 2      |\n",
        "| [0, 2, 3, 4]       | 1 | 0      |\n",
        "\n",
        "### 입출력 예 설명\n",
        "- 입출력 예 #1\n",
        "    - [1, 1, 2, 3, 4, 5] 에는 1이 2개 있습니다.\n",
        "- 입출력 예 #2\n",
        "    - [0, 2, 3, 4] 에는 1이 0개 있습니다."
      ],
      "metadata": {
        "id": "xJ9DANnVYrc-"
      }
    },
    {
      "cell_type": "code",
      "source": [
        "def solution(array, n):\n",
        "    answer = 0\n",
        "    \n",
        "    for i in array:\n",
        "        if i == n:\n",
        "            answer += 1\n",
        "    \n",
        "    return answer"
      ],
      "metadata": {
        "id": "7Fb0O-OsbKO7"
      },
      "execution_count": null,
      "outputs": []
    },
    {
      "cell_type": "markdown",
      "source": [
        "## 23년 05월 16일"
      ],
      "metadata": {
        "id": "q6ULaQhRt35i"
      }
    },
    {
      "cell_type": "markdown",
      "source": [
        "### ```66.``` 피자 나눠 먹기 (3)\n",
        "\n",
        "### 문제 설명\n",
        "- 머쓱이네 피자가게는 피자를 두 조각에서 열 조각까지 원하는 조각 수로 잘라줍니다. 피자 조각 수 slice와 피자를 먹는 사람의 수 n이 매개변수로 주어질 때, n명의 사람이 최소 한 조각 이상 피자를 먹으려면 최소 몇 판의 피자를 시켜야 하는지를 return 하도록 solution 함수를 완성해보세요.\n",
        "\n",
        "### 제한사항\n",
        "- 2 ≤ slice ≤ 10\n",
        "- 1 ≤ n ≤ 100\n",
        "\n",
        "### 입출력 예\n",
        "| slice | n  | result |\n",
        "|-------|----|--------|\n",
        "| 7     | 10 | 2      |\n",
        "| 4     | 12 | 3      |\n",
        "\n",
        "### 입출력 예 설명\n",
        "- 입출력 예 #1\n",
        "    - 10명이 7조각으로 자른 피자를 한 조각 이상씩 먹으려면 최소 2판을 시켜야 합니다.\n",
        "- 입출력 예 #2\n",
        "    - 12명이 4조각으로 자른 피자를 한 조각 이상씩 먹으려면 최소 3판을 시켜야 합니다."
      ],
      "metadata": {
        "id": "B1KzB1R9t5uQ"
      }
    },
    {
      "cell_type": "code",
      "source": [
        "def solution(slice, n):\n",
        "    answer = 0\n",
        "    \n",
        "    if n % slice > 0:\n",
        "        answer = (n // slice) + 1\n",
        "    else:\n",
        "        answer = n // slice\n",
        "    \n",
        "    return answer"
      ],
      "metadata": {
        "id": "tLYTEpZwuRS2"
      },
      "execution_count": null,
      "outputs": []
    },
    {
      "cell_type": "markdown",
      "source": [
        "### ```67.``` 피자 나눠 먹기 (1)\n",
        "\n",
        "### 문제 설명\n",
        "- 머쓱이네 피자가게는 피자를 일곱 조각으로 잘라 줍니다. 피자를 나눠먹을 사람의 수 n이 주어질 때, 모든 사람이 피자를 한 조각 이상 먹기 위해 필요한 피자의 수를 return 하는 solution 함수를 완성해보세요.\n",
        "\n",
        "## #제한사항\n",
        "- 1 ≤ n ≤ 100\n",
        "\n",
        "### 입출력 예\n",
        "| n  | result |\n",
        "|----|--------|\n",
        "| 7  | 1      |\n",
        "| 1  | 1      |\n",
        "| 15 | 3      |\n",
        "\n",
        "### 입출력 예 설명\n",
        "- 입출력 예 #1\n",
        "    - 7명이 최소 한 조각씩 먹기 위해서 최소 1판이 필요합니다.\n",
        "- 입출력 예 #2\n",
        "    - 1명은 최소 한 조각을 먹기 위해 1판이 필요합니다.\n",
        "- 입출력 예 #3\n",
        "    - 15명이 최소 한 조각씩 먹기 위해서 최소 3판이 필요합니다."
      ],
      "metadata": {
        "id": "O4WTEEZwu_RM"
      }
    },
    {
      "cell_type": "code",
      "source": [
        "def solution(n):\n",
        "    answer = 0\n",
        "    \n",
        "    if n % 7 > 0:\n",
        "        answer = (n // 7) + 1\n",
        "    else:\n",
        "        answer = n // 7\n",
        "    \n",
        "    return answer"
      ],
      "metadata": {
        "id": "mo64xNRovQZB"
      },
      "execution_count": null,
      "outputs": []
    },
    {
      "cell_type": "markdown",
      "source": [
        "### ```68.``` 순서쌍의 개수\n",
        "\n",
        "### 문제 설명\n",
        "- 순서쌍이란 두 개의 숫자를 순서를 정하여 짝지어 나타낸 쌍으로 (a, b)로 표기합니다. 자연수 n이 매개변수로 주어질 때 두 숫자의 곱이 n인 자연수 순서쌍의 개수를 return하도록 solution 함수를 완성해주세요.\n",
        "\n",
        "### 제한사항\n",
        "- 1 ≤ n ≤ 1,000,000\n",
        "\n",
        "### 입출력 예\n",
        "| n   | result |\n",
        "|-----|--------|\n",
        "| 20  | 6      |\n",
        "| 100 | 9      |\n",
        "\n",
        "### 입출력 예 설명\n",
        "- 입출력 예 #1\n",
        "    - n이 20 이므로 곱이 20인 순서쌍은 (1, 20), (2, 10), (4, 5), (5, 4), (10, 2), (20, 1) 이므로 6을 return합니다.\n",
        "- 입출력 예 #2\n",
        "    - n이 100 이므로 곱이 100인 순서쌍은 (1, 100), (2, 50), (4, 25), (5, 20), (10, 10), (20, 5), (25, 4), (50, 2), (100, 1) 이므로 9를 return합니다."
      ],
      "metadata": {
        "id": "_jfI-Fv9v2te"
      }
    },
    {
      "cell_type": "code",
      "source": [
        "def solution(n):\n",
        "    answer = 0\n",
        "    \n",
        "    answer = len([i for i in range(1, n + 1) if n % i == 0])\n",
        "    \n",
        "    return answer"
      ],
      "metadata": {
        "id": "YgGr5zUiwFQV"
      },
      "execution_count": null,
      "outputs": []
    },
    {
      "cell_type": "markdown",
      "source": [
        "### ```69.``` 최댓값 만들기 (1)\n",
        "\n",
        "### 문제 설명\n",
        "- 정수 배열 numbers가 매개변수로 주어집니다. numbers의 원소 중 두 개를 곱해 만들 수 있는 최댓값을 return하도록 solution 함수를 완성해주세요.\n",
        "\n",
        "### 제한사항\n",
        "- 0 ≤ numbers의 원소 ≤ 10,000\n",
        "- 2 ≤ numbers의 길이 ≤ 100\n",
        "\n",
        "### 입출력 예\n",
        "| numbers               | result |\n",
        "|-----------------------|--------|\n",
        "| [1, 2, 3, 4, 5]       | 20     |\n",
        "| [0, 31, 24, 10, 1, 9] | 744    |\n",
        "\n",
        "### 입출력 예 설명\n",
        "- 입출력 예 #1\n",
        "    - 두 수의 곱중 최댓값은 4 * 5 = 20 입니다.\n",
        "- 입출력 예 #1\n",
        "    - 두 수의 곱중 최댓값은 31 * 24 = 744 입니다."
      ],
      "metadata": {
        "id": "3mJnCZE75rRE"
      }
    },
    {
      "cell_type": "code",
      "source": [
        "def solution(numbers):\n",
        "    answer = 0\n",
        "    \n",
        "    num_list = sorted(numbers, reverse = True)\n",
        "    answer = num_list[0] * num_list[1]\n",
        "\n",
        "    return answer"
      ],
      "metadata": {
        "id": "Vux2P2Hf54j4"
      },
      "execution_count": null,
      "outputs": []
    },
    {
      "cell_type": "markdown",
      "source": [
        "### ```70.``` 머쓱이보다 키 큰 사람\n",
        "\n",
        "### 문제 설명\n",
        "- 머쓱이는 학교에서 키 순으로 줄을 설 때 몇 번째로 서야 하는지 궁금해졌습니다. 머쓱이네 반 친구들의 키가 담긴 정수 배열 array와 머쓱이의 키 height가 매개변수로 주어질 때, 머쓱이보다 키 큰 사람 수를 return 하도록 solution 함수를 완성해보세요.\n",
        "\n",
        "### 제한사항\n",
        "- 1 ≤ array의 길이 ≤ 100\n",
        "- 1 ≤ height ≤ 200\n",
        "- 1 ≤ array의 원소 ≤ 200\n",
        "\n",
        "### 입출력 예\n",
        "| array                | height | result |\n",
        "|----------------------|--------|--------|\n",
        "| [149, 180, 192, 170] | 167    | 3      |\n",
        "| [180, 120, 140]      | 190    | 0      |\n",
        "\n",
        "### 입출력 예 설명\n",
        "- 입출력 예 #1\n",
        "    - 149, 180, 192, 170 중 머쓱이보다 키가 큰 사람은 180, 192, 170으로 세 명입니다.\n",
        "- 입출력 예 #2\n",
        "    - 180, 120, 140 중 190보다 큰 수는 없으므로 0명입니다."
      ],
      "metadata": {
        "id": "tOymyoGm-NM_"
      }
    },
    {
      "cell_type": "code",
      "source": [
        "def solution(array, height):\n",
        "    answer = 0\n",
        "    \n",
        "    array.append(height)\n",
        "    answer = len(list(filter(lambda x : x > height, array)))\n",
        "    \n",
        "    return answer"
      ],
      "metadata": {
        "id": "VWqjeVYl-Z6v"
      },
      "execution_count": null,
      "outputs": []
    },
    {
      "cell_type": "markdown",
      "source": [
        "## 23년 05월 17일"
      ],
      "metadata": {
        "id": "KhpYSNC0Trgb"
      }
    },
    {
      "cell_type": "markdown",
      "source": [
        "### ```71.``` 삼각형의 완성조건 (1)\n",
        "\n",
        "### 문제 설명\n",
        "- 선분 세 개로 삼각형을 만들기 위해서는 다음과 같은 조건을 만족해야 합니다.\n",
        "    - 가장 긴 변의 길이는 다른 두 변의 길이의 합보다 작아야 합니다.\n",
        "- 삼각형의 세 변의 길이가 담긴 배열 sides이 매개변수로 주어집니다. 세 변으로 삼각형을 만들 수 있다면 1, 만들 수 없다면 2를 return하도록 solution 함수를 완성해주세요.\n",
        "\n",
        "### 제한사항\n",
        "- sides의 원소는 자연수입니다.\n",
        "- sides의 길이는 3입니다.\n",
        "- 1 ≤ sides의 원소 ≤ 1,000\n",
        "\n",
        "### 입출력 예\n",
        "| sides          | result |\n",
        "|----------------|--------|\n",
        "| [1, 2, 3]      | 2      |\n",
        "| [3, 6, 2]      | 2      |\n",
        "| [199, 72, 222] | 1      |\n",
        "\n",
        "### 입출력 예 설명\n",
        "- 입출력 예 #1\n",
        "    - 가장 큰 변인 3이 나머지 두 변의 합 3과 같으므로 삼각형을 완성할 수 없습니다. 따라서 2를 return합니다.\n",
        "- 입출력 예 #2\n",
        "    - 가장 큰 변인 6이 나머지 두 변의 합 5보다 크므로 삼각형을 완성할 수 없습니다. 따라서 2를 return합니다.\n",
        "- 입출력 예 #3\n",
        "    - 가장 큰 변인 222가 나머지 두 변의 합 271보다 작으므로 삼각형을 완성할 수 있습니다. 따라서 1을 return합니다.\n",
        "\n"
      ],
      "metadata": {
        "id": "4ch7byBJTyBp"
      }
    },
    {
      "cell_type": "code",
      "source": [
        "def solution(sides):\n",
        "    answer = 0\n",
        "    sides = sorted(sides)\n",
        "    if sides[0] + sides[1] > sides[2]:\n",
        "        answer = 1\n",
        "    else:\n",
        "        answer = 2\n",
        "    return answer"
      ],
      "metadata": {
        "id": "duBszilsTt9Y"
      },
      "execution_count": null,
      "outputs": []
    },
    {
      "cell_type": "markdown",
      "source": [
        "### ```72.``` 문자열 뒤집기\n",
        "\n",
        "### 문제 설명\n",
        "- 문자열 my_string이 매개변수로 주어집니다. my_string을 거꾸로 뒤집은 문자열을 return하도록 solution 함수를 완성해주세요.\n",
        "\n",
        "### 제한사항\n",
        "- 1 ≤ my_string의 길이 ≤ 1,000\n",
        "\n",
        "### 입출력 예\n",
        "| my_string | return  |\n",
        "|-----------|---------|\n",
        "| \"jaron\"   | \"noraj\" |\n",
        "| \"bread\"   | \"daerb\" |\n",
        "\n",
        "### 입출력 예 설명\n",
        "- 입출력 예 #1\n",
        "    - my_string이 \"jaron\"이므로 거꾸로 뒤집은 \"noraj\"를 return합니다.\n",
        "- 입출력 예 #2\n",
        "    - my_string이 \"bread\"이므로 거꾸로 뒤집은 \"daerb\"를 return합니다."
      ],
      "metadata": {
        "id": "j6eGJrqwVAkM"
      }
    },
    {
      "cell_type": "code",
      "source": [
        "def solution(my_string):\n",
        "    answer = ''\n",
        "    answer = my_string[::-1]\n",
        "    return answer"
      ],
      "metadata": {
        "id": "VoWDk0NUVYPe"
      },
      "execution_count": null,
      "outputs": []
    },
    {
      "cell_type": "markdown",
      "source": [
        "### ```73.``` 짝수 홀수 개수\n",
        "\n",
        "### 문제 설명\n",
        "- 정수가 담긴 리스트 num_list가 주어질 때, num_list의 원소 중 짝수와 홀수의 개수를 담은 배열을 return 하도록 solution 함수를 완성해보세요.\n",
        "\n",
        "### 제한사항\n",
        "- 1 ≤ num_list의 길이 ≤ 100\n",
        "- 0 ≤ num_list의 원소 ≤ 1,000\n",
        "\n",
        "### 입출력 예\n",
        "| num_list        | result |\n",
        "|-----------------|--------|\n",
        "| [1, 2, 3, 4, 5] | [2, 3] |\n",
        "| [1, 3, 5, 7]    | [0, 4] |\n",
        "\n",
        "### 입출력 예 설명\n",
        "- 입출력 예 #1\n",
        "    - [1, 2, 3, 4, 5]에는 짝수가 2, 4로 두 개, 홀수가 1, 3, 5로 세 개 있습니다.\n",
        "- 입출력 예 #2\n",
        "    - [1, 3, 5, 7]에는 짝수가 없고 홀수가 네 개 있습니다."
      ],
      "metadata": {
        "id": "Ftj5HWYeWRL-"
      }
    },
    {
      "cell_type": "code",
      "source": [
        "def solution(num_list):\n",
        "    answer = []\n",
        "    answer.append(len([i for i in num_list if i % 2 == 0]))\n",
        "    answer.append(len([i for i in num_list if i % 2 != 0]))\n",
        "    return answer"
      ],
      "metadata": {
        "id": "AHMTtt-SWd3w"
      },
      "execution_count": null,
      "outputs": []
    },
    {
      "cell_type": "markdown",
      "source": [
        "### ```74.``` 아이스 아메리카노\n",
        "\n",
        "### 문제 설명\n",
        "- 머쓱이는 추운 날에도 아이스 아메리카노만 마십니다. 아이스 아메리카노는 한잔에 5,500원입니다. 머쓱이가 가지고 있는 돈 money가 매개변수로 주어질 때, 머쓱이가 최대로 마실 수 있는 아메리카노의 잔 수와 남는 돈을 순서대로 담은 배열을 return 하도록 solution 함수를 완성해보세요.\n",
        "\n",
        "### 제한사항\n",
        "- 0 < money ≤ 1,000,000\n",
        "\n",
        "### 입출력 예\n",
        "| money  | result    |\n",
        "|--------|-----------|\n",
        "| 5,500  | [1, 0]    |\n",
        "| 15,000 | [2, 4000] |\n",
        "\n",
        "### 입출력 예 설명\n",
        "- 입출력 예 #1\n",
        "    - 5,500원은 아이스 아메리카노 한 잔을 살 수 있고 잔돈은 0원입니다.\n",
        "- 입출력 예 #2\n",
        "    - 15,000원은 아이스 아메리카노 두 잔을 살 수 있고 잔돈은 4,000원입니다."
      ],
      "metadata": {
        "id": "BvsEShx7XGYb"
      }
    },
    {
      "cell_type": "code",
      "source": [
        "def solution(money):\n",
        "    answer = []\n",
        "    answer.append(money // 5500)\n",
        "    answer.append(money % 5500)\n",
        "    return answer"
      ],
      "metadata": {
        "id": "4aNCoiUhXU-W"
      },
      "execution_count": null,
      "outputs": []
    },
    {
      "cell_type": "markdown",
      "source": [
        "### ```75.``` 모음 제거\n",
        "\n",
        "### 문제 설명\n",
        "- 영어에선 a, e, i, o, u 다섯 가지 알파벳을 모음으로 분류합니다. 문자열 my_string이 매개변수로 주어질 때 모음을 제거한 문자열을 return하도록 solution 함수를 완성해주세요.\n",
        "\n",
        "### 제한사항\n",
        "- my_string은 소문자와 공백으로 이루어져 있습니다.\n",
        "- 1 ≤ my_string의 길이 ≤ 1,000\n",
        "\n",
        "### 입출력 예\n",
        "| my_string          | result      |\n",
        "|--------------------|-------------|\n",
        "| \"bus\"              | \"bs\"        |\n",
        "| \"nice to meet you\" | \"nc t mt y\" |\n",
        "\n",
        "### 입출력 예 설명\n",
        "- 입출력 예 #1\n",
        "    - \"bus\"에서 모음 u를 제거한 \"bs\"를 return합니다.\n",
        "- 입출력 예 #1\n",
        "    - \"nice to meet you\"에서 모음 i, o, e, u를 모두 제거한 \"nc t mt y\"를 return합니다."
      ],
      "metadata": {
        "id": "FFWQj1AyXnOh"
      }
    },
    {
      "cell_type": "code",
      "source": [
        "import re\n",
        "\n",
        "def solution(my_string):\n",
        "    answer = ''\n",
        "    answer = ''.join(re.sub('[aeiou]', '', my_string))\n",
        "    return answer"
      ],
      "metadata": {
        "id": "SrTKavl-X0k0"
      },
      "execution_count": null,
      "outputs": []
    },
    {
      "cell_type": "markdown",
      "source": [
        "## 23년 05월 18일"
      ],
      "metadata": {
        "id": "tRj8WBCAsRFh"
      }
    },
    {
      "cell_type": "markdown",
      "source": [
        "### ```76.``` 옷가게 할인 받기\n",
        "\n",
        "### 문제 설명\n",
        "- 머쓱이네 옷가게는 10만 원 이상 사면 5%, 30만 원 이상 사면 10%, 50만 원 이상 사면 20%를 할인해줍니다.\n",
        "구매한 옷의 가격 price가 주어질 때, 지불해야 할 금액을 return 하도록 solution 함수를 완성해보세요.\n",
        "\n",
        "제한사항\n",
        "- 10 ≤ price ≤ 1,000,000\n",
        "    - price는 10원 단위로(1의 자리가 0) 주어집니다.\n",
        "- 소수점 이하를 버린 정수를 return합니다.\n",
        "\n",
        "### 입출력 예\n",
        "| price   | result  |\n",
        "|---------|---------|\n",
        "| 150,000 | 142,500 |\n",
        "| 580,000 | 464,000 |\n",
        "\n",
        "### 입출력 예 설명\n",
        "- 입출력 예 #1\n",
        "    - 150,000원에서 5%를 할인한 142,500원을 return 합니다.\n",
        "- 입출력 예 #2\n",
        "    - 580,000원에서 20%를 할인한 464,000원을 return 합니다."
      ],
      "metadata": {
        "id": "QlGHw3OVsSwl"
      }
    },
    {
      "cell_type": "code",
      "source": [
        "def solution(price):\n",
        "    answer = 0\n",
        "    \n",
        "    if price >= 500000:\n",
        "        price *= 0.8\n",
        "    elif price >= 300000:\n",
        "        price *= 0.9\n",
        "    elif price >= 100000:\n",
        "        price *= 0.95\n",
        "    answer = int(price)\n",
        "    \n",
        "    return answer"
      ],
      "metadata": {
        "id": "ERsqCiSask6D"
      },
      "execution_count": null,
      "outputs": []
    },
    {
      "cell_type": "markdown",
      "source": [
        "### ```77.``` 배열의 유사도\n",
        "\n",
        "### 문제 설명\n",
        "- 두 배열이 얼마나 유사한지 확인해보려고 합니다. 문자열 배열 s1과 s2가 주어질 때 같은 원소의 개수를 return하도록 solution 함수를 완성해주세요.\n",
        "\n",
        "### 제한사항\n",
        "- 1 ≤ s1, s2의 길이 ≤ 100\n",
        "- 1 ≤ s1, s2의 원소의 길이 ≤ 10\n",
        "- s1과 s2의 원소는 알파벳 소문자로만 이루어져 있습니다\n",
        "- s1과 s2는 각각 중복된 원소를 갖지 않습니다.\n",
        "\n",
        "### 입출력 예\n",
        "| s1              | s2                          | result |\n",
        "|-----------------|-----------------------------|--------|\n",
        "| [\"a\", \"b\", \"c\"] | [\"com\", \"b\", \"d\", \"p\", \"c\"] | 2      |\n",
        "| [\"n\", \"omg\"]    | [\"m\", \"dot\"]                | 0      |\n",
        "\n",
        "### 입출력 예 설명\n",
        "- 입출력 예 #1\n",
        "    - \"b\"와 \"c\"가 같으므로 2를 return합니다.\n",
        "- 입출력 예 #2\n",
        "    - 같은 원소가 없으므로 0을 return합니다."
      ],
      "metadata": {
        "id": "j6mpOclHtEAC"
      }
    },
    {
      "cell_type": "code",
      "source": [
        "from itertools import combinations\n",
        "\n",
        "def solution(s1, s2):\n",
        "    answer = 0\n",
        "    combi = list(combinations(s1 + s2, 2))\n",
        "\n",
        "    for i, j in combi:\n",
        "        if i == j:\n",
        "            answer += 1\n",
        "            \n",
        "    return answer"
      ],
      "metadata": {
        "id": "wrID29kktdv1"
      },
      "execution_count": null,
      "outputs": []
    },
    {
      "cell_type": "markdown",
      "source": [
        "### ```78.``` 문자 반복 출력하기\n",
        "\n",
        "### 문제 설명\n",
        "- 문자열 my_string과 정수 n이 매개변수로 주어질 때, my_string에 들어있는 각 문자를 n만큼 반복한 문자열을 return 하도록 solution 함수를 완성해보세요.\n",
        "\n",
        "### 제한사항\n",
        "- 2 ≤ my_string 길이 ≤ 5\n",
        "- 2 ≤ n ≤ 10\n",
        "- \"my_string\"은 영어 대소문자로 이루어져 있습니다.\n",
        "\n",
        "### 입출력 예\n",
        "| my_string | n | result            |\n",
        "|-----------|---|-------------------|\n",
        "| \"hello\"   | 3 | \"hhheeellllllooo\" |\n",
        "\n",
        "### 입출력 예 설명\n",
        "- 입출력 예 #1\n",
        "    - \"hello\"의 각 문자를 세 번씩 반복한 \"hhheeellllllooo\"를 return 합니다."
      ],
      "metadata": {
        "id": "4GFzxxZEwJOt"
      }
    },
    {
      "cell_type": "code",
      "source": [
        "def solution(my_string, n):\n",
        "    answer = ''\n",
        "    \n",
        "    answer = answer.join([(i * n) for i in my_string])\n",
        "    \n",
        "    return answer"
      ],
      "metadata": {
        "id": "F8Ug0NhJwYfP"
      },
      "execution_count": null,
      "outputs": []
    },
    {
      "cell_type": "markdown",
      "source": [
        "### ```79.``` 짝수는 싫어요\n",
        "\n",
        "### 문제 설명\n",
        "- 정수 n이 매개변수로 주어질 때, n 이하의 홀수가 오름차순으로 담긴 배열을 return하도록 solution 함수를 완성해주세요.\n",
        "\n",
        "### 제한사항\n",
        "- 1 ≤ n ≤ 100\n",
        "\n",
        "### 입출력 예\n",
        "| n  | result                      |\n",
        "|----|-----------------------------|\n",
        "| 10 | [1, 3, 5, 7, 9]             |\n",
        "| 15 | [1, 3, 5, 7, 9, 11, 13, 15] |\n",
        "\n",
        "### 입출력 예 설명\n",
        "- 입출력 #1\n",
        "    - 10 이하의 홀수가 담긴 배열 [1, 3, 5, 7, 9]를 return합니다.\n",
        "- 입출력 #1\n",
        "    - 15 이하의 홀수가 담긴 배열 [1, 3, 5, 7, 9, 11, 13, 15]를 return합니다."
      ],
      "metadata": {
        "id": "kuR2b8JHxXJ1"
      }
    },
    {
      "cell_type": "code",
      "source": [
        "def solution(n):\n",
        "    answer = []\n",
        "    \n",
        "    answer = [i for i in range(n + 1) if i % 2 != 0]\n",
        "    \n",
        "    return answer"
      ],
      "metadata": {
        "id": "v2CpvhnLxi57"
      },
      "execution_count": null,
      "outputs": []
    },
    {
      "cell_type": "markdown",
      "source": [
        "### ```80.``` 자릿수 더하기\n",
        "\n",
        "### 문제 설명\n",
        "- 정수 n이 매개변수로 주어질 때 n의 각 자리 숫자의 합을 return하도록 solution 함수를 완성해주세요\n",
        "\n",
        "### 제한사항\n",
        "- 0 ≤ n ≤ 1,000,000\n",
        "\n",
        "### 입출력 예\n",
        "| n      | result |\n",
        "|--------|--------|\n",
        "| 1234   | 10     |\n",
        "| 930211 | 16     |\n",
        "\n",
        "### 입출력 예 설명\n",
        "- 입출력 예 #1\n",
        "    - 1 + 2 + 3 + 4 = 10을 return합니다.\n",
        "- 입출력 예 #2\n",
        "    - 9 + 3 + 0 + 2 + 1 + 1 = 16을 return합니다."
      ],
      "metadata": {
        "id": "JsQSAXU9yFnR"
      }
    },
    {
      "cell_type": "code",
      "source": [
        "def solution(n):\n",
        "    answer = 0\n",
        "    \n",
        "    answer = sum(list(map(lambda x : int(x), list(str(n)))))\n",
        "    \n",
        "    return answer"
      ],
      "metadata": {
        "id": "E-RdaGVHyYlg"
      },
      "execution_count": null,
      "outputs": []
    },
    {
      "cell_type": "markdown",
      "source": [
        "## 23년 05월 19일"
      ],
      "metadata": {
        "id": "wkhy6JEaFTZR"
      }
    },
    {
      "cell_type": "markdown",
      "source": [
        "### ```81.``` 숨어있는 숫자의 덧셈 (1)\n",
        "\n",
        "### 문제 설명\n",
        "- 문자열 my_string이 매개변수로 주어집니다. my_string안의 모든 자연수들의 합을 return하도록 solution 함수를 완성해주세요.\n",
        "\n",
        "### 제한사항\n",
        "- 1 ≤ my_string의 길이 ≤ 1,000\n",
        "- my_string은 소문자, 대문자 그리고 한자리 자연수로만 구성되어있습니다.\n",
        "\n",
        "### 입출력 예\n",
        "| my_string       | result |\n",
        "|-----------------|--------|\n",
        "| \"aAb1B2cC34oOp\" | 10     |\n",
        "| \"1a2b3c4d123\"   | 16     |\n",
        "\n",
        "### 입출력 예 설명\n",
        "- 입출력 예 #1\n",
        "    - \"aAb1B2cC34oOp\"안의 한자리 자연수는 1, 2, 3, 4 입니다. 따라서 1 + 2 + 3 + 4 = 10 을 return합니다.\n",
        "- 입출력 예 #2\n",
        "    - \"1a2b3c4d123Z\"안의 한자리 자연수는 1, 2, 3, 4, 1, 2, 3 입니다. 따라서 1 + 2 + 3 + 4 + 1 + 2 + 3 = 16 을 return합니다.\n",
        "\n",
        "### 유의사항\n",
        "- 연속된 숫자도 각각 한 자리 숫자로 취급합니다."
      ],
      "metadata": {
        "id": "ryTFe7kyFVXV"
      }
    },
    {
      "cell_type": "code",
      "source": [
        "import re\n",
        "\n",
        "def solution(my_string):\n",
        "    answer = 0\n",
        "    \n",
        "    num = list(map(lambda x : int(x), list(re.sub(r'[a-zA-Z]', '', my_string))))\n",
        "    answer = sum(num)\n",
        "\n",
        "    return answer"
      ],
      "metadata": {
        "id": "aaVmGqVOFoWW"
      },
      "execution_count": null,
      "outputs": []
    },
    {
      "cell_type": "markdown",
      "source": [
        "### ```82.``` 문자열안에 문자열\n",
        "\n",
        "### 문제 설명\n",
        "- 문자열 str1, str2가 매개변수로 주어집니다. str1 안에 str2가 있다면 1을 없다면 2를 return하도록 solution 함수를 완성해주세요.\n",
        "\n",
        "### 제한사항\n",
        "- 1 ≤ str1의 길이 ≤ 100\n",
        "- 1 ≤ str2의 길이 ≤ 100\n",
        "- 문자열은 알파벳 대문자, 소문자, 숫자로 구성되어 있습니다.\n",
        "\n",
        "### 입출력 예\n",
        "| str1                     | str2   | result |\n",
        "|--------------------------|--------|--------|\n",
        "| \"ab6CDE443fgh22iJKlmn1o\" | \"6CD\"  | 1      |\n",
        "| \"ppprrrogrammers\"        | \"pppp\" | 2      |\n",
        "| \"AbcAbcA\"                | \"AAA\"  | 2      |\n",
        "\n",
        "### 입출력 예 설명\n",
        "- 입출력 예 #1\n",
        "    - \"ab6CDE443fgh22iJKlmn1o\" str1에 str2가 존재하므로 1을 return합니다.\n",
        "- 입출력 예 #2\n",
        "    - \"ppprrrogrammers\" str1에 str2가 없으므로 2를 return합니다.\n",
        "- 입출력 예 #3\n",
        "    - \"AbcAbcA\" str1에 str2가 없으므로 2를 return합니다."
      ],
      "metadata": {
        "id": "3HejBECOGqC_"
      }
    },
    {
      "cell_type": "code",
      "source": [
        "def solution(str1, str2):\n",
        "    answer = 0\n",
        "\n",
        "    if str2 in str1:\n",
        "        answer = 1\n",
        "    else:\n",
        "        answer = 2\n",
        "\n",
        "    return answer"
      ],
      "metadata": {
        "id": "c-QmZu7TG50A"
      },
      "execution_count": null,
      "outputs": []
    },
    {
      "cell_type": "markdown",
      "source": [
        "### ```83.``` 제곱수 판별하기\n",
        "\n",
        "### 문제 설명\n",
        "- 어떤 자연수를 제곱했을 때 나오는 정수를 제곱수라고 합니다. 정수 n이 매개변수로 주어질 때, n이 제곱수라면 1을 아니라면 2를 return하도록 solution 함수를 완성해주세요.\n",
        "\n",
        "### 제한사항\n",
        "- 1 ≤ n ≤ 1,000,000\n",
        "\n",
        "### 입출력 예\n",
        "| n   | result |\n",
        "|-----|--------|\n",
        "| 144 | 1      |\n",
        "| 976 | 2      |\n",
        "\n",
        "### 입출력 예 설명\n",
        "- 입출력 예 #1\n",
        "    - 144는 12의 제곱이므로 제곱수입니다. 따라서 1을 return합니다.\n",
        "- 입출력 예 #2\n",
        "    - 976은 제곱수가 아닙니다. 따라서 2를 return합니다."
      ],
      "metadata": {
        "id": "qSHLpv3pHQ_h"
      }
    },
    {
      "cell_type": "code",
      "source": [
        "def solution(n):\n",
        "    answer = 0\n",
        "    \n",
        "    for i in range(1, n):\n",
        "        if i ** 2 == n:\n",
        "            answer = 1\n",
        "            return answer\n",
        "    answer = 2\n",
        "    \n",
        "    return answer"
      ],
      "metadata": {
        "id": "rPydYpqSHfYY"
      },
      "execution_count": null,
      "outputs": []
    },
    {
      "cell_type": "markdown",
      "source": [
        "### ```84.``` 개미 군단\n",
        "\n",
        "### 문제 설명\n",
        "- 개미 군단이 사냥을 나가려고 합니다. 개미군단은 사냥감의 체력에 딱 맞는 병력을 데리고 나가려고 합니다. 장군개미는 5의 공격력을, 병정개미는 3의 공격력을 일개미는 1의 공격력을 가지고 있습니다. 예를 들어 체력 23의 여치를 사냥하려고 할 때, 일개미 23마리를 데리고 가도 되지만, 장군개미 네 마리와 병정개미 한 마리를 데리고 간다면 더 적은 병력으로 사냥할 수 있습니다. 사냥감의 체력 hp가 매개변수로 주어질 때, 사냥감의 체력에 딱 맞게 최소한의 병력을 구성하려면 몇 마리의 개미가 필요한지를 return하도록 solution 함수를 완성해주세요.\n",
        "\n",
        "### 제한사항\n",
        "- hp는 자연수입니다.\n",
        "- 0 ≤ hp ≤ 1000\n",
        "\n",
        "### 입출력 예\n",
        "| hp  | result |\n",
        "|-----|--------|\n",
        "| 23  | 5      |\n",
        "| 24  | 6      |\n",
        "| 999 | 201    |\n",
        "\n",
        "### 입출력 예 설명\n",
        "- 입출력 예 #1\n",
        "    - hp가 23이므로, 장군개미 네마리와 병정개미 한마리로 사냥할 수 있습니다. 따라서 5를 return합니다.\n",
        "- 입출력 예 #2\n",
        "    - hp가 24이므로, 장군개미 네마리 병정개미 한마리 일개미 한마리로 사냥할 수 있습니다. 따라서 6을 return합니다.\n",
        "- 입출력 예 #3\n",
        "    - hp가 999이므로, 장군개미 199 마리 병정개미 한마리 일개미 한마리로 사냥할 수 있습니다. 따라서 201을 return합니다."
      ],
      "metadata": {
        "id": "k1gZ3jl2H3xk"
      }
    },
    {
      "cell_type": "code",
      "source": [
        "def solution(hp):\n",
        "    answer = 0\n",
        "\n",
        "    while hp:\n",
        "        if hp // 5 > 0:\n",
        "            answer += hp // 5\n",
        "            hp -= 5 * (hp // 5)\n",
        "        elif hp // 3 > 0:\n",
        "            answer += hp // 3\n",
        "            hp -= 3 * (hp // 3)\n",
        "        elif hp > 0:\n",
        "            answer += hp\n",
        "            hp = 0\n",
        "        else:\n",
        "            return answer\n",
        "\n",
        "    return answer"
      ],
      "metadata": {
        "id": "jHFHaa8zIGL_"
      },
      "execution_count": null,
      "outputs": []
    },
    {
      "cell_type": "markdown",
      "source": [
        "### ```85.``` 암호 해독\n",
        "\n",
        "### 문제 설명\n",
        "- 군 전략가 머쓱이는 전쟁 중 적군이 다음과 같은 암호 체계를 사용한다는 것을 알아냈습니다.\n",
        "    - 암호화된 문자열 cipher를 주고받습니다.\n",
        "    - 그 문자열에서 code의 배수 번째 글자만 진짜 암호입니다.\n",
        "- 문자열 cipher와 정수 code가 매개변수로 주어질 때 해독된 암호 문자열을 return하도록 solution 함수를 완성해주세요.\n",
        "\n",
        "### 제한사항\n",
        "- 1 ≤ cipher의 길이 ≤ 1,000\n",
        "- 1 ≤ code ≤ cipher의 길이\n",
        "- cipher는 소문자와 공백으로만 구성되어 있습니다.\n",
        "- 공백도 하나의 문자로 취급합니다.\n",
        "\n",
        "### 입출력 예\n",
        "| cipher                     | code | result     |\n",
        "|----------------------------|------|------------|\n",
        "| \"dfjardstddetckdaccccdegk\" | 4    | \"attack\"   |\n",
        "| \"pfqallllabwaoclk\"         | 2    | \"fallback\" |\n",
        "\n",
        "### 입출력 예 설명\n",
        "- 입출력 예 #1\n",
        "    - \"dfjardstddetckdaccccdegk\" 의 4번째, 8번째, 12번째, 16번째, 20번째, 24번째 글자를 합친 \"attack\"을 return합니다.\n",
        "- 입출력 예 #2\n",
        "    - \"pfqallllabwaoclk\" 의 2번째, 4번째, 6번째, 8번째, 10번째, 12번째, 14번째, 16번째 글자를 합친 \"fallback\"을 return합니다."
      ],
      "metadata": {
        "id": "yNGqR8bIJ28g"
      }
    },
    {
      "cell_type": "code",
      "source": [
        "def solution(cipher, code):\n",
        "    answer = ''\n",
        "\n",
        "    answer = cipher[code - 1::code]\n",
        "\n",
        "    return answer"
      ],
      "metadata": {
        "id": "pWwxpH56KMGM"
      },
      "execution_count": null,
      "outputs": []
    },
    {
      "cell_type": "markdown",
      "source": [
        "## 23년 05월 20일"
      ],
      "metadata": {
        "id": "DCencUf1SU1f"
      }
    },
    {
      "cell_type": "markdown",
      "source": [
        "### ```86.``` 배열의 원소만큼 추가하기\n",
        "\n",
        "### 문제 설명\n",
        "- 아무 원소도 들어있지 않은 빈 배열 X가 있습니다. 양의 정수 배열 arr가 매개변수로 주어질 때, arr의 앞에서부터 차례대로 원소를 보면서 원소가 a라면 X의 맨 뒤에 a를 a번 추가하는 일을 반복한 뒤의 배열 X를 return 하는 solution 함수를 작성해 주세요.\n",
        "\n",
        "### 제한사항\n",
        "- 1 ≤ arr의 길이 ≤ 100\n",
        "- 1 ≤ arr의 원소 ≤ 100\n",
        "\n",
        "### 입출력 예\n",
        "| arr       | result                               |\n",
        "|-----------|--------------------------------------|\n",
        "| [5, 1, 4] | [5, 5, 5, 5, 5, 1, 4, 4, 4, 4]       |\n",
        "| [6, 6]    | [6, 6, 6, 6, 6, 6, 6, 6, 6, 6, 6, 6] |\n",
        "| [1]       | [1]                                  |\n",
        "\n",
        "### 입출력 예 설명\n",
        "- 입출력 예 #1\n",
        "    - 예제 1번에 대해서 a와 X를 나타내보면 다음 표와 같습니다.\n",
        "\n",
        "| a | X                              |\n",
        "|---|--------------------------------|\n",
        "|   | []                             |\n",
        "| 5 | [5, 5, 5, 5, 5]                |\n",
        "| 1 | [5, 5, 5, 5, 5, 1]             |\n",
        "| 4 | [5, 5, 5, 5, 5, 1, 4, 4, 4, 4] |\n",
        "\n",
        "    - 따라서 [5, 5, 5, 5, 5, 1, 4, 4, 4, 4]를 return 합니다.\n",
        "\n",
        "- 입출력 예 #2\n",
        "    - 예제 2번에 대해서 a와 X를 나타내보면 다음 표와 같습니다.\n",
        "\n",
        "| a | X                                    |\n",
        "|---|--------------------------------------|\n",
        "|   | []                                   |\n",
        "| 6 | [6, 6, 6, 6, 6, 6]                   |\n",
        "| 6 | [6, 6, 6, 6, 6, 6, 6, 6, 6, 6, 6, 6] |\n",
        "\n",
        "    - 따라서 [6, 6, 6, 6, 6, 6, 6, 6, 6, 6, 6, 6]를 return 합니다.\n",
        "\n",
        "- 입출력 예 #3\n",
        "    - 예제 2번에 대해서 a와 X를 나타내보면 다음 표와 같습니다.\n",
        "\n",
        "| a | X   |\n",
        "|---|-----|\n",
        "|   | []  |\n",
        "| 1 | [1] |\n",
        "\n",
        "    - 따라서 [1]을 return 합니다."
      ],
      "metadata": {
        "id": "ongXMKZaSWpW"
      }
    },
    {
      "cell_type": "code",
      "source": [
        "def solution(arr):\n",
        "    answer = []\n",
        "\n",
        "    arr_copy = []\n",
        "    for i in range(len(arr)):\n",
        "        count = arr[i]\n",
        "        while count:\n",
        "            arr_copy.append(arr[i])\n",
        "            count -= 1\n",
        "\n",
        "    return arr_copy"
      ],
      "metadata": {
        "id": "7YSFJtGdS-dc"
      },
      "execution_count": null,
      "outputs": []
    },
    {
      "cell_type": "markdown",
      "source": [
        "### ```87.``` 마지막 두 원소\n",
        "\n",
        "### 문제 설명\n",
        "- 정수 리스트 num_list가 주어질 때, 마지막 원소가 그전 원소보다 크면 마지막 원소에서 그전 원소를 뺀 값을 마지막 원소가 그전 원소보다 크지 않다면 마지막 원소를 두 배한 값을 추가하여 return하도록 solution 함수를 완성해주세요.\n",
        "\n",
        "### 제한사항\n",
        "- 2 ≤ num_list의 길이 ≤ 10\n",
        "- 1 ≤ num_list의 원소 ≤ 9\n",
        "\n",
        "### 입출력 예\n",
        "| num_list        | result              |\n",
        "|-----------------|---------------------|\n",
        "| [2, 1, 6]       | [2, 1, 6, 5]        |\n",
        "| [5, 2, 1, 7, 5] | [5, 2, 1, 7, 5, 10] |\n",
        "\n",
        "### 입출력 예 설명\n",
        "- 입출력 예 #1\n",
        "    - 마지막 원소인 6이 그전 원소인 1보다 크기 때문에 6 - 1인 5를 추가해 return합니다.\n",
        "### 입출력 예 #2\n",
        "    - 마지막 원소인 5가 그전 원소인 7보다 크지 않기 때문에 5의 두 배인 10을 추가해 return합니다."
      ],
      "metadata": {
        "id": "53lg_r3tV9m_"
      }
    },
    {
      "cell_type": "code",
      "source": [
        "def solution(num_list):\n",
        "    answer = []\n",
        "\n",
        "    answer = num_list.copy()\n",
        "    last_num = num_list.pop()\n",
        "    pop_after = num_list.pop()\n",
        "    if last_num > pop_after:\n",
        "        answer.append(last_num - pop_after)\n",
        "    else:\n",
        "        answer.append(last_num * 2)\n",
        "\n",
        "    return answer"
      ],
      "metadata": {
        "id": "UywNhm4jWKCp"
      },
      "execution_count": null,
      "outputs": []
    },
    {
      "cell_type": "markdown",
      "source": [
        "### ```88.``` 꼬리 문자열\n",
        "\n",
        "### 문제 설명\n",
        "- 문자열들이 담긴 리스트가 주어졌을 때, 모든 문자열들을 순서대로 합친 문자열을 꼬리 문자열이라고 합니다. 꼬리 문자열을 만들 때 특정 문자열을 포함한 문자열은 제외시키려고 합니다. 예를 들어 문자열 리스트 [\"abc\", \"def\", \"ghi\"]가 있고 문자열 \"ef\"를 포함한 문자열은 제외하고 꼬리 문자열을 만들면 \"abcghi\"가 됩니다.\n",
        "- 문자열 리스트 str_list와 제외하려는 문자열 ex가 주어질 때, str_list에서 ex를 포함한 문자열을 제외하고 만든 꼬리 문자열을 return하도록 solution 함수를 완성해주세요.\n",
        "\n",
        "### 제한사항\n",
        "- 2 ≤ str_list의 길이 ≤ 10\n",
        "- 1 ≤ str_list의 원소의 길이 ≤ 10\n",
        "- 1 ≤ ex의 길이 ≤ 5\n",
        "\n",
        "### 입출력 예\n",
        "| str_list              | ex   | result   |\n",
        "|-----------------------|------|----------|\n",
        "| [\"abc\", \"def\", \"ghi\"] | \"ef\" | \"abcghi\" |\n",
        "| [\"abc\", \"bbc\", \"cbc\"] | \"c\"  | \"\"       |\n",
        "\n",
        "### 입출력 예 설명\n",
        "- 입출력 예 #1\n",
        "    - 본문과 동일합니다.\n",
        "- 입출력 예 #2\n",
        "    - 리스트 안의 모든 문자열이 \"c\"를 포함하므로 빈 문자열을 return합니다."
      ],
      "metadata": {
        "id": "VU3nE00GXorH"
      }
    },
    {
      "cell_type": "code",
      "source": [
        "def solution(str_list, ex):\n",
        "    answer = ''\n",
        "\n",
        "    for i in range(len(str_list)):\n",
        "        if ex in str_list[i]:\n",
        "            str_list[i] = str_list[i].replace(str_list[i], '')\n",
        "        answer += str_list[i]\n",
        "\n",
        "    return answer"
      ],
      "metadata": {
        "id": "ol6Ld3EZX29O"
      },
      "execution_count": null,
      "outputs": []
    },
    {
      "cell_type": "markdown",
      "source": [
        "### ```89.``` 접미사인지 확인하기\n",
        "\n",
        "### 문제 설명\n",
        "- 어떤 문자열에 대해서 접미사는 특정 인덱스부터 시작하는 문자열을 의미합니다. 예를 들어, \"banana\"의 모든 접미사는 \"banana\", \"anana\", \"nana\", \"ana\", \"na\", \"a\"입니다.\n",
        "- 문자열 my_string과 is_suffix가 주어질 때, is_suffix가 my_string의 접미사라면 1을, 아니면 0을 return 하는 solution 함수를 작성해 주세요.\n",
        "\n",
        "### 제한사항\n",
        "- 1 ≤ my_string의 길이 ≤ 100\n",
        "- 1 ≤ is_suffix의 길이 ≤ 100\n",
        "- my_string과 is_suffix는 영소문자로만 이루어져 있습니다.\n",
        "\n",
        "### 입출력 예\n",
        "| my_string | is_suffix | result |\n",
        "|-----------|-----------|--------|\n",
        "| \"banana\"  | \"ana\"     | 1      |\n",
        "| \"banana\"  | \"nan\"     | 0      |\n",
        "| \"banana\"  | \"wxyz\"    | 0      |\n",
        "| \"banana\"  | \"abanana\" | 0      |\n",
        "\n",
        "### 입출력 예 설명\n",
        "- 입출력 예 #1\n",
        "    - 예제 1번에서 is_suffix가 my_string의 접미사이기 때문에 1을 return 합니다.\n",
        "- 입출력 예 #2\n",
        "    - 예제 2번에서 is_suffix가 my_string의 접미사가 아니기 때문에 0을 return 합니다.\n",
        "- 입출력 예 #3\n",
        "    - 예제 3번에서 is_suffix가 my_string의 접미사가 아니기 때문에 0을 return 합니다.\n",
        "- 입출력 예 #4\n",
        "    - 예제 4번에서 is_suffix가 my_string의 접미사가 아니기 때문에 0을 return 합니다."
      ],
      "metadata": {
        "id": "jYhwFCF3ra67"
      }
    },
    {
      "cell_type": "code",
      "source": [
        "def solution(my_string, is_suffix):\n",
        "    answer = 0\n",
        "\n",
        "    if my_string[len(my_string) - len(is_suffix)::] == is_suffix:\n",
        "        answer = 1\n",
        "\n",
        "    return answer"
      ],
      "metadata": {
        "id": "mFnArlWWrwtI"
      },
      "execution_count": null,
      "outputs": []
    },
    {
      "cell_type": "markdown",
      "source": [
        "### ```90.``` 홀짝에 따라 다른 값 반환하기\n",
        "\n",
        "### 문제 설명\n",
        "- 양의 정수 n이 매개변수로 주어질 때, n이 홀수라면 n 이하의 홀수인 모든 양의 정수의 합을 return 하고 n이 짝수라면 n 이하의 짝수인 모든 양의 정수의 제곱의 합을 return 하는 solution 함수를 작성해 주세요.\n",
        "\n",
        "### 제한사항\n",
        "- 1 ≤ n ≤ 100\n",
        "\n",
        "### 입출력 예\n",
        "| n  | result |\n",
        "|----|--------|\n",
        "| 7  | 16     |\n",
        "| 10 | 220    |\n",
        "\n",
        "### 입출력 예 설명\n",
        "- 입출력 예 #1\n",
        "    - 예제 1번의 n은 7로 홀수입니다. 7 이하의 모든 양의 홀수는 1, 3, 5, 7이고 이들의 합인 1 + 3 + 5 + 7 = 16을 return 합니다.\n",
        "- 입출력 예 #2\n",
        "    - 예제 2번의 n은 10으로 짝수입니다. 10 이하의 모든 양의 짝수는 2, 4, 6, 8, 10이고 이들의 제곱의 합인 22 + 42 + 62 + 82 + 102 = 4 + 16 + 36 + 64 + 100 = 220을 return 합니다."
      ],
      "metadata": {
        "id": "px6Ru9XxvY7I"
      }
    },
    {
      "cell_type": "code",
      "source": [
        "def solution(n):\n",
        "    answer = 0\n",
        "\n",
        "    for i in range(1, n + 1):\n",
        "        if n % 2 != 0 and i % 2 != 0:\n",
        "            answer += i\n",
        "        elif n % 2 == 0 and i % 2 == 0:\n",
        "            answer += i ** 2\n",
        "\n",
        "    return answer"
      ],
      "metadata": {
        "id": "Yd5Zvj7PvrrY"
      },
      "execution_count": null,
      "outputs": []
    },
    {
      "cell_type": "markdown",
      "source": [
        "### ```91.``` A 강조하기\n",
        "\n",
        "### 문제 설명\n",
        "- 문자열 myString이 주어집니다. myString에서 알파벳 \"a\"가 등장하면 전부 \"A\"로 변환하고, \"A\"가 아닌 모든 대문자 알파벳은 소문자 알파벳으로 변환하여 return 하는 solution 함수를 완성하세요.\n",
        "\n",
        "### 제한사항\n",
        "- 1 ≤ myString의 길이 ≤ 20\n",
        "- myString은 알파벳으로 이루어진 문자열입니다.\n",
        "\n",
        "### 입출력 예\n",
        "| myString           | result             |\n",
        "|--------------------|--------------------|\n",
        "| \"abstract algebra\" | \"AbstrAct AlgebrA\" |\n",
        "| \"PrOgRaMmErS\"      | \"progrAmmers\"      |\n",
        "\n",
        "### 입출력 예 설명\n",
        "- 입출력 예 #1\n",
        "    - 0번, 5번, 9번, 15번 인덱스의 \"a\"는 소문자이므로 전부 대문자로 고쳐줍니다.\n",
        "    - 다른 문자들은 전부 \"a\"가 아닌 소문자이므로 바꾸지 않습니다.\n",
        "    - 따라서 \"AbstrAct AlgebrA\"를 return 합니다.\n",
        "- 입출력 예 #2\n",
        "    - 0번, 2번, 4번, 6번, 8번, 10번 인덱스의 문자들은 \"A\"가 아닌 대문자이므로 전부 소문자로 고쳐줍니다.\n",
        "    - 5번 인덱스의 \"a\"는 소문자이므로 대문자로 고쳐줍니다.\n",
        "    - 다른 문자들은 전부 \"a\"가 아닌 소문자이므로 바꾸지 않습니다.\n",
        "    - 따라서 \"progrAmmers\"를 return 합니다."
      ],
      "metadata": {
        "id": "keRqTMDNwrij"
      }
    },
    {
      "cell_type": "code",
      "source": [
        "import re\n",
        "\n",
        "def solution(myString):\n",
        "    answer = ''\n",
        "\n",
        "    answer = re.sub('[a]', 'A', myString.lower())\n",
        "\n",
        "    return answer"
      ],
      "metadata": {
        "id": "quVv5r2Lw-Ec"
      },
      "execution_count": null,
      "outputs": []
    },
    {
      "cell_type": "markdown",
      "source": [
        "### ```92.``` 공백으로 구분하기 2\n",
        "\n",
        "### 문제 설명\n",
        "- 단어가 공백 한 개 이상으로 구분되어 있는 문자열 my_string이 매개변수로 주어질 때, my_string에 나온 단어를 앞에서부터 순서대로 담은 문자열 배열을 return 하는 solution 함수를 작성해 주세요.\n",
        "\n",
        "### 제한사항\n",
        "- my_string은 영소문자와 공백으로만 이루어져 있습니다.\n",
        "- 1 ≤ my_string의 길이 ≤ 1,000\n",
        "- my_string의 맨 앞과 맨 뒤에도 공백이 있을 수 있습니다.\n",
        "- my_string에는 단어가 하나 이상 존재합니다.\n",
        "\n",
        "### 입출력 예\n",
        "| my_string           | result               |\n",
        "|---------------------|----------------------|\n",
        "| \" i    love  you\"   | [\"i\", \"love\", \"you\"] |\n",
        "| \"    programmers  \" | [\"programmers\"]      |\n",
        "\n",
        "### 입출력 예 설명\n",
        "- 입출력 예 #1\n",
        "    - 예제 1번의 my_string은 \" i    love  you\"로 공백을 기준으로 단어를 나누면 \"i\", \"love\", \"you\" 3개의 단어가 있습니다. 따라서 [\"i\", \"love\", \"you\"]를 return 합니다.\n",
        "- 입출력 예 #2\n",
        "    - 예제 2번의 my_string은 \"    programmers  \"로 단어는 \"programmers\" 하나만 있습니다. 따라서 [\"programmers\"]를 return 합니다."
      ],
      "metadata": {
        "id": "Y8zj38ADKEjm"
      }
    },
    {
      "cell_type": "code",
      "source": [
        "def solution(my_string):\n",
        "    answer = []\n",
        "\n",
        "    answer = my_string.split()\n",
        "\n",
        "    return answer"
      ],
      "metadata": {
        "id": "eZgx1wqsKR2D"
      },
      "execution_count": null,
      "outputs": []
    },
    {
      "cell_type": "markdown",
      "source": [
        "### ```93.``` 덧셈식 출력하기\n",
        "\n",
        "### 문제 설명\n",
        "- 두 정수 a, b가 주어질 때 다음과 같은 형태의 계산식을 출력하는 코드를 작성해 보세요.\n",
        "    \n",
        "    ```a + b = c```\n",
        "\n",
        "### 제한사항\n",
        "- 1 ≤ a, b ≤ 100\n",
        "\n",
        "### 입출력 예\n",
        "- 입력 #1\n",
        "\n",
        "    ```4 5```\n",
        "\n",
        "- 입력 #2\n",
        "\n",
        "    ```4 + 5 = 9```"
      ],
      "metadata": {
        "id": "D5UU_IrUK51m"
      }
    },
    {
      "cell_type": "code",
      "source": [
        "a, b = map(int, input().strip().split(' '))\n",
        "print(f\"{a} + {b} = {a + b}\")"
      ],
      "metadata": {
        "id": "Ad640k8KLUih"
      },
      "execution_count": null,
      "outputs": []
    },
    {
      "cell_type": "markdown",
      "source": [
        "### ```94.``` 홀수 vs 짝수\n",
        "\n",
        "### 문제 설명\n",
        "- 정수 리스트 num_list가 주어집니다. 가장 첫 번째 원소를 1번 원소라고 할 때, 홀수 번째 원소들의 합과 짝수 번째 원소들의 합 중 큰 값을 return 하도록 solution 함수를 완성해주세요. 두 값이 같을 경우 그 값을 return합니다.\n",
        "\n",
        "### 제한사항\n",
        "- 5 ≤ num_list의 길이 ≤ 50\n",
        "- -9 ≤ num_list의 원소 ≤ 9\n",
        "\n",
        "### 입출력 예\n",
        "| num_list           | result |\n",
        "|--------------------|--------|\n",
        "| [4, 2, 6, 1, 7, 6] | 17     |\n",
        "| [-1, 2, 5, 6, 3]   | 8      |\n",
        "\n",
        "### 입출력 예 설명\n",
        "- 입출력 예 #1\n",
        "    - 홀수 번째 원소들의 합은 4 + 6 + 7 = 17, 짝수 번째 원소들의 합은 2 + 1 + 6 = 9 이므로 17을 return합니다.\n",
        "- 입출력 예 #2\n",
        "    - 홀수 번째 원소들의 합은 -1 + 5 + 3 = 7, 짝수 번째 원소들의 합은 2 + 6 = 8 이므로 8을 return합니다."
      ],
      "metadata": {
        "id": "KURS4I9vLic6"
      }
    },
    {
      "cell_type": "code",
      "source": [
        "def solution(num_list):\n",
        "    answer = 0\n",
        "\n",
        "    even_list = [num_list[i] for i in range(len(num_list)) if i % 2 == 0]\n",
        "    odd_list = [num_list[i] for i in range(len(num_list)) if i % 2 != 0]\n",
        "\n",
        "    if sum(even_list) > sum(odd_list):\n",
        "        answer = sum(even_list)\n",
        "    else:\n",
        "        answer = sum(odd_list)\n",
        "\n",
        "    return answer"
      ],
      "metadata": {
        "id": "wdHIURvoLwax"
      },
      "execution_count": null,
      "outputs": []
    },
    {
      "cell_type": "markdown",
      "source": [
        "### ```95.``` 배열의 길이에 따라 다른 연산하기\n",
        "\n",
        "### 문제 설명\n",
        "- 정수 배열 arr과 정수 n이 매개변수로 주어집니다. arr의 길이가 홀수라면 arr의 모든 짝수 인덱스 위치에 n을 더한 배열을, arr의 길이가 짝수라면 arr의 모든 홀수 인덱스 위치에 n을 더한 배열을 return 하는 solution 함수를 작성해 주세요.\n",
        "\n",
        "### 제한사항\n",
        "- 1 ≤ arr의 길이 ≤ 1,000\n",
        "- 1 ≤ arr의 원소 ≤ 1,000\n",
        "- 1 ≤ n ≤ 1,000\n",
        "\n",
        "### 입출력 예\n",
        "| arr                    | n   | result                 |\n",
        "|------------------------|-----|------------------------|\n",
        "| [49, 12, 100, 276, 33] | 27  | [76, 12, 127, 276, 60] |\n",
        "| [444, 555, 666, 777]   | 100 | [444, 655, 666, 877]   |\n",
        "\n",
        "### 입출력 예 설명\n",
        "- 입출력 예 #1\n",
        "    - 예제 1번의 arr의 길이는 5로 홀수입니다. 따라서 arr의 짝수 인덱스 0, 2, 4에 주어진 n 값인 27을 더하면 [76, 12, 127, 276, 60]이 됩니다. 따라서 [76, 12, 127, 276, 60]를 return 합니다.\n",
        "- 입출력 예 #1\n",
        "    - 예제 2번의 arr의 길이는 4로 짝수입니다. 따라서 arr의 홀수 인덱스 1, 3에 주어진 n 값인 100을 더하면 [444, 655, 666, 877]이 됩니다. 따라서 [444, 655, 666, 877]를 return 합니다."
      ],
      "metadata": {
        "id": "8CE5iom1Mr9I"
      }
    },
    {
      "cell_type": "code",
      "source": [
        "def solution(arr, n):\n",
        "    answer = []\n",
        "\n",
        "    if len(arr) % 2 != 0:\n",
        "        for i in range(len(arr)):\n",
        "            if i % 2 == 0:\n",
        "                answer.append(arr[i] + n)\n",
        "            else:\n",
        "                answer.append(arr[i])\n",
        "    else:\n",
        "        for i in range(len(arr)):\n",
        "            if i % 2 != 0:\n",
        "                answer.append(arr[i] + n)\n",
        "            else:\n",
        "                answer.append(arr[i])\n",
        "\n",
        "    return answer"
      ],
      "metadata": {
        "id": "ECqa7k9RM5Rx"
      },
      "execution_count": null,
      "outputs": []
    },
    {
      "cell_type": "markdown",
      "source": [
        "## 23년 05월 21일"
      ],
      "metadata": {
        "id": "hDYYVmf9RpFB"
      }
    },
    {
      "cell_type": "markdown",
      "source": [
        "### ```96.``` 부분 문자열 이어 붙여 문자열 만들기\n",
        "\n",
        "### 문제 설명\n",
        "- 길이가 같은 문자열 배열 my_strings와 이차원 정수 배열 parts가 매개변수로 주어집니다. parts[i]는 [s, e] 형태로, my_string[i]의 인덱스 s부터 인덱스 e까지의 부분 문자열을 의미합니다. 각 my_strings의 원소의 parts에 해당하는 부분 문자열을 순서대로 이어 붙인 문자열을 return 하는 solution 함수를 작성해 주세요.\n",
        "\n",
        "### 제한사항\n",
        "- 1 ≤ my_strings의 길이 = parts의 길이 ≤ 100\n",
        "- 1 ≤ my_strings의 원소의 길이 ≤ 100\n",
        "- parts[i]를 [s, e]라 할 때, 다음을 만족합니다.\n",
        "    - 0 ≤ s ≤ e < my_strings[i]의 길이\n",
        "\n",
        "### 입출력 예\n",
        "| my_strings                                            | parts                            | result        |\n",
        "|-------------------------------------------------------|----------------------------------|---------------|\n",
        "| [\"progressive\", \"hamburger\", \"hammer\", \"ahocorasick\"] | [[0, 4], [1, 2], [3, 5], [7, 7]] | \"programmers\" |\n",
        "\n",
        "### 입출력 예 설명\n",
        "- 입출력 예 #1\n",
        "    - 예제 1번의 입력을 보기 좋게 표로 나타내면 다음과 같습니다.\n",
        "\n",
        "| i | my_strings[i] | parts[i] | 부분 문자열 |\n",
        "|---|---------------|----------|-------------|\n",
        "| 0 | \"progressive\" | [0, 4]   | \"progr\"     |\n",
        "| 1 | \"hamburger\"   | [1, 2]   | \"am\"        |\n",
        "| 2 | \"hammer\"      | [3, 5]   | \"mer\"       |\n",
        "| 3 | \"ahocorasick\" | [7, 7]   | \"s\"         |\n",
        "\n",
        "    - 각 부분 문자열을 순서대로 이어 붙인 문자열은 \"programmers\"입니다. 따라서 \"programmers\"를 return 합니다."
      ],
      "metadata": {
        "id": "Go2FL0pHRrwm"
      }
    },
    {
      "cell_type": "code",
      "source": [
        "def solution(my_strings, parts):\n",
        "    answer = ''\n",
        "\n",
        "    for i in range(len(my_strings)):\n",
        "        answer += my_strings[i][parts[i][0]:parts[i][1] + 1]\n",
        "\n",
        "    return answer"
      ],
      "metadata": {
        "id": "RMKJVFEgSAgi"
      },
      "execution_count": null,
      "outputs": []
    },
    {
      "cell_type": "markdown",
      "source": [
        "### ```97.``` 0 떼기\n",
        "\n",
        "### 문제 설명\n",
        "- 정수로 이루어진 문자열 n_str이 주어질 때, n_str의 가장 왼쪽에 처음으로 등장하는 0들을 뗀 문자열을 return하도록 solution 함수를 완성해주세요.\n",
        "\n",
        "### 제한사항\n",
        "- 2 ≤ n_str ≤ 10\n",
        "- n_str이 \"0\"으로만 이루어진 경우는 없습니다.\n",
        "\n",
        "### 입출력 예\n",
        "| n_str    | result   |\n",
        "|----------|----------|\n",
        "| \"0010\"   | \"10\"     |\n",
        "| \"854020\" | \"854020\" |\n",
        "\n",
        "### 입출력 예 설명\n",
        "- 입출력 예 #1\n",
        "    - \"0010\"의 가장 왼쪽에 연속으로 등장하는 \"0\"을 모두 제거하면 \"10\"이 됩니다.\n",
        "- 입출력 예 #2\n",
        "    - \"854020\"는 가장 왼쪽에 0이 없으므로 \"854020\"을 return합니다."
      ],
      "metadata": {
        "id": "NgEU6Kl7T8hS"
      }
    },
    {
      "cell_type": "code",
      "source": [
        "def solution(n_str):\n",
        "    answer = ''\n",
        "\n",
        "    answer = str(int(n_str))\n",
        "\n",
        "    return answer"
      ],
      "metadata": {
        "id": "01YAbPZNURby"
      },
      "execution_count": null,
      "outputs": []
    },
    {
      "cell_type": "markdown",
      "source": [
        "### ```98.``` 문자열 섞기\n",
        "\n",
        "### 문제 설명\n",
        "- 길이가 같은 두 문자열 str1과 str2가 주어집니다.\n",
        "- 두 문자열의 각 문자가 앞에서부터 서로 번갈아가면서 한 번씩 등장하는 문자열을 만들어 return 하는 solution 함수를 완성해 주세요.\n",
        "\n",
        "### 제한사항\n",
        "- 1 ≤ str1의 길이 = str2의 길이 ≤ 10\n",
        "    - str1과 str2는 알파벳 소문자로 이루어진 문자열입니다.\n",
        "\n",
        "### 입출력 예\n",
        "| str1    | str2    | result       |\n",
        "|---------|---------|--------------|\n",
        "| \"aaaaa\" | \"bbbbb\" | \"ababababab\" |"
      ],
      "metadata": {
        "id": "sLsdhjx9UlIH"
      }
    },
    {
      "cell_type": "code",
      "source": [
        "def solution(str1, str2):\n",
        "    answer = ''\n",
        "\n",
        "    for i in range(len(str1)):\n",
        "        answer += str1[i]\n",
        "        answer += str2[i]\n",
        "\n",
        "    return answer"
      ],
      "metadata": {
        "id": "GO_RGuyuUxsk"
      },
      "execution_count": null,
      "outputs": []
    },
    {
      "cell_type": "markdown",
      "source": [
        "### ```99.``` l로 만들기\n",
        "\n",
        "### 문제 설명\n",
        "- 알파벳 소문자로 이루어진 문자열 myString이 주어집니다. 알파벳 순서에서 \"l\"보다 앞서는 모든 문자를 \"l\"로 바꾼 문자열을 return 하는 solution 함수를 완성해 주세요.\n",
        "\n",
        "### 제한사항\n",
        "- 1 ≤ myString ≤ 100,000\n",
        "- myString은 알파벳 소문자로 이루어진 문자열입니다.\n",
        "\n",
        "### 입출력 예\n",
        "| myString     | result       |\n",
        "|--------------|--------------|\n",
        "| \"abcdevwxyz\" | \"lllllvwxyz\" |\n",
        "| \"jjnnllkkmm\" | \"llnnllllmm\" |\n",
        "\n",
        "### 입출력 예 설명\n",
        "- 입출력 예 #1\n",
        "    - 0 ~ 4번 인덱스의 문자 \"a\",\"b\",\"c\",\"d\",\"e\"는 각각 \"l\"보다 앞서는 문자입니다. 따라서 \"l\"로 고쳐줍니다.\n",
        "    - 그 외의 문자는 모두 \"l\"보다 앞서지 않는 문자입니다. 따라서 바꾸지 않습니다.\n",
        "    - 따라서 \"lllllvwxyz\"을 return 합니다.\n",
        "- 입출력 예 #2\n",
        "    - 0번, 1번, 6번, 7번 인덱스의 문자 \"j\",\"j\",\"k\",\"k\"는 각각 \"l\"보다 앞서는 문자입니다. 따라서 \"l\"로 고쳐줍니다.\n",
        "    - 그 외의 문자는 모두 \"l\"보다 앞서지 않는 문자입니다. 따라서 바꾸지 않습니다.\n",
        "    - 따라서 \"llnnllllmm\"을 return 합니다."
      ],
      "metadata": {
        "id": "35eX42CbVF-O"
      }
    },
    {
      "cell_type": "code",
      "source": [
        "import re\n",
        "\n",
        "def solution(myString):\n",
        "    answer = ''\n",
        "\n",
        "    answer = re.sub('[a-k]', 'l', myString)\n",
        "\n",
        "    return answer"
      ],
      "metadata": {
        "id": "EwUryhi8VW0P"
      },
      "execution_count": null,
      "outputs": []
    },
    {
      "cell_type": "markdown",
      "source": [
        "### ```100.``` 배열 비교하기\n",
        "\n",
        "### 문제 설명\n",
        "- 이 문제에서 두 정수 배열의 대소관계를 다음과 같이 정의합니다.\n",
        "    - 두 배열의 길이가 다르다면, 배열의 길이가 긴 쪽이 더 큽니다.\n",
        "    - 배열의 길이가 같다면 각 배열에 있는 모든 원소의 합을 비교하여 다르다면 더 큰 쪽이 크고, 같다면 같습니다.\n",
        "- 두 정수 배열 arr1과 arr2가 주어질 때, 위에서 정의한 배열의 대소관계에 대하여 arr2가 크다면 -1, arr1이 크다면 1, 두 배열이 같다면 0을 return 하는 solution 함수를 작성해 주세요.\n",
        "\n",
        "### 제한사항\n",
        "- 1 ≤ arr1의 길이 ≤ 100\n",
        "- 1 ≤ arr2의 길이 ≤ 100\n",
        "- 1 ≤ arr1의 원소 ≤ 100\n",
        "- 1 ≤ arr2의 원소 ≤ 100\n",
        "- 문제에서 정의한 배열의 대소관계가 일반적인 프로그래밍 언어에서 정의된 배열의 대소관계와 다를 수 있는 점에 유의해주세요.\n",
        "\n",
        "### 입출력 예\n",
        "| arr1             | arr2             | result |\n",
        "|------------------|------------------|--------|\n",
        "| [49, 13]         | [70, 11, 2]      | -1     |\n",
        "| [100, 17, 84, 1] | [55, 12, 65, 36] | 1      |\n",
        "| [1, 2, 3, 4, 5]  | [3, 3, 3, 3, 3]  | 0      |\n",
        "\n",
        "### 입출력 예 설명\n",
        "- 입출력 예 #1\n",
        "    - 예제 1번에서는 arr1의 길이는 2이고 arr2의 길이는 3으로 arr2의 길이가 더 깁니다. 따라서 arr2가 arr1보다 크므로 -1을 return 합니다.\n",
        "- 입출력 예 #2\n",
        "    - 예제 2번에서는 arr1의 길이과 arr2의 길이가 4로 같습니다. arr1의 모든 원소의 합은 100 + 17 + 84 + 1 = 202이고 arr2의 모든 원소의 합은 55 + 12 + 65 + 36 = 168으로 arr1의 모든 원소의 합이 더 큽니다. 따라서 arr1이 arr2보다 크므로 1을 return 합니다.\n",
        "- 입출력 예 #3\n",
        "    - 예제 3번에서는 arr1의 길이와 arr2의 길이가 5로 같고 각 배열의 모든 원소의 합 또한 15로 같습니다. 따라서 arr1과 arr2가 같으므로 0을 return 합니다."
      ],
      "metadata": {
        "id": "6kEFdozzVzA8"
      }
    },
    {
      "cell_type": "code",
      "source": [
        "def solution(arr1, arr2):\n",
        "    answer = 0\n",
        "\n",
        "    if (len(arr1) > len(arr2)) or ((len(arr1) == len(arr2)) and (sum(arr1) > sum(arr2))):\n",
        "        answer = 1\n",
        "    elif (len(arr1) < len(arr2)) or ((len(arr1) == len(arr2)) and (sum(arr1) < sum(arr2))):\n",
        "        answer = -1\n",
        "\n",
        "    return answer"
      ],
      "metadata": {
        "id": "Cn8NPcheWH-B"
      },
      "execution_count": null,
      "outputs": []
    },
    {
      "cell_type": "markdown",
      "source": [
        "### ```101.``` 접미사 배열\n",
        "\n",
        "### 문제 설명\n",
        "- 어떤 문자열에 대해서 접미사는 특정 인덱스부터 시작하는 문자열을 의미합니다. 예를 들어, \"banana\"의 모든 접미사는 \"banana\", \"anana\", \"nana\", \"ana\", \"na\", \"a\"입니다.\n",
        "- 문자열 my_string이 매개변수로 주어질 때, my_string의 모든 접미사를 사전순으로 정렬한 문자열 배열을 return 하는 solution 함수를 작성해 주세요.\n",
        "\n",
        "### 제한사항\n",
        "- my_string은 알파벳 소문자로만 이루어져 있습니다.\n",
        "- 1 ≤ my_string의 길이 ≤ 100\n",
        "\n",
        "### 입출력 예\n",
        "| my_string     | result                                                                                                         |\n",
        "|---------------|----------------------------------------------------------------------------------------------------------------|\n",
        "| \"banana\"      | [\"a\", \"ana\", \"anana\", \"banana\", \"na\", \"nana\"]                                                                  |\n",
        "| \"programmers\" | [\"ammers\", \"ers\", \"grammers\", \"mers\", \"mmers\", \"ogrammers\", \"programmers\", \"rammers\", \"rogrammers\", \"rs\", \"s\"] |\n",
        "\n",
        "### 입출력 예 설명\n",
        "- 입출력 예 #1\n",
        "    - 예제 1번의 my_string는 \"banana\"로 모든 접미사는 문제의 설명과 같습니다. 이를 사전순으로 정렬하면 \"a\", \"ana\", \"anana\", \"banana\", \"na\", \"nana\"이므로 [\"a\", \"ana\", \"anana\", \"banana\", \"na\", \"nana\"]를 return 합니다.\n",
        "- 입출력 예 #2\n",
        "    - 예제 2번의 my_string는 \"programmers\"이고 모든 접미사는 \"programmers\", \"rogrammers\", \"ogrammers\", \"grammers\", \"rammers\", \"ammers\", \"mmers\", \"mers\", \"ers\", \"rs\", \"s\"입니다. 이를 사전순으로 정렬한 문자열 배열 [\"ammers\", \"ers\", \"grammers\", \"mers\", \"mmers\", \"ogrammers\", \"programmers\", \"rammers\", \"rogrammers\", \"rs\", \"s\"]를 return 합니다."
      ],
      "metadata": {
        "id": "qB8x_AVBXOtT"
      }
    },
    {
      "cell_type": "code",
      "source": [
        "def solution(my_string):\n",
        "    answer = []\n",
        "\n",
        "    answer = sorted(list(map(lambda x : my_string[x:], range(len(my_string)))))\n",
        "\n",
        "    return answer"
      ],
      "metadata": {
        "id": "qcthAbVpXele"
      },
      "execution_count": null,
      "outputs": []
    },
    {
      "cell_type": "markdown",
      "source": [
        "### ```102.``` 5명씩\n",
        "\n",
        "### 문제 설명\n",
        "- 최대 5명씩 탑승가능한 놀이기구를 타기 위해 줄을 서있는 사람들의 이름이 담긴 문자열 리스트 names가 주어질 때, 앞에서 부터 5명씩 묶은 그룹의 가장 앞에 서있는 사람들의 이름을 담은 리스트를 return하도록 solution 함수를 완성해주세요. 마지막 그룹이 5명이 되지 않더라도 가장 앞에 있는 사람의 이름을 포함합니다.\n",
        "\n",
        "### 제한사항\n",
        "- 5 ≤ names의 길이 ≤ 30\n",
        "- 1 ≤ names의 원소의 길이 ≤ 10\n",
        "- names의 원소는 영어 알파벳 소문자로만 이루어져 있습니다.\n",
        "\n",
        "### 입출력 예\n",
        "| names                                                      | result          |\n",
        "|------------------------------------------------------------|-----------------|\n",
        "| [\"nami\", \"ahri\", \"jayce\", \"garen\", \"ivern\", \"vex\", \"jinx\"] | [\"nami\", \"vex\"] |\n",
        "\n",
        "### 입출력 예 설명\n",
        "- 입출력 예 #1\n",
        "    - 앞에서부터 5명씩 두 그룹으로 묶을 수 있습니다. [\"nami\", \"ahri\", \"jayce\", \"garen\", \"ivern\"], [\"vex\", \"jinx\"] 이 두 그룹에서 가장 앞에 서있는 사람들의 이름을 담은 리스트인 [\"nami\", \"vex\"]를 return합니다."
      ],
      "metadata": {
        "id": "nlPs2jlyY1uN"
      }
    },
    {
      "cell_type": "code",
      "source": [
        "def solution(names):\n",
        "    answer = []\n",
        "\n",
        "    for i in range(len(names)):\n",
        "        if i % 5 == 0:\n",
        "            answer.append(names[i])\n",
        "\n",
        "    return answer"
      ],
      "metadata": {
        "id": "6GstgqPFZGCK"
      },
      "execution_count": null,
      "outputs": []
    },
    {
      "cell_type": "markdown",
      "source": [
        "### ```103.``` 문자열 돌리기\n",
        "\n",
        "### 문제 설명\n",
        "- 문자열 str이 주어집니다.\n",
        "- 문자열을 시계방향으로 90도 돌려서 아래 입출력 예와 같이 출력하는 코드를 작성해 보세요.\n",
        "\n",
        "### 제한사항\n",
        "- 1 ≤ str의 길이 ≤ 10\n",
        "\n",
        "### 입출력 예\n",
        "- 입력 #1\n",
        "    ```\n",
        "    abcde\n",
        "    ```\n",
        "- 출력 #1\n",
        "    ```\n",
        "    a\n",
        "    b\n",
        "    c\n",
        "    d\n",
        "    e\n",
        "    ```\n"
      ],
      "metadata": {
        "id": "gXKpNUWnZcFy"
      }
    },
    {
      "cell_type": "code",
      "source": [
        "str = input()\n",
        "[print(str[i]) for i in range(len(str))]"
      ],
      "metadata": {
        "id": "DhFfRHUpZboG"
      },
      "execution_count": null,
      "outputs": []
    },
    {
      "cell_type": "markdown",
      "source": [
        "### ```104.``` 배열의 원소 삭제하기\n",
        "\n",
        "### 문제 설명\n",
        "- 정수 배열 arr과 delete_list가 있습니다. arr의 원소 중 delete_list의 원소를 모두 삭제하고 남은 원소들은 기존의 arr에 있던 순서를 유지한 배열을 return 하는 solution 함수를 작성해 주세요.\n",
        "\n",
        "### 제한사항\n",
        "- 1 ≤ arr의 길이 ≤ 100\n",
        "- 1 ≤ arr의 원소 ≤ 1,000\n",
        "- arr의 원소는 모두 서로 다릅니다.\n",
        "- 1 ≤ delete_list의 길이 ≤ 100\n",
        "- 1 ≤ delete_list의 원소 ≤ 1,000\n",
        "- delete_list의 원소는 모두 서로 다릅니다.\n",
        "\n",
        "### 입출력 예\n",
        "| arr                       | delete_list                 | result                 |\n",
        "|---------------------------|-----------------------------|------------------------|\n",
        "| [293, 1000, 395, 678, 94] | [94, 777, 104, 1000, 1, 12] | [293, 395, 678]        |\n",
        "| [110, 66, 439, 785, 1]    | [377, 823, 119, 43]         | [110, 66, 439, 785, 1] |\n",
        "\n",
        "### 입출력 예 설명\n",
        "- 입출력 예 #1\n",
        "    - 예제 1번의 arr의 원소 중 1000과 94가 delete_list에 있으므로 이 두 원소를 삭제한 [293, 395, 678]을 return 합니다.\n",
        "- 입출력 예 #2\n",
        "    - 예제 2번의 arr의 원소 중 delete_list에 있는 원소는 없습니다. 따라서 arr 그대로인 [110, 66, 439, 785, 1]을 return 합니다."
      ],
      "metadata": {
        "id": "PJq6_CFPZ9XY"
      }
    },
    {
      "cell_type": "code",
      "source": [
        "def solution(arr, delete_list):\n",
        "    answer = []\n",
        "\n",
        "    [arr.remove(delete_list[i]) for i in range(len(delete_list)) if delete_list[i] in arr]\n",
        "    answer = arr\n",
        "\n",
        "    return answer"
      ],
      "metadata": {
        "id": "dJJjg8DIaMDc"
      },
      "execution_count": null,
      "outputs": []
    },
    {
      "cell_type": "markdown",
      "source": [
        "### ```105.``` 할 일 목록\n",
        "\n",
        "### 문제 설명\n",
        "- 오늘 해야 할 일이 담긴 문자열 배열 todo_list와 각각의 일을 지금 마쳤는지를 나타내는 boolean 배열 finished가 매개변수로 주어질 때, todo_list에서 아직 마치지 못한 일들을 순서대로 담은 문자열 배열을 return 하는 solution 함수를 작성해 주세요.\n",
        "\n",
        "### 제한사항\n",
        "- 1 ≤ todo_list의 길이 1 ≤ 100\n",
        "- 2 ≤ todo_list의 원소의 길이 ≤ 20\n",
        "    - todo_list의 원소는 영소문자로만 이루어져 있습니다.\n",
        "    - todo_list의 원소는 모두 서로 다릅니다.\n",
        "- finished[i]는 true 또는 false이고 true는 todo_list[i]를 마쳤음을, false는 아직 마치지 못했음을 나타냅니다.\n",
        "- 아직 마치지 못한 일이 적어도 하나 있습니다.\n",
        "\n",
        "### 입출력 예\n",
        "| todo_list                                                  | finished                   | result                           |\n",
        "|------------------------------------------------------------|----------------------------|----------------------------------|\n",
        "| [\"problemsolving\", \"practiceguitar\", \"swim\", \"studygraph\"] | [true, false, true, false] | [\"practiceguitar\", \"studygraph\"] |\n",
        "\n",
        "### 입출력 예 설명\n",
        "- 입출력 예 #1\n",
        "    - 예제 1번의 todo_list 중에서 \"problemsolving\"과 \"swim\"은 마쳤고, \"practiceguitar\"와 \"studygraph\"는 아직 마치지 못했으므로 todo_list에서 나온 순서대로 담은 문자열 배열 [\"practiceguitar\", \"studygraph\"]를 return 합니다.\n"
      ],
      "metadata": {
        "id": "7RIkI-PbcKth"
      }
    },
    {
      "cell_type": "code",
      "source": [
        "def solution(todo_list, finished):\n",
        "    answer = []\n",
        "\n",
        "    todo_list = list(zip(todo_list, finished))\n",
        "    [answer.append(todo_list[i][0]) for i in range(len(todo_list)) if todo_list[i][1] == False]\n",
        "\n",
        "    return answer"
      ],
      "metadata": {
        "id": "L6x8DnHXcdip"
      },
      "execution_count": null,
      "outputs": []
    },
    {
      "cell_type": "markdown",
      "source": [
        "## 23년 05월 22일"
      ],
      "metadata": {
        "id": "y9Gq7X9lxKvZ"
      }
    },
    {
      "cell_type": "markdown",
      "source": [
        "### ```106.``` 가위 바위 보\n",
        "\n",
        "### 문제 설명\n",
        "- 가위는 2 바위는 0 보는 5로 표현합니다. 가위 바위 보를 내는 순서대로 나타낸 문자열 rsp가 매개변수로 주어질 때, rsp에 저장된 가위 바위 보를 모두 이기는 경우를 순서대로 나타낸 문자열을 return하도록 solution 함수를 완성해보세요.\n",
        "\n",
        "### 제한사항\n",
        "- 0 < rsp의 길이 ≤ 100\n",
        "- rsp와 길이가 같은 문자열을 return 합니다.\n",
        "- rsp는 숫자 0, 2, 5로 이루어져 있습니다.\n",
        "\n",
        "### 입출력 예\n",
        "| rsp   | result |\n",
        "|-------|--------|\n",
        "| \"2\"   | \"0\"    |\n",
        "| \"205\" | \"052\"  |\n",
        "\n",
        "### 입출력 예 설명\n",
        "- 입출력 예 #1\n",
        "    - \"2\"는 가위이므로 바위를 나타내는 \"0\"을 return 합니다.\n",
        "- 입출력 예 #2\n",
        "    - \"205\"는 순서대로 가위, 바위, 보이고 이를 모두 이기려면 바위, 보, 가위를 순서대로 내야하므로 “052”를 return합니다."
      ],
      "metadata": {
        "id": "QIyKC2OKxNUu"
      }
    },
    {
      "cell_type": "code",
      "source": [
        "def solution(rsp):\n",
        "    answer = ''\n",
        "\n",
        "    for i in rsp:\n",
        "        if i == '2':\n",
        "            answer += '0'\n",
        "        elif i == '5':\n",
        "            answer += '2'\n",
        "        else:\n",
        "            answer += '5'\n",
        "\n",
        "    return answer"
      ],
      "metadata": {
        "id": "s7EY4vtgxy4o"
      },
      "execution_count": null,
      "outputs": []
    },
    {
      "cell_type": "markdown",
      "source": [
        "### ```107.``` 세균 증식\n",
        "\n",
        "### 문제 설명\n",
        "- 어떤 세균은 1시간에 두배만큼 증식한다고 합니다. 처음 세균의 마리수 n과 경과한 시간 t가 매개변수로 주어질 때 t시간 후 세균의 수를 return하도록 solution 함수를 완성해주세요.\n",
        "\n",
        "### 제한사항\n",
        "- 1 ≤ n ≤ 10\n",
        "- 1 ≤ t ≤ 15\n",
        "\n",
        "### 입출력 예\n",
        "| n | t  | result  |\n",
        "|---|----|---------|\n",
        "| 2 | 10 | 2048    |\n",
        "| 7 | 15 | 229,376 |\n",
        "\n",
        "### 입출력 예 설명\n",
        "- 입출력 예 #1\n",
        "    - 처음엔 2마리, 1시간 후엔 4마리, 2시간 후엔 8마리, ..., 10시간 후엔 2048마리가 됩니다. 따라서 2048을 return합니다.\n",
        "- 입출력 예 #2\n",
        "    - 처음엔 7마리, 1시간 후엔 14마리, 2시간 후엔 28마리, ..., 15시간 후엔 229376마리가 됩니다. 따라서 229,376을 return합니다."
      ],
      "metadata": {
        "id": "pU2KlRXt1Kea"
      }
    },
    {
      "cell_type": "code",
      "source": [
        "def solution(n, t):\n",
        "    answer = 0\n",
        "\n",
        "    for i in range(t):\n",
        "        n *= 2\n",
        "    answer = n\n",
        "\n",
        "    return answer"
      ],
      "metadata": {
        "id": "gi7HfJtq10B8"
      },
      "execution_count": null,
      "outputs": []
    },
    {
      "cell_type": "markdown",
      "source": [
        "### ```108.``` 대문자와 소문자\n",
        "\n",
        "### 문제 설명\n",
        "- 문자열 my_string이 매개변수로 주어질 때, 대문자는 소문자로 소문자는 대문자로 변환한 문자열을 return하도록 solution 함수를 완성해주세요.\n",
        "\n",
        "### 제한사항\n",
        "- 1 ≤ my_string의 길이 ≤ 1,000\n",
        "- my_string은 영어 대문자와 소문자로만 구성되어 있습니다.\n",
        "\n",
        "### 입출력 예\n",
        "| my_string    | result       |\n",
        "|--------------|--------------|\n",
        "| \"cccCCC\"     | \"CCCccc\"     |\n",
        "| \"abCdEfghIJ\" | \"ABcDeFGHij\" |\n",
        "\n",
        "### 입출력 예 설명\n",
        "- 입출력 예 #1\n",
        "    - 소문자는 대문자로 대문자는 소문자로 바꾼 \"CCCccc\"를 return합니다.\n",
        "- 입출력 예 #2\n",
        "    - 소문자는 대문자로 대문자는 소문자로 바꾼 \"ABcDeFGHij\"를 return합니다."
      ],
      "metadata": {
        "id": "lSDFVJs12O0G"
      }
    },
    {
      "cell_type": "code",
      "source": [
        "import re\n",
        "\n",
        "def solution(my_string):\n",
        "    answer = ''\n",
        "\n",
        "    p_lower = re.compile('[a-z]')\n",
        "    p_upper = re.compile('[A-Z]')\n",
        "    for i in my_string:\n",
        "        if p_lower.match(i):\n",
        "            answer += i.upper()\n",
        "        else:\n",
        "            answer += i.lower()\n",
        "\n",
        "    return answer"
      ],
      "metadata": {
        "id": "NNwHrHqj2eMl"
      },
      "execution_count": null,
      "outputs": []
    },
    {
      "cell_type": "markdown",
      "source": [
        "### ```109.``` 주사위의 개수\n",
        "\n",
        "### 문제 설명\n",
        "- 머쓱이는 직육면체 모양의 상자를 하나 가지고 있는데 이 상자에 정육면체 모양의 주사위를 최대한 많이 채우고 싶습니다. 상자의 가로, 세로, 높이가 저장되어있는 배열 box와 주사위 모서리의 길이 정수 n이 매개변수로 주어졌을 때, 상자에 들어갈 수 있는 주사위의 최대 개수를 return 하도록 solution 함수를 완성해주세요.\n",
        "\n",
        "### 제한사항\n",
        "- box의 길이는 3입니다.\n",
        "- box[0] = 상자의 가로 길이\n",
        "- box[1] = 상자의 세로 길이\n",
        "- box[2] = 상자의 높이 길이\n",
        "- 1 ≤ box의 원소 ≤ 100\n",
        "- 1 ≤ n ≤ 50\n",
        "- n ≤ box의 원소\n",
        "- 주사위는 상자와 평행하게 넣습니다.\n",
        "\n",
        "### 입출력 예\n",
        "| box        | n | result |\n",
        "|------------|---|--------|\n",
        "| [1, 1, 1]  | 1 | 1      |\n",
        "| [10, 8, 6] | 3 | 12     |\n",
        "\n",
        "### 입출력 예 설명\n",
        "- 입출력 예 #1\n",
        "    - 상자의 크기가 가로 1, 세로 1, 높이 1이므로 모서리의 길이가 1인 주사위는 1개 들어갈 수 있습니다.\n",
        "- 입출력 예 #2\n",
        "    - 상자의 크기가 가로 10, 세로 8, 높이 6이므로 모서리의 길이가 3인 주사위는 12개 들어갈 수 있습니다."
      ],
      "metadata": {
        "id": "1_qR7Bz-4Ouy"
      }
    },
    {
      "cell_type": "code",
      "source": [
        "def solution(box, n):\n",
        "    answer = 0\n",
        "\n",
        "    for i in range(len(box)):\n",
        "        if i == 0:\n",
        "            answer += box[i] // n\n",
        "        else:\n",
        "            answer *= box[i] // n\n",
        "\n",
        "    return answer"
      ],
      "metadata": {
        "id": "7-KVNJIB4dqn"
      },
      "execution_count": null,
      "outputs": []
    },
    {
      "cell_type": "markdown",
      "source": [
        "### ```110.``` 직각삼각형 출력하기\n",
        "\n",
        "### 문제 설명\n",
        "- \"*\"의 높이와 너비를 1이라고 했을 때, \"*\"을 이용해 직각 이등변 삼각형을 그리려고합니다. 정수 n 이 주어지면 높이와 너비가 n 인 직각 이등변 삼각형을 출력하도록 코드를 작성해보세요.\n",
        "\n",
        "### 제한사항\n",
        "- 1 ≤ n ≤ 10\n",
        "\n",
        "### 입출력 예\n",
        "- 입력 #1\n",
        "    ```\n",
        "    3\n",
        "    ```\n",
        "- 출력 #1\n",
        "    ```\n",
        "    *\n",
        "    **\n",
        "    ***\n",
        "    ```\n",
        "\n",
        "### 입출력 예 설명\n",
        "- 입출력 예 #1\n",
        "    - n이 3이므로 첫째 줄에 * 1개, 둘째 줄에 * 2개, 셋째 줄에 * 3개를 출력합니다.\n"
      ],
      "metadata": {
        "id": "ok5OBa-45alf"
      }
    },
    {
      "cell_type": "code",
      "source": [
        "n = int(input())\n",
        "for i in range(1, n + 1):\n",
        "    print('*' * i)"
      ],
      "metadata": {
        "id": "NAB-b7CY5sFp"
      },
      "execution_count": null,
      "outputs": []
    },
    {
      "cell_type": "markdown",
      "source": [
        "## 23년 05월 23일"
      ],
      "metadata": {
        "id": "qz6RH99pdOu1"
      }
    },
    {
      "cell_type": "markdown",
      "source": [
        "### ```111.``` 최댓값 만들기 (2)\n",
        "\n",
        "### 문제 설명\n",
        "- 정수 배열 numbers가 매개변수로 주어집니다. numbers의 원소 중 두 개를 곱해 만들 수 있는 최댓값을 return하도록 solution 함수를 완성해주세요.\n",
        "\n",
        "### 제한사항\n",
        "- -10,000 ≤ numbers의 원소 ≤ 10,000\n",
        "- 2 ≤ numbers 의 길이 ≤ 100\n",
        "\n",
        "### 입출력 예\n",
        "| numbers                   | result |\n",
        "|---------------------------|--------|\n",
        "| [1, 2, -3, 4, -5]         | 15     |\n",
        "| [0, -31, 24, 10, 1, 9]    | 240    |\n",
        "| [10, 20, 30, 5, 5, 20, 5] | 600    |\n",
        "\n",
        "### 입출력 예 설명\n",
        "- 입출력 예 #1\n",
        "    - 두 수의 곱중 최댓값은 -3 * -5 = 15 입니다.\n",
        "- 입출력 예 #2\n",
        "    - 두 수의 곱중 최댓값은 10 * 24 = 240 입니다.\n",
        "- 입출력 예 #3\n",
        "    - 두 수의 곱중 최댓값은 20 * 30 = 600 입니다."
      ],
      "metadata": {
        "id": "UDlua1ZMdQjj"
      }
    },
    {
      "cell_type": "code",
      "source": [
        "from itertools import combinations\n",
        "\n",
        "def solution(numbers):\n",
        "    answer = 0\n",
        "\n",
        "    answer = max([i[0] * i[1] for i in list(combinations(numbers, 2))])\n",
        "\n",
        "    return answer"
      ],
      "metadata": {
        "id": "jNLlj_7FdeaK"
      },
      "execution_count": null,
      "outputs": []
    },
    {
      "cell_type": "markdown",
      "source": [
        "### ```112.``` 문자열 정렬하기 (1)\n",
        "\n",
        "### 문제 설명\n",
        "- 문자열 my_string이 매개변수로 주어질 때, my_string 안에 있는 숫자만 골라 오름차순 정렬한 리스트를 return 하도록 solution 함수를 작성해보세요.\n",
        "\n",
        "### 제한사항\n",
        "- 1 ≤ my_string의 길이 ≤ 100\n",
        "- my_string에는 숫자가 한 개 이상 포함되어 있습니다.\n",
        "- my_string은 영어 소문자 또는 0부터 9까지의 숫자로 이루어져 있습니다. - - -\n",
        "\n",
        "### 입출력 예\n",
        "| my_string   | result          |\n",
        "|-------------|-----------------|\n",
        "| \"hi12392\"   | [1, 2, 2, 3, 9] |\n",
        "| \"p2o4i8gj2\" | [2, 2, 4, 8]    |\n",
        "| \"abcde0\"    | [0]             |\n",
        "\n",
        "### 입출력 예 설명\n",
        "- 입출력 예 #1\n",
        "    - \"hi12392\"에 있는 숫자 1, 2, 3, 9, 2를 오름차순 정렬한 [1, 2, 2, 3, 9]를 return 합니다.\n",
        "- 입출력 예 #2\n",
        "    - \"p2o4i8gj2\"에 있는 숫자 2, 4, 8, 2를 오름차순 정렬한 [2, 2, 4, 8]을 return 합니다.\n",
        "- 입출력 예 #3\n",
        "    - \"abcde0\"에 있는 숫자 0을 오름차순 정렬한 [0]을 return 합니다."
      ],
      "metadata": {
        "id": "BGDFemxSfP77"
      }
    },
    {
      "cell_type": "code",
      "source": [
        "import re\n",
        "\n",
        "def solution(my_string):\n",
        "    answer = []\n",
        "\n",
        "    answer = sorted(list(map(lambda x : int(x), re.sub('[a-z]', '', my_string))))\n",
        "\n",
        "    return answer"
      ],
      "metadata": {
        "id": "4Of--cD7fhGn"
      },
      "execution_count": null,
      "outputs": []
    },
    {
      "cell_type": "markdown",
      "source": [
        "### ```113.``` n의 배수 고르기\n",
        "\n",
        "### 문제 설명\n",
        "- 정수 n과 정수 배열 numlist가 매개변수로 주어질 때, numlist에서 n의 배수가 아닌 수들을 제거한 배열을 return하도록 solution 함수를 완성해주세요.\n",
        "\n",
        "### 제한사항\n",
        "- 1 ≤ n ≤ 10,000\n",
        "- 1 ≤ numlist의 크기 ≤ 100\n",
        "- 1 ≤ numlist의 원소 ≤ 100,000\n",
        "\n",
        "### 입출력 예\n",
        "| n  | numlist                        | result             |\n",
        "|----|--------------------------------|--------------------|\n",
        "| 3  | [4, 5, 6, 7, 8, 9, 10, 11, 12] | [6, 9, 12]         |\n",
        "| 5  | [1, 9, 3, 10, 13, 5]           | [10, 5]            |\n",
        "| 12 | [2, 100, 120, 600, 12, 12]     | [120, 600, 12, 12] |\n",
        "\n",
        "### 입출력 예 설명\n",
        "- 입출력 예 #1\n",
        "    - numlist에서 3의 배수만을 남긴 [6, 9, 12]를 return합니다.\n",
        "- 입출력 예 #2\n",
        "    - numlist에서 5의 배수만을 남긴 [10, 5]를 return합니다.\n",
        "- 입출력 예 #3\n",
        "    - numlist에서 12의 배수만을 남긴 [120, 600, 12, 12]를 return합니다."
      ],
      "metadata": {
        "id": "d-z8ncYmgiGE"
      }
    },
    {
      "cell_type": "code",
      "source": [
        "def solution(n, numlist):\n",
        "    answer = []\n",
        "\n",
        "    [answer.append(i) for i in numlist if i % n == 0]\n",
        "\n",
        "    return answer"
      ],
      "metadata": {
        "id": "boQCnz0HhCza"
      },
      "execution_count": null,
      "outputs": []
    },
    {
      "cell_type": "markdown",
      "source": [
        "### ```114.``` 인덱스 바꾸기\n",
        "\n",
        "### 문제 설명\n",
        "- 문자열 my_string과 정수 num1, num2가 매개변수로 주어질 때, my_string에서 인덱스 num1과 인덱스 num2에 해당하는 문자를 바꾼 문자열을 return 하도록 solution 함수를 완성해보세요.\n",
        "\n",
        "### 제한사항\n",
        "- 1 < my_string의 길이 < 100\n",
        "- 0 ≤ num1, num2 < my_string의 길이\n",
        "- my_string은 소문자로 이루어져 있습니다.\n",
        "- num1 ≠ num2\n",
        "\n",
        "### 입출력 예\n",
        "| my_string    | num1 | num2 | result       |\n",
        "|--------------|------|------|--------------|\n",
        "| \"hello\"      | 1    | 2    | \"hlelo\"      |\n",
        "| \"I love you\" | 3    | 6    | \"I l veoyou\" |\n",
        "\n",
        "### 입출력 예 설명\n",
        "- 입출력 예 #1\n",
        "    - \"hello\"의 1번째 인덱스인 \"e\"와 2번째 인덱스인 \"l\"을 바꾸면 \"hlelo\"입니다.\n",
        "- 입출력 예 #2\n",
        "    - \"I love you\"의 3번째 인덱스 \"o\"와 \" \"(공백)을 바꾸면 \"I l veoyou\"입니다."
      ],
      "metadata": {
        "id": "os7ADc_Nhlp2"
      }
    },
    {
      "cell_type": "code",
      "source": [
        "def solution(my_string, num1, num2):\n",
        "    answer = ''\n",
        "    my_string = list(my_string)\n",
        "\n",
        "    temp_str1 = my_string[num1]\n",
        "    temp_str2 = my_string[num2]\n",
        "\n",
        "    my_string[num1] = temp_str2\n",
        "    my_string[num2] = temp_str1\n",
        "\n",
        "    answer = ''.join(my_string)\n",
        "\n",
        "    return answer"
      ],
      "metadata": {
        "id": "7xo5V72zh1Q8"
      },
      "execution_count": null,
      "outputs": []
    },
    {
      "cell_type": "markdown",
      "source": [
        "### ```115.``` 가장 큰 수 찾기\n",
        "\n",
        "### 문제 설명\n",
        "- 정수 배열 array가 매개변수로 주어질 때, 가장 큰 수와 그 수의 인덱스를 담은 배열을 return 하도록 solution 함수를 완성해보세요.\n",
        "\n",
        "### 제한사항\n",
        "- 1 ≤ array의 길이 ≤ 100\n",
        "- 0 ≤ array 원소 ≤ 1,000\n",
        "- array에 중복된 숫자는 없습니다.\n",
        "\n",
        "### 입출력 예\n",
        "| array          | result  |\n",
        "|----------------|---------|\n",
        "| [1, 8, 3]      | [8, 1]  |\n",
        "| [9, 10, 11, 8] | [11, 2] |\n",
        "\n",
        "### 입출력 예 설명\n",
        "- 입출력 예 #1\n",
        "    - 1, 8, 3 중 가장 큰 수는 8이고 인덱스 1에 있습니다.\n",
        "- 입출력 예 #2\n",
        "    - 9, 10, 11, 8 중 가장 큰 수는 11이고 인덱스 2에 있습니다."
      ],
      "metadata": {
        "id": "cuaD0letjrCl"
      }
    },
    {
      "cell_type": "code",
      "source": [
        "def solution(array):\n",
        "    answer = []\n",
        "\n",
        "    for i in range(len(array)):\n",
        "        if array[i] == max(array):\n",
        "            answer.append(array[i])\n",
        "            answer.append(i)\n",
        "\n",
        "    return answer"
      ],
      "metadata": {
        "id": "Jp2kf9gCj1m4"
      },
      "execution_count": null,
      "outputs": []
    },
    {
      "cell_type": "markdown",
      "source": [
        "## 23년 05월 24일"
      ],
      "metadata": {
        "id": "1iNy4_jaq4vO"
      }
    },
    {
      "cell_type": "markdown",
      "source": [
        "### ```116.``` 배열 회전시키기\n",
        "\n",
        "### 문제 설명\n",
        "- 정수가 담긴 배열 numbers와 문자열 direction가 매개변수로 주어집니다. 배열 numbers의 원소를 direction방향으로 한 칸씩 회전시킨 배열을 return하도록 solution 함수를 완성해주세요.\n",
        "\n",
        "### 제한사항\n",
        "- 3 ≤ numbers의 길이 ≤ 20\n",
        "- direction은 \"left\" 와 \"right\" 둘 중 하나입니다.\n",
        "\n",
        "### 입출력 예\n",
        "| numbers                   | direction | result                    |\n",
        "|---------------------------|-----------|---------------------------|\n",
        "| [1, 2, 3]                 | \"right\"   | [3, 1, 2]                 |\n",
        "| [4, 455, 6, 4, -1, 45, 6] | \"left\"    | [455, 6, 4, -1, 45, 6, 4] |\n",
        "\n",
        "### 입출력 예 설명\n",
        "- 입출력 예 #1\n",
        "    - numbers 가 [1, 2, 3]이고 direction이 \"right\" 이므로 오른쪽으로 한 칸씩 회전시킨 [3, 1, 2]를 return합니다.\n",
        "- 입출력 예 #2\n",
        "    - numbers 가 [4, 455, 6, 4, -1, 45, 6]이고 direction이 \"left\" 이므로 왼쪽으로 한 칸씩 회전시킨 [455, 6, 4, -1, 45, 6, 4]를 return합니다."
      ],
      "metadata": {
        "id": "kNlyZ9M7q6wV"
      }
    },
    {
      "cell_type": "code",
      "source": [
        "def solution(numbers, direction):\n",
        "    answer = []\n",
        "\n",
        "    if direction == 'right':\n",
        "        numbers.insert(0, numbers.pop())\n",
        "    else:\n",
        "        numbers.insert(len(numbers), numbers.pop(0))\n",
        "    answer = numbers\n",
        "\n",
        "    return answer"
      ],
      "metadata": {
        "id": "mCalP_4jq6Vq"
      },
      "execution_count": null,
      "outputs": []
    },
    {
      "cell_type": "markdown",
      "source": [
        "### ```117.``` 외계행성의 나이\n",
        "\n",
        "### 문제 설명\n",
        "- 우주여행을 하던 머쓱이는 엔진 고장으로 PROGRAMMERS-962 행성에 불시착하게 됐습니다. 입국심사에서 나이를 말해야 하는데, PROGRAMMERS-962 행성에서는 나이를 알파벳으로 말하고 있습니다. a는 0, b는 1, c는 2, ..., j는 9입니다. 예를 들어 23살은 cd, 51살은 fb로 표현합니다. 나이 age가 매개변수로 주어질 때 PROGRAMMER-962식 나이를 return하도록 solution 함수를 완성해주세요.\n",
        "\n",
        "### 제한사항\n",
        "- age는 자연수입니다.\n",
        "- age ≤ 1,000\n",
        "- PROGRAMMERS-962 행성은 알파벳 소문자만 사용합니다.\n",
        "\n",
        "### 입출력 예\n",
        "| age | result |\n",
        "|-----|--------|\n",
        "| 23  | \"cd\"   |\n",
        "| 51  | \"fb\"   |\n",
        "| 100 | \"baa\"  |\n",
        "\n",
        "### 입출력 예 설명\n",
        "- 입출력 예 #1\n",
        "    - age가 23이므로 \"cd\"를 return합니다.\n",
        "- 입출력 예 #2\n",
        "    - age가 51이므로 \"fb\"를 return합니다.\n",
        "- 입출력 예 #3\n",
        "    - age가 100이므로 \"baa\"를 return합니다."
      ],
      "metadata": {
        "id": "cmu_3Q0UunrT"
      }
    },
    {
      "cell_type": "code",
      "source": [
        "from string import ascii_lowercase\n",
        "\n",
        "def solution(age):\n",
        "    answer = ''\n",
        "\n",
        "    alpha_list = {}\n",
        "    for i in range(10):\n",
        "        alpha_list[str(i)] = ascii_lowercase[i]\n",
        "\n",
        "    for i in str(age):\n",
        "        answer += alpha_list.get(i)\n",
        "\n",
        "    return answer"
      ],
      "metadata": {
        "id": "VldEMbF7u_H6"
      },
      "execution_count": null,
      "outputs": []
    },
    {
      "cell_type": "markdown",
      "source": [
        "### ```118.``` 피자 나눠 먹기 (2)\n",
        "\n",
        "### 문제 설명\n",
        "- 머쓱이네 피자가게는 피자를 여섯 조각으로 잘라 줍니다. 피자를 나눠먹을 사람의 수 n이 매개변수로 주어질 때, n명이 주문한 피자를 남기지 않고 모두 같은 수의 피자 조각을 먹어야 한다면 최소 몇 판을 시켜야 하는지를 return 하도록 solution 함수를 완성해보세요.\n",
        "\n",
        "### 제한사항\n",
        "- 1 ≤ n ≤ 100\n",
        "\n",
        "### 입출력 예\n",
        "| n  | result |\n",
        "|----|--------|\n",
        "| 6  | 1      |\n",
        "| 10 | 5      |\n",
        "| 4  | 2      |\n",
        "\n",
        "### 입출력 예 설명\n",
        "- 입출력 예 #1\n",
        "    - 6명이 모두 같은 양을 먹기 위해 한 판을 시켜야 피자가 6조각으로 모두 한 조각씩 먹을 수 있습니다.\n",
        "- 입출력 예 #2\n",
        "    - 10명이 모두 같은 양을 먹기 위해 최소 5판을 시켜야 피자가 30조각으로 모두 세 조각씩 먹을 수 있습니다.\n",
        "- 입출력 예 #3\n",
        "    - 4명이 모두 같은 양을 먹기 위해 최소 2판을 시키면 피자가 12조각으로 모두 세 조각씩 먹을 수 있습니다."
      ],
      "metadata": {
        "id": "9dFXTpzW3PTN"
      }
    },
    {
      "cell_type": "code",
      "source": [
        "def solution(n):\n",
        "    answer = 0\n",
        "\n",
        "    li = []\n",
        "    for i in range(1, 7):\n",
        "        if 6 % i == 0 and n % i == 0:\n",
        "            li.append((6 // i) * n)\n",
        "    answer = min(li) // 6\n",
        "\n",
        "    return answer"
      ],
      "metadata": {
        "id": "yC8bo93_3g5I"
      },
      "execution_count": null,
      "outputs": []
    },
    {
      "cell_type": "markdown",
      "source": [
        "### ```119.``` 369게임\n",
        "\n",
        "### 문제 설명\n",
        "- 머쓱이는 친구들과 369게임을 하고 있습니다. 369게임은 1부터 숫자를 하나씩 대며 3, 6, 9가 들어가는 숫자는 숫자 대신 3, 6, 9의 개수만큼 박수를 치는 게임입니다. 머쓱이가 말해야하는 숫자 order가 매개변수로 주어질 때, 머쓱이가 쳐야할 박수 횟수를 return 하도록 solution 함수를 완성해보세요.\n",
        "\n",
        "### 제한사항\n",
        "- 1 ≤ order ≤ 1,000,000\n",
        "\n",
        "### 입출력 예\n",
        "| order | result |\n",
        "|-------|--------|\n",
        "| 3     | 1      |\n",
        "| 29423 | 2      |\n",
        "\n",
        "### 입출력 예 설명\n",
        "- 입출력 예 #1\n",
        "    - 3은 3이 1개 있으므로 1을 출력합니다.\n",
        "- 입출력 예 #2\n",
        "    - 29423은 3이 1개, 9가 1개 있으므로 2를 출력합니다."
      ],
      "metadata": {
        "id": "2s19wZEs5vrE"
      }
    },
    {
      "cell_type": "code",
      "source": [
        "import re\n",
        "\n",
        "def solution(order):\n",
        "    answer = 0\n",
        "\n",
        "    answer = re.sub('[3]|[6]|[9]', '!', str(order)).count('!')\n",
        "\n",
        "    return answer"
      ],
      "metadata": {
        "id": "MnSRQuO_58e4"
      },
      "execution_count": null,
      "outputs": []
    },
    {
      "cell_type": "markdown",
      "source": [
        "### ```120.``` 약수 구하기\n",
        "\n",
        "### 문제 설명\n",
        "- 정수 n이 매개변수로 주어질 때, n의 약수를 오름차순으로 담은 배열을 return하도록 solution 함수를 완성해주세요.\n",
        "\n",
        "### 제한사항\n",
        "- 1 ≤ n ≤ 10,000\n",
        "\n",
        "### 입출력 예\n",
        "| n  | result                     |\n",
        "|----|----------------------------|\n",
        "| 24 | [1, 2, 3, 4, 6, 8, 12, 24] |\n",
        "| 29 | [1, 29]                    |\n",
        "\n",
        "### 입출력 예 설명\n",
        "- 입출력 예 #1\n",
        "    - 24의 약수를 오름차순으로 담은 배열 [1, 2, 3, 4, 6, 8, 12, 24]를 return합니다.\n",
        "- 입출력 예 #2\n",
        "    - 29의 약수를 오름차순으로 담은 배열 [1, 29]를 return합니다."
      ],
      "metadata": {
        "id": "OpNNw2f67QcQ"
      }
    },
    {
      "cell_type": "code",
      "source": [
        "def solution(n):\n",
        "    answer = []\n",
        "\n",
        "    [answer.append(i) for i in range(1, n + 1) if n % i == 0]\n",
        "\n",
        "    return answer"
      ],
      "metadata": {
        "id": "XHaH4z-U7fQr"
      },
      "execution_count": null,
      "outputs": []
    },
    {
      "cell_type": "markdown",
      "source": [
        "## 23년 05월 25일"
      ],
      "metadata": {
        "id": "AzNao5Ue-_ox"
      }
    },
    {
      "cell_type": "markdown",
      "source": [
        "### ```121.``` 순서 바꾸기\n",
        "\n",
        "### 문제 설명\n",
        "- 정수 리스트 num_list와 정수 n이 주어질 때, num_list를 n 번째 원소 이후의 원소들과 n 번째까지의 원소들로 나눠 n 번째 원소 이후의 원소들을 n 번째까지의 원소들 앞에 붙인 리스트를 return하도록 solution 함수를 완성해주세요.\n",
        "\n",
        "### 제한사항\n",
        "- 2 ≤ num_list의 길이 ≤ 30\n",
        "- 1 ≤ num_list의 원소 ≤ 9\n",
        "- 1 ≤ n ≤ num_list의 길이\n",
        "\n",
        "### 입출력 예\n",
        "| num_list        | n | result          |\n",
        "|-----------------|---|-----------------|\n",
        "| [2, 1, 6]       | 1 | [1, 6, 2]       |\n",
        "| [5, 2, 1, 7, 5] | 3 | [7, 5, 5, 2, 1] |\n",
        "\n",
        "### 입출력 예 설명\n",
        "- 입출력 예 #1\n",
        "    - [2, 1, 6]에서 첫 번째 이후의 원소는 [1, 6]이고 첫 번째까지의 원소는 [2]입니다. 두 리스트를 이어 붙이면 [1, 6, 2]가 됩니다.\n",
        "- 입출력 예 #2\n",
        "    - [5, 2, 1, 7, 5]에서 세 번째 이후의 원소는 [7, 5]이고 세 번째까지의 원소는 [5, 2, 1]입니다. 두 리스트를 이어 붙이면 [7, 5, 5, 2, 1]가 됩니다."
      ],
      "metadata": {
        "id": "GOtT0a4r_Bd7"
      }
    },
    {
      "cell_type": "code",
      "source": [
        "def solution(num_list, n):\n",
        "    answer = []\n",
        "\n",
        "    back_list = []\n",
        "    forward_list = []\n",
        "    for i in range(len(num_list)):\n",
        "        if i >= n :\n",
        "            forward_list.append(num_list[i])\n",
        "        else:\n",
        "            back_list.append(num_list[i])\n",
        "    answer += forward_list\n",
        "    answer += back_list\n",
        "\n",
        "    return answer"
      ],
      "metadata": {
        "id": "9pqfYv0H_O8J"
      },
      "execution_count": null,
      "outputs": []
    },
    {
      "cell_type": "markdown",
      "source": [
        "### ```122.``` 가까운 1 찾기\n",
        "\n",
        "### 문제 설명\n",
        "- 정수 배열 arr가 주어집니다. 이때 arr의 원소는 1 또는 0입니다. 정수 idx가 주어졌을 때, idx보다 크면서 배열의 값이 1인 가장 작은 인덱스를 찾아서 반환하는 solution 함수를 완성해 주세요.\n",
        "- 단, 만약 그러한 인덱스가 없다면 -1을 반환합니다.\n",
        "\n",
        "### 제한사항\n",
        "- 3 ≤ arr의 길이 ≤ 100'000\n",
        "- arr의 원소는 전부 1 또는 0입니다.\n",
        "\n",
        "### 입출력 예\n",
        "| arr                | idx | result |\n",
        "|--------------------|-----|--------|\n",
        "| [0, 0, 0, 1]       | 1   | 3      |\n",
        "| [1, 0, 0, 1, 0, 0] | 4   | -1     |\n",
        "| [1, 1, 1, 1, 0]    | 3   | 3      |\n",
        "\n",
        "### 입출력 예 설명\n",
        "- 입출력 예 #1\n",
        "    - 1보다 크면서 원소가 1인 가장 작은 인덱스는 3입니다. 따라서 3을 return 합니다.\n",
        "- 입출력 예 #2\n",
        "    - 4번 인덱스 이후에 1은 등장하지 않습니다. 따라서 -1을 return 합니다.\n",
        "- 입출력 예 #3\n",
        "    - 3번 인덱스의 값이 1입니다. 따라서 3을 return 합니다."
      ],
      "metadata": {
        "id": "AuvlH3VfAxAa"
      }
    },
    {
      "cell_type": "code",
      "source": [
        "def solution(arr, idx):\n",
        "    answer = 0\n",
        "\n",
        "    for i in range(len(arr)):\n",
        "        if (i >= idx) and (arr[i] == 1):\n",
        "            answer = i\n",
        "            return answer\n",
        "        answer = -1\n",
        "\n",
        "    return answer"
      ],
      "metadata": {
        "id": "L0DNXwjBA_wJ"
      },
      "execution_count": null,
      "outputs": []
    },
    {
      "cell_type": "markdown",
      "source": [
        "### ```123.``` ad 제거하기\n",
        "\n",
        "### 문제 설명\n",
        "- 문자열 배열 strArr가 주어집니다. 배열 내의 문자열 중 \"ad\"라는 부분 문자열을 포함하고 있는 모든 문자열을 제거하고 남은 문자열을 순서를 유지하여 배열로 return 하는 solution 함수를 완성해 주세요.\n",
        "\n",
        "### 제한사항\n",
        "- 1 ≤ strArr의 길이 ≤ 1,000\n",
        "    - 1 ≤ strArr의 원소의 길이 ≤ 20\n",
        "    - strArr의 원소는 알파벳 소문자로 이루어진 문자열입니다.\n",
        "\n",
        "### 입출력 예\n",
        "| strArr                        | result                        |\n",
        "|-------------------------------|-------------------------------|\n",
        "| [\"and\",\"notad\",\"abcd\"]        | [\"and\",\"abcd\"]                |\n",
        "| [\"there\",\"are\",\"no\",\"a\",\"ds\"] | [\"there\",\"are\",\"no\",\"a\",\"ds\"] |\n",
        "\n",
        "### 입출력 예 설명\n",
        "- 입출력 예 #1\n",
        "    - 1번 인덱스의 문자열인 \"notad\"는 부분 문자열로 \"ad\"를 가집니다. 따라서 해당 문자열을 제거하고 나머지는 순서를 유지하여 [\"and\",\"abcd\"]를 return 합니다.\n",
        "- 입출력 예 #2\n",
        "    - \"ad\"가 부분 문자열로 들어간 문자열이 존재하지 않습니다. 따라서 원래 배열을 그대로 return 합니다."
      ],
      "metadata": {
        "id": "psIpnHkwECKL"
      }
    },
    {
      "cell_type": "code",
      "source": [
        "def solution(strArr):\n",
        "    answer = []\n",
        "\n",
        "    for i in strArr:\n",
        "        if 'ad' in i:\n",
        "            continue\n",
        "        answer.append(i)\n",
        "\n",
        "    return answer"
      ],
      "metadata": {
        "id": "D25-ENmJEQyH"
      },
      "execution_count": null,
      "outputs": []
    },
    {
      "cell_type": "markdown",
      "source": [
        "### ```124.``` 주사위 게임 2\n",
        "\n",
        "### 문제 설명\n",
        "- 1부터 6까지 숫자가 적힌 주사위가 세 개 있습니다. 세 주사위를 굴렸을 때 나온 숫자를 각각 a, b, c라고 했을 때 얻는 점수는 다음과 같습니다.\n",
        "    - 세 숫자가 모두 다르다면 a + b + c 점을 얻습니다.\n",
        "    - 세 숫자 중 어느 두 숫자는 같고 나머지 다른 숫자는 다르다면 (a + b + c) × (a2 + b2 + c2 )점을 얻습니다.\n",
        "    - 세 숫자가 모두 같다면 (a + b + c) × (a2 + b2 + c2 ) × (a3 + b3 + c3 )점을 얻습니다.\n",
        "- 세 정수 a, b, c가 매개변수로 주어질 때, 얻는 점수를 return 하는 solution 함수를 작성해 주세요.\n",
        "\n",
        "### 제한사항\n",
        "- a, b, c는 1이상 6이하의 정수입니다.\n",
        "\n",
        "### 입출력 예\n",
        "| a | b | c | result |\n",
        "|---|---|---|--------|\n",
        "| 2 | 6 | 1 | 9      |\n",
        "| 5 | 3 | 3 | 473    |\n",
        "| 4 | 4 | 4 | 110592 |\n",
        "\n",
        "### 입출력 예 설명\n",
        "- 입출력 예 #1\n",
        "    - 예제 1번에서 세 주사위 숫자가 모두 다르므로 2 + 6 + 1 = 9점을 얻습니다. 따라서 9를 return 합니다.\n",
        "- 입출력 예 #2\n",
        "    - 예제 2번에서 두 주사위 숫자만 같으므로 (5 + 3 + 3) × (52 + 32 + 32 ) = 11 × 43 = 473점을 얻습니다. 따라서 473을 return 합니다.\n",
        "- 입출력 예 #3\n",
        "    - 예제 3번에서 세 주사위 숫자가 모두 같으므로 (4 + 4 + 4) × (42 + 42 + 42 ) × (43 + 43 + 43 ) = 12 × 48 × 192 = 110,592점을 얻습니다. 따라서 110592를 return 합니다."
      ],
      "metadata": {
        "id": "dZFqz-hkG-Mz"
      }
    },
    {
      "cell_type": "code",
      "source": [
        "from itertools import permutations\n",
        "\n",
        "def solution(a, b, c):\n",
        "    answer = 0\n",
        "\n",
        "    if a == b and b == c:\n",
        "        answer = (a + b + c) * ((a ** 2) + (b ** 2) + (c ** 2)) * ((a ** 3) + (b ** 3) + (c ** 3))\n",
        "    elif a == b or b == c or a == c:\n",
        "        answer = (a + b + c) * ((a ** 2) + (b ** 2) + (c ** 2))\n",
        "    else:\n",
        "        answer = a + b + c\n",
        "\n",
        "    return answer"
      ],
      "metadata": {
        "id": "DpNfd4zaHbZJ"
      },
      "execution_count": null,
      "outputs": []
    },
    {
      "cell_type": "markdown",
      "source": [
        "### ```125.``` 배열 만들기 3\n",
        "\n",
        "### 문제 설명\n",
        "- 정수 배열 arr와 2개의 구간이 담긴 배열 intervals가 주어집니다.\n",
        "- intervals는 항상 [[a1, b1], [a2, b2]]의 꼴로 주어지며 각 구간은 닫힌 구간입니다. 닫힌 구간은 양 끝값과 그 사이의 값을 모두 포함하는 구간을 의미합니다.\n",
        "- 이때 배열 arr의 첫 번째 구간에 해당하는 배열과 두 번째 구간에 해당하는 배열을 앞뒤로 붙여 새로운 배열을 만들어 return 하는 solution 함수를 완성해 주세요.\n",
        "\n",
        "### 제한사항\n",
        "- 1 ≤ arr의 길이 ≤ 100,000\n",
        "- 1 ≤ arr의 원소 < 100\n",
        "- 1 ≤ a1 ≤ b1 < arr의 길이\n",
        "- 1 ≤ a2 ≤ b2 < arr의 길이\n",
        "\n",
        "### 입출력 예\n",
        "| arr             | intervals        | result                   |\n",
        "|-----------------|------------------|--------------------------|\n",
        "| [1, 2, 3, 4, 5] | [[1, 3], [0, 4]] | [2, 3, 4, 1, 2, 3, 4, 5] |\n",
        "\n",
        "### 입출력 예 설명\n",
        "- 입출력 예 #1\n",
        "    - 첫 번째 구간에 해당하는 배열은 [2, 3, 4] 입니다.\n",
        "    - 두 번째 구간에 해당하는 배열은 [1, 2, 3, 4, 5] 입니다.\n",
        "    - 따라서 이 두 배열을 앞뒤로 붙인 배열인 [2, 3, 4, 1, 2, 3, 4, 5]를 return 합니다."
      ],
      "metadata": {
        "id": "7LSUSzGcRQVg"
      }
    },
    {
      "cell_type": "code",
      "source": [
        "def solution(arr, intervals):\n",
        "    answer = []\n",
        "\n",
        "    answer += arr[intervals[0][0]:intervals[0][1] + 1]\n",
        "    answer += arr[intervals[1][0]:intervals[1][1] + 1]\n",
        "\n",
        "    return answer"
      ],
      "metadata": {
        "id": "OLUROjhbRgmm"
      },
      "execution_count": null,
      "outputs": []
    },
    {
      "cell_type": "markdown",
      "source": [
        "## 23년 05월 26일"
      ],
      "metadata": {
        "id": "gwr8zdJ8IR0k"
      }
    },
    {
      "cell_type": "markdown",
      "source": [
        "### ```126.``` 숫자 찾기\n",
        "\n",
        "### 문제 설명\n",
        "- 정수 num과 k가 매개변수로 주어질 때, num을 이루는 숫자 중에 k가 있으면 num의 그 숫자가 있는 자리 수를 return하고 없으면 -1을 return 하도록 solution 함수를 완성해보세요.\n",
        "\n",
        "### 제한사항\n",
        "- 0 < num < 1,000,000\n",
        "- 0 ≤ k < 10\n",
        "- num에 k가 여러 개 있으면 가장 처음 나타나는 자리를 return 합니다.\n",
        "\n",
        "### 입출력 예\n",
        "| num    | k | result |\n",
        "|--------|---|--------|\n",
        "| 29183  | 1 | 3      |\n",
        "| 232443 | 4 | 4      |\n",
        "| 123456 | 7 | -1     |\n",
        "\n",
        "### 입출력 예 설명\n",
        "- 입출력 예 #1\n",
        "    - 29183에서 1은 3번째에 있습니다.\n",
        "- 입출력 예 #2\n",
        "    - 232443에서 4는 4번째에 처음 등장합니다.\n",
        "- 입출력 예 #3\n",
        "    - 123456에 7은 없으므로 -1을 return 합니다."
      ],
      "metadata": {
        "id": "dpminE-iITmZ"
      }
    },
    {
      "cell_type": "code",
      "source": [
        "def solution(num, k):\n",
        "    answer = 0\n",
        "\n",
        "    num = list(map(lambda x : int(x), list(str(num))))\n",
        "    for i in range(len(num)):\n",
        "        if num[i] == k:\n",
        "            answer = i + 1\n",
        "            return answer\n",
        "    answer = -1\n",
        "\n",
        "    return answer"
      ],
      "metadata": {
        "id": "UP6dV_-TIgs2"
      },
      "execution_count": null,
      "outputs": []
    },
    {
      "cell_type": "markdown",
      "source": [
        "### ```127.``` 문자열 정렬하기 (2)\n",
        "\n",
        "### 문제 설명\n",
        "- 영어 대소문자로 이루어진 문자열 my_string이 매개변수로 주어질 때, my_string을 모두 소문자로 바꾸고 알파벳 순서대로 정렬한 문자열을 return 하도록 solution 함수를 완성해보세요.\n",
        "\n",
        "### 제한사항\n",
        "- 0 < my_string 길이 < 100\n",
        "\n",
        "### 입출력 예\n",
        "| my_string | result   |\n",
        "|-----------|----------|\n",
        "| \"Bcad\"    | \"abcd\"   |\n",
        "| \"heLLo\"   | \"ehllo\"  |\n",
        "| \"Python\"  | \"hnopty\" |\n",
        "\n",
        "### 입출력 예 설명\n",
        "- 입출력 예 #1\n",
        "    - \"Bcad\"를 모두 소문자로 바꾸면 \"bcad\"이고 이를 알파벳 순으로 정렬하면 \"abcd\"입니다.\n",
        "- 입출력 예 #2\n",
        "    - \"heLLo\"를 모두 소문자로 바꾸면 \"hello\"이고 이를 알파벳 순으로 정렬하면 \"ehllo\"입니다.\n",
        "- 입출력 예 #3\n",
        "    - \"Python\"를 모두 소문자로 바꾸면 \"python\"이고 이를 알파벳 순으로 정렬하면 \"hnopty\"입니다."
      ],
      "metadata": {
        "id": "Puake-4VKDCJ"
      }
    },
    {
      "cell_type": "code",
      "source": [
        "def solution(my_string):\n",
        "    answer = ''\n",
        "\n",
        "    answer = ''.join(sorted(my_string.lower()))\n",
        "\n",
        "    return answer"
      ],
      "metadata": {
        "id": "wAcheC8UKQcn"
      },
      "execution_count": null,
      "outputs": []
    },
    {
      "cell_type": "markdown",
      "source": [
        "### ```128.``` 합성수 찾기\n",
        "\n",
        "### 문제 설명\n",
        "- 약수의 개수가 세 개 이상인 수를 합성수라고 합니다. 자연수 n이 매개변수로 주어질 때 n이하의 합성수의 개수를 return하도록 solution 함수를 완성해주세요.\n",
        "\n",
        "### 제한사항\n",
        "- 1 ≤ n ≤ 100\n",
        "\n",
        "### 입출력 예\n",
        "| n  | result |\n",
        "|----|--------|\n",
        "| 10 | 5      |\n",
        "| 15 | 8      |\n",
        "\n",
        "### 입출력 예 설명\n",
        "- 입출력 예 #1\n",
        "    - 10 이하 합성수는 4, 6, 8, 9, 10 로 5개입니다. 따라서 5를 return합니다.\n",
        "- 입출력 예 #1\n",
        "    - 15 이하 합성수는 4, 6, 8, 9, 10, 12, 14, 15 로 8개입니다. 따라서 8을 return합니다."
      ],
      "metadata": {
        "id": "HyysgByiKpyg"
      }
    },
    {
      "cell_type": "code",
      "source": [
        "def solution(n):\n",
        "    answer = 0\n",
        "\n",
        "    count = 0\n",
        "    for i in range(1, n + 1):\n",
        "        for j in range(1, i + 1):\n",
        "            if i % j == 0:\n",
        "                count += 1\n",
        "            elif i < j:\n",
        "                break\n",
        "        if count >= 3:\n",
        "            answer += 1\n",
        "        count = 0\n",
        "\n",
        "    return answer"
      ],
      "metadata": {
        "id": "VGnsfKDHK22b"
      },
      "execution_count": null,
      "outputs": []
    },
    {
      "cell_type": "markdown",
      "source": [
        "### ```129.``` 중복된 문자 제거\n",
        "\n",
        "### 문제 설명\n",
        "- 문자열 my_string이 매개변수로 주어집니다. my_string에서 중복된 문자를 제거하고 하나의 문자만 남긴 문자열을 return하도록 solution 함수를 완성해주세요.\n",
        "\n",
        "### 제한사항\n",
        "- 1 ≤ my_string ≤ 110\n",
        "- my_string은 대문자, 소문자, 공백으로 구성되어 있습니다.\n",
        "- 대문자와 소문자를 구분합니다.\n",
        "- 공백(\" \")도 하나의 문자로 구분합니다.\n",
        "- 중복된 문자 중 가장 앞에 있는 문자를 남깁니다.\n",
        "\n",
        "### 입출력 예\n",
        "| my_string          | result        |\n",
        "|--------------------|---------------|\n",
        "| \"people\"           | \"peol\"        |\n",
        "| \"We are the world\" | \"We arthwold\" |\n",
        "\n",
        "### 입출력 예 설명\n",
        "- 입출력 예 #1\n",
        "    - \"people\"에서 중복된 문자 \"p\"와 \"e\"을 제거한 \"peol\"을 return합니다.\n",
        "- 입출력 예 #2\n",
        "    - \"We are the world\"에서 중복된 문자 \"e\", \" \", \"r\" 들을 제거한 \"We arthwold\"을 return합니다."
      ],
      "metadata": {
        "id": "QzUXtTMIOkse"
      }
    },
    {
      "cell_type": "code",
      "source": [
        "def solution(my_string):\n",
        "    answer = ''\n",
        "\n",
        "    check = ''\n",
        "    my_string = list(my_string)\n",
        "    for i in range(len(my_string)):\n",
        "        if my_string.count(my_string[i]) > 1:\n",
        "            check += my_string[i]\n",
        "        if my_string.count(my_string[i]) > 1 and check.count(my_string[i]) > 1:\n",
        "            my_string[i] = ''\n",
        "    answer = ''.join(my_string)\n",
        "\n",
        "    return answer"
      ],
      "metadata": {
        "id": "7vqGkq5oOw8k"
      },
      "execution_count": null,
      "outputs": []
    },
    {
      "cell_type": "markdown",
      "source": [
        "### ```130.``` 모스부호 (1)\n",
        "\n",
        "### 문제 설명\n",
        "머쓱이는 친구에게 모스부호를 이용한 편지를 받았습니다. 그냥은 읽을 수 없어 이를 해독하는 프로그램을 만들려고 합니다. 문자열 letter가 매개변수로 주어질 때, letter를 영어 소문자로 바꾼 문자열을 return 하도록 solution 함수를 완성해보세요.\n",
        "모스부호는 다음과 같습니다.\n",
        "\n",
        "```\n",
        "morse = { \n",
        "    '.-':'a','-...':'b','-.-.':'c','-..':'d','.':'e','..-.':'f',\n",
        "    '--.':'g','....':'h','..':'i','.---':'j','-.-':'k','.-..':'l',\n",
        "    '--':'m','-.':'n','---':'o','.--.':'p','--.-':'q','.-.':'r',\n",
        "    '...':'s','-':'t','..-':'u','...-':'v','.--':'w','-..-':'x',\n",
        "    '-.--':'y','--..':'z'\n",
        "}\n",
        "```\n",
        "\n",
        "### 제한사항\n",
        "- 1 ≤ letter의 길이 ≤ 1,000\n",
        "- return값은 소문자입니다.\n",
        "- letter의 모스부호는 공백으로 나누어져 있습니다.\n",
        "- letter에 공백은 연속으로 두 개 이상 존재하지 않습니다.\n",
        "- 해독할 수 없는 편지는 주어지지 않습니다.\n",
        "- 편지의 시작과 끝에는 공백이 없습니다.\n",
        "\n",
        "### 입출력 예\n",
        "| letter                    | result   |\n",
        "|---------------------------|----------|\n",
        "| \".... . .-.. .-.. ---\"    | \"hello\"  |\n",
        "| \".--. -.-- - .... --- -.\" | \"python\" |\n",
        "\n",
        "### 입출력 예 설명\n",
        "- 입출력 예 #1\n",
        "    ```\n",
        "    .... = h\n",
        "    . = e\n",
        "    .-.. = l\n",
        "    .-.. = l\n",
        "    --- = o\n",
        "    ```\n",
        "    - 따라서 \"hello\"를 return 합니다.\n",
        "- 입출력 예 #2\n",
        "    ```\n",
        "    .--. = p\n",
        "    -.-- = y\n",
        "    - = t\n",
        "    .... = h\n",
        "    --- = o\n",
        "    -. = n\n",
        "    ```\n",
        "    - 따라서 \"python\"을 return 합니다.\n",
        "\n",
        "- a ~ z에 해당하는 모스부호가 순서대로 담긴 배열입니다.\n",
        "```\n",
        "{\".-\",\"-...\",\"-.-.\",\"-..\",\".\",\"..-.\",\"--.\",\"....\",\"..\",\".---\",\"-.-\",\".-..\",\"--\",\"-.\",\"---\",\".--.\",\"--.-\",\".-.\",\"...\",\"-\",\"..-\",\"...-\",\".--\",\"-..-\",\"-.--\",\"--..\"}\n",
        "```"
      ],
      "metadata": {
        "id": "ak9h5pyrTCyD"
      }
    },
    {
      "cell_type": "code",
      "source": [
        "import re\n",
        "def solution(letter):\n",
        "    answer = ''\n",
        "\n",
        "    morse = { \n",
        "    '.-':'a','-...':'b','-.-.':'c','-..':'d','.':'e','..-.':'f',\n",
        "    '--.':'g','....':'h','..':'i','.---':'j','-.-':'k','.-..':'l',\n",
        "    '--':'m','-.':'n','---':'o','.--.':'p','--.-':'q','.-.':'r',\n",
        "    '...':'s','-':'t','..-':'u','...-':'v','.--':'w','-..-':'x',\n",
        "    '-.--':'y','--..':'z'\n",
        "    }\n",
        "    for i in letter.split(' '):\n",
        "        answer += morse.get(i)\n",
        "\n",
        "    return answer"
      ],
      "metadata": {
        "id": "dtQRWYVzTiCY"
      },
      "execution_count": null,
      "outputs": []
    }
  ]
}