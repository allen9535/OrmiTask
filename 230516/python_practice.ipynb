{
  "nbformat": 4,
  "nbformat_minor": 0,
  "metadata": {
    "colab": {
      "provenance": [],
      "toc_visible": true
    },
    "kernelspec": {
      "name": "python3",
      "display_name": "Python 3"
    },
    "language_info": {
      "name": "python"
    }
  },
  "cells": [
    {
      "cell_type": "markdown",
      "source": [
        "# 파이썬 연습문제"
      ],
      "metadata": {
        "id": "KEqEjQO5d7Vl"
      }
    },
    {
      "cell_type": "markdown",
      "source": [
        "## 파이썬 기초"
      ],
      "metadata": {
        "id": "LN4dhr3qeYTF"
      }
    },
    {
      "cell_type": "markdown",
      "source": [
        "* 다음 파이썬 문법 중 맞은 것을 골라주세요.(3개)\n",
        "    ```python\n",
        "    1. print = 100\n",
        "    2. 10 = a\n",
        "    3. k = 100\n",
        "    4. 100k = 10000\n",
        "    5. a123 = 'abc'\n",
        "    6. _ cola _ = 'drink'\n",
        "    ```"
      ],
      "metadata": {
        "id": "pqeGjT3lEm3u"
      }
    },
    {
      "cell_type": "code",
      "execution_count": null,
      "metadata": {
        "id": "hjHcIe98d6j2"
      },
      "outputs": [],
      "source": [
        "# 3, 5, 6"
      ]
    },
    {
      "cell_type": "markdown",
      "source": [
        "* 문자를 사용자에게 입력받고, 그 문자를 2번 출력하는 프로그램을 만들어주세요.\n",
        "    - abc를 입력받았을 때 'abcabc'가 출력되어야 합니다."
      ],
      "metadata": {
        "id": "GMofZHgNE0-a"
      }
    },
    {
      "cell_type": "code",
      "source": [
        "print(input() * 2)"
      ],
      "metadata": {
        "colab": {
          "base_uri": "https://localhost:8080/"
        },
        "id": "MSZDycjXe_9r",
        "outputId": "9b462fdb-2911-48f7-c55a-b718923e534a"
      },
      "execution_count": null,
      "outputs": [
        {
          "output_type": "stream",
          "name": "stdout",
          "text": [
            "abc\n",
            "abcabc\n"
          ]
        }
      ]
    },
    {
      "cell_type": "markdown",
      "source": [
        "* 아래 변수를 문자열로 변환 후 리스트형으로 변환하고, 4번째 값을 출력해주세요.\n",
        "* 결과값: '4'\n",
        "    ```python\n",
        "    num = 1234567890\n",
        "    ```"
      ],
      "metadata": {
        "id": "bliIbxCXE8pq"
      }
    },
    {
      "cell_type": "code",
      "source": [
        "num = 1234567890\n",
        "list(str(num))[3]"
      ],
      "metadata": {
        "colab": {
          "base_uri": "https://localhost:8080/",
          "height": 35
        },
        "id": "59TgIkWjfL7O",
        "outputId": "b9545845-00ce-4c30-9650-b2af473de7be"
      },
      "execution_count": null,
      "outputs": [
        {
          "output_type": "execute_result",
          "data": {
            "text/plain": [
              "'4'"
            ],
            "application/vnd.google.colaboratory.intrinsic+json": {
              "type": "string"
            }
          },
          "metadata": {},
          "execution_count": 5
        }
      ]
    },
    {
      "cell_type": "markdown",
      "source": [
        "## 연산"
      ],
      "metadata": {
        "id": "7xpSKp-HfplO"
      }
    },
    {
      "cell_type": "markdown",
      "source": [
        "* 다음 코드의 실행 결괏값을 예상해보세요\n",
        "    ```python\n",
        "    1. a = 100\n",
        "    2. (a > 100) and (a < 200)\n",
        "    3. (a > 100) or (a < 200)\n",
        "    4. (a >= 100) and (a <= 200)\n",
        "    5. (a >= 100) or (a <= 200)\n",
        "    ```"
      ],
      "metadata": {
        "id": "pL75qFuOFLV5"
      }
    },
    {
      "cell_type": "code",
      "source": [
        "# False\n",
        "# True\n",
        "# True\n",
        "# True"
      ],
      "metadata": {
        "id": "3iGCWzjzfsv3"
      },
      "execution_count": null,
      "outputs": []
    },
    {
      "cell_type": "markdown",
      "source": [
        "* 다음 코드의 실행 결과값을 예상해보세요\n",
        "    ```python\n",
        "    b = 25\n",
        "    (b % 2 == 0) and (b % 5 == 0)\n",
        "    ```"
      ],
      "metadata": {
        "id": "LGH7RfltFWUR"
      }
    },
    {
      "cell_type": "code",
      "source": [
        "# False"
      ],
      "metadata": {
        "id": "wawATVqYgB0X"
      },
      "execution_count": null,
      "outputs": []
    },
    {
      "cell_type": "markdown",
      "source": [
        "* 변수 c 안에 들어있는 가격을 100원짜리 몇개로 거슬러 줄 수 있는지 출력해주세요.\n",
        "* 결과값: 10\n",
        "    ```python\n",
        "    c = 1000\n",
        "    ```"
      ],
      "metadata": {
        "id": "LrfPDMYaFpbw"
      }
    },
    {
      "cell_type": "code",
      "source": [
        "c = 1000\n",
        "print(c // 100)"
      ],
      "metadata": {
        "colab": {
          "base_uri": "https://localhost:8080/"
        },
        "id": "1TorW7S6gRuR",
        "outputId": "23007c82-6e90-49ff-c88e-b987ab1101d9"
      },
      "execution_count": null,
      "outputs": [
        {
          "output_type": "stream",
          "name": "stdout",
          "text": [
            "10\n"
          ]
        }
      ]
    },
    {
      "cell_type": "markdown",
      "source": [
        "* 입력한 금액을 5000원, 1000원, 500원, 100원으로 교환하는 프로그램을 만들어주세요.\n"
      ],
      "metadata": {
        "id": "i3cGpf5YGjQq"
      }
    },
    {
      "cell_type": "code",
      "source": [
        "change = int(input())\n",
        "\n",
        "if change // 5000 > 0:\n",
        "    print(f\"5,000원 {change // 5000}장\")\n",
        "    change %= 5000\n",
        "if change // 1000 > 0:\n",
        "    print(f\"1,000원 {change // 1000}장\")\n",
        "    change %= 1000\n",
        "if change // 500 > 0:\n",
        "    print(f\"500원 {change // 500}개\")\n",
        "    change %= 500\n",
        "if change // 100 > 0:\n",
        "    print(f\"100원 {change // 100}개\")"
      ],
      "metadata": {
        "colab": {
          "base_uri": "https://localhost:8080/"
        },
        "id": "r1iR27WsgdPL",
        "outputId": "fd6e098e-0953-4c1f-bf32-0cb11da98d6d"
      },
      "execution_count": null,
      "outputs": [
        {
          "output_type": "stream",
          "name": "stdout",
          "text": [
            "6900\n",
            "5,000원 1장\n",
            "1,000원 1장\n",
            "500원 1개\n",
            "100원 4개\n"
          ]
        }
      ]
    },
    {
      "cell_type": "markdown",
      "source": [
        "## 함수"
      ],
      "metadata": {
        "id": "2_ByZ7RNoBj0"
      }
    },
    {
      "cell_type": "markdown",
      "source": [
        "* 다음 코드를 실행하면 출력되는 값을 순서대로 작성해보세요.\n",
        "    ```python\n",
        "    a = 'pithon'\n",
        "\n",
        "    def 함수1():\n",
        "        def 함수2():\n",
        "            print('love')\n",
        "            \n",
        "        print('I')\n",
        "        함수2()\n",
        "        return \"python\"\n",
        "\n",
        "    a = 함수1()\n",
        "    print(a)\n",
        "    ```"
      ],
      "metadata": {
        "id": "-WZ4uKc8GovI"
      }
    },
    {
      "cell_type": "code",
      "source": [
        "# I\n",
        "# love\n",
        "# python"
      ],
      "metadata": {
        "id": "lQhyuG6voMR0"
      },
      "execution_count": null,
      "outputs": []
    },
    {
      "cell_type": "markdown",
      "source": [
        "* 함수를 이용하여 계산기 프로그램을 만들어주세요.\n",
        "    ```python\n",
        "    def plus(num1, num2):\n",
        "        #이곳을 채워주세요\n",
        "\n",
        "    def minus(num1, num2):\n",
        "        #이곳을 채워주세요\n",
        "\n",
        "    def multiply(num1, num2):\n",
        "        #이곳을 채워주세요\n",
        "\n",
        "    def divide(num1, num2):\n",
        "        #이곳을 채워주세요\n",
        "\n",
        "    print(f'plus : {plus(10, 5)}')\n",
        "    print(f'minus : {minus(10, 5)}')\n",
        "    print(f'multiply : {multiply(10, 5)}')\n",
        "    print(f'divide : {divide(10, 5)}')\n",
        "    ```"
      ],
      "metadata": {
        "id": "165m-t8xGxGy"
      }
    },
    {
      "cell_type": "code",
      "source": [
        "def plus(num1, num2):\n",
        "    return num1 + num2\n",
        "\n",
        "def minus(num1, num2):\n",
        "    return num1 - num2\n",
        "\n",
        "def multiply(num1, num2):\n",
        "    return num1 * num2\n",
        "\n",
        "def divide(num1, num2):\n",
        "    return num1 / num2\n",
        "\n",
        "print(f'plus : {plus(10, 5)}')\n",
        "print(f'minus : {minus(10, 5)}')\n",
        "print(f'multiply : {multiply(10, 5)}')\n",
        "print(f'divide : {divide(10, 5)}')"
      ],
      "metadata": {
        "colab": {
          "base_uri": "https://localhost:8080/"
        },
        "id": "WLDpB1W4owP_",
        "outputId": "9ca60b54-229f-4d69-942a-b3386e9bd49b"
      },
      "execution_count": null,
      "outputs": [
        {
          "output_type": "stream",
          "name": "stdout",
          "text": [
            "plus : 15\n",
            "minus : 5\n",
            "multiply : 50\n",
            "divide : 2.0\n"
          ]
        }
      ]
    },
    {
      "cell_type": "markdown",
      "source": [
        "* x의 n제곱을 구하는 함수를 만들어주세요.\n",
        "* 재귀함수를 이용하여 만들어야 하며, x는 0이 아닙니다. (x, n > 1)"
      ],
      "metadata": {
        "id": "TWKZlAkAG-Th"
      }
    },
    {
      "cell_type": "code",
      "source": [
        "def square(x, n):\n",
        "    result = x\n",
        "\n",
        "    if n > 1:\n",
        "        result *= square(x, n - 1)\n",
        "\n",
        "    return result\n",
        "\n",
        "print(square(2, 3))"
      ],
      "metadata": {
        "colab": {
          "base_uri": "https://localhost:8080/"
        },
        "id": "Gk4aaaPlo-_t",
        "outputId": "48de6a77-f1df-454e-d63d-1e5072117b94"
      },
      "execution_count": null,
      "outputs": [
        {
          "output_type": "stream",
          "name": "stdout",
          "text": [
            "27\n"
          ]
        }
      ]
    },
    {
      "cell_type": "markdown",
      "source": [
        "## 리스트, 튜플, 딕셔너리, 셋"
      ],
      "metadata": {
        "id": "IK1ySoTUxuIy"
      }
    },
    {
      "cell_type": "markdown",
      "source": [
        "* 다음은 python 강좌 학생들의 시험 점수를 딕셔너리로 나타낸 것입니다.\n",
        "    ```python\n",
        "    student_score = {\n",
        "            '홍의': 97,\n",
        "            '원희': 60,\n",
        "            '동해': 77,\n",
        "            '변수': 79,\n",
        "            '창현': 89,\n",
        "    }\n",
        "\n",
        "    # 1. 학생들의 총점을 구하는 코드를 작성하세요.\n",
        "    # 2. 학생들의 평균 점수를 구하는 코드를 작성하세요.\n",
        "    # 3. 점수가 가장 높은 학생의 이름과 그 점수를 구하는 코드를 작성하세요.\n",
        "    # 4. 점수가 가장 낮은 학생의 이름과 그 점수를 구하는 코드를 작성하세요.\n",
        "    ```"
      ],
      "metadata": {
        "id": "-FWsL9KEHEir"
      }
    },
    {
      "cell_type": "code",
      "source": [
        "student_score = {\n",
        "\t\t'홍의': 97,\n",
        "\t\t'원희': 60,\n",
        "\t\t'동해': 77,\n",
        "\t\t'변수': 79,\n",
        "\t\t'창현': 89,\n",
        "}\n",
        "\n",
        "# 1.\n",
        "print(sum(student_score.values()))\n",
        "\n",
        "# 2.\n",
        "print(sum(student_score.values()) / len(student_score))\n",
        "\n",
        "# 3.\n",
        "[print(i, j) for i, j in student_score.items() if j == max(student_score.values())]\n",
        "\n",
        "# 4.\n",
        "[print(i, j) for i, j in student_score.items() if j == min(student_score.values())]"
      ],
      "metadata": {
        "colab": {
          "base_uri": "https://localhost:8080/"
        },
        "id": "V58W_-umxw30",
        "outputId": "50ef6a79-ae4e-4da1-b937-4935fa888a17"
      },
      "execution_count": null,
      "outputs": [
        {
          "output_type": "stream",
          "name": "stdout",
          "text": [
            "402\n",
            "80.4\n",
            "홍의 97\n",
            "원희 60\n"
          ]
        },
        {
          "output_type": "execute_result",
          "data": {
            "text/plain": [
              "[None]"
            ]
          },
          "metadata": {},
          "execution_count": 42
        }
      ]
    },
    {
      "cell_type": "markdown",
      "source": [
        "* 학생 7명이 같이 먹을 점심 메뉴를 고르려고 합니다. 학생들의 각자 좋아하는 메뉴와 싫어하는 메뉴를 like 와 dislike 리스트에 담았습니다.\n",
        "* 학생들은 점심 메뉴를 고를 때, 한 명이라도 싫어하는 메뉴라면 고르지 않기로 했습니다. 최종 후보 메뉴들의 리스트를 구하는 코드를 작성해주세요."
      ],
      "metadata": {
        "id": "LL0fcJmQINI8"
      }
    },
    {
      "cell_type": "code",
      "source": [
        "like = ['볶음밥', '라면', '국수', '파스타', '치킨', '짜장면', '국밥']\n",
        "dislike = ['국밥', '짬뽕', '찜닭', '파스타', '국수', '카레', '덮밥']\n",
        "\n",
        "set(like) - set(dislike)"
      ],
      "metadata": {
        "colab": {
          "base_uri": "https://localhost:8080/"
        },
        "id": "O9t87RbM3P6E",
        "outputId": "1ec21a45-7638-4cba-d29d-1b5fb89eb95d"
      },
      "execution_count": null,
      "outputs": [
        {
          "output_type": "execute_result",
          "data": {
            "text/plain": [
              "{'라면', '볶음밥', '짜장면', '치킨'}"
            ]
          },
          "metadata": {},
          "execution_count": 64
        }
      ]
    },
    {
      "cell_type": "markdown",
      "source": [
        "## 조건문과 반복문"
      ],
      "metadata": {
        "id": "5LIEHQERVY5o"
      }
    },
    {
      "cell_type": "markdown",
      "source": [
        "* json generator(https://json-generator.com/)를 활용하여 회원 데이터를 생성합니다.\n",
        "* generator code는 다음과 같습니다.\n",
        "    ```python\n",
        "    [\n",
        "    '{{repeat(5, 7)}}',\n",
        "    {\n",
        "        _id: '{{objectId()}}',\n",
        "        age: '{{integer(20, 40)}}',\n",
        "        eyeColor: '{{random(\"blue\", \"brown\", \"green\")}}',\n",
        "        name: '{{firstName()}} {{surname()}}',\n",
        "        gender: '{{gender()}}'\n",
        "    }\n",
        "    ]\n",
        "    ```\n",
        "* 이를 통해 생성된 데이터는 다음과 같습니다.\n",
        "    ```python\n",
        "    [\n",
        "    {\n",
        "        \"_id\": \"6459f1ffcffeaaf21b3dbcba\",\n",
        "        \"age\": 21,\n",
        "        \"eyeColor\": \"green\",\n",
        "        \"name\": \"Wilkinson Glass\",\n",
        "        \"gender\": \"male\"\n",
        "    },\n",
        "    {\n",
        "        \"_id\": \"6459f1ffbdaf6136f265db25\",\n",
        "        \"age\": 38,\n",
        "        \"eyeColor\": \"brown\",\n",
        "        \"name\": \"Jannie Huber\",\n",
        "        \"gender\": \"female\"\n",
        "    },\n",
        "    {\n",
        "        \"_id\": \"6459f1fff6856dfe6b857fc6\",\n",
        "        \"age\": 34,\n",
        "        \"eyeColor\": \"green\",\n",
        "        \"name\": \"Bruce Rojas\",\n",
        "        \"gender\": \"male\"\n",
        "    },\n",
        "    {\n",
        "        \"_id\": \"6459f1ff8b383ba328e858f6\",\n",
        "        \"age\": 24,\n",
        "        \"eyeColor\": \"blue\",\n",
        "        \"name\": \"Christa Santos\",\n",
        "        \"gender\": \"female\"\n",
        "    },\n",
        "    {\n",
        "        \"_id\": \"6459f1ff79776c418de11604\",\n",
        "        \"age\": 20,\n",
        "        \"eyeColor\": \"blue\",\n",
        "        \"name\": \"Wynn Vance\",\n",
        "        \"gender\": \"male\"\n",
        "    },\n",
        "    {\n",
        "        \"_id\": \"6459f1ff6f9072cedd96d0f9\",\n",
        "        \"age\": 31,\n",
        "        \"eyeColor\": \"green\",\n",
        "        \"name\": \"Faye Mclean\",\n",
        "        \"gender\": \"female\"\n",
        "    },\n",
        "    {\n",
        "        \"_id\": \"6459f1ff2fe2e467935b9559\",\n",
        "        \"age\": 35,\n",
        "        \"eyeColor\": \"green\",\n",
        "        \"name\": \"Terri Fuller\",\n",
        "        \"gender\": \"female\"\n",
        "    }\n",
        "    ]\n",
        "    ```\n",
        "    ```python\n",
        "    1. 회원들의 age 평균을 구해주세요.\n",
        "    2. 회원들의 남녀 성비를 구해주세요.\n",
        "    3. matplotlib을 검색해 보세요. 그리고 pie 그래프로 남녀 성비를 출력하세요.\n",
        "    ```"
      ],
      "metadata": {
        "id": "U0-7cRc3IU9Z"
      }
    },
    {
      "cell_type": "code",
      "source": [
        "data = [\n",
        "  {\n",
        "    \"_id\": \"6459f1ffcffeaaf21b3dbcba\",\n",
        "    \"age\": 21,\n",
        "    \"eyeColor\": \"green\",\n",
        "    \"name\": \"Wilkinson Glass\",\n",
        "    \"gender\": \"male\"\n",
        "  },\n",
        "  {\n",
        "    \"_id\": \"6459f1ffbdaf6136f265db25\",\n",
        "    \"age\": 38,\n",
        "    \"eyeColor\": \"brown\",\n",
        "    \"name\": \"Jannie Huber\",\n",
        "    \"gender\": \"female\"\n",
        "  },\n",
        "  {\n",
        "    \"_id\": \"6459f1fff6856dfe6b857fc6\",\n",
        "    \"age\": 34,\n",
        "    \"eyeColor\": \"green\",\n",
        "    \"name\": \"Bruce Rojas\",\n",
        "    \"gender\": \"male\"\n",
        "  },\n",
        "  {\n",
        "    \"_id\": \"6459f1ff8b383ba328e858f6\",\n",
        "    \"age\": 24,\n",
        "    \"eyeColor\": \"blue\",\n",
        "    \"name\": \"Christa Santos\",\n",
        "    \"gender\": \"female\"\n",
        "  },\n",
        "  {\n",
        "    \"_id\": \"6459f1ff79776c418de11604\",\n",
        "    \"age\": 20,\n",
        "    \"eyeColor\": \"blue\",\n",
        "    \"name\": \"Wynn Vance\",\n",
        "    \"gender\": \"male\"\n",
        "  },\n",
        "  {\n",
        "    \"_id\": \"6459f1ff6f9072cedd96d0f9\",\n",
        "    \"age\": 31,\n",
        "    \"eyeColor\": \"green\",\n",
        "    \"name\": \"Faye Mclean\",\n",
        "    \"gender\": \"female\"\n",
        "  },\n",
        "  {\n",
        "    \"_id\": \"6459f1ff2fe2e467935b9559\",\n",
        "    \"age\": 35,\n",
        "    \"eyeColor\": \"green\",\n",
        "    \"name\": \"Terri Fuller\",\n",
        "    \"gender\": \"female\"\n",
        "  }\n",
        "]\n",
        "\n",
        "# 1.\n",
        "age = 0\n",
        "for i in range(0, len(data)):\n",
        "    age += data[i]['age']\n",
        "\n",
        "age_average = age / len(data)\n",
        "\n",
        "print(f'회원 age 평균: {age_average:.2f}')\n",
        "\n",
        "# 2.\n",
        "gender_male = 0\n",
        "gender_female = 0\n",
        "\n",
        "for i in range(0, len(data)):\n",
        "    if data[i]['gender'] == 'male':\n",
        "        gender_male += 1\n",
        "    else:\n",
        "        gender_female += 1\n",
        "\n",
        "gender_male_percentage = gender_male / len(data) * 100\n",
        "gender_female_percentage = gender_female / len(data) * 100\n",
        "\n",
        "print(f'회원 남녀 성비: 남 {gender_male_percentage:.2f} / 여 {gender_female_percentage:.2f}')\n",
        "\n",
        "# 3.\n",
        "import matplotlib.pyplot as plt\n",
        "\n",
        "plt.pie([gender_male_percentage, gender_female_percentage], labels = ['male', 'female'])\n",
        "plt.show()"
      ],
      "metadata": {
        "colab": {
          "base_uri": "https://localhost:8080/",
          "height": 443
        },
        "id": "yuiMyrVUVcEm",
        "outputId": "514dafb3-1f88-4f2d-9857-940f024e56e3"
      },
      "execution_count": null,
      "outputs": [
        {
          "output_type": "stream",
          "name": "stdout",
          "text": [
            "회원 age 평균: 29.00\n",
            "회원 남녀 성비: 남 42.86 / 여 57.14\n"
          ]
        },
        {
          "output_type": "display_data",
          "data": {
            "text/plain": [
              "<Figure size 640x480 with 1 Axes>"
            ],
            "image/png": "[encoded data removed]"
          },
          "metadata": {}
        }
      ]
    },
    {
      "cell_type": "code",
      "source": [
        "# 위 문제를 map과 filter, lambda를 활용하여 해결해 보았습니다\n",
        "data = [\n",
        "  {\n",
        "    \"_id\": \"6459f1ffcffeaaf21b3dbcba\",\n",
        "    \"age\": 21,\n",
        "    \"eyeColor\": \"green\",\n",
        "    \"name\": \"Wilkinson Glass\",\n",
        "    \"gender\": \"male\"\n",
        "  },\n",
        "  {\n",
        "    \"_id\": \"6459f1ffbdaf6136f265db25\",\n",
        "    \"age\": 38,\n",
        "    \"eyeColor\": \"brown\",\n",
        "    \"name\": \"Jannie Huber\",\n",
        "    \"gender\": \"female\"\n",
        "  },\n",
        "  {\n",
        "    \"_id\": \"6459f1fff6856dfe6b857fc6\",\n",
        "    \"age\": 34,\n",
        "    \"eyeColor\": \"green\",\n",
        "    \"name\": \"Bruce Rojas\",\n",
        "    \"gender\": \"male\"\n",
        "  },\n",
        "  {\n",
        "    \"_id\": \"6459f1ff8b383ba328e858f6\",\n",
        "    \"age\": 24,\n",
        "    \"eyeColor\": \"blue\",\n",
        "    \"name\": \"Christa Santos\",\n",
        "    \"gender\": \"female\"\n",
        "  },\n",
        "  {\n",
        "    \"_id\": \"6459f1ff79776c418de11604\",\n",
        "    \"age\": 20,\n",
        "    \"eyeColor\": \"blue\",\n",
        "    \"name\": \"Wynn Vance\",\n",
        "    \"gender\": \"male\"\n",
        "  },\n",
        "  {\n",
        "    \"_id\": \"6459f1ff6f9072cedd96d0f9\",\n",
        "    \"age\": 31,\n",
        "    \"eyeColor\": \"green\",\n",
        "    \"name\": \"Faye Mclean\",\n",
        "    \"gender\": \"female\"\n",
        "  },\n",
        "  {\n",
        "    \"_id\": \"6459f1ff2fe2e467935b9559\",\n",
        "    \"age\": 35,\n",
        "    \"eyeColor\": \"green\",\n",
        "    \"name\": \"Terri Fuller\",\n",
        "    \"gender\": \"female\"\n",
        "  }\n",
        "]\n",
        "\n",
        "# 1.\n",
        "average_age = sum(map(lambda x : x['age'], data)) / len(data)\n",
        "print(f'회원들의 age 평균: {average_age:.2f}')\n",
        "\n",
        "# 2.\n",
        "male_ratio = len(list(filter(lambda x : x == 'male', map(lambda x : x['gender'], data)))) / len(data) * 100\n",
        "female_ratio = len(list(filter(lambda x : x == 'female', map(lambda x : x['gender'], data)))) / len(data) * 100\n",
        "print(f'남녀 성비: 남 {male_ratio:.2f} 여 {female_ratio:.2f}')\n",
        "\n",
        "# 3.\n",
        "import matplotlib.pyplot as plt\n",
        "\n",
        "plt.pie([male_ratio, female_ratio], labels = ['male', 'female'])\n",
        "plt.show()"
      ],
      "metadata": {
        "colab": {
          "base_uri": "https://localhost:8080/",
          "height": 443
        },
        "id": "1QahbQ0zXaKW",
        "outputId": "49767876-8372-454f-9a25-efe292e35d03"
      },
      "execution_count": null,
      "outputs": [
        {
          "output_type": "stream",
          "name": "stdout",
          "text": [
            "회원들의 age 평균: 29.00\n",
            "남녀 성비: 남 42.86 여 57.14\n"
          ]
        },
        {
          "output_type": "display_data",
          "data": {
            "text/plain": [
              "<Figure size 640x480 with 1 Axes>"
            ],
            "image/png": "[encoded data removed]"
          },
          "metadata": {}
        }
      ]
    },
    {
      "cell_type": "markdown",
      "source": [
        "## lambda"
      ],
      "metadata": {
        "id": "GWGeOwPMe-UN"
      }
    },
    {
      "cell_type": "markdown",
      "source": [
        "* '숫자' 배열을 '승수' 배열과 짝지어서 승수만큼 제곱을 시켜줄 것입니다.\n",
        "    ```python\n",
        "    1. 숫자의 승수를 zip으로 맵핑해서 진행하세요.\n",
        "    2. 숫자를 승수만큼 제곱하여 결과값을 표현해주세요.\n",
        "    3. 승수한 값이 100이상인 값을 출력하세요.\n",
        "    4. 승수한 값을 모두 더하세요\n",
        "    ```\n",
        "* 결과값은 다음과 같아야 합니다.\n",
        "    ```python\n",
        "    1. [(1, 2), (2, 2), (3, 2), (4, 3), (5, 3)]\n",
        "    2. [1, 4, 9, 64, 125]\n",
        "    3. [125]\n",
        "    4. 203\n",
        "    ```"
      ],
      "metadata": {
        "id": "SCICzkPeJWPT"
      }
    },
    {
      "cell_type": "code",
      "source": [
        "숫자 = [1, 2, 3, 4, 5]\n",
        "승수 = [2, 2, 2, 3, 3]\n",
        "\n",
        "# 1. \n",
        "list(zip(숫자, 승수))\n",
        "\n",
        "# 2. \n",
        "list(map(lambda x : x[0] ** x[1], zip(숫자, 승수)))\n",
        "\n",
        "# 3. \n",
        "list(filter(lambda x : x > 100, map(lambda x : x[0] ** x[1], list(zip(숫자, 승수)))))\n",
        "\n",
        "# 4. \n",
        "sum(map(lambda x : x[0] ** x[1], list(zip(숫자, 승수))))"
      ],
      "metadata": {
        "colab": {
          "base_uri": "https://localhost:8080/"
        },
        "id": "Xw1thQKOe16r",
        "outputId": "9241348f-f711-4eec-c8c0-13eb8e354cba"
      },
      "execution_count": null,
      "outputs": [
        {
          "output_type": "execute_result",
          "data": {
            "text/plain": [
              "203"
            ]
          },
          "metadata": {},
          "execution_count": 44
        }
      ]
    },
    {
      "cell_type": "markdown",
      "source": [
        "## 클래스"
      ],
      "metadata": {
        "id": "0aS0hwZbe0K4"
      }
    },
    {
      "cell_type": "markdown",
      "source": [
        "* 게임을 만들고 있다고 가정하겠습니다.\n",
        "* MobFactory 클래스를 만들어 몹을 만들고,\n",
        "* 또 별도의 클래스를 만들어 주인공 캐릭터를 만들어 보세요."
      ],
      "metadata": {
        "id": "l_qVXs4CJ4xY"
      }
    },
    {
      "cell_type": "code",
      "source": [
        "class MobFactory(object):\n",
        "    def __init__(self, name, atk, df, hp, mp, drop_rate, width, height, x, y):\n",
        "        self.name = name\n",
        "        self.atk = atk\n",
        "        self.df = df\n",
        "        self.hp = hp\n",
        "        self.mp = mp\n",
        "        self.drop_rate = drop_rate\n",
        "        self.width = width\n",
        "        self.height = height\n",
        "        self.x = x\n",
        "        self.y = y\n",
        "\n",
        "    def info(self):\n",
        "        return (\n",
        "            f'이름: {self.name}\\n공격력: {self.atk}\\n방어력: {self.df}\\n'\n",
        "            f'체력: {self.hp}\\n마력: {self.mp}\\n너비: {self.width}\\n'\n",
        "            f'드랍률: {self.drop_rate}\\n높이: {self.height}\\n'\n",
        "            f'현재 좌표: {self.x}, {self.y}'\n",
        "            )\n",
        "\n",
        "class CharacterFactory(object):\n",
        "    def __init__(self, name, atk, df, hp, mp, width, height, x, y):\n",
        "        self.name = name\n",
        "        self.atk = atk\n",
        "        self.df = df\n",
        "        self.hp = hp\n",
        "        self.mp = mp\n",
        "        self.width = width\n",
        "        self.height = height\n",
        "        self.x = x\n",
        "        self.y = y\n",
        "\n",
        "    def info(self):\n",
        "        return (f'이름: {self.name}\\n공격력: {self.atk}\\n방어력: {self.df}\\n'\n",
        "            f'체력: {self.hp}\\n마력: {self.mp}\\n너비: {self.width}\\n'\n",
        "            f'높이: {self.height}\\n현재 좌표: {self.x}, {self.y}'\n",
        "            )\n",
        "        \n",
        "licat = CharacterFactory('licat', 10, 10, 100, 100, 1, 1, 1, 1)\n",
        "slime = MobFactory('slime', 10, 10, 10, 10, 10, 1, 1, 1, 1)\n",
        "\n",
        "print(licat.info())\n",
        "print('---------------')\n",
        "print(slime.info())"
      ],
      "metadata": {
        "colab": {
          "base_uri": "https://localhost:8080/"
        },
        "id": "VEbSKeZbe3p6",
        "outputId": "aeaac849-6f99-449d-ce23-b85c783aec6f"
      },
      "execution_count": null,
      "outputs": [
        {
          "output_type": "stream",
          "name": "stdout",
          "text": [
            "이름: licat\n",
            "공격력: 10\n",
            "방어력: 10\n",
            "체력: 100\n",
            "마력: 100\n",
            "너비: 1\n",
            "높이: 1\n",
            "현재 좌표: 1, 1\n",
            "---------------\n",
            "이름: slime\n",
            "공격력: 10\n",
            "방어력: 10\n",
            "체력: 10\n",
            "마력: 10\n",
            "너비: 1\n",
            "드랍률: 10\n",
            "높이: 1\n",
            "현재 좌표: 1, 1\n"
          ]
        }
      ]
    },
    {
      "cell_type": "markdown",
      "source": [
        "* 블로그 사이트로 활용할 수 있는 클래스를 만들어 봅시다."
      ],
      "metadata": {
        "id": "YOGw6PkUJ-u6"
      }
    },
    {
      "cell_type": "code",
      "source": [
        "class BlogFactory(object):\n",
        "    dataset = []\n",
        "\n",
        "    def __init__(self, title, writer, reg_date, content):\n",
        "        self.title = title\n",
        "        self.writer = writer\n",
        "        self.reg_date = reg_date\n",
        "        self.content = content\n",
        "        self.dataset.append(self)\n",
        "\n",
        "    def __str__(self):\n",
        "        return (\n",
        "            f'{len(self.dataset)}.\\n제목: {self.title}\\n작성자: {self.writer}\\n'\n",
        "            f'작성일: {self.reg_date}\\n본문: {self.content}'\n",
        "            )\n",
        "\n",
        "my_blog = BlogFactory('게시물 제목', '게시물 작성자', '23/05/10', '게시물 본문')\n",
        "print(my_blog)\n",
        "your_blog = BlogFactory(\n",
        "                        '두번째 게시물 제목', \n",
        "                        '두번째 게시물 작성자', \n",
        "                        '23/05/15', '두번째 게시물 본문'\n",
        "                        )\n",
        "print(your_blog)"
      ],
      "metadata": {
        "colab": {
          "base_uri": "https://localhost:8080/"
        },
        "id": "09G80uX3icjD",
        "outputId": "60cc9999-a182-489f-9209-5e5da30ea090"
      },
      "execution_count": null,
      "outputs": [
        {
          "output_type": "stream",
          "name": "stdout",
          "text": [
            "1.\n",
            "제목: 게시물 제목\n",
            "작성자: 게시물 작성자\n",
            "작성일: 23/05/10\n",
            "본문: 게시물 본문\n",
            "2.\n",
            "제목: 두번째 게시물 제목\n",
            "작성자: 두번째 게시물 작성자\n",
            "작성일: 23/05/15\n",
            "본문: 두번째 게시물 본문\n"
          ]
        }
      ]
    },
    {
      "cell_type": "markdown",
      "source": [
        "* 책을 판매하는 사이트와 그 사이트를 이용하는 유저에 대한 클래스를 만들어 봅시다.\n",
        "* 단, 각각의 클래스에는 두 개 이상의 인스턴스를 넣고 활용해주세요.\n",
        "* 예) 출력, 수정 등\n"
      ],
      "metadata": {
        "id": "GKO5uoaiKCrk"
      }
    },
    {
      "cell_type": "code",
      "source": [
        "class UserInfo(object):\n",
        "    user_dataset = []\n",
        "\n",
        "    def __init__(self, name):\n",
        "        self.name = name\n",
        "        self.cart = []\n",
        "        self.buy_list = []\n",
        "        self.point = 0\n",
        "        self.user_dataset.append(self)\n",
        "\n",
        "    def __str__(self):\n",
        "        return (\n",
        "                f'사용자: {self.name}\\n장바구니: {self.cart}\\n'\n",
        "                f'구매내역: {self.buy_list}\\n적립된 포인트: {self.point}\\n'\n",
        "                f'----------'\n",
        "                )\n",
        "        \n",
        "    def hold_book(self, title):\n",
        "        self.cart.append(title)\n",
        "        print(\n",
        "                f'{self.name} 님, {title} 을/를 장바구니에 담았습니다!\\n'\n",
        "                f'----------'\n",
        "                )\n",
        "\n",
        "class BookInfo(object):\n",
        "    book_dataset = []\n",
        "\n",
        "    def __init__(self, title, writer, pub_date, point):\n",
        "        self.title = title\n",
        "        self.writer = writer\n",
        "        self.pub_date = pub_date\n",
        "        self.point = point\n",
        "        self.book_dataset.append(self)\n",
        "\n",
        "    def __str__(self):\n",
        "        return (\n",
        "                f'제목: {self.title}\\n작가: {self.writer}\\n'\n",
        "                f'출간일: {self.pub_date}\\n구매시 적립 포인트: {self.point}\\n'\n",
        "                f'----------'\n",
        "                )\n",
        "        \n",
        "user1 = UserInfo('김붕이')\n",
        "user2 = UserInfo('이붕이')\n",
        "book1 = BookInfo('파우스트', '요한 볼프강 폰 괴테', '2009/01/20', 480)\n",
        "book2 = BookInfo('데미안', '헤르만 헤세', '2009/01/20', 240)\n",
        "\n",
        "print(user1)\n",
        "print(user2)\n",
        "user1.hold_book(book1.title)\n",
        "user1.hold_book(book2.title)\n",
        "user2.hold_book(book1.title)\n",
        "print(user1)\n",
        "print(user2)"
      ],
      "metadata": {
        "colab": {
          "base_uri": "https://localhost:8080/"
        },
        "id": "t7yG1MVvn-97",
        "outputId": "2e7ecc2e-f0c5-4060-e611-ab8e2139c4b1"
      },
      "execution_count": null,
      "outputs": [
        {
          "output_type": "stream",
          "name": "stdout",
          "text": [
            "김붕이 님, 파우스트 을/를 장바구니에 담았습니다!\n",
            "----------\n",
            "김붕이 님, 데미안 을/를 장바구니에 담았습니다!\n",
            "----------\n",
            "이붕이 님, 파우스트 을/를 장바구니에 담았습니다!\n",
            "----------\n",
            "사용자: 김붕이\n",
            "장바구니: ['파우스트', '데미안']\n",
            "구매내역: []\n",
            "적립된 포인트: 0\n",
            "----------\n",
            "사용자: 이붕이\n",
            "장바구니: ['파우스트']\n",
            "구매내역: []\n",
            "적립된 포인트: 0\n",
            "----------\n",
            "제목: 파우스트\n",
            "작가: 요한 볼프강 폰 괴테\n",
            "출간일: 2009/01/20\n",
            "구매시 적립 포인트: 480\n",
            "----------\n",
            "제목: 데미안\n",
            "작가: 헤르만 헤세\n",
            "출간일: 2009/01/20\n",
            "구매시 적립 포인트: 240\n",
            "----------\n"
          ]
        }
      ]
    },
    {
      "cell_type": "markdown",
      "source": [
        "## 연결 리스트 구현"
      ],
      "metadata": {
        "id": "fxQ_8Pnrtbdd"
      }
    },
    {
      "cell_type": "markdown",
      "source": [
        "* 연결 리스트란 데이터를 저장할 때 자기 다음 차례의 데이터가 어디에 있는지를 함께 저장하는 방식입니다.\n",
        "* 연결 리스트를 구현해보세요."
      ],
      "metadata": {
        "id": "DEUh_l98KJQO"
      }
    },
    {
      "cell_type": "code",
      "source": [
        "class Node:\n",
        "    def __init__(self, data):\n",
        "        self.data = data\n",
        "        self.next = None\n",
        "    \n",
        "node1 = Node(10)\n",
        "node2 = Node(20)\n",
        "node3 = Node(30)\n",
        "\n",
        "node1.next = node2\n",
        "node2.next = node3\n",
        "\n",
        "print(node1.data)\n",
        "print(node1.next.data)\n",
        "print(node2.data)\n",
        "print(node2.next.data)\n",
        "print(node3.data)\n",
        "print(node3.next)"
      ],
      "metadata": {
        "colab": {
          "base_uri": "https://localhost:8080/"
        },
        "id": "ciQtsLmcwEOm",
        "outputId": "97e7ffb6-9974-4f7e-be99-e285bde8c016"
      },
      "execution_count": null,
      "outputs": [
        {
          "output_type": "stream",
          "name": "stdout",
          "text": [
            "10\n",
            "20\n",
            "20\n",
            "30\n",
            "30\n",
            "None\n"
          ]
        }
      ]
    },
    {
      "cell_type": "markdown",
      "source": [
        "## 이터레이터"
      ],
      "metadata": {
        "id": "PlpznWWotOAj"
      }
    },
    {
      "cell_type": "markdown",
      "source": [
        "* 순회 가능한 객체를 순회하는 이터레이터를 만들어보세요.\n"
      ],
      "metadata": {
        "id": "wkwJSskuKOPa"
      }
    },
    {
      "cell_type": "code",
      "source": [
        "class MyIter:\n",
        "    def __init__(self, stop):\n",
        "        self.stop = stop\n",
        "\n",
        "    def __iter__(self):\n",
        "        self.currentValue = 0\n",
        "        return self\n",
        "\n",
        "    def __next__(self):\n",
        "        if self.currentValue >= self.stop:\n",
        "            raise StopIteration\n",
        "        result = self.currentValue\n",
        "        self.currentValue += 1\n",
        "        return result\n",
        "\n",
        "li = MyIter(5)\n",
        "[print(i) for i in li]\n",
        "for i in li:\n",
        "    print(i)"
      ],
      "metadata": {
        "colab": {
          "base_uri": "https://localhost:8080/"
        },
        "id": "pDzEQtyq1Q1w",
        "outputId": "2ac131dc-330e-4fc0-9bc5-4a580f6d5f03"
      },
      "execution_count": null,
      "outputs": [
        {
          "output_type": "stream",
          "name": "stdout",
          "text": [
            "0\n",
            "1\n",
            "2\n",
            "3\n",
            "4\n",
            "0\n",
            "1\n",
            "2\n",
            "3\n",
            "4\n"
          ]
        }
      ]
    },
    {
      "cell_type": "markdown",
      "source": [
        "## 데코레이터"
      ],
      "metadata": {
        "id": "ANI-yipQ3COe"
      }
    },
    {
      "cell_type": "markdown",
      "source": [
        "* 다음의 값이 들어갔을 때, 숫자만 모두 더하는 코드를 완성하시오.\n",
        "    ```python\n",
        "    ['10', True, False, '21', 0, 10, 20]\n",
        "    ```"
      ],
      "metadata": {
        "id": "tCLwTXOnKRU2"
      }
    },
    {
      "cell_type": "code",
      "source": [
        "def pre_processing(func):\n",
        "    def wrap_func(li):\n",
        "        return func(filter(lambda x : type(x) == int, li))\n",
        "    return wrap_func\n",
        "\n",
        "@pre_processing\n",
        "def custom_sum(num_list):\n",
        "    return sum(num_list)\n",
        "\n",
        "data = ['10', True, False, '21', 0, 10, 20]\n",
        "\n",
        "print(custom_sum(data))"
      ],
      "metadata": {
        "colab": {
          "base_uri": "https://localhost:8080/"
        },
        "id": "mRyOTQSy3J9g",
        "outputId": "2ed7c87b-c89e-4fc9-c571-3ab05ebfd8eb"
      },
      "execution_count": null,
      "outputs": [
        {
          "output_type": "stream",
          "name": "stdout",
          "text": [
            "30\n"
          ]
        }
      ]
    },
    {
      "cell_type": "markdown",
      "source": [
        "## 파일 입출력 심화편 - 엑셀 활용"
      ],
      "metadata": {
        "id": "pC3CHyVn8DA5"
      }
    },
    {
      "cell_type": "markdown",
      "source": [
        "* 이하의 데이터가 들어있는 엑셀 파일을 만들어 봅시다\n",
        "* 평균은 알아서 계산되어 들어가도록 할 것\n",
        "\n",
        "| 이름   | 국어 | 영어 | 수학 | 평균 |\n",
        "|--------|------|------|------|------|\n",
        "| 홍길동 | 33   | 88   | 24   |      |\n",
        "| 이호준 | 34   | 66   | 77   |      |\n",
        "| 김철수 | 78   | 82   | 36   |      |"
      ],
      "metadata": {
        "id": "73M8iTpgKZNj"
      }
    },
    {
      "cell_type": "code",
      "source": [
        "!pip3 install xlsxwriter"
      ],
      "metadata": {
        "colab": {
          "base_uri": "https://localhost:8080/"
        },
        "id": "RXHQb1sX8Kwx",
        "outputId": "fa4f438b-d8e4-405f-b42b-8dbfffa3a341"
      },
      "execution_count": null,
      "outputs": [
        {
          "output_type": "stream",
          "name": "stdout",
          "text": [
            "Looking in indexes: https://pypi.org/simple, https://us-python.pkg.dev/colab-wheels/public/simple/\n",
            "Collecting xlsxwriter\n",
            "  Downloading XlsxWriter-3.1.0-py3-none-any.whl (152 kB)\n",
            "\u001b[2K     \u001b[90m━━━━━━━━━━━━━━━━━━━━━━━━━━━━━━━━━━━━━━━\u001b[0m \u001b[32m152.7/152.7 kB\u001b[0m \u001b[31m8.0 MB/s\u001b[0m eta \u001b[36m0:00:00\u001b[0m\n",
            "\u001b[?25hInstalling collected packages: xlsxwriter\n",
            "Successfully installed xlsxwriter-3.1.0\n"
          ]
        }
      ]
    },
    {
      "cell_type": "code",
      "source": [
        "import xlsxwriter\n",
        "\n",
        "홍길동 = [33, 88, 24]\n",
        "이호준 = [34, 66, 77]\n",
        "김철수 = [78, 82, 36]\n",
        "\n",
        "workbook = xlsxwriter.Workbook('test_score.xlsx')\n",
        "worksheet = workbook.add_worksheet('1st_sheet')\n",
        "\n",
        "worksheet.write(0, 0, '')\n",
        "worksheet.write(0, 1, '국어')\n",
        "worksheet.write(0, 2, '영어')\n",
        "worksheet.write(0, 3, '수학')\n",
        "worksheet.write(0, 4, '평균')\n",
        "\n",
        "worksheet.write(1, 0, '홍길동')\n",
        "worksheet.write(1, 1, 홍길동[0])\n",
        "worksheet.write(1, 2, 홍길동[1])\n",
        "worksheet.write(1, 3, 홍길동[2])\n",
        "worksheet.write(1, 4, (홍길동[0] + 홍길동[1] + 홍길동[2]) / 3)\n",
        "\n",
        "worksheet.write(2, 0, '이호준')\n",
        "worksheet.write(2, 1, 이호준[0])\n",
        "worksheet.write(2, 2, 이호준[1])\n",
        "worksheet.write(2, 3, 이호준[2])\n",
        "worksheet.write(2, 4, (이호준[0] + 이호준[1] + 이호준[2]) / 3)\n",
        "\n",
        "worksheet.write(3, 0, '김철수')\n",
        "worksheet.write(3, 1, 김철수[0])\n",
        "worksheet.write(3, 2, 김철수[1])\n",
        "worksheet.write(3, 3, 김철수[2])\n",
        "worksheet.write(3, 4, (김철수[2] + 김철수[2] + 김철수[2]) / 3)\n",
        "\n",
        "workbook.close()"
      ],
      "metadata": {
        "id": "aypCvAgS8QzK"
      },
      "execution_count": null,
      "outputs": []
    },
    {
      "cell_type": "markdown",
      "source": [
        "## Python 기초 역량 테스트 문제(10문)"
      ],
      "metadata": {
        "id": "XpceNQMgvnzL"
      }
    },
    {
      "cell_type": "markdown",
      "source": [
        "* 원주율 정수(3)만 출력하도록 코드를 짜보세요.\n",
        "```python\n",
        "원주율 = 3.141592\n",
        "```"
      ],
      "metadata": {
        "id": "8JW0kdgDKwqk"
      }
    },
    {
      "cell_type": "code",
      "source": [
        "원주율 = 3.141592\n",
        "int(원주율)"
      ],
      "metadata": {
        "colab": {
          "base_uri": "https://localhost:8080/"
        },
        "id": "YPzxq_EHAE6L",
        "outputId": "df2b723f-eecc-469e-8e80-1a1dbf4539a0"
      },
      "execution_count": null,
      "outputs": [
        {
          "output_type": "execute_result",
          "data": {
            "text/plain": [
              "3"
            ]
          },
          "metadata": {},
          "execution_count": 1
        }
      ]
    },
    {
      "cell_type": "markdown",
      "source": [
        "* 다음 파이썬 문법 중에서 **True**로 사용하는 것을 고르시오.\n",
        "    ```python\n",
        "    a. None\n",
        "    b. 1\n",
        "    c. \"\"\n",
        "    d. 0\n",
        "    e. bool(0)\n",
        "    ```"
      ],
      "metadata": {
        "id": "i-l0vWe6K6hL"
      }
    },
    {
      "cell_type": "code",
      "source": [
        "# b."
      ],
      "metadata": {
        "id": "vmQlOTV-AJfz"
      },
      "execution_count": null,
      "outputs": []
    },
    {
      "cell_type": "markdown",
      "source": [
        "* 인사말을 완성해주세요.\n",
        "* 결과값: 안녕하세요. 홍길동입니다.\n",
        "    ```python\n",
        "    my_name = \n",
        "    ```"
      ],
      "metadata": {
        "id": "F1Xs9SYFLFzN"
      }
    },
    {
      "cell_type": "code",
      "source": [
        "my_name = input()\n",
        "print(f'안녕하세요. {my_name}입니다.')"
      ],
      "metadata": {
        "colab": {
          "base_uri": "https://localhost:8080/"
        },
        "id": "Ya4gg5faARUe",
        "outputId": "91568007-0a35-409b-a4a4-2a6215f021ab"
      },
      "execution_count": null,
      "outputs": [
        {
          "output_type": "stream",
          "name": "stdout",
          "text": [
            "홍길동\n",
            "안녕하세요. 홍길동입니다.\n"
          ]
        }
      ]
    },
    {
      "cell_type": "markdown",
      "source": [
        "* 리스트 요소 삭제 방법으로 맞지 않는 것은?\n",
        "    ```python\n",
        "    a. del 구문\n",
        "    b. clear()\n",
        "    c. reverse()\n",
        "    d. remove()\n",
        "    e. pop()\n",
        "    ```"
      ],
      "metadata": {
        "id": "7uUHtUyTLfc-"
      }
    },
    {
      "cell_type": "code",
      "source": [
        "# c."
      ],
      "metadata": {
        "id": "8iJjLLG4AYv4"
      },
      "execution_count": null,
      "outputs": []
    },
    {
      "cell_type": "markdown",
      "source": [
        "* 숫자를 입력 받고, 해당 값의 약수를 구하는 함수를 작성하시오.\n",
        "    ```python\n",
        "    num = 코드작성\n",
        "    ```"
      ],
      "metadata": {
        "id": "tfBjvojbMUwx"
      }
    },
    {
      "cell_type": "code",
      "source": [
        "num = int(input())\n",
        "\n",
        "def divisor(num):\n",
        "    return [i for i in range(1, num + 1) if num % i == 0]\n",
        "\n",
        "divisor(num)"
      ],
      "metadata": {
        "colab": {
          "base_uri": "https://localhost:8080/"
        },
        "id": "839Q_Ay-Abw0",
        "outputId": "e987226d-252f-4157-f202-b0ddf30309fe"
      },
      "execution_count": null,
      "outputs": [
        {
          "name": "stdout",
          "output_type": "stream",
          "text": [
            "8\n"
          ]
        },
        {
          "output_type": "execute_result",
          "data": {
            "text/plain": [
              "[1, 2, 4, 8]"
            ]
          },
          "metadata": {},
          "execution_count": 12
        }
      ]
    },
    {
      "cell_type": "markdown",
      "source": [
        "* 함수는 리스트와 알파벳을 입력받습니다. 입력받은 리스트에서 알파벳이 몇 개 있는지 출력하는 함수를 만들어주세요.\n",
        "* 결과값: 3\n",
        "    ```python\n",
        "    def solution(l, a):\n",
        "        return\n",
        "\n",
        "    solution(['a', 'b', 'c', 'a', 'a'], 'a')\n",
        "    ```"
      ],
      "metadata": {
        "id": "iMIGjDSkMfvv"
      }
    },
    {
      "cell_type": "code",
      "source": [
        "def solution(l, a):\n",
        "    return l.count(a)\n",
        "\n",
        "solution(['a', 'b', 'c', 'a', 'a'], 'a')"
      ],
      "metadata": {
        "colab": {
          "base_uri": "https://localhost:8080/"
        },
        "id": "U8ilg4-eBcRM",
        "outputId": "2967578e-016d-46d3-d953-0191b73cfc57"
      },
      "execution_count": null,
      "outputs": [
        {
          "output_type": "execute_result",
          "data": {
            "text/plain": [
              "3"
            ]
          },
          "metadata": {},
          "execution_count": 13
        }
      ]
    },
    {
      "cell_type": "markdown",
      "source": [
        "* 함수는 2차원 리스트를 입력받습니다. 아래와 같이 2차원 리스트를 두번째 값을 기준으로 내림차순 정렬하는 함수를 만들어주세요.\n",
        "* 결과값: [[10, 5], [30, 4], [20, 3], [40, 1]]\n",
        "    ```python\n",
        "    def solution(l):\n",
        "        return\n",
        "\n",
        "    solution([[10, 5], [20, 3], [30, 4], [40, 1]])\n",
        "    ```"
      ],
      "metadata": {
        "id": "AcZ4_Z9cMpLP"
      }
    },
    {
      "cell_type": "code",
      "source": [
        "def solution(l):\n",
        "    \n",
        "    return sorted(l, key = lambda x : x[1], reverse = True)\n",
        "\n",
        "solution([[10, 5], [20, 3], [30, 4], [40, 1]])"
      ],
      "metadata": {
        "colab": {
          "base_uri": "https://localhost:8080/"
        },
        "id": "g7WuVndZB4Ww",
        "outputId": "ae338ff7-5e0a-4256-e735-ea94b646f977"
      },
      "execution_count": null,
      "outputs": [
        {
          "output_type": "execute_result",
          "data": {
            "text/plain": [
              "[[10, 5], [30, 4], [20, 3], [40, 1]]"
            ]
          },
          "metadata": {},
          "execution_count": 26
        }
      ]
    },
    {
      "cell_type": "markdown",
      "source": [
        "* 2차원 리스트가 주어졌을 때 각 값의 차를 저장한 리스트를 출력해주세요.\n",
        "* 결과값: [[5], [17], [26], [39]]\n",
        "    ```python\n",
        "    def solution(l):\n",
        "        return\n",
        "\n",
        "    solution([[10, 5], [20, 3], [30, 4], [40, 1]])\n",
        "    ```"
      ],
      "metadata": {
        "id": "p_pX5ErRMxwp"
      }
    },
    {
      "cell_type": "code",
      "source": [
        "def solution(l):\n",
        "    return list(map(lambda x : x[0] - x[1], l))\n",
        "\n",
        "solution([[10, 5], [20, 3], [30, 4], [40, 1]]) "
      ],
      "metadata": {
        "colab": {
          "base_uri": "https://localhost:8080/"
        },
        "id": "BV4h9jxcDl2_",
        "outputId": "cf9f28c0-6a16-43fb-ed73-5a25788d4f4d"
      },
      "execution_count": null,
      "outputs": [
        {
          "output_type": "execute_result",
          "data": {
            "text/plain": [
              "[5, 17, 26, 39]"
            ]
          },
          "metadata": {},
          "execution_count": 27
        }
      ]
    },
    {
      "cell_type": "markdown",
      "source": [
        "* 주어진 문자열의 합을 구하는 코드를 작성하세요.\n",
        "* 결과값: 8\n",
        "    ```python\n",
        "    def solution(s):\n",
        "        return\n",
        "\n",
        "    solution('11123')\n",
        "    ```"
      ],
      "metadata": {
        "id": "lkvyU2tNM7oi"
      }
    },
    {
      "cell_type": "code",
      "source": [
        "def solution(s):\n",
        "    return sum(list(map(lambda x : int(x), list(s))))\n",
        "\n",
        "solution('11123') "
      ],
      "metadata": {
        "colab": {
          "base_uri": "https://localhost:8080/"
        },
        "id": "vlDfPv1pDycV",
        "outputId": "b88e5e2f-990f-4d21-ad77-55d9b089de46"
      },
      "execution_count": null,
      "outputs": [
        {
          "output_type": "execute_result",
          "data": {
            "text/plain": [
              "8"
            ]
          },
          "metadata": {},
          "execution_count": 33
        }
      ]
    },
    {
      "cell_type": "markdown",
      "source": [
        "* 주어진 문자열에서 ‘!’와 공백을 없애는 코드를 작성하세요.\n",
        "* 결과값: helloworld\n",
        "    ```python\n",
        "    def solution(s):\n",
        "        return\n",
        "\n",
        "    solution('!hello!wor     ld!     ') \n",
        "    ```"
      ],
      "metadata": {
        "id": "vqzlcAlVNCWE"
      }
    },
    {
      "cell_type": "code",
      "source": [
        "def solution(s):\n",
        "    return s.replace(' ', '!').replace('!', '')\n",
        "\n",
        "solution('!hello!wor     ld!     ') "
      ],
      "metadata": {
        "colab": {
          "base_uri": "https://localhost:8080/",
          "height": 35
        },
        "id": "VivgXqT-ETMd",
        "outputId": "85c096ad-d2ba-45a4-b2fa-9a6333468206"
      },
      "execution_count": null,
      "outputs": [
        {
          "output_type": "execute_result",
          "data": {
            "text/plain": [
              "'helloworld'"
            ],
            "application/vnd.google.colaboratory.intrinsic+json": {
              "type": "string"
            }
          },
          "metadata": {},
          "execution_count": 34
        }
      ]
    },
    {
      "cell_type": "markdown",
      "source": [
        "## 심화 문제"
      ],
      "metadata": {
        "id": "Bm1nAdjm75rY"
      }
    },
    {
      "cell_type": "markdown",
      "source": [
        "### 230511"
      ],
      "metadata": {
        "id": "OlyeU8AI_D-u"
      }
    },
    {
      "cell_type": "markdown",
      "source": [
        "* writefile의 데코레이터 기능은 아래와 같은 형식으로 result.txt에 항상 저장되게 하는 것\n",
        "    ```python\n",
        "    {\n",
        "        \"a\": 10,\n",
        "        \"b\": 20,\n",
        "        \"a + b\": 30\n",
        "    }\n",
        "    ```"
      ],
      "metadata": {
        "id": "3eGGHihrNJbN"
      }
    },
    {
      "cell_type": "code",
      "source": [
        "import json\n",
        "\n",
        "def writefile(func):\n",
        "    def wrap_func(a, b):\n",
        "        sum = func(a, b)\n",
        "\n",
        "        return json.dumps(dict(zip(['a', 'b', 'a + b'], [a, b, sum])), indent = 4)\n",
        "    return wrap_func\n",
        "\n",
        "@writefile\n",
        "def add(a, b):\n",
        "    return a + b\n",
        "\n",
        "f = open('result.txt', 'w')\n",
        "f.write(add(10, 20))\n",
        "f.close()"
      ],
      "metadata": {
        "id": "s4rbDrZH_FbC"
      },
      "execution_count": null,
      "outputs": []
    },
    {
      "cell_type": "markdown",
      "source": [
        "### 230512"
      ],
      "metadata": {
        "id": "XGjoxTKW71z5"
      }
    },
    {
      "cell_type": "markdown",
      "source": [
        "* https://paullab.co.kr/stock.html\n",
        "* 제주코딩베이스캠프 연구원이 2019.09.24일 부터 2019.10.23일까지 거래된 거래총량을 구해주세요."
      ],
      "metadata": {
        "id": "fJyQ-ngP8BHY"
      }
    },
    {
      "cell_type": "code",
      "source": [
        "import requests\n",
        "from bs4 import BeautifulSoup\n",
        "\n",
        "response = requests.get('http://www.paullab.co.kr/stock.html')\n",
        "\n",
        "response.encoding = 'utf-8'\n",
        "html = response.text\n",
        "\n",
        "soup = BeautifulSoup(html, 'html.parser')\n",
        "\n",
        "volume_list = soup.select('.table')[0].select('tbody > tr > td > span')\n",
        "\n",
        "total = []\n",
        "for i in range(6, len(volume_list), 7):\n",
        "    total.append(volume_list[i].text.replace(',', ''))\n",
        "\n",
        "total = sum(map(lambda x : int(x), total))\n",
        "print(total)"
      ],
      "metadata": {
        "id": "gQGbL92Q8C2k",
        "colab": {
          "base_uri": "https://localhost:8080/"
        },
        "outputId": "8ad55aac-c1c9-49ea-de6f-0a8778f2274e"
      },
      "execution_count": null,
      "outputs": [
        {
          "output_type": "stream",
          "name": "stdout",
          "text": [
            "13067306\n"
          ]
        }
      ]
    },
    {
      "cell_type": "markdown",
      "source": [
        "### 230515"
      ],
      "metadata": {
        "id": "Z-EobWTibo2-"
      }
    },
    {
      "cell_type": "markdown",
      "source": [
        "* 다음 숫자를 모두 포함하는 정규표현식을 만들어주세요. 참고로 지역번호도 들어가야 합니다.\n",
        "    * 010-9091-5491\n",
        "    * 010-5043-2901\n",
        "    * 010-5050-40409\n",
        "    * 010 2913 3132\n",
        "    * 01019133829\n",
        "    * 064-721-3213\n",
        "    * 010.1913.3829"
      ],
      "metadata": {
        "id": "G2GjpZAjbuBN"
      }
    },
    {
      "cell_type": "code",
      "source": [
        "import re\n",
        "\n",
        "re.findall(r'0[0-9][0-9]?[-. ]?[0-9]{3}[0-9]?[-. ]?[0-9]{4}[0-9]?', \n",
        "           '010-9091-5491 010-5043-2901 010-5050-40409 010 2913 3132 01019133829 064-721-3213 010.1913.3829')"
      ],
      "metadata": {
        "colab": {
          "base_uri": "https://localhost:8080/"
        },
        "id": "4U84BAGibxte",
        "outputId": "528d6209-7be3-46f9-cca3-f4fc6d7cf005"
      },
      "execution_count": 1,
      "outputs": [
        {
          "output_type": "execute_result",
          "data": {
            "text/plain": [
              "['010-9091-5491',\n",
              " '010-5043-2901',\n",
              " '010-5050-40409',\n",
              " '010 2913 3132',\n",
              " '01019133829',\n",
              " '064-721-3213',\n",
              " '010.1913.3829']"
            ]
          },
          "metadata": {},
          "execution_count": 1
        }
      ]
    },
    {
      "cell_type": "markdown",
      "source": [
        "### 230516"
      ],
      "metadata": {
        "id": "gr6mu1tjbqcS"
      }
    },
    {
      "cell_type": "markdown",
      "source": [
        "* 마크다운 파일을 업로드 해서 html파일로 만들어주는 코드를 만들어주세요."
      ],
      "metadata": {
        "id": "b9siMuvbb26l"
      }
    },
    {
      "cell_type": "code",
      "source": [
        "import re\n",
        "\n",
        "def markdown_write(text):\n",
        "    f = open('test.md', 'w')\n",
        "    f.write(text)\n",
        "    f.close()\n",
        "    \n",
        "    return\n",
        "\n",
        "def markdown_read():\n",
        "    f = open('test.md', 'r')\n",
        "\n",
        "    return f.readlines()\n",
        "\n",
        "def markdown_to_html(md):\n",
        "    for i in md:\n",
        "        html = re.sub(r'### (.*)', r'<h3>\\1</h3>', i)\n",
        "        html = re.sub(r'## (.*)', r'<h2>\\1</h2>', html)\n",
        "        html = re.sub(r'# (.*)', r'<h1>\\1</h1>', html)\n",
        "        html = re.sub(r'\\* (.*)', r'<ul>\\1</ul>', html)\n",
        "        html = re.sub(r'- (.*)', r'<ul>\\1</ul>', html)\n",
        "        print(html)\n",
        "    return\n",
        "\n",
        "text = '''# h1태그\n",
        "## h2태그\n",
        "### h3태그\n",
        "* ul태그\n",
        "- ul태그'''\n",
        "\n",
        "markdown_write(text)\n",
        "markdown_to_html(markdown_read())"
      ],
      "metadata": {
        "id": "sVQX7hZjb30I"
      },
      "execution_count": null,
      "outputs": []
    },
    {
      "cell_type": "markdown",
      "source": [
        "# 알고리즘 연습문제"
      ],
      "metadata": {
        "id": "NGy2A2NMnTIq"
      }
    },
    {
      "cell_type": "markdown",
      "source": [
        "## 1번 워밍업 문제(google)\n",
        "\n",
        "* 1부터 10,000까지 8이라는 숫자가 총 몇번 나오는가?\n",
        "* 8이 포함되어 있는 숫자의 갯수를 카운팅 하는 것이 아니라 8이라는 숫자를 모두 카운팅 해야 한다. (※ 예를들어 8808은 3, 8888은 4로 카운팅 해야 함)\n",
        "* 문제 링크 : https://codingdojang.com/scode/393"
      ],
      "metadata": {
        "id": "ekeoY7AgowyV"
      }
    },
    {
      "cell_type": "code",
      "source": [
        "str(list(range(10001))).count('8')"
      ],
      "metadata": {
        "colab": {
          "base_uri": "https://localhost:8080/"
        },
        "id": "gQEVoxFeo52R",
        "outputId": "97f6b621-8083-497f-d4a3-f08e33c85aac"
      },
      "execution_count": 12,
      "outputs": [
        {
          "output_type": "execute_result",
          "data": {
            "text/plain": [
              "4000"
            ]
          },
          "metadata": {},
          "execution_count": 12
        }
      ]
    },
    {
      "cell_type": "markdown",
      "source": [
        "## 2번 워밍업 문제(daum)"
      ],
      "metadata": {
        "id": "UmMt9LEnpxq7"
      }
    },
    {
      "cell_type": "markdown",
      "source": [
        "* 1차원의 점들이 주어졌을 때, 그 중 가장 거리가 짧은 것의 쌍을 출력하는 함수를 작성하시오. (단 점들의 배열은 모두 정렬되어있다고 가정한다.)\n",
        "* 예를들어 S = [1, 3, 4, 8, 13, 17, 20] 이 주어졌다면, 결과값은 (3, 4)가 될 것이다.\n",
        "* 문제링크 : https://codingdojang.com/scode/408"
      ],
      "metadata": {
        "id": "zWUF7g5hp4i6"
      }
    },
    {
      "cell_type": "code",
      "source": [
        "s = [1, 3, 4, 8, 13, 17, 20]\n",
        "\n",
        "distance = []\n",
        "point = []\n",
        "for i in range(len(s) - 1):\n",
        "    distance.append(s[i + 1] - s[i])\n",
        "    point.append((s[i], s[i + 1]))\n",
        "    \n",
        "for i in range(len(distance)):\n",
        "    if distance[i] == min(distance):\n",
        "        answer = point[i]\n",
        "\n",
        "answer"
      ],
      "metadata": {
        "colab": {
          "base_uri": "https://localhost:8080/"
        },
        "id": "hkNwJPv7p39c",
        "outputId": "a5b89c91-5290-4be3-bd4f-5dbfff19ef62"
      },
      "execution_count": 19,
      "outputs": [
        {
          "output_type": "execute_result",
          "data": {
            "text/plain": [
              "(3, 4)"
            ]
          },
          "metadata": {},
          "execution_count": 19
        }
      ]
    }
  ]
}