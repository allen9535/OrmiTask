{
  "nbformat": 4,
  "nbformat_minor": 0,
  "metadata": {
    "colab": {
      "provenance": []
    },
    "kernelspec": {
      "name": "python3",
      "display_name": "Python 3"
    },
    "language_info": {
      "name": "python"
    }
  },
  "cells": [
    {
      "cell_type": "markdown",
      "source": [
        "# 파이썬 연습문제"
      ],
      "metadata": {
        "id": "KEqEjQO5d7Vl"
      }
    },
    {
      "cell_type": "markdown",
      "source": [
        "## 파이썬 기초"
      ],
      "metadata": {
        "id": "LN4dhr3qeYTF"
      }
    },
    {
      "cell_type": "code",
      "execution_count": null,
      "metadata": {
        "id": "hjHcIe98d6j2"
      },
      "outputs": [],
      "source": [
        "# 다음 파이썬 문법 중 맞은 것을 골라주세요.(3개)\n",
        "# 1. print = 100\n",
        "# 2. 10 = a\n",
        "# 3. k = 100\n",
        "# 4. 100k = 10000\n",
        "# 5. a123 = 'abc'\n",
        "# 6. _cola_ = 'drink'\n",
        "\n",
        "# 답\n",
        "# 3, 5, 6"
      ]
    },
    {
      "cell_type": "code",
      "source": [
        "# 문자를 사용자에게 입력받고, 그 문자를 2번 출력하는 프로그램을 만들어주세요.\n",
        "# abc를 입력받았을 때,\n",
        "# 'abcabc'가 출력되어야 합니다.\n",
        "\n",
        "# 답\n",
        "print(input() * 2)"
      ],
      "metadata": {
        "colab": {
          "base_uri": "https://localhost:8080/"
        },
        "id": "MSZDycjXe_9r",
        "outputId": "9b462fdb-2911-48f7-c55a-b718923e534a"
      },
      "execution_count": 1,
      "outputs": [
        {
          "output_type": "stream",
          "name": "stdout",
          "text": [
            "abc\n",
            "abcabc\n"
          ]
        }
      ]
    },
    {
      "cell_type": "code",
      "source": [
        "# 아래 변수를 문자열로 변환 후 리스트형으로 변환하고, 4번째 값을 출력해주세요\n",
        "# 실행결과는 '4'가 나와야 합니다.\n",
        "# num = 1234567890\n",
        "\n",
        "# 답\n",
        "num = 1234567890\n",
        "\n",
        "list(str(num))[3]"
      ],
      "metadata": {
        "colab": {
          "base_uri": "https://localhost:8080/",
          "height": 35
        },
        "id": "59TgIkWjfL7O",
        "outputId": "9515b729-4d4e-4aa4-ddb4-8cd5500e6e58"
      },
      "execution_count": 4,
      "outputs": [
        {
          "output_type": "execute_result",
          "data": {
            "text/plain": [
              "'4'"
            ],
            "application/vnd.google.colaboratory.intrinsic+json": {
              "type": "string"
            }
          },
          "metadata": {},
          "execution_count": 4
        }
      ]
    },
    {
      "cell_type": "markdown",
      "source": [
        "## 연산"
      ],
      "metadata": {
        "id": "7xpSKp-HfplO"
      }
    },
    {
      "cell_type": "code",
      "source": [
        "# 다음 코드의 실행 결괏값을 예상해보세요\n",
        "# a = 100\n",
        "# (a > 100) and (a < 200)\n",
        "# (a > 100) or (a < 200)\n",
        "# (a >= 100) and (a <= 200)\n",
        "# (a >= 100) or (a <= 200)\n",
        "\n",
        "# 답\n",
        "# False\n",
        "# True\n",
        "# True\n",
        "# True"
      ],
      "metadata": {
        "id": "3iGCWzjzfsv3"
      },
      "execution_count": null,
      "outputs": []
    },
    {
      "cell_type": "code",
      "source": [
        "# 다음 코드의 실행 결괏값을 예상해보세요\n",
        "# b = 25\n",
        "# (b % 2 == 0) and (b % 5 == 0)\n",
        "\n",
        "# 답\n",
        "# False"
      ],
      "metadata": {
        "id": "wawATVqYgB0X"
      },
      "execution_count": null,
      "outputs": []
    },
    {
      "cell_type": "code",
      "source": [
        "# 변수 c 안에 들어있는 가격을 100원짜리 몇개로 거슬러 줄 수 있는지 출력해주세요\n",
        "# 결과값은 10입니다.\n",
        "# c = 1000\n",
        "\n",
        "# 답\n",
        "c = 1000\n",
        "print(c // 100)"
      ],
      "metadata": {
        "colab": {
          "base_uri": "https://localhost:8080/"
        },
        "id": "1TorW7S6gRuR",
        "outputId": "f8eef692-b426-421b-88fb-a94bc7b86e70"
      },
      "execution_count": 5,
      "outputs": [
        {
          "output_type": "stream",
          "name": "stdout",
          "text": [
            "10\n"
          ]
        }
      ]
    },
    {
      "cell_type": "code",
      "source": [
        "# (심화문제) 입력한 금액을 5000원, 1000원, 500원, 100원으로 교환하는 프로그램을 만들어주세요.\n",
        "\n",
        "# 답\n",
        "change = int(input())\n",
        "\n",
        "if change // 5000 > 0:\n",
        "    print(f\"5,000원 {change // 5000}장\")\n",
        "    change %= 5000\n",
        "    if change // 1000 > 0:\n",
        "        print(f\"1,000원 {change // 1000}장\")\n",
        "        change %= 1000\n",
        "        if change // 500 > 0:\n",
        "            print(f\"500원 {change // 500}개\")\n",
        "            change %= 500\n",
        "            print(f\"100원 {change // 100}개\")"
      ],
      "metadata": {
        "colab": {
          "base_uri": "https://localhost:8080/"
        },
        "id": "r1iR27WsgdPL",
        "outputId": "0e57ed5a-f27d-4cf0-c4b8-8958b99e9f4a"
      },
      "execution_count": 7,
      "outputs": [
        {
          "name": "stdout",
          "output_type": "stream",
          "text": [
            "3000\n"
          ]
        }
      ]
    }
  ]
}