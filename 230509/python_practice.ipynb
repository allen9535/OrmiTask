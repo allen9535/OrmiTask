{
  "nbformat": 4,
  "nbformat_minor": 0,
  "metadata": {
    "colab": {
      "provenance": []
    },
    "kernelspec": {
      "name": "python3",
      "display_name": "Python 3"
    },
    "language_info": {
      "name": "python"
    }
  },
  "cells": [
    {
      "cell_type": "markdown",
      "source": [
        "# 파이썬 연습문제"
      ],
      "metadata": {
        "id": "KEqEjQO5d7Vl"
      }
    },
    {
      "cell_type": "markdown",
      "source": [
        "## 파이썬 기초"
      ],
      "metadata": {
        "id": "LN4dhr3qeYTF"
      }
    },
    {
      "cell_type": "code",
      "execution_count": null,
      "metadata": {
        "id": "hjHcIe98d6j2"
      },
      "outputs": [],
      "source": [
        "# 다음 파이썬 문법 중 맞은 것을 골라주세요.(3개)\n",
        "# 1. print = 100\n",
        "# 2. 10 = a\n",
        "# 3. k = 100\n",
        "# 4. 100k = 10000\n",
        "# 5. a123 = 'abc'\n",
        "# 6. _cola_ = 'drink'\n",
        "\n",
        "# 답\n",
        "# 3, 5, 6"
      ]
    },
    {
      "cell_type": "code",
      "source": [
        "# 문자를 사용자에게 입력받고, 그 문자를 2번 출력하는 프로그램을 만들어주세요.\n",
        "# abc를 입력받았을 때,\n",
        "# 'abcabc'가 출력되어야 합니다.\n",
        "\n",
        "# 답\n",
        "print(input() * 2)"
      ],
      "metadata": {
        "colab": {
          "base_uri": "https://localhost:8080/"
        },
        "id": "MSZDycjXe_9r",
        "outputId": "9b462fdb-2911-48f7-c55a-b718923e534a"
      },
      "execution_count": null,
      "outputs": [
        {
          "output_type": "stream",
          "name": "stdout",
          "text": [
            "abc\n",
            "abcabc\n"
          ]
        }
      ]
    },
    {
      "cell_type": "code",
      "source": [
        "# 아래 변수를 문자열로 변환 후 리스트형으로 변환하고, 4번째 값을 출력해주세요\n",
        "# 실행결과는 '4'가 나와야 합니다.\n",
        "num = 1234567890\n",
        "\n",
        "# 답\n",
        "list(str(num))[3]"
      ],
      "metadata": {
        "colab": {
          "base_uri": "https://localhost:8080/",
          "height": 35
        },
        "id": "59TgIkWjfL7O",
        "outputId": "b9545845-00ce-4c30-9650-b2af473de7be"
      },
      "execution_count": null,
      "outputs": [
        {
          "output_type": "execute_result",
          "data": {
            "text/plain": [
              "'4'"
            ],
            "application/vnd.google.colaboratory.intrinsic+json": {
              "type": "string"
            }
          },
          "metadata": {},
          "execution_count": 5
        }
      ]
    },
    {
      "cell_type": "markdown",
      "source": [
        "## 연산"
      ],
      "metadata": {
        "id": "7xpSKp-HfplO"
      }
    },
    {
      "cell_type": "code",
      "source": [
        "# 다음 코드의 실행 결괏값을 예상해보세요\n",
        "a = 100\n",
        "(a > 100) and (a < 200)\n",
        "(a > 100) or (a < 200)\n",
        "(a >= 100) and (a <= 200)\n",
        "(a >= 100) or (a <= 200)\n",
        "\n",
        "# 답\n",
        "# False\n",
        "# True\n",
        "# True\n",
        "# True"
      ],
      "metadata": {
        "id": "3iGCWzjzfsv3",
        "colab": {
          "base_uri": "https://localhost:8080/"
        },
        "outputId": "dffcee4e-1631-4237-b771-8caae0b09ec7"
      },
      "execution_count": null,
      "outputs": [
        {
          "output_type": "execute_result",
          "data": {
            "text/plain": [
              "True"
            ]
          },
          "metadata": {},
          "execution_count": 4
        }
      ]
    },
    {
      "cell_type": "code",
      "source": [
        "# 다음 코드의 실행 결괏값을 예상해보세요\n",
        "b = 25\n",
        "(b % 2 == 0) and (b % 5 == 0)\n",
        "\n",
        "# 답\n",
        "# False"
      ],
      "metadata": {
        "id": "wawATVqYgB0X",
        "colab": {
          "base_uri": "https://localhost:8080/"
        },
        "outputId": "378f9cc6-8666-450c-b28d-d4acb48e38ba"
      },
      "execution_count": null,
      "outputs": [
        {
          "output_type": "execute_result",
          "data": {
            "text/plain": [
              "False"
            ]
          },
          "metadata": {},
          "execution_count": 3
        }
      ]
    },
    {
      "cell_type": "code",
      "source": [
        "# 변수 c 안에 들어있는 가격을 100원짜리 몇개로 거슬러 줄 수 있는지 출력해주세요\n",
        "# 결과값은 10입니다.\n",
        "c = 1000\n",
        "\n",
        "# 답\n",
        "print(c // 100)"
      ],
      "metadata": {
        "colab": {
          "base_uri": "https://localhost:8080/"
        },
        "id": "1TorW7S6gRuR",
        "outputId": "23007c82-6e90-49ff-c88e-b987ab1101d9"
      },
      "execution_count": null,
      "outputs": [
        {
          "output_type": "stream",
          "name": "stdout",
          "text": [
            "10\n"
          ]
        }
      ]
    },
    {
      "cell_type": "code",
      "source": [
        "# (심화문제) 입력한 금액을 5000원, 1000원, 500원, 100원으로 교환하는 프로그램을 만들어주세요.\n",
        "\n",
        "# 답\n",
        "change = int(input())\n",
        "\n",
        "if change // 5000 > 0:\n",
        "    print(f\"5,000원 {change // 5000}장\")\n",
        "    change %= 5000\n",
        "if change // 1000 > 0:\n",
        "    print(f\"1,000원 {change // 1000}장\")\n",
        "    change %= 1000\n",
        "if change // 500 > 0:\n",
        "    print(f\"500원 {change // 500}개\")\n",
        "    change %= 500\n",
        "if change // 100 > 0:\n",
        "    print(f\"100원 {change // 100}개\")"
      ],
      "metadata": {
        "colab": {
          "base_uri": "https://localhost:8080/"
        },
        "id": "r1iR27WsgdPL",
        "outputId": "fd6e098e-0953-4c1f-bf32-0cb11da98d6d"
      },
      "execution_count": null,
      "outputs": [
        {
          "output_type": "stream",
          "name": "stdout",
          "text": [
            "6900\n",
            "5,000원 1장\n",
            "1,000원 1장\n",
            "500원 1개\n",
            "100원 4개\n"
          ]
        }
      ]
    },
    {
      "cell_type": "markdown",
      "source": [
        "## 함수"
      ],
      "metadata": {
        "id": "2_ByZ7RNoBj0"
      }
    },
    {
      "cell_type": "code",
      "source": [
        "# 다음 코드를 실행하면 출력되는 값을 순서대로 작성해보세요.\n",
        "a = 'pithon'\n",
        "\n",
        "def 함수1():\n",
        "    def 함수2():\n",
        "        print('love')\n",
        "        \n",
        "    print('I')\n",
        "    함수2()\n",
        "    return \"python\"\n",
        "\n",
        "a = 함수1()\n",
        "print(a)\n",
        "\n",
        "# 답\n",
        "# I\n",
        "# love\n",
        "# python"
      ],
      "metadata": {
        "colab": {
          "base_uri": "https://localhost:8080/"
        },
        "id": "lQhyuG6voMR0",
        "outputId": "6451d238-6e34-4d94-9822-3a5b56e0be0a"
      },
      "execution_count": null,
      "outputs": [
        {
          "output_type": "stream",
          "name": "stdout",
          "text": [
            "I\n",
            "love\n",
            "python\n"
          ]
        }
      ]
    },
    {
      "cell_type": "code",
      "source": [
        "# 함수를 이용하여 계산기 프로그램을 만들어주세요.\n",
        "def plus(num1, num2):\n",
        "\t#이곳을 채워주세요\n",
        "    return num1 + num2\n",
        "\n",
        "def minus(num1, num2):\n",
        "\t#이곳을 채워주세요\n",
        "    return num1 - num2\n",
        "\n",
        "def multiply(num1, num2):\n",
        "\t#이곳을 채워주세요\n",
        "    return num1 * num2\n",
        "\n",
        "def divide(num1, num2):\n",
        "\t#이곳을 채워주세요\n",
        "    return num1 / num2\n",
        "\n",
        "print(f'plus : {plus(10, 5)}')\n",
        "print(f'minus : {minus(10, 5)}')\n",
        "print(f'multiply : {multiply(10, 5)}')\n",
        "print(f'divide : {divide(10, 5)}')"
      ],
      "metadata": {
        "colab": {
          "base_uri": "https://localhost:8080/"
        },
        "id": "WLDpB1W4owP_",
        "outputId": "9ca60b54-229f-4d69-942a-b3386e9bd49b"
      },
      "execution_count": null,
      "outputs": [
        {
          "output_type": "stream",
          "name": "stdout",
          "text": [
            "plus : 15\n",
            "minus : 5\n",
            "multiply : 50\n",
            "divide : 2.0\n"
          ]
        }
      ]
    },
    {
      "cell_type": "code",
      "source": [
        "# x의 n제곱을 구하는 함수를 만들어주세요.\n",
        "# 재귀함수를 이용하여 만들어야하며, x은 0이 아닙니다. (x, n > 1)\n",
        "def square(x, n):\n",
        "    result = x\n",
        "\n",
        "    if n > 1:\n",
        "        result *= square(x, n - 1)\n",
        "\n",
        "    return result\n",
        "\n",
        "print(square(2, 3))"
      ],
      "metadata": {
        "colab": {
          "base_uri": "https://localhost:8080/"
        },
        "id": "Gk4aaaPlo-_t",
        "outputId": "48de6a77-f1df-454e-d63d-1e5072117b94"
      },
      "execution_count": null,
      "outputs": [
        {
          "output_type": "stream",
          "name": "stdout",
          "text": [
            "27\n"
          ]
        }
      ]
    },
    {
      "cell_type": "markdown",
      "source": [
        "## 리스트, 튜플, 딕셔너리, 셋"
      ],
      "metadata": {
        "id": "IK1ySoTUxuIy"
      }
    },
    {
      "cell_type": "code",
      "source": [
        "# 다음은 python 강좌 학생들의 시험 점수를 딕셔너리로 나타낸 것입니다.\n",
        "student_score = {\n",
        "\t\t'홍의': 97,\n",
        "\t\t'원희': 60,\n",
        "\t\t'동해': 77,\n",
        "\t\t'변수': 79,\n",
        "\t\t'창현': 89,\n",
        "}\n",
        "\n",
        "# 학생들의 총점을 구하는 코드를 작성하세요.\n",
        "print(sum(student_score.values()))\n",
        "\n",
        "# 학생들의 평균 점수를 구하는 코드를 작성하세요.\n",
        "print(sum(student_score.values()) / len(student_score))\n",
        "\n",
        "# 점수가 가장 높은 학생의 이름과 그 점수를 구하는 코드를 작성하세요.\n",
        "for i, j in student_score.items():\n",
        "    if j == max(student_score.values()):\n",
        "        print(i, j)\n",
        "\n",
        "# 점수가 가장 낮은 학생의 이름과 그 점수를 구하는 코드를 작성하세요.\n",
        "for i, j in student_score.items():\n",
        "    if j == min(student_score.values()):\n",
        "        print(i, j)"
      ],
      "metadata": {
        "colab": {
          "base_uri": "https://localhost:8080/"
        },
        "id": "V58W_-umxw30",
        "outputId": "8a932223-f148-4891-a257-9e1f1ddc9eaf"
      },
      "execution_count": null,
      "outputs": [
        {
          "output_type": "stream",
          "name": "stdout",
          "text": [
            "402\n",
            "80.4\n",
            "홍의 97\n",
            "원희 60\n"
          ]
        }
      ]
    },
    {
      "cell_type": "code",
      "source": [
        "# 학생 7명이 같이 먹을 점심 메뉴를 고르려고 합니다. 학생들의 각자 좋아하는 메뉴와 싫어하는 메뉴를 like 와 dislike 리스트에 담았습니다.\n",
        "# 학생들은 점심 메뉴를 고를 때, 한 명이라도 싫어하는 메뉴라면 고르지 않기로 했습니다. 최종 후보 메뉴들의 리스트를 구하는 코드를 작성해주세요.\n",
        "like = ['볶음밥', '라면', '국수', '파스타', '치킨', '짜장면', '국밥']\n",
        "dislike = ['국밥', '짬뽕', '찜닭', '파스타', '국수', '카레', '덮밥']\n",
        "\n",
        "set(like) - set(dislike)"
      ],
      "metadata": {
        "colab": {
          "base_uri": "https://localhost:8080/"
        },
        "id": "O9t87RbM3P6E",
        "outputId": "1ec21a45-7638-4cba-d29d-1b5fb89eb95d"
      },
      "execution_count": null,
      "outputs": [
        {
          "output_type": "execute_result",
          "data": {
            "text/plain": [
              "{'라면', '볶음밥', '짜장면', '치킨'}"
            ]
          },
          "metadata": {},
          "execution_count": 64
        }
      ]
    },
    {
      "cell_type": "markdown",
      "source": [
        "## 조건문과 반복문"
      ],
      "metadata": {
        "id": "5LIEHQERVY5o"
      }
    },
    {
      "cell_type": "code",
      "source": [
        "# json generator(https://json-generator.com/)를 활용하여 회원 데이터를 생성합니다.\n",
        "# generator code는 다음과 같습니다.\n",
        "# [\n",
        "#   '{{repeat(5, 7)}}',\n",
        "#   {\n",
        "#     _id: '{{objectId()}}',\n",
        "#     age: '{{integer(20, 40)}}',\n",
        "#     eyeColor: '{{random(\"blue\", \"brown\", \"green\")}}',\n",
        "#     name: '{{firstName()}} {{surname()}}',\n",
        "#     gender: '{{gender()}}'\n",
        "#   }\n",
        "# ]\n",
        "# 이를 통해 생성된 데이터는 다음과 같습니다. 이를 data라는 이름의 변수에 넣겠습니다.\n",
        "data = [\n",
        "  {\n",
        "    \"_id\": \"6459f1ffcffeaaf21b3dbcba\",\n",
        "    \"age\": 21,\n",
        "    \"eyeColor\": \"green\",\n",
        "    \"name\": \"Wilkinson Glass\",\n",
        "    \"gender\": \"male\"\n",
        "  },\n",
        "  {\n",
        "    \"_id\": \"6459f1ffbdaf6136f265db25\",\n",
        "    \"age\": 38,\n",
        "    \"eyeColor\": \"brown\",\n",
        "    \"name\": \"Jannie Huber\",\n",
        "    \"gender\": \"female\"\n",
        "  },\n",
        "  {\n",
        "    \"_id\": \"6459f1fff6856dfe6b857fc6\",\n",
        "    \"age\": 34,\n",
        "    \"eyeColor\": \"green\",\n",
        "    \"name\": \"Bruce Rojas\",\n",
        "    \"gender\": \"male\"\n",
        "  },\n",
        "  {\n",
        "    \"_id\": \"6459f1ff8b383ba328e858f6\",\n",
        "    \"age\": 24,\n",
        "    \"eyeColor\": \"blue\",\n",
        "    \"name\": \"Christa Santos\",\n",
        "    \"gender\": \"female\"\n",
        "  },\n",
        "  {\n",
        "    \"_id\": \"6459f1ff79776c418de11604\",\n",
        "    \"age\": 20,\n",
        "    \"eyeColor\": \"blue\",\n",
        "    \"name\": \"Wynn Vance\",\n",
        "    \"gender\": \"male\"\n",
        "  },\n",
        "  {\n",
        "    \"_id\": \"6459f1ff6f9072cedd96d0f9\",\n",
        "    \"age\": 31,\n",
        "    \"eyeColor\": \"green\",\n",
        "    \"name\": \"Faye Mclean\",\n",
        "    \"gender\": \"female\"\n",
        "  },\n",
        "  {\n",
        "    \"_id\": \"6459f1ff2fe2e467935b9559\",\n",
        "    \"age\": 35,\n",
        "    \"eyeColor\": \"green\",\n",
        "    \"name\": \"Terri Fuller\",\n",
        "    \"gender\": \"female\"\n",
        "  }\n",
        "]\n",
        "\n",
        "# 1. 회원들의 age 평균을 구해주세요.\n",
        "age = 0\n",
        "\n",
        "for i in range(0, len(data)):\n",
        "    age += data[i]['age']\n",
        "\n",
        "age_average = age / len(data)\n",
        "\n",
        "print(f'회원 age 평균: {age_average:.2f}')\n",
        "\n",
        "# 2. 회원들의 남녀 성비를 구해주세요.\n",
        "gender_male = 0\n",
        "gender_female = 0\n",
        "\n",
        "for i in range(0, len(data)):\n",
        "    if data[i]['gender'] == 'male':\n",
        "        gender_male += 1\n",
        "    else:\n",
        "        gender_female += 1\n",
        "\n",
        "gender_male_percentage = gender_male / len(data) * 100\n",
        "gender_female_percentage = gender_female / len(data) * 100\n",
        "\n",
        "print(f'회원 남녀 성비: 남 {gender_male_percentage:.2f} / 여 {gender_female_percentage:.2f}')\n",
        "\n",
        "# 3. matplotlib을 검색해 보세요. 그리고 pie 그래프로 남녀 성비를 출력하세요.\n",
        "import matplotlib.pyplot as plt\n",
        "\n",
        "plt.pie([gender_male_percentage, gender_female_percentage], labels = ['male', 'female'])\n",
        "plt.show()"
      ],
      "metadata": {
        "colab": {
          "base_uri": "https://localhost:8080/",
          "height": 443
        },
        "id": "yuiMyrVUVcEm",
        "outputId": "514dafb3-1f88-4f2d-9857-940f024e56e3"
      },
      "execution_count": 12,
      "outputs": [
        {
          "output_type": "stream",
          "name": "stdout",
          "text": [
            "회원 age 평균: 29.00\n",
            "회원 남녀 성비: 남 42.86 / 여 57.14\n"
          ]
        },
        {
          "output_type": "display_data",
          "data": {
            "text/plain": [
              "<Figure size 640x480 with 1 Axes>"
            ],
            "image/png": "[encoded data removed]"
          },
          "metadata": {}
        }
      ]
    },
    {
      "cell_type": "code",
      "source": [
        "# 위 문제를 map과 filter, lambda를 활용하여 해결해 보았습니다\n",
        "data = [\n",
        "  {\n",
        "    \"_id\": \"6459f1ffcffeaaf21b3dbcba\",\n",
        "    \"age\": 21,\n",
        "    \"eyeColor\": \"green\",\n",
        "    \"name\": \"Wilkinson Glass\",\n",
        "    \"gender\": \"male\"\n",
        "  },\n",
        "  {\n",
        "    \"_id\": \"6459f1ffbdaf6136f265db25\",\n",
        "    \"age\": 38,\n",
        "    \"eyeColor\": \"brown\",\n",
        "    \"name\": \"Jannie Huber\",\n",
        "    \"gender\": \"female\"\n",
        "  },\n",
        "  {\n",
        "    \"_id\": \"6459f1fff6856dfe6b857fc6\",\n",
        "    \"age\": 34,\n",
        "    \"eyeColor\": \"green\",\n",
        "    \"name\": \"Bruce Rojas\",\n",
        "    \"gender\": \"male\"\n",
        "  },\n",
        "  {\n",
        "    \"_id\": \"6459f1ff8b383ba328e858f6\",\n",
        "    \"age\": 24,\n",
        "    \"eyeColor\": \"blue\",\n",
        "    \"name\": \"Christa Santos\",\n",
        "    \"gender\": \"female\"\n",
        "  },\n",
        "  {\n",
        "    \"_id\": \"6459f1ff79776c418de11604\",\n",
        "    \"age\": 20,\n",
        "    \"eyeColor\": \"blue\",\n",
        "    \"name\": \"Wynn Vance\",\n",
        "    \"gender\": \"male\"\n",
        "  },\n",
        "  {\n",
        "    \"_id\": \"6459f1ff6f9072cedd96d0f9\",\n",
        "    \"age\": 31,\n",
        "    \"eyeColor\": \"green\",\n",
        "    \"name\": \"Faye Mclean\",\n",
        "    \"gender\": \"female\"\n",
        "  },\n",
        "  {\n",
        "    \"_id\": \"6459f1ff2fe2e467935b9559\",\n",
        "    \"age\": 35,\n",
        "    \"eyeColor\": \"green\",\n",
        "    \"name\": \"Terri Fuller\",\n",
        "    \"gender\": \"female\"\n",
        "  }\n",
        "]\n",
        "\n",
        "# 1. 회원들의 age 평균을 구해주세요.\n",
        "average_age = sum(map(lambda x : x['age'], data)) / len(data)\n",
        "print(f'회원들의 age 평균: {average_age:.2f}')\n",
        "\n",
        "# 2. 회원들의 남녀 성비를 구해주세요.\n",
        "male_ratio = len(list(filter(lambda x : x == 'male', map(lambda x : x['gender'], data)))) / len(data) * 100\n",
        "female_ratio = len(list(filter(lambda x : x == 'female', map(lambda x : x['gender'], data)))) / len(data) * 100\n",
        "print(f'남녀 성비: 남 {male_ratio:.2f} 여 {female_ratio:.2f}')\n",
        "\n",
        "# 3. matplotlib을 검색해 보세요. 그리고 pie 그래프로 남녀 성비를 출력하세요.\n",
        "import matplotlib.pyplot as plt\n",
        "\n",
        "plt.pie([male_ratio, female_ratio], labels = ['male', 'female'])\n",
        "plt.show()"
      ],
      "metadata": {
        "colab": {
          "base_uri": "https://localhost:8080/",
          "height": 443
        },
        "id": "1QahbQ0zXaKW",
        "outputId": "49767876-8372-454f-9a25-efe292e35d03"
      },
      "execution_count": 27,
      "outputs": [
        {
          "output_type": "stream",
          "name": "stdout",
          "text": [
            "회원들의 age 평균: 29.00\n",
            "남녀 성비: 남 42.86 여 57.14\n"
          ]
        },
        {
          "output_type": "display_data",
          "data": {
            "text/plain": [
              "<Figure size 640x480 with 1 Axes>"
            ],
            "image/png": "[encoded data removed]"
          },
          "metadata": {}
        }
      ]
    },
    {
      "cell_type": "markdown",
      "source": [
        "## lambda"
      ],
      "metadata": {
        "id": "GWGeOwPMe-UN"
      }
    },
    {
      "cell_type": "code",
      "source": [
        "# '숫자' 배열을 '승수' 배열과 짝지어서 승수만큼 제곱을 시켜줄 것입니다.\n",
        "숫자 = [1, 2, 3, 4, 5]\n",
        "승수 = [2, 2, 2, 3, 3]\n",
        "\n",
        "# 결과값은 다음과 같아야 합니다.\n",
        "# 1. [(1, 2), (2, 2), (3, 2), (4, 3), (5, 3)]\n",
        "# 2. [1, 4, 9, 64, 125]\n",
        "# 3. [125]\n",
        "# 4. 203\n",
        "\n",
        "# 1. 숫자의 승수를 zip으로 맵핑해서 진행하세요.\n",
        "list(zip(숫자, 승수))\n",
        "\n",
        "# 2. 숫자를 승수만큼 제곱하여 결과값을 표현해주세요.\n",
        "list(map(lambda x : x[0] ** x[1], zip(숫자, 승수)))\n",
        "\n",
        "# 3. 승수한 값이 100이상인 값을 출력하세요.\n",
        "list(filter(lambda x : x > 100, map(lambda x : x[0] ** x[1], list(zip(숫자, 승수)))))\n",
        "\n",
        "# 4. 승수한 값을 모두 더하세요\n",
        "sum(map(lambda x : x[0] ** x[1], list(zip(숫자, 승수))))"
      ],
      "metadata": {
        "colab": {
          "base_uri": "https://localhost:8080/"
        },
        "id": "Xw1thQKOe16r",
        "outputId": "9241348f-f711-4eec-c8c0-13eb8e354cba"
      },
      "execution_count": 44,
      "outputs": [
        {
          "output_type": "execute_result",
          "data": {
            "text/plain": [
              "203"
            ]
          },
          "metadata": {},
          "execution_count": 44
        }
      ]
    }
  ]
}