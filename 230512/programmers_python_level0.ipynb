{
  "nbformat": 4,
  "nbformat_minor": 0,
  "metadata": {
    "colab": {
      "provenance": [],
      "toc_visible": true
    },
    "kernelspec": {
      "name": "python3",
      "display_name": "Python 3"
    },
    "language_info": {
      "name": "python"
    }
  },
  "cells": [
    {
      "cell_type": "markdown",
      "source": [
        "# level0"
      ],
      "metadata": {
        "id": "74QAcv4a65Mb"
      }
    },
    {
      "cell_type": "markdown",
      "source": [
        "## 23년 05월 05일"
      ],
      "metadata": {
        "id": "eIJiZ4cGuOkZ"
      }
    },
    {
      "cell_type": "markdown",
      "source": [
        "### `1.` 나머지 구하기\n",
        "\n",
        "### 문제 설명\n",
        "- 정수 num1, num2가 매개변수로 주어질 때, num1를 num2로 나눈 나머지를 return 하도록 solution 함수를 완성해주세요.\n",
        "\n",
        "### 제한사항\n",
        "- 0 < num1 ≤ 100\n",
        "- 0 < num2 ≤ 100\n",
        "\n",
        "### 입출력 예\n",
        "| num1 | num2 | num3 |\n",
        "|------|------|------|\n",
        "| 3    | 2    | 1    |\n",
        "| 10   | 5    | 0    |\n",
        "\n",
        "### 입출력 예 설명\n",
        "- 입출력 예 #1\n",
        "    - num1이 3, num2가 2이므로 3을 2로 나눈 나머지 1을 return 합니다.\n",
        "- 입출력 예 #2\n",
        "    - num1이 10, num2가 5이므로 10을 5로 나눈 나머지 0을 return 합니다."
      ],
      "metadata": {
        "id": "qDFKyRA86z24"
      }
    },
    {
      "cell_type": "code",
      "execution_count": null,
      "metadata": {
        "id": "ZF94Swvl6gvG"
      },
      "outputs": [],
      "source": [
        "def solution(num1, num2):\n",
        "    answer = 0\n",
        "    \n",
        "    answer = num1 % num2\n",
        "\n",
        "    return answer"
      ]
    },
    {
      "cell_type": "markdown",
      "source": [
        "### `2.` 숫자 비교하기\n",
        "\n",
        "### 문제 설명\n",
        "- 정수 num1과 num2가 매개변수로 주어집니다. 두 수가 같으면 1 다르면 -1을 retrun하도록 solution 함수를 완성해주세요.\n",
        "\n",
        "### 제한사항\n",
        "- 0 ≤ num1 ≤ 10,000\n",
        "- 0 ≤ num2 ≤ 10,000\n",
        "\n",
        "### 입출력 예\n",
        "| num1 | num2 | result |\n",
        "|------|------|--------|\n",
        "| 2    | 3    | -1     |\n",
        "| 11   | 11   | 1      |\n",
        "| 7    | 99   | -1     |\n",
        "\n",
        "### 입출력 예 설명\n",
        "- 입출력 예 설명 #1\n",
        "    - num1이 2이고 num2가 3이므로 다릅니다. 따라서 -1을 return합니다.\n",
        "- 입출력 예 설명 #2\n",
        "    - num1이 11이고 num2가 11이므로 같습니다. 따라서 1을 return합니다.\n",
        "- 입출력 예 설명 #3\n",
        "    - num1이 7이고 num2가 99이므로 다릅니다. 따라서 -1을 return합니다.\n"
      ],
      "metadata": {
        "id": "wFL6gbIt74nD"
      }
    },
    {
      "cell_type": "code",
      "source": [
        "def solution(num1, num2):\n",
        "    answer = 0\n",
        "\n",
        "    if num1 == num2:\n",
        "        answer = 1\n",
        "    else:\n",
        "        answer = -1\n",
        "\n",
        "    return answer"
      ],
      "metadata": {
        "id": "oI_A5qyM8b4d"
      },
      "execution_count": null,
      "outputs": []
    },
    {
      "cell_type": "markdown",
      "source": [
        "### `3.` 두 수의 곱\n",
        "\n",
        "### 문제 설명\n",
        "- 정수 num1, num2가 매개변수 주어집니다. num1과 num2를 곱한 값을 return 하도록 solution 함수를 완성해주세요.\n",
        "\n",
        "### 제한사항\n",
        "- 0 ≤ num1 ≤ 100\n",
        "- 0 ≤ num2 ≤ 100\n",
        "\n",
        "### 입출력 예\n",
        "| num1 | num2 | result |\n",
        "|------|------|--------|\n",
        "| 3    | 4    | 12     |\n",
        "| 27   | 19   | 513    |\n",
        "\n",
        "### 입출력 예 설명\n",
        "- 입출력 예 #1\n",
        "    - num1이 3, num2가 4이므로 3 * 4 = 12를 return합니다.\n",
        "- 입출력 예 #2\n",
        "    - num1이 27, num2가 19이므로 27 * 19 = 513을 return합니다."
      ],
      "metadata": {
        "id": "YfBs_MHc8tjt"
      }
    },
    {
      "cell_type": "code",
      "source": [
        "def solution(num1, num2):\n",
        "    answer = 0\n",
        "    \n",
        "    answer = num1 * num2\n",
        "    \n",
        "    return answer"
      ],
      "metadata": {
        "id": "HvYeKbQX9I6c"
      },
      "execution_count": null,
      "outputs": []
    },
    {
      "cell_type": "markdown",
      "source": [
        "### `4.` 두 수의 차\n",
        "\n",
        "### 문제 설명\n",
        "- 정수 num1과 num2가 주어질 때, num1에서 num2를 뺀 값을 return하도록 soltuion 함수를 완성해주세요.\n",
        "\n",
        "### 제한사항\n",
        "- -50000 ≤ num1 ≤ 50000\n",
        "- -50000 ≤ num2 ≤ 50000\n",
        "\n",
        "### 입출력 예\n",
        "| num1 | num2 | result |\n",
        "|------|------|--------|\n",
        "| 2    | 3    | -1     |\n",
        "| 100  | 2    | 98     |\n",
        "\n",
        "### 입출력 예 설명\n",
        "- 입출력 예 #1\n",
        "    - num1이 2이고 num2가 3이므로 2 - 3 = -1을 return합니다.\n",
        "- 입출력 예 #2\n",
        "    - num1이 100이고 num2가 2이므로 100 - 2 = 98을 return합니다."
      ],
      "metadata": {
        "id": "JTcEJ9Ed9W-k"
      }
    },
    {
      "cell_type": "code",
      "source": [
        "def solution(num1, num2):\n",
        "    answer = 0\n",
        "    \n",
        "    answer = num1 - num2\n",
        "    \n",
        "    return answer"
      ],
      "metadata": {
        "id": "dught32J9rhK"
      },
      "execution_count": null,
      "outputs": []
    },
    {
      "cell_type": "markdown",
      "source": [
        "### `5.` 몫 구하기\n",
        "\n",
        "### 문제 설명\n",
        "- 정수 num1, num2가 매개변수로 주어질 때, num1을 num2로 나눈 몫을 return 하도록 solution 함수를 완성해주세요.\n",
        "\n",
        "### 제한사항\n",
        "- 0 < num1 ≤ 100\n",
        "- 0 < num2 ≤ 100\n",
        "\n",
        "### 입출력 예\n",
        "| num1 | num2 | result |\n",
        "|------|------|--------|\n",
        "| 10   | 5    | 2      |\n",
        "| 7    | 2    | 3      |\n",
        "\n",
        "### 입출력 예 설명\n",
        "- 입출력 예 #1\n",
        "    - num1이 10, num2가 5이므로 10을 5로 나눈 몫 2를 return 합니다.\n",
        "- 입출력 예 #2\n",
        "    - num1이 7, num2가 2이므로 7을 2로 나눈 몫 3을 return 합니다."
      ],
      "metadata": {
        "id": "dIlKgOhg90Jp"
      }
    },
    {
      "cell_type": "code",
      "source": [
        "def solution(num1, num2):\n",
        "    answer = 0\n",
        "    \n",
        "    answer = num1 // num2\n",
        "    \n",
        "    return answer"
      ],
      "metadata": {
        "id": "vx18Dj6n92tf"
      },
      "execution_count": null,
      "outputs": []
    },
    {
      "cell_type": "markdown",
      "source": [
        "## 23년 05월 06일"
      ],
      "metadata": {
        "id": "sg1qZwn5_V3D"
      }
    },
    {
      "cell_type": "markdown",
      "source": [
        "### `6.` 두 수의 합\n",
        "\n",
        "### 문제 설명\n",
        "- 정수 num1과 num2가 주어질 때, num1과 num2의 합을 return하도록 soltuion 함수를 완성해주세요.\n",
        "\n",
        "### 제한사항\n",
        "- -50,000 ≤ num1 ≤ 50,000\n",
        "- -50,000 ≤ num2 ≤ 50,000\n",
        "\n",
        "### 입출력 예\n",
        "| num1 | num2 | result |\n",
        "|------|------|--------|\n",
        "| 2    | 3    | 5      |\n",
        "| 100  | 2    | 102    |\n",
        "\n",
        "### 입출력 예 설명\n",
        "- 입출력 예 #1\n",
        "    - num1이 2이고 num2가 3이므로 2 + 3 = 5를 return합니다.\n",
        "- 입출력 예 #2\n",
        "    - num1이 100이고 num2가 2이므로 100 + 2 = 102를 return합니다."
      ],
      "metadata": {
        "id": "1XuHBKiHAPeM"
      }
    },
    {
      "cell_type": "code",
      "source": [
        "def solution(num1, num2):\n",
        "    answer = -1\n",
        "    \n",
        "    answer = num1 + num2\n",
        "    \n",
        "    return answer"
      ],
      "metadata": {
        "id": "yysu5m_0ApOK"
      },
      "execution_count": null,
      "outputs": []
    },
    {
      "cell_type": "markdown",
      "source": [
        "### `7.` 두 수의 나눗셈\n",
        "\n",
        "### 문제 설명\n",
        "정수 num1과 num2가 매개변수로 주어질 때, num1을 num2로 나눈 값에 1,000을 곱한 후 정수 부분을 return 하도록 soltuion 함수를 완성해주세요.\n",
        "\n",
        "### 제한사항\n",
        "- 0 < num1 ≤ 100\n",
        "- 0 < num2 ≤ 100\n",
        "\n",
        "### 입출력 예\n",
        "| num1 | num2 | result |\n",
        "|------|------|--------|\n",
        "| 3    | 2    | 1500   |\n",
        "| 7    | 3    | 2333   |\n",
        "| 1    | 16   | 62     |\n",
        "\n",
        "### 입출력 예 설명\n",
        "- 입출력 예 #1\n",
        "    - num1이 3, num2가 2이므로 3 / 2 = 1.5에 1,000을 곱하면 1500이 됩니다.\n",
        "- 입출력 예 #2\n",
        "    - num1이 7, num2가 3이므로 7 / 3 = 2.33333...에 1,000을 곱하면 2333.3333.... 이 되며, 정수 부분은 2333입니다.\n",
        "- 입출력 예 #3\n",
        "    - num1이 1, num2가 16이므로 1 / 16 = 0.0625에 1,000을 곱하면 62.5가 되며, 정수 부분은 62입니다."
      ],
      "metadata": {
        "id": "wO0VqKj7A8Na"
      }
    },
    {
      "cell_type": "code",
      "source": [
        "def solution(num1, num2):\n",
        "    answer = 0\n",
        "    \n",
        "    answer = int(num1 / num2 * 1000)\n",
        "    \n",
        "    return answer"
      ],
      "metadata": {
        "id": "2dGQpUSIBl4Q"
      },
      "execution_count": null,
      "outputs": []
    },
    {
      "cell_type": "markdown",
      "source": [
        "### `8.` 나이 출력\n",
        "\n",
        "### 문제 설명\n",
        "머쓱이는 40살인 선생님이 몇 년도에 태어났는지 궁금해졌습니다. 나이 age가 주어질 때, 2022년을 기준 출생 연도를 return 하는 solution 함수를 완성해주세요.\n",
        "\n",
        "### 제한사항\n",
        "- 0 < age ≤ 120\n",
        "- 나이는 태어난 연도에 1살이며 1년마다 1씩 증가합니다.\n",
        "\n",
        "### 입출력 예\n",
        "| age | result |\n",
        "|-----|--------|\n",
        "| 40  | 1983   |\n",
        "| 23  | 2000   |\n",
        "\n",
        "### 입출력 예 설명\n",
        "- 입출력 예 #1\n",
        "    - 2022년 기준 40살이므로 1983년생입니다.\n",
        "- 입출력 예 #2\n",
        "    - 2022년 기준 23살이므로 2000년생입니다."
      ],
      "metadata": {
        "id": "-m6gwQ-VByBq"
      }
    },
    {
      "cell_type": "code",
      "source": [
        "def solution(age):\n",
        "    answer = 0\n",
        "    \n",
        "    answer = 2022 - age + 1\n",
        "    \n",
        "    return answer"
      ],
      "metadata": {
        "id": "LRA4AdswCPlA"
      },
      "execution_count": null,
      "outputs": []
    },
    {
      "cell_type": "markdown",
      "source": [
        "### `9.` 각도기\n",
        "\n",
        "### 문제 설명\n",
        "- 각에서 0도 초과 90도 미만은 예각, 90도는 직각, 90도 초과 180도 미만은 둔각 180도는 평각으로 분류합니다. 각 angle이 매개변수로 주어질 때 예각일 때 1, 직각일 때 2, 둔각일 때 3, 평각일 때 4를 return하도록 solution 함수를 완성해주세요.\n",
        "\n",
        "    - 예각 : 0 < angle < 90\n",
        "    - 직각 : angle = 90\n",
        "    - 둔각 : 90 < angle < 180\n",
        "    - 평각 : angle = 180\n",
        "\n",
        "### 제한사항\n",
        "- 0 < angle ≤ 180\n",
        "- angle은 정수입니다.\n",
        "\n",
        "### 입출력 예\n",
        "| angle | result |\n",
        "|-------|--------|\n",
        "| 70    | 1      |\n",
        "| 91    | 3      |\n",
        "| 180   | 4      |\n",
        "\n",
        "### 입출력 예 설명\n",
        "- 입출력 예 #1\n",
        "    - angle이 70이므로 예각입니다. 따라서 1을 return합니다.\n",
        "\n",
        "- 입출력 예 #2\n",
        "    - angle이 91이므로 둔각입니다. 따라서 3을 return합니다.\n",
        "- 입출력 예 #3\n",
        "    - angle이 180이므로 평각입니다. 따라서 4를 return합니다."
      ],
      "metadata": {
        "id": "nYbcVrecJOH5"
      }
    },
    {
      "cell_type": "code",
      "source": [
        "def solution(angle):\n",
        "    answer = 0\n",
        "    \n",
        "    if angle > 0 and angle < 90:\n",
        "        answer = 1\n",
        "    elif angle == 90:\n",
        "        answer = 2\n",
        "    elif angle > 90 and angle < 180:\n",
        "        answer = 3\n",
        "    elif angle == 180:\n",
        "        answer = 4\n",
        "    \n",
        "    return answer"
      ],
      "metadata": {
        "id": "jnjnV3noJocX"
      },
      "execution_count": null,
      "outputs": []
    },
    {
      "cell_type": "markdown",
      "source": [
        "### `10.` 짝수의 합\n",
        "\n",
        "### 문제 설명\n",
        "- 정수 n이 주어질 때, n이하의 짝수를 모두 더한 값을 return 하도록 solution 함수를 작성해주세요.\n",
        "\n",
        "### 제한사항\n",
        "- 0 < n ≤ 1000\n",
        "\n",
        "### 입출력 예\n",
        "| n  | result |\n",
        "|----|--------|\n",
        "| 10 | 30     |\n",
        "| 4  | 6      |\n",
        "\n",
        "### 입출력 예 설명\n",
        "- 입출력 예 #1\n",
        "    - n이 10이므로 2 + 4 + 6 + 8 + 10 = 30을 return 합니다.\n",
        "- 입출력 예 #2\n",
        "    - n이 4이므로 2 + 4 = 6을 return 합니다."
      ],
      "metadata": {
        "id": "VyD81MSzJ9nI"
      }
    },
    {
      "cell_type": "code",
      "source": [
        "def solution(n):\n",
        "    answer = 0\n",
        "    \n",
        "    for i in range(0, n + 1, 2):\n",
        "        answer += i\n",
        "    \n",
        "    return answer"
      ],
      "metadata": {
        "id": "ZerZ6HbiKPyk"
      },
      "execution_count": null,
      "outputs": []
    },
    {
      "cell_type": "markdown",
      "source": [
        "## 23년 05월 07일"
      ],
      "metadata": {
        "id": "yH3npq0d_htA"
      }
    },
    {
      "cell_type": "markdown",
      "source": [
        "### `11.` 배열의 평균값\n",
        "\n",
        "### 문제 설명\n",
        "- 정수 배열 numbers가 매개변수로 주어집니다. numbers의 원소의 평균값을 return하도록 solution 함수를 완성해주세요.\n",
        "\n",
        "### 제한사항\n",
        "- 0 ≤ numbers의 원소 ≤ 1,000\n",
        "- 1 ≤ numbers의 길이 ≤ 100\n",
        "- 정답의 소수 부분이 .0 또는 .5인 경우만 입력으로 주어집니다.\n",
        "\n",
        "### 입출력 예\n",
        "| numbers                                      | result |\n",
        "|----------------------------------------------|--------|\n",
        "| [1, 2, 3, 4, 5, 6, 7, 8, 9, 10]              | 5.5    |\n",
        "| [89, 90, 91, 92, 93, 94, 95, 96, 97, 98, 99] | 94.0   |\n",
        "\n",
        "### 입출력 예 설명\n",
        "- 입출력 예 #1\n",
        "    - numbers의 원소들의 평균 값은 5.5입니다.\n",
        "- 입출력 예 #2\n",
        "    - numbers의 원소들의 평균 값은 94.0입니다."
      ],
      "metadata": {
        "id": "W-VsXtwvLAMW"
      }
    },
    {
      "cell_type": "code",
      "source": [
        "def solution(numbers):\n",
        "    answer = 0\n",
        "    \n",
        "    answer = sum(numbers) / len(numbers)\n",
        "    \n",
        "    return answer"
      ],
      "metadata": {
        "id": "4Z832TWSLRIF"
      },
      "execution_count": null,
      "outputs": []
    },
    {
      "cell_type": "markdown",
      "source": [
        "### `12.` 양꼬치\n",
        "\n",
        "### 문제 설명\n",
        "- 머쓱이네 양꼬치 가게는 10인분을 먹으면 음료수 하나를 서비스로 줍니다. 양꼬치는 1인분에 12,000원, 음료수는 2,000원입니다. 정수 n과 k가 매개변수로 주어졌을 때, 양꼬치 n인분과 음료수 k개를 먹었다면 총얼마를 지불해야 하는지 return 하도록 solution 함수를 완성해보세요.\n",
        "\n",
        "### 제한사항\n",
        "- 0 < n < 1,000\n",
        "- n / 10 ≤ k < 1,000\n",
        "- 서비스로 받은 음료수는 모두 마십니다.\n",
        "\n",
        "### 입출력 예\n",
        "| n  | k | result  |\n",
        "|----|---|---------|\n",
        "| 10 | 3 | 124,000 |\n",
        "| 64 | 6 | 768,000 |\n",
        "\n",
        "### 입출력 예 설명\n",
        "- 입출력 예 #1\n",
        "    - 10인분을 시켜 서비스로 음료수를 하나 받아 총 10 * 12000 + 3 * 2000 - 1 * 2000 = 124,000원입니다.\n",
        "- 입출력 예 #2\n",
        "    - 64인분을 시켜 서비스로 음료수를 6개 받아 총 64 * 12000 + 6 * 2000 - 6 * 2000 =768,000원입니다."
      ],
      "metadata": {
        "id": "KQZLO94DLdhn"
      }
    },
    {
      "cell_type": "code",
      "source": [
        "def solution(n, k):\n",
        "    answer = 0\n",
        "    \n",
        "    if n >= 10:\n",
        "        answer = (n * 12000) + (k * 2000) - ((n // 10) * 2000)\n",
        "    else:\n",
        "        answer = (n * 12000) + (k * 2000)\n",
        "    \n",
        "    return answer"
      ],
      "metadata": {
        "id": "hrf0eLGALsU3"
      },
      "execution_count": null,
      "outputs": []
    },
    {
      "cell_type": "markdown",
      "source": [
        "### `13.` 배열 두배 만들기\n",
        "\n",
        "### 문제 설명\n",
        "- 정수 배열 numbers가 매개변수로 주어집니다. numbers의 각 원소에 두배한 원소를 가진 배열을 return하도록 solution 함수를 완성해주세요.\n",
        "\n",
        "### 제한사항\n",
        "- -10,000 ≤ numbers의 원소 ≤ 10,000\n",
        "- 1 ≤ numbers의 길이 ≤ 1,000\n",
        "\n",
        "### 입출력 예\n",
        "| numbers                   | result                     |\n",
        "|---------------------------|----------------------------|\n",
        "| [1, 2, 3, 4, 5]           | [2, 4, 6, 8, 10]           |\n",
        "| [1, 2, 100, -99, 1, 2, 3] | [2, 4, 200, -198, 2, 4, 6] |\n",
        "\n",
        "### 입출력 예 설명\n",
        "- 입출력 예 #1\n",
        "    - [1, 2, 3, 4, 5]의 각 원소에 두배를 한 배열 [2, 4, 6, 8, 10]을 return합니다.\n",
        "- 입출력 예 #2\n",
        "    - [1, 2, 100, -99, 1, 2, 3]의 각 원소에 두배를 한 배열 [2, 4, 200, -198, 2, 4, 6]을 return합니다."
      ],
      "metadata": {
        "id": "0likwtJsMfKA"
      }
    },
    {
      "cell_type": "code",
      "source": [
        "def solution(numbers):\n",
        "    answer = []\n",
        "    \n",
        "    for i in range(0, len(numbers)):\n",
        "        numbers[i] *= 2\n",
        "        \n",
        "    answer = numbers\n",
        "    \n",
        "    return answer"
      ],
      "metadata": {
        "id": "CIWngZDeMyrl"
      },
      "execution_count": null,
      "outputs": []
    },
    {
      "cell_type": "markdown",
      "source": [
        "### `14.` 배열 자르기\n",
        "\n",
        "### 문제 설명\n",
        "- 정수 배열 numbers와 정수 num1, num2가 매개변수로 주어질 때, numbers의 num1번 째 인덱스부터 num2번째 인덱스까지 자른 정수 배열을 return 하도록 solution 함수를 완성해보세요.\n",
        "\n",
        "### 제한사항\n",
        "- 2 ≤ numbers의 길이 ≤ 30\n",
        "- 0 ≤ numbers의 원소 ≤ 1,000\n",
        "- 0 ≤num1 < num2 < numbers의 길이\n",
        "\n",
        "### 입출력 예\n",
        "| numbers         | num1 | num2 | result    |\n",
        "|-----------------|------|------|-----------|\n",
        "| [1, 2, 3, 4, 5] | 1    | 3    | [2, 3, 4] |\n",
        "| [1, 3, 5]       | 1    | 2    | [3, 5]    |\n",
        "\n",
        "### 입출력 예 설명\n",
        "- 입출력 예 #1\n",
        "    - [1, 2, 3, 4, 5]의 1번째 인덱스 2부터 3번째 인덱스 4 까지 자른 [2, 3, 4]를 return 합니다.\n",
        "- 입출력 예 #2\n",
        "    - [1, 3, 5]의 1번째 인덱스 3부터 2번째 인덱스 5까지 자른 [3, 5]를 return 합니다."
      ],
      "metadata": {
        "id": "6PqEZVPENRd1"
      }
    },
    {
      "cell_type": "code",
      "source": [
        "def solution(numbers, num1, num2):\n",
        "    answer = []\n",
        "    \n",
        "    answer = numbers[num1:num2 + 1]\n",
        "    \n",
        "    return answer"
      ],
      "metadata": {
        "id": "E1ZY2kT9NhHl"
      },
      "execution_count": null,
      "outputs": []
    },
    {
      "cell_type": "markdown",
      "source": [
        "### `15.` 배열 뒤집기\n",
        "\n",
        "### 문제 설명\n",
        "- 정수가 들어 있는 배열 num_list가 매개변수로 주어집니다. num_list의 원소의 순서를 거꾸로 뒤집은 배열을 return하도록 solution 함수를 완성해주세요.\n",
        "\n",
        "### 제한사항\n",
        "- 1 ≤ num_list의 길이 ≤ 1,000\n",
        "- 0 ≤ num_list의 원소 ≤ 1,000\n",
        "\n",
        "### 입출력 예\n",
        "| num_list              | result                |\n",
        "|-----------------------|-----------------------|\n",
        "| [1, 2, 3, 4, 5]       | [5, 4, 3, 2, 1]       |\n",
        "| [1, 1, 1, 1, 1, 2]    | [2, 1, 1, 1, 1, 1]    |\n",
        "| [1, 0, 1, 1, 1, 3, 5] | [5, 3, 1, 1, 1, 0, 1] |\n",
        "\n",
        "### 입출력 예 설명\n",
        "- 입출력 예 #1\n",
        "    - num_list가 [1, 2, 3, 4, 5]이므로 순서를 거꾸로 뒤집은 배열 [5, 4, 3, 2, 1]을 return합니다.\n",
        "- 입출력 예 #2\n",
        "    - num_list가 [1, 1, 1, 1, 1, 2]이므로 순서를 거꾸로 뒤집은 배열 [2, 1, 1, 1, 1, 1]을 return합니다.\n",
        "- 입출력 예 #3\n",
        "    - num_list가 [1, 0, 1, 1, 1, 3, 5]이므로 순서를 거꾸로 뒤집은 배열 [5, 3, 1, 1, 1, 0, 1]을 return합니다."
      ],
      "metadata": {
        "id": "A6SYoE-FN9B0"
      }
    },
    {
      "cell_type": "code",
      "source": [
        "def solution(num_list):\n",
        "    answer = []\n",
        "    \n",
        "    num_list.reverse()\n",
        "    answer = num_list\n",
        "    \n",
        "    return answer"
      ],
      "metadata": {
        "id": "8EdK48cnOOS-"
      },
      "execution_count": null,
      "outputs": []
    },
    {
      "cell_type": "markdown",
      "source": [
        "## 23년 05월 08일"
      ],
      "metadata": {
        "id": "R1PluDDRAVN3"
      }
    },
    {
      "cell_type": "markdown",
      "source": [
        "### `16.` 정수 부분\n",
        "\n",
        "### 문제 설명\n",
        "- 실수 flo가 매개 변수로 주어질 때, flo의 정수 부분을 return하도록 solution 함수를 완성해주세요.\n",
        "\n",
        "### 제한사항\n",
        "- 0 ≤ flo ≤ 100\n",
        "\n",
        "### 입출력 예\n",
        "| flo   | result |\n",
        "|-------|--------|\n",
        "| 1.42  | 1      |\n",
        "| 69.32 | 69     |\n",
        "\n",
        "### 입출력 예 설명\n",
        "- 입출력 예 #1\n",
        "    - 1.42의 정수 부분은 1입니다.\n",
        "- 입출력 예 #2\n",
        "    - 69.32의 정수 부분은 69입니다.\n"
      ],
      "metadata": {
        "id": "Uhp5UoVCmTy6"
      }
    },
    {
      "cell_type": "code",
      "source": [
        "def solution(flo):\n",
        "    answer = 0\n",
        "    \n",
        "    answer = int(flo)\n",
        "    \n",
        "    return answer"
      ],
      "metadata": {
        "id": "dk_V2DZ1mnaN"
      },
      "execution_count": null,
      "outputs": []
    },
    {
      "cell_type": "markdown",
      "source": [
        "### `17.` 문자열로 변환\n",
        "\n",
        "### 문제 설명\n",
        "- 정수 n이 주어질 때, n을 문자열로 변환하여 return하도록 solution 함수를 완성해주세요.\n",
        "\n",
        "### 제한사항\n",
        "- 1 ≤ n ≤ 10000\n",
        "\n",
        "### 입출력 예\n",
        "| n    | result |\n",
        "|------|--------|\n",
        "| 123  | \"123\"  |\n",
        "| 2573 | \"2573\" |\n",
        "\n",
        "### 입출력 예 설명\n",
        "- 입출력 예 #1\n",
        "    - 123을 문자열로 변환한 \"123\"을 return합니다.\n",
        "- 입출력 예 #2\n",
        "    - 2573을 문자열로 변환한 \"2573\"을 return합니다."
      ],
      "metadata": {
        "id": "nu4Vg_PCm1-g"
      }
    },
    {
      "cell_type": "code",
      "source": [
        "def solution(n):\n",
        "    answer = ''\n",
        "    \n",
        "    answer = str(n)\n",
        "    \n",
        "    return answer"
      ],
      "metadata": {
        "id": "laj8gU7tnJbO"
      },
      "execution_count": null,
      "outputs": []
    },
    {
      "cell_type": "markdown",
      "source": [
        "### `18.` 문자열의 앞의 n글자\n",
        "\n",
        "### 문제 설명\n",
        "- 문자열 my_string과 정수 n이 매개변수로 주어질 때, my_string의 앞의 n글자로 이루어진 문자열을 return 하는 solution 함수를 작성해 주세요.\n",
        "\n",
        "### 제한사항\n",
        "- my_string은 숫자와 알파벳으로 이루어져 있습니다.\n",
        "- 1 ≤ my_string의 길이 ≤ 1,000\n",
        "- 1 ≤ n ≤ my_string의 길이\n",
        "\n",
        "### 입출력 예\n",
        "| my_string        | n  | result        |\n",
        "|------------------|----|---------------|\n",
        "| \"ProgrammerS123\" | 11 | \"ProgrammerS\" |\n",
        "| \"He110W0r1d\"     | 5  | \"He110\"       |\n",
        "\n",
        "### 입출력 예\n",
        "- 입출력 예 #1\n",
        "    - 예제 1번의 my_string에서 앞의 11글자는 \"ProgrammerS\"이므로 이 문자열을 return 합니다.\n",
        "- 입출력 예 #2\n",
        "    - 예제 2번의 my_string에서 앞의 5글자는 \"He110\"이므로 이 문자열을 return 합니다."
      ],
      "metadata": {
        "id": "oKsTj056nOyL"
      }
    },
    {
      "cell_type": "code",
      "source": [
        "def solution(my_string, n):\n",
        "    answer = ''\n",
        "    \n",
        "    answer = my_string[:n]\n",
        "    \n",
        "    return answer"
      ],
      "metadata": {
        "id": "9I_tzmaenomT"
      },
      "execution_count": null,
      "outputs": []
    },
    {
      "cell_type": "markdown",
      "source": [
        "### `19.` 소문자로 바꾸기\n",
        "\n",
        "### 문제 설명\n",
        "- 알파벳으로 이루어진 문자열 myString이 주어집니다. 모든 알파벳을 소문자로 변환하여 return 하는 solution 함수를 완성해 주세요.\n",
        "\n",
        "### 제한사항\n",
        "- 1 ≤ myString의 길이 ≤ 100,000\n",
        "    - myString은 알파벳으로 이루어진 문자열입니다.\n",
        "\n",
        "### 입출력 예\n",
        "| myString  | result    |\n",
        "|-----------|-----------|\n",
        "| \"aBcDeFg\" | \"abcdefg\" |\n",
        "| \"aaa\"     | \"aaa\"     |"
      ],
      "metadata": {
        "id": "ipr-I5TSn0_u"
      }
    },
    {
      "cell_type": "code",
      "source": [
        "def solution(myString):\n",
        "    answer = ''\n",
        "    \n",
        "    answer = myString.lower()\n",
        "    \n",
        "    return answer"
      ],
      "metadata": {
        "id": "jju5fPz0oiOO"
      },
      "execution_count": null,
      "outputs": []
    },
    {
      "cell_type": "markdown",
      "source": [
        "### `20.` 문자열을 정수로 변환하기\n",
        "\n",
        "### 문제 설명\n",
        "- 숫자로만 이루어진 문자열 n_str이 주어질 때, n_str을 정수로 변환하여 return하도록 solution 함수를 완성해주세요.\n",
        "\n",
        "### 제한사항\n",
        "- 1 ≤ n_str ≤ 5\n",
        "- n_str은 0부터 9까지의 정수 문자로만 이루어져 있습니다.\n",
        "\n",
        "### 입출력 예\n",
        "| n_str  | result |\n",
        "|--------|--------|\n",
        "| \"10\"   | 10     |\n",
        "| \"8542\" | 8542   |\n",
        "\n",
        "### 입출력 예 설명\n",
        "- 입출력 예 #1\n",
        "    - \"10\"을 정수로 바꾸면 10입니다.\n",
        "- 입출력 예 #2\n",
        "    - \"8542\"를 정수로 바꾸면 8542입니다."
      ],
      "metadata": {
        "id": "hGiCWNdpo0lb"
      }
    },
    {
      "cell_type": "code",
      "source": [
        "def solution(n_str):\n",
        "    answer = 0\n",
        "    \n",
        "    answer = int(n_str)\n",
        "    \n",
        "    return answer "
      ],
      "metadata": {
        "id": "x-tlhn_JpCLh"
      },
      "execution_count": null,
      "outputs": []
    },
    {
      "cell_type": "markdown",
      "source": [
        "## 23년 05월 09일"
      ],
      "metadata": {
        "id": "fhFP_0AI_-zN"
      }
    },
    {
      "cell_type": "markdown",
      "source": [
        "### `21.` n의 배수\n",
        "\n",
        "### 문제 설명\n",
        "- 정수 num과 n이 매개 변수로 주어질 때, num이 n의 배수이면 1을 return n의 배수가 아니라면 0을 return하도록 solution 함수를 완성해주세요.\n",
        "\n",
        "### 제한사항\n",
        "- 2 ≤ num ≤ 100\n",
        "- 2 ≤ n ≤ 9\n",
        "\n",
        "### 입출력 예\n",
        "| num | n | result |\n",
        "|-----|---|--------|\n",
        "| 98  | 2 | 1      |\n",
        "| 34  | 3 | 0      |\n",
        "\n",
        "### 입출력 예 설명\n",
        "- 입출력 예 #1\n",
        "    - 98은 2의 배수이므로 1을 return합니다.\n",
        "- 입출력 예 #2\n",
        "    - 32는 3의 배수가 아니므로 0을 return합니다.\n"
      ],
      "metadata": {
        "id": "uNyE5uObpTP3"
      }
    },
    {
      "cell_type": "code",
      "source": [
        "def solution(num, n):\n",
        "    answer = 0\n",
        "    \n",
        "    if num % n == 0:\n",
        "        answer = 1\n",
        "    else:\n",
        "        answer = 0\n",
        "    \n",
        "    return answer"
      ],
      "metadata": {
        "id": "Ggg9zd2ypjmk"
      },
      "execution_count": null,
      "outputs": []
    },
    {
      "cell_type": "markdown",
      "source": [
        "### `22.` flag에 따라 다른 값 반환하기\n",
        "\n",
        "### 문제 설명\n",
        "- 두 정수 a, b와 boolean 변수 flag가 매개변수로 주어질 때, flag가 true면 a + b를 false면 a - b를 return 하는 solution 함수를 작성해 주세요.\n",
        "\n",
        "### 제한사항\n",
        "- -1000 ≤ a, b ≤ 1,000\n",
        "\n",
        "### 입출력 예\n",
        "| a  | b | flag  | result |\n",
        "|----|---|-------|--------|\n",
        "| -4 | 7 | true  | 3      |\n",
        "| -4 | 7 | false | -11    |\n",
        "\n",
        "### 입출력 예\n",
        "- 입출력 예 #1\n",
        "    - 예제 1번에서 flag가 true이므로 a + b = (-4) + 7 = 3을 return 합니다.\n",
        "- 입출력 예 #2\n",
        "    - 예제 2번에서 flag가 false이므로 a - b = (-4) - 7 = -11을 return 합니다."
      ],
      "metadata": {
        "id": "Lw0nS_NXptIW"
      }
    },
    {
      "cell_type": "code",
      "source": [
        "def solution(a, b, flag):\n",
        "    answer = 0\n",
        "    \n",
        "    if flag == True:\n",
        "        answer = a + b\n",
        "    else:\n",
        "        answer = a - b\n",
        "    \n",
        "    return answer"
      ],
      "metadata": {
        "id": "p_wvFQhJp-rP"
      },
      "execution_count": null,
      "outputs": []
    },
    {
      "cell_type": "markdown",
      "source": [
        "### `23.` 문자열 곱하기\n",
        "\n",
        "### 문제 설명\n",
        "- 문자열 my_string과 정수 k가 주어질 때, my_string을 k번 반복한 문자열을 return 하는 solution 함수를 작성해 주세요.\n",
        "\n",
        "### 제한사항\n",
        "- 1 ≤ my_string의 길이 ≤ 100\n",
        "- my_string은 영소문자로만 이루어져 있습니다.\n",
        "- 1 ≤ k ≤ 100\n",
        "\n",
        "### 입출력 예\n",
        "| my_string | k  | result                                     |\n",
        "|-----------|----|--------------------------------------------|\n",
        "| \"string\"  | 3  | \"stringstringstring\"                       |\n",
        "| \"love\"    | 10 | \"lovelovelovelovelovelovelovelovelovelove\" |\n",
        "\n",
        "### 입출력 예 설명\n",
        "- 입출력 예 #1\n",
        "    - 예제 1번의 my_string은 \"string\"이고 이를 3번 반복한 문자열은 \"stringstringstring\"이므로 이를 return 합니다.\n",
        "- 입출력 예 #2\n",
        "    - 예제 2번의 my_string은 \"love\"이고 이를 10번 반복한 문자열은 \"lovelovelovelovelovelovelovelovelovelove\"이므로 이를 return 합니다."
      ],
      "metadata": {
        "id": "d7gnwtJWqKRp"
      }
    },
    {
      "cell_type": "code",
      "source": [
        "def solution(my_string, k):\n",
        "    answer = ''\n",
        "    \n",
        "    answer = my_string * k\n",
        "    \n",
        "    return answer"
      ],
      "metadata": {
        "id": "PrrxUAkLqaan"
      },
      "execution_count": null,
      "outputs": []
    },
    {
      "cell_type": "markdown",
      "source": [
        "### `24.` 대문자로 바꾸기\n",
        "\n",
        "### 문제 설명\n",
        "- 알파벳으로 이루어진 문자열 myString이 주어집니다. 모든 알파벳을 대문자로 변환하여 return 하는 solution 함수를 완성해 주세요.\n",
        "\n",
        "### 제한사항\n",
        "- 1 ≤ myString의 길이 ≤ 100,000\n",
        "    - myString은 알파벳으로 이루어진 문자열입니다.\n",
        "\n",
        "### 입출력 예\n",
        "| myString  | result    |\n",
        "|-----------|-----------|\n",
        "| \"aBcDeFg\" | \"ABCDEFG\" |\n",
        "| \"AAA\"     | \"AAA\"     |"
      ],
      "metadata": {
        "id": "LkM6XZN9qhSP"
      }
    },
    {
      "cell_type": "code",
      "source": [
        "def solution(myString):\n",
        "    answer = ''\n",
        "    \n",
        "    answer = myString.upper()\n",
        "    \n",
        "    return answer"
      ],
      "metadata": {
        "id": "V5bRwAfYqwxW"
      },
      "execution_count": null,
      "outputs": []
    },
    {
      "cell_type": "markdown",
      "source": [
        "### `25.` 공배수\n",
        "\n",
        "### 문제 설명\n",
        "- 정수 number와 n, m이 주어집니다. number가 n의 배수이면서 m의 배수이면 1을 아니라면 0을 return하도록 solution 함수를 완성해주세요.\n",
        "\n",
        "### 제한사항\n",
        "- 10 ≤ number ≤ 100\n",
        "- 2 ≤ n, m < 10\n",
        "\n",
        "### 입출력 예\n",
        "| number | n  | m | result |\n",
        "|--------|----|---|--------|\n",
        "| 60     | 2  | 3 | 1      |\n",
        "| 55     | 10 | 5 | 0      |\n",
        "\n",
        "### 입출력 예 설명\n",
        "- 입출력 예 #1\n",
        "    - 60은 2의 배수이면서 3의 배수이기 때문에 1을 return합니다.\n",
        "- 입출력 예 #2\n",
        "    - 55는 5의 배수이지만 10의 배수가 아니기 때문에 0을 return합니다."
      ],
      "metadata": {
        "id": "C2zguGAjqigo"
      }
    },
    {
      "cell_type": "code",
      "source": [
        "def solution(number, n, m):\n",
        "    answer = 0\n",
        "    \n",
        "    if number % n == 0 and number % m == 0:\n",
        "        answer = 1\n",
        "    else:\n",
        "        answer = 0\n",
        "    \n",
        "    return answer"
      ],
      "metadata": {
        "id": "Hv7YiLKcrD6i"
      },
      "execution_count": null,
      "outputs": []
    },
    {
      "cell_type": "markdown",
      "source": [
        "## 23년 05월 10일"
      ],
      "metadata": {
        "id": "uoK5FzuJAbig"
      }
    },
    {
      "cell_type": "markdown",
      "source": [
        "### `26.` 부분 문자열인지 확인하기\n",
        "\n",
        "### 문제 설명\n",
        "- 부분 문자열이란 문자열에서 연속된 일부분에 해당하는 문자열을 의미합니다. 예를 들어, 문자열 \"ana\", \"ban\", \"anana\", \"banana\", \"n\"는 모두 문자열 \"banana\"의 부분 문자열이지만, \"aaa\", \"bnana\", \"wxyz\"는 모두 \"banana\"의 부분 문자열이 아닙니다.\n",
        "- 문자열 my_string과 target이 매개변수로 주어질 때, target이 문자열 my_string의 부분 문자열이라면 1을, 아니라면 0을 return 하는 solution 함수를 작성해 주세요.\n",
        "\n",
        "### 제한사항\n",
        "- 1 ≤ my_string의 길이 ≤ 100\n",
        "- my_string은 영소문자로만 이루어져 있습니다.\n",
        "- 1 ≤ target의 길이 ≤ 100\n",
        "- target은 영소문자로만 이루어져 있습니다.\n",
        "\n",
        "### 입출력 예\n",
        "| my_string | target | result |\n",
        "|-----------|--------|--------|\n",
        "| \"banana\"  | \"ana\"  | 1      |\n",
        "| \"banana\"  | \"wxyz\" | 0      |\n",
        "\n",
        "### 입출력 예 설명\n",
        "- 입출력 예 #1\n",
        "    - 문제 설명과 같습니다.\n",
        "- 입출력 예 #2\n",
        "    - 문제 설명과 같습니다."
      ],
      "metadata": {
        "id": "aIjYEA8Rye2V"
      }
    },
    {
      "cell_type": "code",
      "source": [
        "def solution(my_string, target):\n",
        "    answer = 0\n",
        "    \n",
        "    if target in my_string:\n",
        "        answer = 1\n",
        "    else:\n",
        "        answer = 0\n",
        "    \n",
        "    return answer"
      ],
      "metadata": {
        "id": "bZOal0tEyvdT"
      },
      "execution_count": null,
      "outputs": []
    },
    {
      "cell_type": "markdown",
      "source": [
        "### `27.` 공백으로 구분하기 1\n",
        "\n",
        "### 문제 설명\n",
        "- 단어가 공백 한 개로 구분되어 있는 문자열 my_string이 매개변수로 주어질 때, my_string에 나온 단어를 앞에서부터 순서대로 담은 문자열 배열을 return 하는 solution 함수를 작성해 주세요.\n",
        "\n",
        "### 제한사항\n",
        "- my_string은 영소문자와 공백으로만 이루어져 있습니다.\n",
        "- 1 ≤ my_string의 길이 ≤ 1,000\n",
        "- my_string의 맨 앞과 맨 뒤에 글자는 공백이 아닙니다.\n",
        "\n",
        "### 입출력 예\n",
        "| my_string     | result               |\n",
        "|---------------|----------------------|\n",
        "| \"i love you\"  | [\"i\", \"love\", \"you\"] |\n",
        "| \"programmers\" | [\"programmers\"]      |\n",
        "\n",
        "### 입출력 예 설명\n",
        "- 입출력 예 #1\n",
        "    - 예제 1번의 my_string은 \"i love you\"로 공백 한 칸으로 나누어진 단어들은 앞에서부터 순서대로 \"i\", \"love\", \"you\" 이므로 [\"i\", \"love\", \"you\"]를 return 합니다.\n",
        "- 입출력 예 #2\n",
        "    - 예제 2번의 my_string은 \"programmers\"로 단어가 하나만 있습니다. 따라서 [\"programmers\"]를 return 합니다."
      ],
      "metadata": {
        "id": "8Xh3cr7Hy_D5"
      }
    },
    {
      "cell_type": "code",
      "source": [
        "def solution(my_string):\n",
        "    answer = []\n",
        "\n",
        "    answer = my_string.split()\n",
        "\n",
        "    return answer"
      ],
      "metadata": {
        "id": "Y3n0hWDZzQyW"
      },
      "execution_count": null,
      "outputs": []
    },
    {
      "cell_type": "markdown",
      "source": [
        "### `28.` 길이에 따른 연산\n",
        "\n",
        "### 문제 설명\n",
        "- 정수가 담긴 리스트 num_list가 주어질 때, 리스트의 길이가 11 이상이면 리스트에 있는 모든 원소의 합을 10 이하이면 모든 원소의 곱을 return하도록 solution 함수를 완성해주세요.\n",
        "\n",
        "### 제한사항\n",
        "- 2 ≤ num_list의 길이 ≤ 20\n",
        "- 1 ≤ num_list의 원소 ≤ 9\n",
        "\n",
        "### 입출력 예\n",
        "| num_list                                | result |\n",
        "|-----------------------------------------|--------|\n",
        "| [3, 4, 5, 2, 5, 4, 6, 7, 3, 7, 2, 2, 1] | 51     |\n",
        "| [2, 3, 4, 5]                            | 120    |\n",
        "\n",
        "### 입출력 예 설명\n",
        "- 입출력 예 #1\n",
        "    - 리스트의 길이가 13이므로 모든 원소의 합인 51을 return합니다.\n",
        "- 입출력 예 #2\n",
        "    - 리스트의 길이가 4이므로 모든 원소의 곱인 120을 return합니다."
      ],
      "metadata": {
        "id": "D9VVLhM614Iu"
      }
    },
    {
      "cell_type": "code",
      "source": [
        "def solution(num_list):\n",
        "    answer = 0\n",
        "    num_mul = 1\n",
        "    \n",
        "    if len(num_list) >= 11:\n",
        "        answer = sum(num_list)\n",
        "    else:\n",
        "        for i in range(0, len(num_list)):\n",
        "            num_mul *= num_list[i]\n",
        "\n",
        "        answer = num_mul\n",
        "        \n",
        "    return answer"
      ],
      "metadata": {
        "id": "suW8d0-H2I3F"
      },
      "execution_count": null,
      "outputs": []
    },
    {
      "cell_type": "markdown",
      "source": [
        "### `29.` 배열 원소의 길이\n",
        "\n",
        "### 문제 설명\n",
        "- 문자열 배열 strlist가 매개변수로 주어집니다. strlist 각 원소의 길이를 담은 배열을 retrun하도록 solution 함수를 완성해주세요.\n",
        "\n",
        "### 제한사항\n",
        "- 1 ≤ strlist 원소의 길이 ≤ 100\n",
        "- strlist는 알파벳 소문자, 대문자, 특수문자로 구성되어 있습니다.\n",
        "\n",
        "### 입출력 예\n",
        "| strlist                        | result       |\n",
        "|--------------------------------|--------------|\n",
        "| [\"We\", \"are\", \"the\", \"world!\"] | [2, 3, 3, 6] |\n",
        "| [\"I\", \"Love\", \"Programmers.\"]  | [1, 4, 12]   |\n",
        "\n",
        "### 입출력 예 설명\n",
        "- 입출력 예 #1\n",
        "    - [\"We\", \"are\", \"the\", \"world!\"]의 각 원소의 길이인 [2, 3, 3, 6]을 return합니다.\n",
        "- 입출력 예 #2\n",
        "    - [\"I\", \"Love\", \"Programmers.\"]의 각 원소의 길이인 [1, 4, 12]을 return합니다.\n"
      ],
      "metadata": {
        "id": "KenFqEcm5Ame"
      }
    },
    {
      "cell_type": "code",
      "source": [
        "def solution(strlist):\n",
        "    answer = []\n",
        "\n",
        "    for i in range(0, len(strlist)):\n",
        "        answer.append(len(strlist[i]))\n",
        "    \n",
        "    return answer"
      ],
      "metadata": {
        "id": "P1dT1sUQ5Q_w"
      },
      "execution_count": null,
      "outputs": []
    },
    {
      "cell_type": "markdown",
      "source": [
        "### `30.` 문자열의 뒤의 n글자\n",
        "\n",
        "### 문제 설명\n",
        "- 문자열 my_string과 정수 n이 매개변수로 주어질 때, my_string의 뒤의 n글자로 이루어진 문자열을 return 하는 solution 함수를 작성해 주세요.\n",
        "\n",
        "### 제한사항\n",
        "- my_string은 숫자와 알파벳으로 이루어져 있습니다.\n",
        "- 1 ≤ my_string의 길이 ≤ 1,000\n",
        "- 1 ≤ n ≤ my_string의 길이\n",
        "\n",
        "### 입출력 예\n",
        "| my_string        | n  | result        |\n",
        "|------------------|----|---------------|\n",
        "| \"ProgrammerS123\" | 11 | \"grammerS123\" |\n",
        "| \"He110W0r1d\"     | 5  | \"W0r1d\"       |\n",
        "\n",
        "### 입출력 예\n",
        "- 입출력 예 #1\n",
        "    - 예제 1번의 my_string에서 뒤의 11글자는 \"grammerS123\"이므로 이 문자열을 return 합니다.\n",
        "- 입출력 예 #2\n",
        "    - 예제 2번의 my_string에서 뒤의 5글자는 \"W0r1d\"이므로 이 문자열을 return 합니다.\n"
      ],
      "metadata": {
        "id": "2u0Nx0R75Btn"
      }
    },
    {
      "cell_type": "code",
      "source": [
        "def solution(my_string, n):\n",
        "    answer = ''\n",
        "    \n",
        "    answer = my_string[len(my_string) - n:]\n",
        "    \n",
        "    return answer"
      ],
      "metadata": {
        "id": "EhtAHixMFs6s"
      },
      "execution_count": null,
      "outputs": []
    },
    {
      "cell_type": "markdown",
      "source": [
        "## 23년 05월 11일"
      ],
      "metadata": {
        "id": "WPpB1EWqAO5t"
      }
    },
    {
      "cell_type": "markdown",
      "source": [
        "### `31.` 문자열 정수의 합\n",
        "\n",
        "### 문제 설명\n",
        "- 한 자리 정수로 이루어진 문자열 num_str이 주어질 때, 각 자리수의 합을 return하도록 solution 함수를 완성해주세요.\n",
        "\n",
        "### 제한사항\n",
        "- 3 ≤ num_str ≤ 100\n",
        "\n",
        "### 입출력 예\n",
        "| num_str     | result |\n",
        "|-------------|--------|\n",
        "| \"123456789\" | 45     |\n",
        "| \"1000000\"   | 1      |\n",
        "\n",
        "###입출력 예 설명\n",
        "- 입출력 예 #1\n",
        "    - 문자열 안의 모든 숫자를 더하면 45가 됩니다.\n",
        "- 입출력 예 #2\n",
        "    - 문자열 안의 모든 숫자를 더하면 1이 됩니다."
      ],
      "metadata": {
        "id": "If4DS0lLBDJm"
      }
    },
    {
      "cell_type": "code",
      "source": [
        "def solution(num_str):\n",
        "    answer = 0\n",
        "    \n",
        "    for i in range(0, len(list(num_str))):\n",
        "        answer += int(list(num_str)[i])\n",
        "    \n",
        "    return answer"
      ],
      "metadata": {
        "id": "JHxIsPh2Lki-"
      },
      "execution_count": null,
      "outputs": []
    },
    {
      "cell_type": "markdown",
      "source": [
        "### `32.` 카운트 업\n",
        "\n",
        "### 문제 설명\n",
        "- 정수 start와 end가 주어질 때, start부터 end까지의 숫자를 차례로 담은 리스트를 return하도록 solution 함수를 완성해주세요.\n",
        "\n",
        "### 제한사항\n",
        "- 0 ≤ start ≤ end ≤ 50\n",
        "\n",
        "### 입출력 예\n",
        "| start | end | result                    |\n",
        "|-------|-----|---------------------------|\n",
        "| 3     | 10  | [3, 4, 5, 6, 7, 8, 9, 10] |\n",
        "\n",
        "### 입출력 예 설명\n",
        "- 입출력 예 #1\n",
        "    - 3부터 10까지의 숫자들을 담은 리스트 [3, 4, 5, 6, 7, 8, 9, 10]를 return합니다.\n"
      ],
      "metadata": {
        "id": "6wWvarSlBITP"
      }
    },
    {
      "cell_type": "code",
      "source": [
        "def solution(start, end):\n",
        "    answer = []\n",
        "    \n",
        "    answer = list(range(start, end + 1))\n",
        "    \n",
        "    return answer"
      ],
      "metadata": {
        "id": "QAcqrJvhSHvG"
      },
      "execution_count": null,
      "outputs": []
    },
    {
      "cell_type": "markdown",
      "source": [
        "### `33.` n보다 커질 때까지 더하기\n",
        "\n",
        "###문제 설명\n",
        "- 정수 배열 numbers와 정수 n이 매개변수로 주어집니다. numbers의 원소를 앞에서부터 하나씩 더하다가 그 합이 n보다 커지는 순간 이때까지 더했던 원소들의 합을 return 하는 solution 함수를 작성해 주세요.\n",
        "\n",
        "### 제한사항\n",
        "- 1 ≤ numbers의 길이 ≤ 100\n",
        "- 1 ≤ numbers의 원소 ≤ 100\n",
        "- 0 ≤ n < numbers의 모든 원소의 합\n",
        "\n",
        "### 입출력 예\n",
        "| numbers                  | n   | result |\n",
        "|--------------------------|-----|--------|\n",
        "| [34, 5, 71, 29, 100, 34] | 123 | 139    |\n",
        "| [58, 44, 27, 10, 100]    | 139 | 239    |\n",
        "\n",
        "### 입출력 예 설명\n",
        "| i | numbers[i] | sum |\n",
        "|---|------------|-----|\n",
        "|   |            | 0   |\n",
        "| 0 | 34         | 34  |\n",
        "| 1 | 5          | 39  |\n",
        "| 2 | 71         | 110 |\n",
        "| 3 | 29         | 139 |\n",
        "\n",
        "- 입출력 예 #1\n",
        "    - 예제 1번의 numbers를 문제 설명대로 더해가는 과정을 나타내면 위의 표와 같습니다.\n",
        "    - 29를 더한 뒤에 sum 값은 139이고 n 값인 123보다 크므로 139를 return 합니다.\n",
        "    - 예제 2번의 numbers의 마지막 원소 전까지의 원소를 sum에 더하면 139입니다. 139는 n 값인 139보다 크지 않고 마지막 원소인 100을 더하면 139보다 커지므로 239를 return 합니다.\n",
        "\n"
      ],
      "metadata": {
        "id": "ctmpeXUPBMYG"
      }
    },
    {
      "cell_type": "code",
      "source": [
        "def solution(numbers, n):\n",
        "    answer = 0\n",
        "    \n",
        "    for i in range(0, len(numbers)):\n",
        "        answer += numbers[i]\n",
        "        if answer > n:\n",
        "            return answer\n",
        "    \n",
        "    return answer"
      ],
      "metadata": {
        "id": "uXZhykRBT8or"
      },
      "execution_count": null,
      "outputs": []
    },
    {
      "cell_type": "markdown",
      "source": [
        "### `34.` 정수 찾기\n",
        "\n",
        "### 문제 설명\n",
        "- 정수 리스트 num_list와 찾으려는 정수 n이 주어질 때, num_list안에 n이 있으면 1을 없으면 0을 return하도록 solution 함수를 완성해주세요.\n",
        "\n",
        "### 제한사항\n",
        "- 3 ≤ num_list의 길이 ≤ 100\n",
        "- 1 ≤ num_list의 원소 ≤ 100\n",
        "- 1 ≤ n ≤ 100\n",
        "\n",
        "### 입출력 예\n",
        "| num_list            | n  | result |\n",
        "|---------------------|----|--------|\n",
        "| [1, 2, 3, 4, 5]     | 3  | 1      |\n",
        "| [15, 98, 23, 2, 15] | 20 | 0      |\n",
        "\n",
        "### 입출력 예 설명\n",
        "- 입출력 예 #1\n",
        "    - [1, 2, 3, 4, 5] 안에 3이 있으므로 1을 return합니다.\n",
        "- 입출력 예 #2\n",
        "    - [15, 98, 23, 2, 15] 안에 20이 없으므로 0을 return합니다.\n"
      ],
      "metadata": {
        "id": "gM-Hrj-xBOSP"
      }
    },
    {
      "cell_type": "code",
      "source": [
        "def solution(num_list, n):\n",
        "    answer = 0\n",
        "    \n",
        "    for i in range(0, len(num_list)):\n",
        "        if num_list[i] == n:\n",
        "            answer = 1\n",
        "            return answer\n",
        "    \n",
        "    return answer"
      ],
      "metadata": {
        "id": "ekwsFG6xUyeO"
      },
      "execution_count": null,
      "outputs": []
    },
    {
      "cell_type": "markdown",
      "source": [
        "### `35.` 글자 이어 붙여 문자열 만들기\n",
        "\n",
        "### 문제 설명\n",
        "- 문자열 my_string과 정수 배열 index_list가 매개변수로 주어집니다. my_string의 index_list의 원소들에 해당하는 인덱스의 글자들을 순서대로 이어 붙인 문자열을 return 하는 solution 함수를 작성해 주세요.\n",
        "\n",
        "### 제한사항\n",
        "- 1 ≤ my_string의 길이 ≤ 1,000\n",
        "- my_string의 원소는 영소문자로 이루어져 있습니다.\n",
        "- 1 ≤ index_list의 길이 ≤ 1,000\n",
        "- 0 ≤ index_list의 원소 < my_string의 길이\n",
        "\n",
        "### 입출력 예\n",
        "| my_string            | index_list                               | result        |\n",
        "|----------------------|------------------------------------------|---------------|\n",
        "| \"cvsgiorszzzmrpaqpe\" | [16, 6, 5, 3, 12, 14, 11, 11, 17, 12, 7] | \"programmers\" |\n",
        "| \"zpiaz\"              | [1, 2, 0, 0, 3]                          | \"pizza\"       |\n",
        "\n",
        "### 입출력 예 설명\n",
        "- 입출력 예 #1\n",
        "    - 예제 1번의 my_string에서 인덱스 3, 5, 6, 11, 12, 14, 16, 17에 해당하는 글자는 각각 g, o, r, m, r, a, p, e이므로 my_string에서 index_list에 들어있는 원소에 해당하는 인덱스의 글자들은 각각 순서대로 p, r, o, g, r, a, m, m, e, r, s입니다. 따라서 \"programmers\"를 return 합니다.\n",
        "- 입출력 예 #2\n",
        "    - 예제 2번의 my_string에서 인덱스 0, 1, 2, 3에 해당하는 글자는 각각 z, p, i, a이므로 my_string에서 index_list에 들어있는 원소에 해당하는 인덱스의 글자들은 각각 순서대로 p, i, z, z, a입니다. 따라서 \"pizza\"를 return 합니다."
      ],
      "metadata": {
        "id": "gAaxLfWFBP6r"
      }
    },
    {
      "cell_type": "code",
      "source": [
        "def solution(my_string, index_list):\n",
        "    answer = ''\n",
        "    \n",
        "    for i in index_list:\n",
        "        answer += my_string[i]\n",
        "    \n",
        "    return answer"
      ],
      "metadata": {
        "id": "GgeVx5LeWHjs"
      },
      "execution_count": null,
      "outputs": []
    },
    {
      "cell_type": "markdown",
      "source": [
        "## 23년 05월 12일"
      ],
      "metadata": {
        "id": "_T7EQWNIEHfj"
      }
    },
    {
      "cell_type": "markdown",
      "source": [
        "### ```36.``` 조건에 맞게 수열 변환하기 3\n",
        "\n",
        "### 문제 설명\n",
        "- 정수 배열 arr와 자연수 k가 주어집니다.\n",
        "- 만약 k가 홀수라면 arr의 모든 원소에 k를 곱하고, k가 짝수라면 arr의 모든 원소에 k를 더합니다.\n",
        "- 이러한 변환을 마친 후의 arr를 return 하는 solution 함수를 완성해 주세요.\n",
        "\n",
        "### 제한사항\n",
        "- 1 ≤ arr의 길이 ≤ 1,000,000\n",
        "- 1 ≤ arr의 원소의 값 ≤ 100\n",
        "- 1 ≤ k ≤ 100\n",
        "\n",
        "### 입출력 예\n",
        "| arr                    | k | result                   |\n",
        "|------------------------|---|--------------------------|\n",
        "| [1, 2, 3, 100, 99, 98] | 3 | [3, 6, 9, 300, 297, 294] |\n",
        "| [1, 2, 3, 100, 99, 98] | 2 | [3, 4, 5, 102, 101, 100] |\n",
        "\n",
        "### 입출력 예 설명\n",
        "- 입출력 예 #1\n",
        "    - 주어진 k인 3은 홀수이므로, 전체 배열에 3을 곱합니다. 따라서 [3, 6, 9, 300, 297, 294]을 return 합니다.\n",
        "- 입출력 예 #2\n",
        "    - 주어진 k인 2는 짝수이므로, 전체 배열에 2를 더합니다. 따라서 [3, 4, 5, 102, 101, 100]을 return 합니다.\n"
      ],
      "metadata": {
        "id": "m3KiEjfbEKzA"
      }
    },
    {
      "cell_type": "code",
      "source": [
        "def solution(arr, k):\n",
        "    answer = []\n",
        "    \n",
        "    if k % 2 == 0:\n",
        "        [answer.append(i + k) for i in arr]\n",
        "    else:\n",
        "        [answer.append(i * k) for i in arr]\n",
        "    \n",
        "    return answer"
      ],
      "metadata": {
        "id": "LEAiesUUEJ23"
      },
      "execution_count": null,
      "outputs": []
    },
    {
      "cell_type": "markdown",
      "source": [
        "### ```37.``` n 번째 원소까지\n",
        "\n",
        "### 문제 설명\n",
        "- 정수 리스트 num_list와 정수 n이 주어질 때, num_list의 첫 번째 원소부터 n 번째 원소까지의 모든 원소를 담은 리스트를 return하도록 solution 함수를 완성해주세요.\n",
        "\n",
        "### 제한사항\n",
        "- 2 ≤ num_list의 길이 ≤ 30\n",
        "- 1 ≤ num_list의 원소 ≤ 9\n",
        "- 1 ≤ n ≤ num_list의 길이 ___\n",
        "\n",
        "### 입출력 예\n",
        "| num_list        | n | result    |\n",
        "|-----------------|---|-----------|\n",
        "| [2, 1, 6]       | 1 | [2]       |\n",
        "| [5, 2, 1, 7, 5] | 3 | [5, 2, 1] |\n",
        "\n",
        "### 입출력 예 설명\n",
        "- 입출력 예 #1\n",
        "    - [2, 1, 6]의 첫 번째 원소부터 첫 번째 원소까지의 모든 원소는 [2]입니다.\n",
        "- 입출력 예 #2\n",
        "    - [5, 2, 1, 7, 5]의 첫 번째 원소부터 세 번째 원소까지의 모든 원소는 [5, 2, 1]입니다.\n"
      ],
      "metadata": {
        "id": "I6bCLkK2F6DH"
      }
    },
    {
      "cell_type": "code",
      "source": [
        "def solution(num_list, n):\n",
        "    answer = []\n",
        "    \n",
        "    [answer.append(num_list[i]) for i in range(0, n)]\n",
        "    \n",
        "    return answer"
      ],
      "metadata": {
        "id": "mHAYqX_MGMgC"
      },
      "execution_count": null,
      "outputs": []
    },
    {
      "cell_type": "markdown",
      "source": [
        "### ```38.``` 카운트 다운\n",
        "\n",
        "### 문제 설명\n",
        "- 정수 start와 end가 주어질 때, start에서 end까지 1씩 감소하는 수들을 차례로 담은 리스트를 return하도록 solution 함수를 완성해주세요.\n",
        "\n",
        "### 제한사항\n",
        "- 0 ≤ end ≤ start ≤ 50\n",
        "\n",
        "### 입출력 예\n",
        "| start | end | result                    |\n",
        "|-------|-----|---------------------------|\n",
        "| 10    | 3   | [10, 9, 8, 7, 6, 5, 4, 3] |\n",
        "\n",
        "### 입출력 예 설명\n",
        "- 입출력 예 #1\n",
        "    - 10부터 3까지 1씩 감소하는 수를 담은 리스트는 [10, 9, 8, 7, 6, 5, 4, 3]입니다."
      ],
      "metadata": {
        "id": "-D1te8wNGtG6"
      }
    },
    {
      "cell_type": "code",
      "source": [
        "def solution(start, end):\n",
        "    answer = []\n",
        "    \n",
        "    [answer.append(i) for i in range(start, end - 1, -1)]\n",
        "    \n",
        "    return answer"
      ],
      "metadata": {
        "id": "vU9XIkQIG8g0"
      },
      "execution_count": null,
      "outputs": []
    },
    {
      "cell_type": "markdown",
      "source": [
        "### ```39.``` 문자 리스트를 문자열로 변환하기\n",
        "\n",
        "### 문제 설명\n",
        "- 문자들이 담겨있는 배열 arr가 주어집니다. arr의 원소들을 순서대로 이어 붙인 문자열을 return 하는 solution함수를 작성해 주세요.\n",
        "\n",
        "### 제한사항\n",
        "- 1 ≤ arr의 길이 ≤ 200\n",
        "    - arr의 원소는 전부 알파벳 소문자로 이루어진 길이가 1인 문자열입니다.\n",
        "\n",
        "### 입출력 예\n",
        "| arr           | result |\n",
        "|---------------|--------|\n",
        "| [\"a\",\"b\",\"c\"] | \"abc\"  |"
      ],
      "metadata": {
        "id": "_5jWS7F_HTEC"
      }
    },
    {
      "cell_type": "code",
      "source": [
        "def solution(arr):\n",
        "    answer = ''\n",
        "    \n",
        "    for i in arr:\n",
        "        answer += i\n",
        "    \n",
        "    return answer"
      ],
      "metadata": {
        "id": "UogSeePcHfbL"
      },
      "execution_count": null,
      "outputs": []
    },
    {
      "cell_type": "markdown",
      "source": [
        "### ```40.``` 첫 번째로 나오는 음수\n",
        "\n",
        "### 문제 설명\n",
        "- 정수 리스트 num_list가 주어질 때, 첫 번째로 나오는 음수의 인덱스를 return하도록 solution 함수를 완성해주세요. 음수가 없다면 -1을 return합니다.\n",
        "\n",
        "### 제한사항\n",
        "- 5 ≤ num_list의 길이 ≤ 100\n",
        "- -10 ≤ num_list의 원소 ≤ 100\n",
        "\n",
        "### 입출력 예\n",
        "| num_list                    | result |\n",
        "|-----------------------------|--------|\n",
        "| [12, 4, 15, 46, 38, -2, 15] | 5      |\n",
        "| [13, 22, 53, 24, 15, 6]     | -1     |\n",
        "\n",
        "### 입출력 예 설명\n",
        "- 입출력 예 #1\n",
        "    - 5번 인덱스에서 음수가 처음 등장하므로 5를 return합니다.\n",
        "- 입출력 예 #2\n",
        "    - 음수가 없으므로 -1을 return합니다.\n"
      ],
      "metadata": {
        "id": "EtD_gAK-Ifqw"
      }
    },
    {
      "cell_type": "code",
      "source": [
        "def solution(num_list):\n",
        "    answer = 0\n",
        "    \n",
        "    for i in range(0, len(num_list)):\n",
        "        if num_list[i] < 0:\n",
        "            answer = i\n",
        "            return answer\n",
        "    answer = -1\n",
        "    \n",
        "    return answer"
      ],
      "metadata": {
        "id": "GFZSx38-IuJ6"
      },
      "execution_count": null,
      "outputs": []
    }
  ]
}